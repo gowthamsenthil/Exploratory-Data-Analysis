{
  "nbformat": 4,
  "nbformat_minor": 0,
  "metadata": {
    "colab": {
      "name": " 2017_Analysis.ipynb",
      "provenance": [],
      "toc_visible": true
    },
    "kernelspec": {
      "name": "python3",
      "display_name": "Python 3"
    },
    "language_info": {
      "name": "python"
    }
  },
  "cells": [
    {
      "cell_type": "markdown",
      "source": [
        "#2017 Dataset"
      ],
      "metadata": {
        "id": "YoHfh7Vz-nH1"
      }
    },
    {
      "cell_type": "markdown",
      "source": [
        "Mounting Google Drive, where the dataset is stored"
      ],
      "metadata": {
        "id": "LKJT9yrB-yHk"
      }
    },
    {
      "cell_type": "code",
      "source": [
        "from google.colab import drive\n",
        "drive.mount('/content/drive')"
      ],
      "metadata": {
        "colab": {
          "base_uri": "https://localhost:8080/"
        },
        "id": "FRLqHwQoO-SP",
        "outputId": "59b89681-f166-40f9-cbd3-47d4c8426ac7"
      },
      "execution_count": 1,
      "outputs": [
        {
          "output_type": "stream",
          "name": "stdout",
          "text": [
            "Mounted at /content/drive\n"
          ]
        }
      ]
    },
    {
      "cell_type": "markdown",
      "source": [
        "Importing libraries and dataset"
      ],
      "metadata": {
        "id": "ExLHGKXf_-zb"
      }
    },
    {
      "cell_type": "code",
      "execution_count": 2,
      "metadata": {
        "id": "br1gI4lyM3aM",
        "colab": {
          "base_uri": "https://localhost:8080/"
        },
        "outputId": "d77bd221-ec43-4a54-aa1e-752ef9a5d516"
      },
      "outputs": [
        {
          "output_type": "stream",
          "name": "stderr",
          "text": [
            "/usr/local/lib/python3.7/dist-packages/IPython/core/interactiveshell.py:2882: DtypeWarning: Columns (4) have mixed types.Specify dtype option on import or set low_memory=False.\n",
            "  exec(code_obj, self.user_global_ns, self.user_ns)\n"
          ]
        }
      ],
      "source": [
        "import pandas as pd\n",
        "import numpy as np \n",
        "import matplotlib.pyplot as plt\n",
        "\n",
        "\n",
        "data = pd.read_csv (r'/content/drive/MyDrive/district_level_mapping_2017.csv')"
      ]
    },
    {
      "cell_type": "markdown",
      "source": [
        "#1. Overview of the dataset"
      ],
      "metadata": {
        "id": "Mzw7gpTXDIOe"
      }
    },
    {
      "cell_type": "code",
      "source": [
        "data.head()"
      ],
      "metadata": {
        "colab": {
          "base_uri": "https://localhost:8080/",
          "height": 426
        },
        "id": "6DpWQBNeDj9M",
        "outputId": "ccfa812d-d58d-4141-ecfd-662f8c8277ee"
      },
      "execution_count": 3,
      "outputs": [
        {
          "output_type": "execute_result",
          "data": {
            "text/plain": [
              "   Division Code Division Description  Treasury Code Treasury Grant Number  \\\n",
              "0          800.0                 AGRA            8.0     AGRA            1   \n",
              "1          800.0                 AGRA            8.0     AGRA            1   \n",
              "2          800.0                 AGRA            8.0     AGRA            1   \n",
              "3          800.0                 AGRA            8.0     AGRA            1   \n",
              "4          800.0                 AGRA            8.0     AGRA            1   \n",
              "\n",
              "  Grant Head Description  Major Head Code Major Head Description  \\\n",
              "0           आबकारी विभाग             2039     राज्य उत्पाद शुल्क   \n",
              "1           आबकारी विभाग             2039     राज्य उत्पाद शुल्क   \n",
              "2           आबकारी विभाग             2039     राज्य उत्पाद शुल्क   \n",
              "3           आबकारी विभाग             2039     राज्य उत्पाद शुल्क   \n",
              "4           आबकारी विभाग             2039     राज्य उत्पाद शुल्क   \n",
              "\n",
              "     Scheme Code Scheme Code Description  Standard Object Code  \\\n",
              "0  2039000010300                 अधीक्षण                     1   \n",
              "1  2039000010300                 अधीक्षण                     3   \n",
              "2  2039000010300                 अधीक्षण                     4   \n",
              "3  2039000010300                 अधीक्षण                     5   \n",
              "4  2039000010300                 अधीक्षण                     6   \n",
              "\n",
              "  Standard Object Description Plan / Non-Plan Voted / Charged fiscal_year  \\\n",
              "0                        वेतन               N               V   2017-2018   \n",
              "1                मंहगाई भत्ता               N               V   2017-2018   \n",
              "2                 यात्रा व्यय               N               V   2017-2018   \n",
              "3     स्थानान्तरण यात्रा व्यय               N               V   2017-2018   \n",
              "4                  अन्य भत्ते               N               V   2017-2018   \n",
              "\n",
              "   Progressive Allotment  Actual Progressive Expenditure upto month (October)  \\\n",
              "0              6018883.0                                          5438225.0     \n",
              "1               150000.0                                           344832.0     \n",
              "2                35000.0                                            17045.0     \n",
              "3                16949.0                                                0.0     \n",
              "4               250000.0                                           336648.0     \n",
              "\n",
              "   Provisional Current Month Expenditure(November)  \\\n",
              "0                                                0   \n",
              "1                                                0   \n",
              "2                                                0   \n",
              "3                                                0   \n",
              "4                                                0   \n",
              "\n",
              "   Total Expenditure Upto Month (November)   % A/E  \n",
              "0                                5438225.0   90.35  \n",
              "1                                 344832.0  229.89  \n",
              "2                                  17045.0   48.70  \n",
              "3                                      0.0    0.00  \n",
              "4                                 336648.0  134.66  "
            ],
            "text/html": [
              "\n",
              "  <div id=\"df-0f960587-7733-4a35-b5f2-7f9dbd0f9f82\">\n",
              "    <div class=\"colab-df-container\">\n",
              "      <div>\n",
              "<style scoped>\n",
              "    .dataframe tbody tr th:only-of-type {\n",
              "        vertical-align: middle;\n",
              "    }\n",
              "\n",
              "    .dataframe tbody tr th {\n",
              "        vertical-align: top;\n",
              "    }\n",
              "\n",
              "    .dataframe thead th {\n",
              "        text-align: right;\n",
              "    }\n",
              "</style>\n",
              "<table border=\"1\" class=\"dataframe\">\n",
              "  <thead>\n",
              "    <tr style=\"text-align: right;\">\n",
              "      <th></th>\n",
              "      <th>Division Code</th>\n",
              "      <th>Division Description</th>\n",
              "      <th>Treasury Code</th>\n",
              "      <th>Treasury</th>\n",
              "      <th>Grant Number</th>\n",
              "      <th>Grant Head Description</th>\n",
              "      <th>Major Head Code</th>\n",
              "      <th>Major Head Description</th>\n",
              "      <th>Scheme Code</th>\n",
              "      <th>Scheme Code Description</th>\n",
              "      <th>Standard Object Code</th>\n",
              "      <th>Standard Object Description</th>\n",
              "      <th>Plan / Non-Plan</th>\n",
              "      <th>Voted / Charged</th>\n",
              "      <th>fiscal_year</th>\n",
              "      <th>Progressive Allotment</th>\n",
              "      <th>Actual Progressive Expenditure upto month (October)</th>\n",
              "      <th>Provisional Current Month Expenditure(November)</th>\n",
              "      <th>Total Expenditure Upto Month (November)</th>\n",
              "      <th>% A/E</th>\n",
              "    </tr>\n",
              "  </thead>\n",
              "  <tbody>\n",
              "    <tr>\n",
              "      <th>0</th>\n",
              "      <td>800.0</td>\n",
              "      <td>AGRA</td>\n",
              "      <td>8.0</td>\n",
              "      <td>AGRA</td>\n",
              "      <td>1</td>\n",
              "      <td>आबकारी विभाग</td>\n",
              "      <td>2039</td>\n",
              "      <td>राज्य उत्पाद शुल्क</td>\n",
              "      <td>2039000010300</td>\n",
              "      <td>अधीक्षण</td>\n",
              "      <td>1</td>\n",
              "      <td>वेतन</td>\n",
              "      <td>N</td>\n",
              "      <td>V</td>\n",
              "      <td>2017-2018</td>\n",
              "      <td>6018883.0</td>\n",
              "      <td>5438225.0</td>\n",
              "      <td>0</td>\n",
              "      <td>5438225.0</td>\n",
              "      <td>90.35</td>\n",
              "    </tr>\n",
              "    <tr>\n",
              "      <th>1</th>\n",
              "      <td>800.0</td>\n",
              "      <td>AGRA</td>\n",
              "      <td>8.0</td>\n",
              "      <td>AGRA</td>\n",
              "      <td>1</td>\n",
              "      <td>आबकारी विभाग</td>\n",
              "      <td>2039</td>\n",
              "      <td>राज्य उत्पाद शुल्क</td>\n",
              "      <td>2039000010300</td>\n",
              "      <td>अधीक्षण</td>\n",
              "      <td>3</td>\n",
              "      <td>मंहगाई भत्ता</td>\n",
              "      <td>N</td>\n",
              "      <td>V</td>\n",
              "      <td>2017-2018</td>\n",
              "      <td>150000.0</td>\n",
              "      <td>344832.0</td>\n",
              "      <td>0</td>\n",
              "      <td>344832.0</td>\n",
              "      <td>229.89</td>\n",
              "    </tr>\n",
              "    <tr>\n",
              "      <th>2</th>\n",
              "      <td>800.0</td>\n",
              "      <td>AGRA</td>\n",
              "      <td>8.0</td>\n",
              "      <td>AGRA</td>\n",
              "      <td>1</td>\n",
              "      <td>आबकारी विभाग</td>\n",
              "      <td>2039</td>\n",
              "      <td>राज्य उत्पाद शुल्क</td>\n",
              "      <td>2039000010300</td>\n",
              "      <td>अधीक्षण</td>\n",
              "      <td>4</td>\n",
              "      <td>यात्रा व्यय</td>\n",
              "      <td>N</td>\n",
              "      <td>V</td>\n",
              "      <td>2017-2018</td>\n",
              "      <td>35000.0</td>\n",
              "      <td>17045.0</td>\n",
              "      <td>0</td>\n",
              "      <td>17045.0</td>\n",
              "      <td>48.70</td>\n",
              "    </tr>\n",
              "    <tr>\n",
              "      <th>3</th>\n",
              "      <td>800.0</td>\n",
              "      <td>AGRA</td>\n",
              "      <td>8.0</td>\n",
              "      <td>AGRA</td>\n",
              "      <td>1</td>\n",
              "      <td>आबकारी विभाग</td>\n",
              "      <td>2039</td>\n",
              "      <td>राज्य उत्पाद शुल्क</td>\n",
              "      <td>2039000010300</td>\n",
              "      <td>अधीक्षण</td>\n",
              "      <td>5</td>\n",
              "      <td>स्थानान्तरण यात्रा व्यय</td>\n",
              "      <td>N</td>\n",
              "      <td>V</td>\n",
              "      <td>2017-2018</td>\n",
              "      <td>16949.0</td>\n",
              "      <td>0.0</td>\n",
              "      <td>0</td>\n",
              "      <td>0.0</td>\n",
              "      <td>0.00</td>\n",
              "    </tr>\n",
              "    <tr>\n",
              "      <th>4</th>\n",
              "      <td>800.0</td>\n",
              "      <td>AGRA</td>\n",
              "      <td>8.0</td>\n",
              "      <td>AGRA</td>\n",
              "      <td>1</td>\n",
              "      <td>आबकारी विभाग</td>\n",
              "      <td>2039</td>\n",
              "      <td>राज्य उत्पाद शुल्क</td>\n",
              "      <td>2039000010300</td>\n",
              "      <td>अधीक्षण</td>\n",
              "      <td>6</td>\n",
              "      <td>अन्य भत्ते</td>\n",
              "      <td>N</td>\n",
              "      <td>V</td>\n",
              "      <td>2017-2018</td>\n",
              "      <td>250000.0</td>\n",
              "      <td>336648.0</td>\n",
              "      <td>0</td>\n",
              "      <td>336648.0</td>\n",
              "      <td>134.66</td>\n",
              "    </tr>\n",
              "  </tbody>\n",
              "</table>\n",
              "</div>\n",
              "      <button class=\"colab-df-convert\" onclick=\"convertToInteractive('df-0f960587-7733-4a35-b5f2-7f9dbd0f9f82')\"\n",
              "              title=\"Convert this dataframe to an interactive table.\"\n",
              "              style=\"display:none;\">\n",
              "        \n",
              "  <svg xmlns=\"http://www.w3.org/2000/svg\" height=\"24px\"viewBox=\"0 0 24 24\"\n",
              "       width=\"24px\">\n",
              "    <path d=\"M0 0h24v24H0V0z\" fill=\"none\"/>\n",
              "    <path d=\"M18.56 5.44l.94 2.06.94-2.06 2.06-.94-2.06-.94-.94-2.06-.94 2.06-2.06.94zm-11 1L8.5 8.5l.94-2.06 2.06-.94-2.06-.94L8.5 2.5l-.94 2.06-2.06.94zm10 10l.94 2.06.94-2.06 2.06-.94-2.06-.94-.94-2.06-.94 2.06-2.06.94z\"/><path d=\"M17.41 7.96l-1.37-1.37c-.4-.4-.92-.59-1.43-.59-.52 0-1.04.2-1.43.59L10.3 9.45l-7.72 7.72c-.78.78-.78 2.05 0 2.83L4 21.41c.39.39.9.59 1.41.59.51 0 1.02-.2 1.41-.59l7.78-7.78 2.81-2.81c.8-.78.8-2.07 0-2.86zM5.41 20L4 18.59l7.72-7.72 1.47 1.35L5.41 20z\"/>\n",
              "  </svg>\n",
              "      </button>\n",
              "      \n",
              "  <style>\n",
              "    .colab-df-container {\n",
              "      display:flex;\n",
              "      flex-wrap:wrap;\n",
              "      gap: 12px;\n",
              "    }\n",
              "\n",
              "    .colab-df-convert {\n",
              "      background-color: #E8F0FE;\n",
              "      border: none;\n",
              "      border-radius: 50%;\n",
              "      cursor: pointer;\n",
              "      display: none;\n",
              "      fill: #1967D2;\n",
              "      height: 32px;\n",
              "      padding: 0 0 0 0;\n",
              "      width: 32px;\n",
              "    }\n",
              "\n",
              "    .colab-df-convert:hover {\n",
              "      background-color: #E2EBFA;\n",
              "      box-shadow: 0px 1px 2px rgba(60, 64, 67, 0.3), 0px 1px 3px 1px rgba(60, 64, 67, 0.15);\n",
              "      fill: #174EA6;\n",
              "    }\n",
              "\n",
              "    [theme=dark] .colab-df-convert {\n",
              "      background-color: #3B4455;\n",
              "      fill: #D2E3FC;\n",
              "    }\n",
              "\n",
              "    [theme=dark] .colab-df-convert:hover {\n",
              "      background-color: #434B5C;\n",
              "      box-shadow: 0px 1px 3px 1px rgba(0, 0, 0, 0.15);\n",
              "      filter: drop-shadow(0px 1px 2px rgba(0, 0, 0, 0.3));\n",
              "      fill: #FFFFFF;\n",
              "    }\n",
              "  </style>\n",
              "\n",
              "      <script>\n",
              "        const buttonEl =\n",
              "          document.querySelector('#df-0f960587-7733-4a35-b5f2-7f9dbd0f9f82 button.colab-df-convert');\n",
              "        buttonEl.style.display =\n",
              "          google.colab.kernel.accessAllowed ? 'block' : 'none';\n",
              "\n",
              "        async function convertToInteractive(key) {\n",
              "          const element = document.querySelector('#df-0f960587-7733-4a35-b5f2-7f9dbd0f9f82');\n",
              "          const dataTable =\n",
              "            await google.colab.kernel.invokeFunction('convertToInteractive',\n",
              "                                                     [key], {});\n",
              "          if (!dataTable) return;\n",
              "\n",
              "          const docLinkHtml = 'Like what you see? Visit the ' +\n",
              "            '<a target=\"_blank\" href=https://colab.research.google.com/notebooks/data_table.ipynb>data table notebook</a>'\n",
              "            + ' to learn more about interactive tables.';\n",
              "          element.innerHTML = '';\n",
              "          dataTable['output_type'] = 'display_data';\n",
              "          await google.colab.output.renderOutput(dataTable, element);\n",
              "          const docLink = document.createElement('div');\n",
              "          docLink.innerHTML = docLinkHtml;\n",
              "          element.appendChild(docLink);\n",
              "        }\n",
              "      </script>\n",
              "    </div>\n",
              "  </div>\n",
              "  "
            ]
          },
          "metadata": {},
          "execution_count": 3
        }
      ]
    },
    {
      "cell_type": "code",
      "source": [
        "data.info()"
      ],
      "metadata": {
        "colab": {
          "base_uri": "https://localhost:8080/"
        },
        "id": "gZS0Wi_SDqcG",
        "outputId": "f4f2bad2-7889-4710-cb37-c0b8075ef4bd"
      },
      "execution_count": 4,
      "outputs": [
        {
          "output_type": "stream",
          "name": "stdout",
          "text": [
            "<class 'pandas.core.frame.DataFrame'>\n",
            "RangeIndex: 375136 entries, 0 to 375135\n",
            "Data columns (total 20 columns):\n",
            " #   Column                                               Non-Null Count   Dtype  \n",
            "---  ------                                               --------------   -----  \n",
            " 0   Division Code                                        374488 non-null  float64\n",
            " 1   Division Description                                 374488 non-null  object \n",
            " 2   Treasury Code                                        374488 non-null  float64\n",
            " 3   Treasury                                             375136 non-null  object \n",
            " 4   Grant Number                                         375136 non-null  object \n",
            " 5   Grant Head Description                               375136 non-null  object \n",
            " 6   Major Head Code                                      375136 non-null  int64  \n",
            " 7   Major Head Description                               372904 non-null  object \n",
            " 8   Scheme Code                                          375136 non-null  int64  \n",
            " 9   Scheme Code Description                              375136 non-null  object \n",
            " 10  Standard Object Code                                 375136 non-null  int64  \n",
            " 11  Standard Object Description                          375136 non-null  object \n",
            " 12  Plan / Non-Plan                                      375136 non-null  object \n",
            " 13  Voted / Charged                                      375136 non-null  object \n",
            " 14  fiscal_year                                          375136 non-null  object \n",
            " 15  Progressive Allotment                                375136 non-null  float64\n",
            " 16  Actual Progressive Expenditure upto month (October)  375136 non-null  float64\n",
            " 17  Provisional Current Month Expenditure(November)      375136 non-null  int64  \n",
            " 18  Total Expenditure Upto Month (November)              375136 non-null  float64\n",
            " 19  % A/E                                                375136 non-null  float64\n",
            "dtypes: float64(6), int64(4), object(10)\n",
            "memory usage: 57.2+ MB\n"
          ]
        }
      ]
    },
    {
      "cell_type": "code",
      "source": [
        "data.isnull().sum()"
      ],
      "metadata": {
        "colab": {
          "base_uri": "https://localhost:8080/"
        },
        "id": "JmeZ9R7p7DUr",
        "outputId": "4686a49e-1b82-4e95-fe5d-617c2bad547a"
      },
      "execution_count": 5,
      "outputs": [
        {
          "output_type": "execute_result",
          "data": {
            "text/plain": [
              "Division Code                                           648\n",
              "Division Description                                    648\n",
              "Treasury Code                                           648\n",
              "Treasury                                                  0\n",
              "Grant Number                                              0\n",
              "Grant Head Description                                    0\n",
              "Major Head Code                                           0\n",
              "Major Head Description                                 2232\n",
              "Scheme Code                                               0\n",
              "Scheme Code Description                                   0\n",
              "Standard Object Code                                      0\n",
              "Standard Object Description                               0\n",
              "Plan / Non-Plan                                           0\n",
              "Voted / Charged                                           0\n",
              "fiscal_year                                               0\n",
              "Progressive Allotment                                     0\n",
              "Actual Progressive Expenditure upto month (October)       0\n",
              "Provisional Current Month Expenditure(November)           0\n",
              "Total Expenditure Upto Month (November)                   0\n",
              "% A/E                                                     0\n",
              "dtype: int64"
            ]
          },
          "metadata": {},
          "execution_count": 5
        }
      ]
    },
    {
      "cell_type": "markdown",
      "source": [
        "Assuming the fact that school education does not include  University and Higher Education, Adult education and Language Development.\n",
        "\n",
        "\n"
      ],
      "metadata": {
        "id": "VcoNtUWU8GT9"
      }
    },
    {
      "cell_type": "markdown",
      "source": [
        "#2. Filtering Data with respect to School Eucation"
      ],
      "metadata": {
        "id": "MTxdTQMjDUiQ"
      }
    },
    {
      "cell_type": "markdown",
      "source": [
        "Identifying the different Grant Heads"
      ],
      "metadata": {
        "id": "6gDUA07nDaby"
      }
    },
    {
      "cell_type": "code",
      "source": [
        "data['Grant Head Description'].unique()"
      ],
      "metadata": {
        "colab": {
          "base_uri": "https://localhost:8080/"
        },
        "id": "NMwbnXl3Dg6s",
        "outputId": "abc97668-7eac-4641-8d20-2c681c08a2fa"
      },
      "execution_count": 6,
      "outputs": [
        {
          "output_type": "execute_result",
          "data": {
            "text/plain": [
              "array(['आबकारी विभाग', 'आवास विभाग',\n",
              "       'उद्योग विभाग (लघु उद्योग एवं निर्यात प्रोत्साहन)',\n",
              "       'उद्योग विभाग (खानें और खनिज)',\n",
              "       'उद्योग विभाग (खादी एवं ग्रामोद्योग)',\n",
              "       'उद्योग विभाग (हथकरघा उद्योग)',\n",
              "       'उद्योग विभाग (भारी एवं मध्यम उद्योग)',\n",
              "       'उद्योग विभाग (मुद्रण तथा लेखन सामग्री )', 'ऊर्जा विभाग',\n",
              "       'कृषि तथा अन्य सम्बद्ध विभाग (औद्यानिक एवं रेशम विकास)',\n",
              "       'कृषि तथा अन्य सम्बद्ध विभाग (कृषि)',\n",
              "       'कृषि तथा अन्य सम्बद्ध विभाग (भूमि विकास एवं जल संसाधन)',\n",
              "       'कृषि तथा अन्य सम्बद्ध विभाग (ग्राम्य विकास)',\n",
              "       'कृषि तथा अन्य सम्बद्ध विभाग (पंचायती राज)',\n",
              "       'कृषि तथा अन्य सम्बद्ध विभाग ((पशुधन)',\n",
              "       'कृषि तथा अन्य सम्बद्ध विभाग (दुग्धशाला विकास)',\n",
              "       'कृषि तथा अन्य सम्बद्ध विभाग (मत्स्य)',\n",
              "       'कृषि तथा अन्य सम्बद्ध विभाग (सहकारिता)',\n",
              "       'कार्मिक विभाग (प्रशिक्षण तथा अन्य व्यय)',\n",
              "       'कार्मिक विभाग (लोक सेवा आयोग )', 'खाद्य तथा रसद विभाग',\n",
              "       'खेल विभाग', 'गन्ना विकास विभाग (गन्ना)',\n",
              "       'गन्ना विकास विभाग (चीनी उद्योग)', 'गृह विभाग (कारागार)',\n",
              "       'गृह विभाग (पुलिस)', 'गृह विभाग (नागरिक सुरक्षा)',\n",
              "       'गृह विभाग (राजनैतिक पेंशन तथा अन्य व्यय)',\n",
              "       'गोपन विभाग (राज्यपाल सचिवालय)',\n",
              "       'गोपन विभाग(राजस्व विशिष्ट अभिसूचना निदेशालय तथा अन्य व्यय)',\n",
              "       'चिकित्सा विभाग (चिकित्सा, शिक्षा एवं प्रशिक्षण)',\n",
              "       'चिकित्सा विभाग (एलोपैथी चिकित्सा)',\n",
              "       'चिकित्सा विभाग (आयुर्वेदिक एवं यूनानी चिकित्सा)',\n",
              "       'चिकित्सा विभाग (होम्योपैथी चिकित्सा)',\n",
              "       'चिकित्सा विभाग (परिवार कल्याण)',\n",
              "       'चिकित्सा विभाग (सार्वजनिक स्वास्थ्य)', 'नगर विकास विभाग',\n",
              "       'नागरिक उड्डयन विभाग', 'भाषा विभाग', 'नियोजन विभाग',\n",
              "       'निर्वाचन विभाग', 'न्याय विभाग', 'परिवहन विभाग', 'पर्यटन विभाग',\n",
              "       'पर्यावरण विभाग', 'प्रशासनिक सुधार विभाग',\n",
              "       'प्राविधिक शिक्षा विभाग', 'मुस्लिम वक्फ विभाग',\n",
              "       'महिला एवं बाल कल्याण विभाग', 'राजस्व विभाग (जिला प्रशासन)',\n",
              "       'राजस्व विभाग (दैवी विपत्तियों के सम्बन्ध में राहत)',\n",
              "       'राजस्व विभाग (राजस्व परिषद् तथा अन्य व्यय)',\n",
              "       'राष्ट्रीय एकीकरण विभाग', 'लोक निर्माण विभाग (अधिष्ठान)',\n",
              "       'लोक निर्माण विभाग (विशेष क्षेत्र कार्यक्रम)',\n",
              "       'लोक निर्माण विभाग (संचार साधन-सड़कें)',\n",
              "       'लोक निर्माण विभाग (राज्य सम्पत्ति निदेशालय)', 'वन विभाग',\n",
              "       'वित्त विभाग (ऋण सेवा तथा अन्य व्यय)',\n",
              "       'वित्त विभाग (अधिवर्ष भत्ते तथा पेंशनें)',\n",
              "       'वित्त विभाग (कोषागार तथा लेखा प्रशासन)',\n",
              "       'वित्त विभाग (लेखा परीक्षा, अल्प-बचत आदि)',\n",
              "       'वित्त विभाग (सामूहिक बीमा)', 'विधान परिषद् सचिवालय',\n",
              "       'विधान सभा सचिवालय', 'व्यावसायिक शिक्षा विभाग',\n",
              "       'विज्ञान एवं प्रौद्योगिकी विभाग', 'शिक्षा विभाग (प्राथमिक शिक्षा)',\n",
              "       'शिक्षा विभाग (माध्यमिक शिक्षा)', 'शिक्षा विभाग (उच्च शिक्षा)',\n",
              "       'ग्रह विभाग (होम गार्ड)',\n",
              "       'शिक्षा विभाग(राज्य शैक्षिक अनुसंधान एवं प्रशिक्षण परिषद्)',\n",
              "       'श्रम विभाग (श्रम कल्याण)', 'श्रम विभाग (सेवायोजन)',\n",
              "       'सचिवालय प्रशासन विभाग',\n",
              "       'समाज कल्याण विभाग (विकलांग एवं पिछड़ा वर्ग कल्याण)',\n",
              "       'समाज कल्याण विभाग(समाज कल्याण एवं अनुसूचित जातियों का कल्याण)',\n",
              "       'समाज कल्याण विभाग (जनजाति कल्याण)', 'सतर्कता विभाग',\n",
              "       'समाज कल्याण विभाग(अनुसूचित जातियों के लिये विशेष घटक योजना)',\n",
              "       'सामान्य प्रशासन विभाग', 'सार्वजनिक उद्यम विभाग', 'सूचना विभाग',\n",
              "       'सैनिक कल्याण विभाग', 'संस्थागत वित्त विभाग (निदेशालय)',\n",
              "       'संस्थागत वित्त विभाग (व्यापारकर)',\n",
              "       'संस्थागत वित्त विभाग (मनोरंजन तथा बाजीकर)',\n",
              "       'संस्थागत वित्त विभाग (स्टाम्प एवं पंजीकरण)', 'संस्कृति विभाग',\n",
              "       'सिंचाई विभाग (निर्माण कार्य)', 'सिंचाई विभाग (अधिष्ठान)', '-'],\n",
              "      dtype=object)"
            ]
          },
          "metadata": {},
          "execution_count": 6
        }
      ]
    },
    {
      "cell_type": "markdown",
      "source": [
        "We will be dealing with only two Grant Heads with respect to school education that is Elementary Education and Secondary Education\n",
        "\n",
        "\n",
        "*   शिक्षा विभाग (प्राथमिक शिक्षा)\n",
        "*   शिक्षा विभाग (माध्यमिक शिक्षा)\n",
        "\n"
      ],
      "metadata": {
        "id": "V4_oNeuQDtPW"
      }
    },
    {
      "cell_type": "code",
      "source": [
        "FilteredData = data[(data['Grant Head Description'] == 'शिक्षा विभाग (माध्यमिक शिक्षा)')| (data['Grant Head Description'] == 'शिक्षा विभाग (प्राथमिक शिक्षा)')]"
      ],
      "metadata": {
        "id": "-FfUBnNGzosY"
      },
      "execution_count": 7,
      "outputs": []
    },
    {
      "cell_type": "code",
      "source": [
        "FilteredData.head()"
      ],
      "metadata": {
        "colab": {
          "base_uri": "https://localhost:8080/",
          "height": 480
        },
        "id": "G1XCAoUi1zhl",
        "outputId": "a9a61c94-3f0f-42bc-da38-4a9cd58ed1e6"
      },
      "execution_count": 8,
      "outputs": [
        {
          "output_type": "execute_result",
          "data": {
            "text/plain": [
              "        Division Code Division Description  Treasury Code       Treasury  \\\n",
              "297430          800.0                 AGRA            6.0        ALIGARH   \n",
              "297431         2200.0            ALLAHABAD           64.0   ALLAHABAD II   \n",
              "297432         4900.0             FAIZABAD           74.0  AMBEDKARNAGAR   \n",
              "297433         2000.0         KANPUR NAGAR           81.0        AURAIYA   \n",
              "297434         3400.0             AZAMGARH           34.0       AZAMGARH   \n",
              "\n",
              "       Grant Number          Grant Head Description  Major Head Code  \\\n",
              "297430           71  शिक्षा विभाग (प्राथमिक शिक्षा)             2071   \n",
              "297431           71  शिक्षा विभाग (प्राथमिक शिक्षा)             2071   \n",
              "297432           71  शिक्षा विभाग (प्राथमिक शिक्षा)             2071   \n",
              "297433           71  शिक्षा विभाग (प्राथमिक शिक्षा)             2071   \n",
              "297434           71  शिक्षा विभाग (प्राथमिक शिक्षा)             2071   \n",
              "\n",
              "                      Major Head Description    Scheme Code  \\\n",
              "297430  पेंशन तथा अन्य सेवा निवृत्ति हित लाभ  2071011170300   \n",
              "297431  पेंशन तथा अन्य सेवा निवृत्ति हित लाभ  2071011170300   \n",
              "297432  पेंशन तथा अन्य सेवा निवृत्ति हित लाभ  2071011170300   \n",
              "297433  पेंशन तथा अन्य सेवा निवृत्ति हित लाभ  2071011170300   \n",
              "297434  पेंशन तथा अन्य सेवा निवृत्ति हित लाभ  2071011170300   \n",
              "\n",
              "                                  Scheme Code Description  \\\n",
              "297430  प्राथमिक विद्यालय / सहायता प्राप्त जूनियर हाई ...   \n",
              "297431  प्राथमिक विद्यालय / सहायता प्राप्त जूनियर हाई ...   \n",
              "297432  प्राथमिक विद्यालय / सहायता प्राप्त जूनियर हाई ...   \n",
              "297433  प्राथमिक विद्यालय / सहायता प्राप्त जूनियर हाई ...   \n",
              "297434  प्राथमिक विद्यालय / सहायता प्राप्त जूनियर हाई ...   \n",
              "\n",
              "        Standard Object Code               Standard Object Description  \\\n",
              "297430                    33  पेंशन/आनुतोषिक /अन्य सेवानिवृत्ति हितलाभ   \n",
              "297431                    33  पेंशन/आनुतोषिक /अन्य सेवानिवृत्ति हितलाभ   \n",
              "297432                    33  पेंशन/आनुतोषिक /अन्य सेवानिवृत्ति हितलाभ   \n",
              "297433                    33  पेंशन/आनुतोषिक /अन्य सेवानिवृत्ति हितलाभ   \n",
              "297434                    33  पेंशन/आनुतोषिक /अन्य सेवानिवृत्ति हितलाभ   \n",
              "\n",
              "       Plan / Non-Plan Voted / Charged fiscal_year  Progressive Allotment  \\\n",
              "297430               N               V   2017-2018             42000000.0   \n",
              "297431               N               V   2017-2018             17050000.0   \n",
              "297432               N               V   2017-2018             72948000.0   \n",
              "297433               N               V   2017-2018             33000000.0   \n",
              "297434               N               V   2017-2018            315594240.0   \n",
              "\n",
              "        Actual Progressive Expenditure upto month (October)  \\\n",
              "297430                                         39002700.0     \n",
              "297431                                         13379551.0     \n",
              "297432                                         69626602.0     \n",
              "297433                                          4108542.0     \n",
              "297434                                         13827215.0     \n",
              "\n",
              "        Provisional Current Month Expenditure(November)  \\\n",
              "297430                                                0   \n",
              "297431                                                0   \n",
              "297432                                                0   \n",
              "297433                                                0   \n",
              "297434                                                0   \n",
              "\n",
              "        Total Expenditure Upto Month (November)  % A/E  \n",
              "297430                               39002700.0  92.86  \n",
              "297431                               13379551.0  78.47  \n",
              "297432                               69626602.0  95.45  \n",
              "297433                                4108542.0  12.45  \n",
              "297434                               13827215.0   4.38  "
            ],
            "text/html": [
              "\n",
              "  <div id=\"df-57d98dff-387a-499b-9a3d-534809bf92fd\">\n",
              "    <div class=\"colab-df-container\">\n",
              "      <div>\n",
              "<style scoped>\n",
              "    .dataframe tbody tr th:only-of-type {\n",
              "        vertical-align: middle;\n",
              "    }\n",
              "\n",
              "    .dataframe tbody tr th {\n",
              "        vertical-align: top;\n",
              "    }\n",
              "\n",
              "    .dataframe thead th {\n",
              "        text-align: right;\n",
              "    }\n",
              "</style>\n",
              "<table border=\"1\" class=\"dataframe\">\n",
              "  <thead>\n",
              "    <tr style=\"text-align: right;\">\n",
              "      <th></th>\n",
              "      <th>Division Code</th>\n",
              "      <th>Division Description</th>\n",
              "      <th>Treasury Code</th>\n",
              "      <th>Treasury</th>\n",
              "      <th>Grant Number</th>\n",
              "      <th>Grant Head Description</th>\n",
              "      <th>Major Head Code</th>\n",
              "      <th>Major Head Description</th>\n",
              "      <th>Scheme Code</th>\n",
              "      <th>Scheme Code Description</th>\n",
              "      <th>Standard Object Code</th>\n",
              "      <th>Standard Object Description</th>\n",
              "      <th>Plan / Non-Plan</th>\n",
              "      <th>Voted / Charged</th>\n",
              "      <th>fiscal_year</th>\n",
              "      <th>Progressive Allotment</th>\n",
              "      <th>Actual Progressive Expenditure upto month (October)</th>\n",
              "      <th>Provisional Current Month Expenditure(November)</th>\n",
              "      <th>Total Expenditure Upto Month (November)</th>\n",
              "      <th>% A/E</th>\n",
              "    </tr>\n",
              "  </thead>\n",
              "  <tbody>\n",
              "    <tr>\n",
              "      <th>297430</th>\n",
              "      <td>800.0</td>\n",
              "      <td>AGRA</td>\n",
              "      <td>6.0</td>\n",
              "      <td>ALIGARH</td>\n",
              "      <td>71</td>\n",
              "      <td>शिक्षा विभाग (प्राथमिक शिक्षा)</td>\n",
              "      <td>2071</td>\n",
              "      <td>पेंशन तथा अन्य सेवा निवृत्ति हित लाभ</td>\n",
              "      <td>2071011170300</td>\n",
              "      <td>प्राथमिक विद्यालय / सहायता प्राप्त जूनियर हाई ...</td>\n",
              "      <td>33</td>\n",
              "      <td>पेंशन/आनुतोषिक /अन्य सेवानिवृत्ति हितलाभ</td>\n",
              "      <td>N</td>\n",
              "      <td>V</td>\n",
              "      <td>2017-2018</td>\n",
              "      <td>42000000.0</td>\n",
              "      <td>39002700.0</td>\n",
              "      <td>0</td>\n",
              "      <td>39002700.0</td>\n",
              "      <td>92.86</td>\n",
              "    </tr>\n",
              "    <tr>\n",
              "      <th>297431</th>\n",
              "      <td>2200.0</td>\n",
              "      <td>ALLAHABAD</td>\n",
              "      <td>64.0</td>\n",
              "      <td>ALLAHABAD II</td>\n",
              "      <td>71</td>\n",
              "      <td>शिक्षा विभाग (प्राथमिक शिक्षा)</td>\n",
              "      <td>2071</td>\n",
              "      <td>पेंशन तथा अन्य सेवा निवृत्ति हित लाभ</td>\n",
              "      <td>2071011170300</td>\n",
              "      <td>प्राथमिक विद्यालय / सहायता प्राप्त जूनियर हाई ...</td>\n",
              "      <td>33</td>\n",
              "      <td>पेंशन/आनुतोषिक /अन्य सेवानिवृत्ति हितलाभ</td>\n",
              "      <td>N</td>\n",
              "      <td>V</td>\n",
              "      <td>2017-2018</td>\n",
              "      <td>17050000.0</td>\n",
              "      <td>13379551.0</td>\n",
              "      <td>0</td>\n",
              "      <td>13379551.0</td>\n",
              "      <td>78.47</td>\n",
              "    </tr>\n",
              "    <tr>\n",
              "      <th>297432</th>\n",
              "      <td>4900.0</td>\n",
              "      <td>FAIZABAD</td>\n",
              "      <td>74.0</td>\n",
              "      <td>AMBEDKARNAGAR</td>\n",
              "      <td>71</td>\n",
              "      <td>शिक्षा विभाग (प्राथमिक शिक्षा)</td>\n",
              "      <td>2071</td>\n",
              "      <td>पेंशन तथा अन्य सेवा निवृत्ति हित लाभ</td>\n",
              "      <td>2071011170300</td>\n",
              "      <td>प्राथमिक विद्यालय / सहायता प्राप्त जूनियर हाई ...</td>\n",
              "      <td>33</td>\n",
              "      <td>पेंशन/आनुतोषिक /अन्य सेवानिवृत्ति हितलाभ</td>\n",
              "      <td>N</td>\n",
              "      <td>V</td>\n",
              "      <td>2017-2018</td>\n",
              "      <td>72948000.0</td>\n",
              "      <td>69626602.0</td>\n",
              "      <td>0</td>\n",
              "      <td>69626602.0</td>\n",
              "      <td>95.45</td>\n",
              "    </tr>\n",
              "    <tr>\n",
              "      <th>297433</th>\n",
              "      <td>2000.0</td>\n",
              "      <td>KANPUR NAGAR</td>\n",
              "      <td>81.0</td>\n",
              "      <td>AURAIYA</td>\n",
              "      <td>71</td>\n",
              "      <td>शिक्षा विभाग (प्राथमिक शिक्षा)</td>\n",
              "      <td>2071</td>\n",
              "      <td>पेंशन तथा अन्य सेवा निवृत्ति हित लाभ</td>\n",
              "      <td>2071011170300</td>\n",
              "      <td>प्राथमिक विद्यालय / सहायता प्राप्त जूनियर हाई ...</td>\n",
              "      <td>33</td>\n",
              "      <td>पेंशन/आनुतोषिक /अन्य सेवानिवृत्ति हितलाभ</td>\n",
              "      <td>N</td>\n",
              "      <td>V</td>\n",
              "      <td>2017-2018</td>\n",
              "      <td>33000000.0</td>\n",
              "      <td>4108542.0</td>\n",
              "      <td>0</td>\n",
              "      <td>4108542.0</td>\n",
              "      <td>12.45</td>\n",
              "    </tr>\n",
              "    <tr>\n",
              "      <th>297434</th>\n",
              "      <td>3400.0</td>\n",
              "      <td>AZAMGARH</td>\n",
              "      <td>34.0</td>\n",
              "      <td>AZAMGARH</td>\n",
              "      <td>71</td>\n",
              "      <td>शिक्षा विभाग (प्राथमिक शिक्षा)</td>\n",
              "      <td>2071</td>\n",
              "      <td>पेंशन तथा अन्य सेवा निवृत्ति हित लाभ</td>\n",
              "      <td>2071011170300</td>\n",
              "      <td>प्राथमिक विद्यालय / सहायता प्राप्त जूनियर हाई ...</td>\n",
              "      <td>33</td>\n",
              "      <td>पेंशन/आनुतोषिक /अन्य सेवानिवृत्ति हितलाभ</td>\n",
              "      <td>N</td>\n",
              "      <td>V</td>\n",
              "      <td>2017-2018</td>\n",
              "      <td>315594240.0</td>\n",
              "      <td>13827215.0</td>\n",
              "      <td>0</td>\n",
              "      <td>13827215.0</td>\n",
              "      <td>4.38</td>\n",
              "    </tr>\n",
              "  </tbody>\n",
              "</table>\n",
              "</div>\n",
              "      <button class=\"colab-df-convert\" onclick=\"convertToInteractive('df-57d98dff-387a-499b-9a3d-534809bf92fd')\"\n",
              "              title=\"Convert this dataframe to an interactive table.\"\n",
              "              style=\"display:none;\">\n",
              "        \n",
              "  <svg xmlns=\"http://www.w3.org/2000/svg\" height=\"24px\"viewBox=\"0 0 24 24\"\n",
              "       width=\"24px\">\n",
              "    <path d=\"M0 0h24v24H0V0z\" fill=\"none\"/>\n",
              "    <path d=\"M18.56 5.44l.94 2.06.94-2.06 2.06-.94-2.06-.94-.94-2.06-.94 2.06-2.06.94zm-11 1L8.5 8.5l.94-2.06 2.06-.94-2.06-.94L8.5 2.5l-.94 2.06-2.06.94zm10 10l.94 2.06.94-2.06 2.06-.94-2.06-.94-.94-2.06-.94 2.06-2.06.94z\"/><path d=\"M17.41 7.96l-1.37-1.37c-.4-.4-.92-.59-1.43-.59-.52 0-1.04.2-1.43.59L10.3 9.45l-7.72 7.72c-.78.78-.78 2.05 0 2.83L4 21.41c.39.39.9.59 1.41.59.51 0 1.02-.2 1.41-.59l7.78-7.78 2.81-2.81c.8-.78.8-2.07 0-2.86zM5.41 20L4 18.59l7.72-7.72 1.47 1.35L5.41 20z\"/>\n",
              "  </svg>\n",
              "      </button>\n",
              "      \n",
              "  <style>\n",
              "    .colab-df-container {\n",
              "      display:flex;\n",
              "      flex-wrap:wrap;\n",
              "      gap: 12px;\n",
              "    }\n",
              "\n",
              "    .colab-df-convert {\n",
              "      background-color: #E8F0FE;\n",
              "      border: none;\n",
              "      border-radius: 50%;\n",
              "      cursor: pointer;\n",
              "      display: none;\n",
              "      fill: #1967D2;\n",
              "      height: 32px;\n",
              "      padding: 0 0 0 0;\n",
              "      width: 32px;\n",
              "    }\n",
              "\n",
              "    .colab-df-convert:hover {\n",
              "      background-color: #E2EBFA;\n",
              "      box-shadow: 0px 1px 2px rgba(60, 64, 67, 0.3), 0px 1px 3px 1px rgba(60, 64, 67, 0.15);\n",
              "      fill: #174EA6;\n",
              "    }\n",
              "\n",
              "    [theme=dark] .colab-df-convert {\n",
              "      background-color: #3B4455;\n",
              "      fill: #D2E3FC;\n",
              "    }\n",
              "\n",
              "    [theme=dark] .colab-df-convert:hover {\n",
              "      background-color: #434B5C;\n",
              "      box-shadow: 0px 1px 3px 1px rgba(0, 0, 0, 0.15);\n",
              "      filter: drop-shadow(0px 1px 2px rgba(0, 0, 0, 0.3));\n",
              "      fill: #FFFFFF;\n",
              "    }\n",
              "  </style>\n",
              "\n",
              "      <script>\n",
              "        const buttonEl =\n",
              "          document.querySelector('#df-57d98dff-387a-499b-9a3d-534809bf92fd button.colab-df-convert');\n",
              "        buttonEl.style.display =\n",
              "          google.colab.kernel.accessAllowed ? 'block' : 'none';\n",
              "\n",
              "        async function convertToInteractive(key) {\n",
              "          const element = document.querySelector('#df-57d98dff-387a-499b-9a3d-534809bf92fd');\n",
              "          const dataTable =\n",
              "            await google.colab.kernel.invokeFunction('convertToInteractive',\n",
              "                                                     [key], {});\n",
              "          if (!dataTable) return;\n",
              "\n",
              "          const docLinkHtml = 'Like what you see? Visit the ' +\n",
              "            '<a target=\"_blank\" href=https://colab.research.google.com/notebooks/data_table.ipynb>data table notebook</a>'\n",
              "            + ' to learn more about interactive tables.';\n",
              "          element.innerHTML = '';\n",
              "          dataTable['output_type'] = 'display_data';\n",
              "          await google.colab.output.renderOutput(dataTable, element);\n",
              "          const docLink = document.createElement('div');\n",
              "          docLink.innerHTML = docLinkHtml;\n",
              "          element.appendChild(docLink);\n",
              "        }\n",
              "      </script>\n",
              "    </div>\n",
              "  </div>\n",
              "  "
            ]
          },
          "metadata": {},
          "execution_count": 8
        }
      ]
    },
    {
      "cell_type": "markdown",
      "source": [
        "#3. Checking for Null Values in colmuns and duplicate rows"
      ],
      "metadata": {
        "id": "pONRTBdBHOL3"
      }
    },
    {
      "cell_type": "code",
      "source": [
        "FilteredData.isnull().sum()"
      ],
      "metadata": {
        "colab": {
          "base_uri": "https://localhost:8080/"
        },
        "id": "XBAvmPQRxcty",
        "outputId": "6f0f71ad-50ab-4283-f60d-b478b7316169"
      },
      "execution_count": 9,
      "outputs": [
        {
          "output_type": "execute_result",
          "data": {
            "text/plain": [
              "Division Code                                            0\n",
              "Division Description                                     0\n",
              "Treasury Code                                            0\n",
              "Treasury                                                 0\n",
              "Grant Number                                             0\n",
              "Grant Head Description                                   0\n",
              "Major Head Code                                          0\n",
              "Major Head Description                                 223\n",
              "Scheme Code                                              0\n",
              "Scheme Code Description                                  0\n",
              "Standard Object Code                                     0\n",
              "Standard Object Description                              0\n",
              "Plan / Non-Plan                                          0\n",
              "Voted / Charged                                          0\n",
              "fiscal_year                                              0\n",
              "Progressive Allotment                                    0\n",
              "Actual Progressive Expenditure upto month (October)      0\n",
              "Provisional Current Month Expenditure(November)          0\n",
              "Total Expenditure Upto Month (November)                  0\n",
              "% A/E                                                    0\n",
              "dtype: int64"
            ]
          },
          "metadata": {},
          "execution_count": 9
        }
      ]
    },
    {
      "cell_type": "markdown",
      "source": [
        "Since there are no Null Values in Columns like Grant Number and Major Head Code which is essential for analysis we go ahead"
      ],
      "metadata": {
        "id": "ZyyYY1lmHgYG"
      }
    },
    {
      "cell_type": "code",
      "source": [
        "FilteredData['Major Head Code'].value_counts()"
      ],
      "metadata": {
        "colab": {
          "base_uri": "https://localhost:8080/"
        },
        "id": "JyzQa1Ym_ybb",
        "outputId": "3a6acbf3-d05d-4d43-dfcb-559d068d6d93"
      },
      "execution_count": 10,
      "outputs": [
        {
          "output_type": "execute_result",
          "data": {
            "text/plain": [
              "2202    12869\n",
              "2204     1219\n",
              "2205     1019\n",
              "4202      223\n",
              "2071      128\n",
              "Name: Major Head Code, dtype: int64"
            ]
          },
          "metadata": {},
          "execution_count": 10
        }
      ]
    },
    {
      "cell_type": "code",
      "source": [
        "FilteredData.duplicated().sum()"
      ],
      "metadata": {
        "colab": {
          "base_uri": "https://localhost:8080/"
        },
        "id": "SLox_xKgG1tB",
        "outputId": "1ac97515-bf31-4238-c17a-efadd0bdd88b"
      },
      "execution_count": 11,
      "outputs": [
        {
          "output_type": "execute_result",
          "data": {
            "text/plain": [
              "4934"
            ]
          },
          "metadata": {},
          "execution_count": 11
        }
      ]
    },
    {
      "cell_type": "markdown",
      "source": [
        "Since it is not possible to have duplicate rows with the same expenditure within the same financial year for the exact same purpose we remove such rows."
      ],
      "metadata": {
        "id": "K7zIDqrFH6EW"
      }
    },
    {
      "cell_type": "code",
      "source": [
        "FilteredData.drop_duplicates(inplace=True)"
      ],
      "metadata": {
        "colab": {
          "base_uri": "https://localhost:8080/"
        },
        "id": "JkT9cR_gAApU",
        "outputId": "f3909e85-4d4b-4f09-e0b0-1ed7e13dd7ce"
      },
      "execution_count": 12,
      "outputs": [
        {
          "output_type": "stream",
          "name": "stderr",
          "text": [
            "/usr/local/lib/python3.7/dist-packages/pandas/util/_decorators.py:311: SettingWithCopyWarning: \n",
            "A value is trying to be set on a copy of a slice from a DataFrame\n",
            "\n",
            "See the caveats in the documentation: https://pandas.pydata.org/pandas-docs/stable/user_guide/indexing.html#returning-a-view-versus-a-copy\n",
            "  return func(*args, **kwargs)\n"
          ]
        }
      ]
    },
    {
      "cell_type": "markdown",
      "source": [
        "# 4. Visualising the Dataset"
      ],
      "metadata": {
        "id": "6DEErzFOIeKq"
      }
    },
    {
      "cell_type": "code",
      "source": [
        "FilteredData.columns"
      ],
      "metadata": {
        "id": "Te0b0_gvIpcz",
        "colab": {
          "base_uri": "https://localhost:8080/"
        },
        "outputId": "33459212-d93e-4a33-b0e8-30b42fa618d7"
      },
      "execution_count": 13,
      "outputs": [
        {
          "output_type": "execute_result",
          "data": {
            "text/plain": [
              "Index(['Division Code', 'Division Description', 'Treasury Code', 'Treasury',\n",
              "       'Grant Number', 'Grant Head Description', 'Major Head Code',\n",
              "       'Major Head Description', 'Scheme Code', 'Scheme Code Description',\n",
              "       'Standard Object Code', 'Standard Object Description',\n",
              "       'Plan / Non-Plan', 'Voted / Charged', 'fiscal_year',\n",
              "       'Progressive Allotment',\n",
              "       'Actual Progressive Expenditure upto month (October)',\n",
              "       'Provisional Current Month Expenditure(November)',\n",
              "       'Total Expenditure Upto Month (November)', '% A/E'],\n",
              "      dtype='object')"
            ]
          },
          "metadata": {},
          "execution_count": 13
        }
      ]
    },
    {
      "cell_type": "code",
      "source": [
        "FilteredData[['Progressive Allotment',\n",
        "       'Actual Progressive Expenditure upto month (October)',\n",
        "       'Provisional Current Month Expenditure(November)',\n",
        "       'Total Expenditure Upto Month (November)', '% A/E']].describe()"
      ],
      "metadata": {
        "colab": {
          "base_uri": "https://localhost:8080/",
          "height": 379
        },
        "id": "rXJmaUv-Ph1r",
        "outputId": "9ebb7806-2370-4e0c-cfbf-7a3f11b23c5e"
      },
      "execution_count": 14,
      "outputs": [
        {
          "output_type": "execute_result",
          "data": {
            "text/plain": [
              "       Progressive Allotment  \\\n",
              "count           1.052400e+04   \n",
              "mean            4.363325e+07   \n",
              "std             5.087276e+08   \n",
              "min            -4.000000e+07   \n",
              "25%             1.500000e+03   \n",
              "50%             2.431000e+04   \n",
              "75%             1.033345e+06   \n",
              "max             3.701705e+10   \n",
              "\n",
              "       Actual Progressive Expenditure upto month (October)  \\\n",
              "count                                       1.052400e+04     \n",
              "mean                                        4.540390e+07     \n",
              "std                                         6.151968e+08     \n",
              "min                                         0.000000e+00     \n",
              "25%                                         0.000000e+00     \n",
              "50%                                         2.200000e+04     \n",
              "75%                                         8.560285e+05     \n",
              "max                                         3.701705e+10     \n",
              "\n",
              "       Provisional Current Month Expenditure(November)  \\\n",
              "count                                          10524.0   \n",
              "mean                                               0.0   \n",
              "std                                                0.0   \n",
              "min                                                0.0   \n",
              "25%                                                0.0   \n",
              "50%                                                0.0   \n",
              "75%                                                0.0   \n",
              "max                                                0.0   \n",
              "\n",
              "       Total Expenditure Upto Month (November)         % A/E  \n",
              "count                             1.052400e+04  10524.000000  \n",
              "mean                              4.540390e+07     89.139200  \n",
              "std                               6.151968e+08    484.163948  \n",
              "min                               0.000000e+00      0.000000  \n",
              "25%                               0.000000e+00      0.000000  \n",
              "50%                               2.200000e+04     98.060000  \n",
              "75%                               8.560285e+05    100.000000  \n",
              "max                               3.701705e+10  29549.300000  "
            ],
            "text/html": [
              "\n",
              "  <div id=\"df-912f30d4-0cfa-4383-b3d9-a3cbaea8d38a\">\n",
              "    <div class=\"colab-df-container\">\n",
              "      <div>\n",
              "<style scoped>\n",
              "    .dataframe tbody tr th:only-of-type {\n",
              "        vertical-align: middle;\n",
              "    }\n",
              "\n",
              "    .dataframe tbody tr th {\n",
              "        vertical-align: top;\n",
              "    }\n",
              "\n",
              "    .dataframe thead th {\n",
              "        text-align: right;\n",
              "    }\n",
              "</style>\n",
              "<table border=\"1\" class=\"dataframe\">\n",
              "  <thead>\n",
              "    <tr style=\"text-align: right;\">\n",
              "      <th></th>\n",
              "      <th>Progressive Allotment</th>\n",
              "      <th>Actual Progressive Expenditure upto month (October)</th>\n",
              "      <th>Provisional Current Month Expenditure(November)</th>\n",
              "      <th>Total Expenditure Upto Month (November)</th>\n",
              "      <th>% A/E</th>\n",
              "    </tr>\n",
              "  </thead>\n",
              "  <tbody>\n",
              "    <tr>\n",
              "      <th>count</th>\n",
              "      <td>1.052400e+04</td>\n",
              "      <td>1.052400e+04</td>\n",
              "      <td>10524.0</td>\n",
              "      <td>1.052400e+04</td>\n",
              "      <td>10524.000000</td>\n",
              "    </tr>\n",
              "    <tr>\n",
              "      <th>mean</th>\n",
              "      <td>4.363325e+07</td>\n",
              "      <td>4.540390e+07</td>\n",
              "      <td>0.0</td>\n",
              "      <td>4.540390e+07</td>\n",
              "      <td>89.139200</td>\n",
              "    </tr>\n",
              "    <tr>\n",
              "      <th>std</th>\n",
              "      <td>5.087276e+08</td>\n",
              "      <td>6.151968e+08</td>\n",
              "      <td>0.0</td>\n",
              "      <td>6.151968e+08</td>\n",
              "      <td>484.163948</td>\n",
              "    </tr>\n",
              "    <tr>\n",
              "      <th>min</th>\n",
              "      <td>-4.000000e+07</td>\n",
              "      <td>0.000000e+00</td>\n",
              "      <td>0.0</td>\n",
              "      <td>0.000000e+00</td>\n",
              "      <td>0.000000</td>\n",
              "    </tr>\n",
              "    <tr>\n",
              "      <th>25%</th>\n",
              "      <td>1.500000e+03</td>\n",
              "      <td>0.000000e+00</td>\n",
              "      <td>0.0</td>\n",
              "      <td>0.000000e+00</td>\n",
              "      <td>0.000000</td>\n",
              "    </tr>\n",
              "    <tr>\n",
              "      <th>50%</th>\n",
              "      <td>2.431000e+04</td>\n",
              "      <td>2.200000e+04</td>\n",
              "      <td>0.0</td>\n",
              "      <td>2.200000e+04</td>\n",
              "      <td>98.060000</td>\n",
              "    </tr>\n",
              "    <tr>\n",
              "      <th>75%</th>\n",
              "      <td>1.033345e+06</td>\n",
              "      <td>8.560285e+05</td>\n",
              "      <td>0.0</td>\n",
              "      <td>8.560285e+05</td>\n",
              "      <td>100.000000</td>\n",
              "    </tr>\n",
              "    <tr>\n",
              "      <th>max</th>\n",
              "      <td>3.701705e+10</td>\n",
              "      <td>3.701705e+10</td>\n",
              "      <td>0.0</td>\n",
              "      <td>3.701705e+10</td>\n",
              "      <td>29549.300000</td>\n",
              "    </tr>\n",
              "  </tbody>\n",
              "</table>\n",
              "</div>\n",
              "      <button class=\"colab-df-convert\" onclick=\"convertToInteractive('df-912f30d4-0cfa-4383-b3d9-a3cbaea8d38a')\"\n",
              "              title=\"Convert this dataframe to an interactive table.\"\n",
              "              style=\"display:none;\">\n",
              "        \n",
              "  <svg xmlns=\"http://www.w3.org/2000/svg\" height=\"24px\"viewBox=\"0 0 24 24\"\n",
              "       width=\"24px\">\n",
              "    <path d=\"M0 0h24v24H0V0z\" fill=\"none\"/>\n",
              "    <path d=\"M18.56 5.44l.94 2.06.94-2.06 2.06-.94-2.06-.94-.94-2.06-.94 2.06-2.06.94zm-11 1L8.5 8.5l.94-2.06 2.06-.94-2.06-.94L8.5 2.5l-.94 2.06-2.06.94zm10 10l.94 2.06.94-2.06 2.06-.94-2.06-.94-.94-2.06-.94 2.06-2.06.94z\"/><path d=\"M17.41 7.96l-1.37-1.37c-.4-.4-.92-.59-1.43-.59-.52 0-1.04.2-1.43.59L10.3 9.45l-7.72 7.72c-.78.78-.78 2.05 0 2.83L4 21.41c.39.39.9.59 1.41.59.51 0 1.02-.2 1.41-.59l7.78-7.78 2.81-2.81c.8-.78.8-2.07 0-2.86zM5.41 20L4 18.59l7.72-7.72 1.47 1.35L5.41 20z\"/>\n",
              "  </svg>\n",
              "      </button>\n",
              "      \n",
              "  <style>\n",
              "    .colab-df-container {\n",
              "      display:flex;\n",
              "      flex-wrap:wrap;\n",
              "      gap: 12px;\n",
              "    }\n",
              "\n",
              "    .colab-df-convert {\n",
              "      background-color: #E8F0FE;\n",
              "      border: none;\n",
              "      border-radius: 50%;\n",
              "      cursor: pointer;\n",
              "      display: none;\n",
              "      fill: #1967D2;\n",
              "      height: 32px;\n",
              "      padding: 0 0 0 0;\n",
              "      width: 32px;\n",
              "    }\n",
              "\n",
              "    .colab-df-convert:hover {\n",
              "      background-color: #E2EBFA;\n",
              "      box-shadow: 0px 1px 2px rgba(60, 64, 67, 0.3), 0px 1px 3px 1px rgba(60, 64, 67, 0.15);\n",
              "      fill: #174EA6;\n",
              "    }\n",
              "\n",
              "    [theme=dark] .colab-df-convert {\n",
              "      background-color: #3B4455;\n",
              "      fill: #D2E3FC;\n",
              "    }\n",
              "\n",
              "    [theme=dark] .colab-df-convert:hover {\n",
              "      background-color: #434B5C;\n",
              "      box-shadow: 0px 1px 3px 1px rgba(0, 0, 0, 0.15);\n",
              "      filter: drop-shadow(0px 1px 2px rgba(0, 0, 0, 0.3));\n",
              "      fill: #FFFFFF;\n",
              "    }\n",
              "  </style>\n",
              "\n",
              "      <script>\n",
              "        const buttonEl =\n",
              "          document.querySelector('#df-912f30d4-0cfa-4383-b3d9-a3cbaea8d38a button.colab-df-convert');\n",
              "        buttonEl.style.display =\n",
              "          google.colab.kernel.accessAllowed ? 'block' : 'none';\n",
              "\n",
              "        async function convertToInteractive(key) {\n",
              "          const element = document.querySelector('#df-912f30d4-0cfa-4383-b3d9-a3cbaea8d38a');\n",
              "          const dataTable =\n",
              "            await google.colab.kernel.invokeFunction('convertToInteractive',\n",
              "                                                     [key], {});\n",
              "          if (!dataTable) return;\n",
              "\n",
              "          const docLinkHtml = 'Like what you see? Visit the ' +\n",
              "            '<a target=\"_blank\" href=https://colab.research.google.com/notebooks/data_table.ipynb>data table notebook</a>'\n",
              "            + ' to learn more about interactive tables.';\n",
              "          element.innerHTML = '';\n",
              "          dataTable['output_type'] = 'display_data';\n",
              "          await google.colab.output.renderOutput(dataTable, element);\n",
              "          const docLink = document.createElement('div');\n",
              "          docLink.innerHTML = docLinkHtml;\n",
              "          element.appendChild(docLink);\n",
              "        }\n",
              "      </script>\n",
              "    </div>\n",
              "  </div>\n",
              "  "
            ]
          },
          "metadata": {},
          "execution_count": 14
        }
      ]
    },
    {
      "cell_type": "markdown",
      "source": [
        "Since the column *Provisional Current Month Expenditure(November)* does not have any values it can be removed from the dataset"
      ],
      "metadata": {
        "id": "B-mYQ-v_-xG4"
      }
    },
    {
      "cell_type": "code",
      "source": [
        "FilteredData.drop('Provisional Current Month Expenditure(November)', inplace=True, axis=1)"
      ],
      "metadata": {
        "colab": {
          "base_uri": "https://localhost:8080/"
        },
        "id": "6dXQ--Rt_OK6",
        "outputId": "19aa559b-f646-462c-c7e5-594b76a90546"
      },
      "execution_count": 15,
      "outputs": [
        {
          "output_type": "stream",
          "name": "stderr",
          "text": [
            "/usr/local/lib/python3.7/dist-packages/pandas/core/frame.py:4913: SettingWithCopyWarning: \n",
            "A value is trying to be set on a copy of a slice from a DataFrame\n",
            "\n",
            "See the caveats in the documentation: https://pandas.pydata.org/pandas-docs/stable/user_guide/indexing.html#returning-a-view-versus-a-copy\n",
            "  errors=errors,\n"
          ]
        }
      ]
    },
    {
      "cell_type": "code",
      "source": [
        "import seaborn as sb"
      ],
      "metadata": {
        "id": "FPePRTYPQ0YE"
      },
      "execution_count": 16,
      "outputs": []
    },
    {
      "cell_type": "markdown",
      "source": [
        ""
      ],
      "metadata": {
        "id": "SwcnCmt---v-"
      }
    },
    {
      "cell_type": "code",
      "source": [
        "sb.distplot(FilteredData['Progressive Allotment'])\n",
        "plt.show()\n",
        "sb.distplot(FilteredData['Actual Progressive Expenditure upto month (October)'])\n",
        "plt.show()\n",
        "sb.distplot(FilteredData['Total Expenditure Upto Month (November)'])\n",
        "plt.show()\n",
        "sb.distplot(FilteredData['% A/E'])\n",
        "plt.show()"
      ],
      "metadata": {
        "colab": {
          "base_uri": "https://localhost:8080/",
          "height": 1000
        },
        "id": "R2mFS9HHQTmn",
        "outputId": "062b582a-b693-49e4-8577-159899006ea8"
      },
      "execution_count": 17,
      "outputs": [
        {
          "output_type": "stream",
          "name": "stderr",
          "text": [
            "/usr/local/lib/python3.7/dist-packages/seaborn/distributions.py:2619: FutureWarning: `distplot` is a deprecated function and will be removed in a future version. Please adapt your code to use either `displot` (a figure-level function with similar flexibility) or `histplot` (an axes-level function for histograms).\n",
            "  warnings.warn(msg, FutureWarning)\n"
          ]
        },
        {
          "output_type": "display_data",
          "data": {
            "text/plain": [
              "<Figure size 432x288 with 1 Axes>"
            ],
            "image/png": "[encoded data removed]"
          },
          "metadata": {
            "needs_background": "light"
          }
        },
        {
          "output_type": "stream",
          "name": "stderr",
          "text": [
            "/usr/local/lib/python3.7/dist-packages/seaborn/distributions.py:2619: FutureWarning: `distplot` is a deprecated function and will be removed in a future version. Please adapt your code to use either `displot` (a figure-level function with similar flexibility) or `histplot` (an axes-level function for histograms).\n",
            "  warnings.warn(msg, FutureWarning)\n"
          ]
        },
        {
          "output_type": "display_data",
          "data": {
            "text/plain": [
              "<Figure size 432x288 with 1 Axes>"
            ],
            "image/png": "[encoded data removed]"
          },
          "metadata": {
            "needs_background": "light"
          }
        },
        {
          "output_type": "stream",
          "name": "stderr",
          "text": [
            "/usr/local/lib/python3.7/dist-packages/seaborn/distributions.py:2619: FutureWarning: `distplot` is a deprecated function and will be removed in a future version. Please adapt your code to use either `displot` (a figure-level function with similar flexibility) or `histplot` (an axes-level function for histograms).\n",
            "  warnings.warn(msg, FutureWarning)\n"
          ]
        },
        {
          "output_type": "display_data",
          "data": {
            "text/plain": [
              "<Figure size 432x288 with 1 Axes>"
            ],
            "image/png": "[encoded data removed]"
          },
          "metadata": {
            "needs_background": "light"
          }
        },
        {
          "output_type": "stream",
          "name": "stderr",
          "text": [
            "/usr/local/lib/python3.7/dist-packages/seaborn/distributions.py:2619: FutureWarning: `distplot` is a deprecated function and will be removed in a future version. Please adapt your code to use either `displot` (a figure-level function with similar flexibility) or `histplot` (an axes-level function for histograms).\n",
            "  warnings.warn(msg, FutureWarning)\n"
          ]
        },
        {
          "output_type": "display_data",
          "data": {
            "text/plain": [
              "<Figure size 432x288 with 1 Axes>"
            ],
            "image/png": "[encoded data removed]"
          },
          "metadata": {
            "needs_background": "light"
          }
        }
      ]
    },
    {
      "cell_type": "markdown",
      "source": [
        "We can see that the data is right skewed. "
      ],
      "metadata": {
        "id": "YbdDjOJ0e7iA"
      }
    },
    {
      "cell_type": "code",
      "source": [
        "plt.figure (figsize=(10,5))\n",
        "sb.heatmap(FilteredData[['Progressive Allotment',\n",
        "       'Actual Progressive Expenditure upto month (October)',\n",
        "       'Total Expenditure Upto Month (November)', '% A/E']].corr(), annot=True)\n",
        "plt.show();"
      ],
      "metadata": {
        "colab": {
          "base_uri": "https://localhost:8080/",
          "height": 581
        },
        "id": "DfCort7xfgns",
        "outputId": "3e7be891-9788-4f6c-a1e8-4b54346a1072"
      },
      "execution_count": 18,
      "outputs": [
        {
          "output_type": "display_data",
          "data": {
            "text/plain": [
              "<Figure size 720x360 with 2 Axes>"
            ],
            "image/png": "[encoded data removed]"
          },
          "metadata": {
            "needs_background": "light"
          }
        }
      ]
    },
    {
      "cell_type": "markdown",
      "source": [
        "# Q1) Calculating the share of expenditure on school education"
      ],
      "metadata": {
        "id": "G1TX09gYh89y"
      }
    },
    {
      "cell_type": "code",
      "source": [
        "pd.DataFrame(FilteredData.groupby(['Grant Head Description','Grant Number'])['Total Expenditure Upto Month (November)'].sum())"
      ],
      "metadata": {
        "id": "tkb_HTYx70fy",
        "colab": {
          "base_uri": "https://localhost:8080/",
          "height": 143
        },
        "outputId": "70db1a1a-8607-4a6a-dbb6-a75eaafe237f"
      },
      "execution_count": 19,
      "outputs": [
        {
          "output_type": "execute_result",
          "data": {
            "text/plain": [
              "                                             Total Expenditure Upto Month (November)\n",
              "Grant Head Description         Grant Number                                         \n",
              "शिक्षा विभाग (प्राथमिक शिक्षा) 71                                       3.934039e+11\n",
              "शिक्षा विभाग (माध्यमिक शिक्षा) 72                                       8.442678e+10"
            ],
            "text/html": [
              "\n",
              "  <div id=\"df-86e75176-da1b-48ee-8825-454851b6bfdd\">\n",
              "    <div class=\"colab-df-container\">\n",
              "      <div>\n",
              "<style scoped>\n",
              "    .dataframe tbody tr th:only-of-type {\n",
              "        vertical-align: middle;\n",
              "    }\n",
              "\n",
              "    .dataframe tbody tr th {\n",
              "        vertical-align: top;\n",
              "    }\n",
              "\n",
              "    .dataframe thead th {\n",
              "        text-align: right;\n",
              "    }\n",
              "</style>\n",
              "<table border=\"1\" class=\"dataframe\">\n",
              "  <thead>\n",
              "    <tr style=\"text-align: right;\">\n",
              "      <th></th>\n",
              "      <th></th>\n",
              "      <th>Total Expenditure Upto Month (November)</th>\n",
              "    </tr>\n",
              "    <tr>\n",
              "      <th>Grant Head Description</th>\n",
              "      <th>Grant Number</th>\n",
              "      <th></th>\n",
              "    </tr>\n",
              "  </thead>\n",
              "  <tbody>\n",
              "    <tr>\n",
              "      <th>शिक्षा विभाग (प्राथमिक शिक्षा)</th>\n",
              "      <th>71</th>\n",
              "      <td>3.934039e+11</td>\n",
              "    </tr>\n",
              "    <tr>\n",
              "      <th>शिक्षा विभाग (माध्यमिक शिक्षा)</th>\n",
              "      <th>72</th>\n",
              "      <td>8.442678e+10</td>\n",
              "    </tr>\n",
              "  </tbody>\n",
              "</table>\n",
              "</div>\n",
              "      <button class=\"colab-df-convert\" onclick=\"convertToInteractive('df-86e75176-da1b-48ee-8825-454851b6bfdd')\"\n",
              "              title=\"Convert this dataframe to an interactive table.\"\n",
              "              style=\"display:none;\">\n",
              "        \n",
              "  <svg xmlns=\"http://www.w3.org/2000/svg\" height=\"24px\"viewBox=\"0 0 24 24\"\n",
              "       width=\"24px\">\n",
              "    <path d=\"M0 0h24v24H0V0z\" fill=\"none\"/>\n",
              "    <path d=\"M18.56 5.44l.94 2.06.94-2.06 2.06-.94-2.06-.94-.94-2.06-.94 2.06-2.06.94zm-11 1L8.5 8.5l.94-2.06 2.06-.94-2.06-.94L8.5 2.5l-.94 2.06-2.06.94zm10 10l.94 2.06.94-2.06 2.06-.94-2.06-.94-.94-2.06-.94 2.06-2.06.94z\"/><path d=\"M17.41 7.96l-1.37-1.37c-.4-.4-.92-.59-1.43-.59-.52 0-1.04.2-1.43.59L10.3 9.45l-7.72 7.72c-.78.78-.78 2.05 0 2.83L4 21.41c.39.39.9.59 1.41.59.51 0 1.02-.2 1.41-.59l7.78-7.78 2.81-2.81c.8-.78.8-2.07 0-2.86zM5.41 20L4 18.59l7.72-7.72 1.47 1.35L5.41 20z\"/>\n",
              "  </svg>\n",
              "      </button>\n",
              "      \n",
              "  <style>\n",
              "    .colab-df-container {\n",
              "      display:flex;\n",
              "      flex-wrap:wrap;\n",
              "      gap: 12px;\n",
              "    }\n",
              "\n",
              "    .colab-df-convert {\n",
              "      background-color: #E8F0FE;\n",
              "      border: none;\n",
              "      border-radius: 50%;\n",
              "      cursor: pointer;\n",
              "      display: none;\n",
              "      fill: #1967D2;\n",
              "      height: 32px;\n",
              "      padding: 0 0 0 0;\n",
              "      width: 32px;\n",
              "    }\n",
              "\n",
              "    .colab-df-convert:hover {\n",
              "      background-color: #E2EBFA;\n",
              "      box-shadow: 0px 1px 2px rgba(60, 64, 67, 0.3), 0px 1px 3px 1px rgba(60, 64, 67, 0.15);\n",
              "      fill: #174EA6;\n",
              "    }\n",
              "\n",
              "    [theme=dark] .colab-df-convert {\n",
              "      background-color: #3B4455;\n",
              "      fill: #D2E3FC;\n",
              "    }\n",
              "\n",
              "    [theme=dark] .colab-df-convert:hover {\n",
              "      background-color: #434B5C;\n",
              "      box-shadow: 0px 1px 3px 1px rgba(0, 0, 0, 0.15);\n",
              "      filter: drop-shadow(0px 1px 2px rgba(0, 0, 0, 0.3));\n",
              "      fill: #FFFFFF;\n",
              "    }\n",
              "  </style>\n",
              "\n",
              "      <script>\n",
              "        const buttonEl =\n",
              "          document.querySelector('#df-86e75176-da1b-48ee-8825-454851b6bfdd button.colab-df-convert');\n",
              "        buttonEl.style.display =\n",
              "          google.colab.kernel.accessAllowed ? 'block' : 'none';\n",
              "\n",
              "        async function convertToInteractive(key) {\n",
              "          const element = document.querySelector('#df-86e75176-da1b-48ee-8825-454851b6bfdd');\n",
              "          const dataTable =\n",
              "            await google.colab.kernel.invokeFunction('convertToInteractive',\n",
              "                                                     [key], {});\n",
              "          if (!dataTable) return;\n",
              "\n",
              "          const docLinkHtml = 'Like what you see? Visit the ' +\n",
              "            '<a target=\"_blank\" href=https://colab.research.google.com/notebooks/data_table.ipynb>data table notebook</a>'\n",
              "            + ' to learn more about interactive tables.';\n",
              "          element.innerHTML = '';\n",
              "          dataTable['output_type'] = 'display_data';\n",
              "          await google.colab.output.renderOutput(dataTable, element);\n",
              "          const docLink = document.createElement('div');\n",
              "          docLink.innerHTML = docLinkHtml;\n",
              "          element.appendChild(docLink);\n",
              "        }\n",
              "      </script>\n",
              "    </div>\n",
              "  </div>\n",
              "  "
            ]
          },
          "metadata": {},
          "execution_count": 19
        }
      ]
    },
    {
      "cell_type": "code",
      "source": [
        "FilteredData.groupby(['Grant Number']).sum().plot(kind='pie', y='Total Expenditure Upto Month (November)')"
      ],
      "metadata": {
        "colab": {
          "base_uri": "https://localhost:8080/",
          "height": 265
        },
        "id": "apSDYItUjoDB",
        "outputId": "a2f9a521-524a-4c2e-9fe8-2c786f489c2e"
      },
      "execution_count": 20,
      "outputs": [
        {
          "output_type": "execute_result",
          "data": {
            "text/plain": [
              "<matplotlib.axes._subplots.AxesSubplot at 0x7fa4cddcf7d0>"
            ]
          },
          "metadata": {},
          "execution_count": 20
        },
        {
          "output_type": "display_data",
          "data": {
            "text/plain": [
              "<Figure size 432x288 with 1 Axes>"
            ],
            "image/png": "[encoded data removed]"
          },
          "metadata": {}
        }
      ]
    },
    {
      "cell_type": "markdown",
      "source": [
        "# Q2) Estimating the share of capital expenditure"
      ],
      "metadata": {
        "id": "jIMkIXEniPOl"
      }
    },
    {
      "cell_type": "markdown",
      "source": [
        "We know that **Major Head 4202** maps to *Capital Outlay on Education, Sports, Art and Culture*"
      ],
      "metadata": {
        "id": "7onNYzKvkVQ0"
      }
    },
    {
      "cell_type": "code",
      "source": [
        "Capital= FilteredData[FilteredData['Major Head Code']==4202]\n",
        "pd.DataFrame(Capital['Total Expenditure Upto Month (November)'].groupby(Capital['Grant Head Description']).sum())"
      ],
      "metadata": {
        "colab": {
          "base_uri": "https://localhost:8080/",
          "height": 143
        },
        "id": "hhk39h70iOvS",
        "outputId": "c27b46cb-42bf-492d-eae3-11622f8d811e"
      },
      "execution_count": 21,
      "outputs": [
        {
          "output_type": "execute_result",
          "data": {
            "text/plain": [
              "                                Total Expenditure Upto Month (November)\n",
              "Grant Head Description                                                 \n",
              "शिक्षा विभाग (प्राथमिक शिक्षा)                             1.880974e+09\n",
              "शिक्षा विभाग (माध्यमिक शिक्षा)                             1.222400e+09"
            ],
            "text/html": [
              "\n",
              "  <div id=\"df-4ceebca2-388c-4803-a3d0-469a2dad021e\">\n",
              "    <div class=\"colab-df-container\">\n",
              "      <div>\n",
              "<style scoped>\n",
              "    .dataframe tbody tr th:only-of-type {\n",
              "        vertical-align: middle;\n",
              "    }\n",
              "\n",
              "    .dataframe tbody tr th {\n",
              "        vertical-align: top;\n",
              "    }\n",
              "\n",
              "    .dataframe thead th {\n",
              "        text-align: right;\n",
              "    }\n",
              "</style>\n",
              "<table border=\"1\" class=\"dataframe\">\n",
              "  <thead>\n",
              "    <tr style=\"text-align: right;\">\n",
              "      <th></th>\n",
              "      <th>Total Expenditure Upto Month (November)</th>\n",
              "    </tr>\n",
              "    <tr>\n",
              "      <th>Grant Head Description</th>\n",
              "      <th></th>\n",
              "    </tr>\n",
              "  </thead>\n",
              "  <tbody>\n",
              "    <tr>\n",
              "      <th>शिक्षा विभाग (प्राथमिक शिक्षा)</th>\n",
              "      <td>1.880974e+09</td>\n",
              "    </tr>\n",
              "    <tr>\n",
              "      <th>शिक्षा विभाग (माध्यमिक शिक्षा)</th>\n",
              "      <td>1.222400e+09</td>\n",
              "    </tr>\n",
              "  </tbody>\n",
              "</table>\n",
              "</div>\n",
              "      <button class=\"colab-df-convert\" onclick=\"convertToInteractive('df-4ceebca2-388c-4803-a3d0-469a2dad021e')\"\n",
              "              title=\"Convert this dataframe to an interactive table.\"\n",
              "              style=\"display:none;\">\n",
              "        \n",
              "  <svg xmlns=\"http://www.w3.org/2000/svg\" height=\"24px\"viewBox=\"0 0 24 24\"\n",
              "       width=\"24px\">\n",
              "    <path d=\"M0 0h24v24H0V0z\" fill=\"none\"/>\n",
              "    <path d=\"M18.56 5.44l.94 2.06.94-2.06 2.06-.94-2.06-.94-.94-2.06-.94 2.06-2.06.94zm-11 1L8.5 8.5l.94-2.06 2.06-.94-2.06-.94L8.5 2.5l-.94 2.06-2.06.94zm10 10l.94 2.06.94-2.06 2.06-.94-2.06-.94-.94-2.06-.94 2.06-2.06.94z\"/><path d=\"M17.41 7.96l-1.37-1.37c-.4-.4-.92-.59-1.43-.59-.52 0-1.04.2-1.43.59L10.3 9.45l-7.72 7.72c-.78.78-.78 2.05 0 2.83L4 21.41c.39.39.9.59 1.41.59.51 0 1.02-.2 1.41-.59l7.78-7.78 2.81-2.81c.8-.78.8-2.07 0-2.86zM5.41 20L4 18.59l7.72-7.72 1.47 1.35L5.41 20z\"/>\n",
              "  </svg>\n",
              "      </button>\n",
              "      \n",
              "  <style>\n",
              "    .colab-df-container {\n",
              "      display:flex;\n",
              "      flex-wrap:wrap;\n",
              "      gap: 12px;\n",
              "    }\n",
              "\n",
              "    .colab-df-convert {\n",
              "      background-color: #E8F0FE;\n",
              "      border: none;\n",
              "      border-radius: 50%;\n",
              "      cursor: pointer;\n",
              "      display: none;\n",
              "      fill: #1967D2;\n",
              "      height: 32px;\n",
              "      padding: 0 0 0 0;\n",
              "      width: 32px;\n",
              "    }\n",
              "\n",
              "    .colab-df-convert:hover {\n",
              "      background-color: #E2EBFA;\n",
              "      box-shadow: 0px 1px 2px rgba(60, 64, 67, 0.3), 0px 1px 3px 1px rgba(60, 64, 67, 0.15);\n",
              "      fill: #174EA6;\n",
              "    }\n",
              "\n",
              "    [theme=dark] .colab-df-convert {\n",
              "      background-color: #3B4455;\n",
              "      fill: #D2E3FC;\n",
              "    }\n",
              "\n",
              "    [theme=dark] .colab-df-convert:hover {\n",
              "      background-color: #434B5C;\n",
              "      box-shadow: 0px 1px 3px 1px rgba(0, 0, 0, 0.15);\n",
              "      filter: drop-shadow(0px 1px 2px rgba(0, 0, 0, 0.3));\n",
              "      fill: #FFFFFF;\n",
              "    }\n",
              "  </style>\n",
              "\n",
              "      <script>\n",
              "        const buttonEl =\n",
              "          document.querySelector('#df-4ceebca2-388c-4803-a3d0-469a2dad021e button.colab-df-convert');\n",
              "        buttonEl.style.display =\n",
              "          google.colab.kernel.accessAllowed ? 'block' : 'none';\n",
              "\n",
              "        async function convertToInteractive(key) {\n",
              "          const element = document.querySelector('#df-4ceebca2-388c-4803-a3d0-469a2dad021e');\n",
              "          const dataTable =\n",
              "            await google.colab.kernel.invokeFunction('convertToInteractive',\n",
              "                                                     [key], {});\n",
              "          if (!dataTable) return;\n",
              "\n",
              "          const docLinkHtml = 'Like what you see? Visit the ' +\n",
              "            '<a target=\"_blank\" href=https://colab.research.google.com/notebooks/data_table.ipynb>data table notebook</a>'\n",
              "            + ' to learn more about interactive tables.';\n",
              "          element.innerHTML = '';\n",
              "          dataTable['output_type'] = 'display_data';\n",
              "          await google.colab.output.renderOutput(dataTable, element);\n",
              "          const docLink = document.createElement('div');\n",
              "          docLink.innerHTML = docLinkHtml;\n",
              "          element.appendChild(docLink);\n",
              "        }\n",
              "      </script>\n",
              "    </div>\n",
              "  </div>\n",
              "  "
            ]
          },
          "metadata": {},
          "execution_count": 21
        }
      ]
    },
    {
      "cell_type": "markdown",
      "source": [
        "# Q3) Estimate the per-capita expenditure on school education in the state, and each district. "
      ],
      "metadata": {
        "id": "Q3umxEhRlXRT"
      }
    },
    {
      "cell_type": "markdown",
      "source": [
        "With reference to the following [website](https://www.census2011.co.in/census/state/uttar+pradesh.html), we find the projected population for the 2021 in UP is *228,054,788*"
      ],
      "metadata": {
        "id": "sx_Uxm53mV2c"
      }
    },
    {
      "cell_type": "code",
      "source": [
        "percap_exp = FilteredData['Total Expenditure Upto Month (November)'].sum()/228054788\n",
        "print(' The Per-capita expenditure on school education for the year 2020-21 is %.2f' %(percap_exp))"
      ],
      "metadata": {
        "colab": {
          "base_uri": "https://localhost:8080/"
        },
        "id": "VRC5_5LblVdS",
        "outputId": "3c0cbcbd-fcf3-4018-8b35-69a3b7caf8d0"
      },
      "execution_count": 22,
      "outputs": [
        {
          "output_type": "stream",
          "name": "stdout",
          "text": [
            " The Per-capita expenditure on school education for the year 2020-21 is 2095.24\n"
          ]
        }
      ]
    },
    {
      "cell_type": "markdown",
      "source": [
        "**Note** : Was unable to find district wise population data for the year 2019-20"
      ],
      "metadata": {
        "id": "FQqtCtR7p1U_"
      }
    },
    {
      "cell_type": "markdown",
      "source": [
        "#Q4) Rank the districts based on utilization of allotted funds of revenue expenditure and capital expenditure"
      ],
      "metadata": {
        "id": "YlkH2-gnpxMT"
      }
    },
    {
      "cell_type": "code",
      "source": [
        "cap_exp = FilteredData[FilteredData['Major Head Code'] == 4202]\n",
        "rev_exp = FilteredData[FilteredData['Major Head Code'] != 4202]"
      ],
      "metadata": {
        "id": "dQPASoaAqJw4"
      },
      "execution_count": 23,
      "outputs": []
    },
    {
      "cell_type": "markdown",
      "source": [
        "Captial Expenditure"
      ],
      "metadata": {
        "id": "JS_eknZy0jqL"
      }
    },
    {
      "cell_type": "code",
      "source": [
        "op = pd.DataFrame((cap_exp['Total Expenditure Upto Month (November)'].groupby(cap_exp['Treasury']).sum())/cap_exp['Progressive Allotment'].groupby(cap_exp['Treasury']).sum()).sort_values(by=0, ascending=False)\n",
        "op"
      ],
      "metadata": {
        "colab": {
          "base_uri": "https://localhost:8080/",
          "height": 455
        },
        "id": "5uDAmTfE3_1P",
        "outputId": "48882a15-5560-413d-b3f2-75955ba1564e"
      },
      "execution_count": 24,
      "outputs": [
        {
          "output_type": "execute_result",
          "data": {
            "text/plain": [
              "                       0\n",
              "Treasury                \n",
              "AGRA            1.000000\n",
              "FATEHPUR        1.000000\n",
              "J.P.NAGAR       1.000000\n",
              "ALIGARH         1.000000\n",
              "KANPUR DEHAT    1.000000\n",
              "...                  ...\n",
              "UNNAO TREASURY  0.679920\n",
              "HARDOI          0.669849\n",
              "G.B.NAGAR       0.628840\n",
              "LUCKNOW-JB      0.409217\n",
              "PILIBHIT        0.053443\n",
              "\n",
              "[76 rows x 1 columns]"
            ],
            "text/html": [
              "\n",
              "  <div id=\"df-5d6b6259-3381-49b2-8977-ac4c15dce812\">\n",
              "    <div class=\"colab-df-container\">\n",
              "      <div>\n",
              "<style scoped>\n",
              "    .dataframe tbody tr th:only-of-type {\n",
              "        vertical-align: middle;\n",
              "    }\n",
              "\n",
              "    .dataframe tbody tr th {\n",
              "        vertical-align: top;\n",
              "    }\n",
              "\n",
              "    .dataframe thead th {\n",
              "        text-align: right;\n",
              "    }\n",
              "</style>\n",
              "<table border=\"1\" class=\"dataframe\">\n",
              "  <thead>\n",
              "    <tr style=\"text-align: right;\">\n",
              "      <th></th>\n",
              "      <th>0</th>\n",
              "    </tr>\n",
              "    <tr>\n",
              "      <th>Treasury</th>\n",
              "      <th></th>\n",
              "    </tr>\n",
              "  </thead>\n",
              "  <tbody>\n",
              "    <tr>\n",
              "      <th>AGRA</th>\n",
              "      <td>1.000000</td>\n",
              "    </tr>\n",
              "    <tr>\n",
              "      <th>FATEHPUR</th>\n",
              "      <td>1.000000</td>\n",
              "    </tr>\n",
              "    <tr>\n",
              "      <th>J.P.NAGAR</th>\n",
              "      <td>1.000000</td>\n",
              "    </tr>\n",
              "    <tr>\n",
              "      <th>ALIGARH</th>\n",
              "      <td>1.000000</td>\n",
              "    </tr>\n",
              "    <tr>\n",
              "      <th>KANPUR DEHAT</th>\n",
              "      <td>1.000000</td>\n",
              "    </tr>\n",
              "    <tr>\n",
              "      <th>...</th>\n",
              "      <td>...</td>\n",
              "    </tr>\n",
              "    <tr>\n",
              "      <th>UNNAO TREASURY</th>\n",
              "      <td>0.679920</td>\n",
              "    </tr>\n",
              "    <tr>\n",
              "      <th>HARDOI</th>\n",
              "      <td>0.669849</td>\n",
              "    </tr>\n",
              "    <tr>\n",
              "      <th>G.B.NAGAR</th>\n",
              "      <td>0.628840</td>\n",
              "    </tr>\n",
              "    <tr>\n",
              "      <th>LUCKNOW-JB</th>\n",
              "      <td>0.409217</td>\n",
              "    </tr>\n",
              "    <tr>\n",
              "      <th>PILIBHIT</th>\n",
              "      <td>0.053443</td>\n",
              "    </tr>\n",
              "  </tbody>\n",
              "</table>\n",
              "<p>76 rows × 1 columns</p>\n",
              "</div>\n",
              "      <button class=\"colab-df-convert\" onclick=\"convertToInteractive('df-5d6b6259-3381-49b2-8977-ac4c15dce812')\"\n",
              "              title=\"Convert this dataframe to an interactive table.\"\n",
              "              style=\"display:none;\">\n",
              "        \n",
              "  <svg xmlns=\"http://www.w3.org/2000/svg\" height=\"24px\"viewBox=\"0 0 24 24\"\n",
              "       width=\"24px\">\n",
              "    <path d=\"M0 0h24v24H0V0z\" fill=\"none\"/>\n",
              "    <path d=\"M18.56 5.44l.94 2.06.94-2.06 2.06-.94-2.06-.94-.94-2.06-.94 2.06-2.06.94zm-11 1L8.5 8.5l.94-2.06 2.06-.94-2.06-.94L8.5 2.5l-.94 2.06-2.06.94zm10 10l.94 2.06.94-2.06 2.06-.94-2.06-.94-.94-2.06-.94 2.06-2.06.94z\"/><path d=\"M17.41 7.96l-1.37-1.37c-.4-.4-.92-.59-1.43-.59-.52 0-1.04.2-1.43.59L10.3 9.45l-7.72 7.72c-.78.78-.78 2.05 0 2.83L4 21.41c.39.39.9.59 1.41.59.51 0 1.02-.2 1.41-.59l7.78-7.78 2.81-2.81c.8-.78.8-2.07 0-2.86zM5.41 20L4 18.59l7.72-7.72 1.47 1.35L5.41 20z\"/>\n",
              "  </svg>\n",
              "      </button>\n",
              "      \n",
              "  <style>\n",
              "    .colab-df-container {\n",
              "      display:flex;\n",
              "      flex-wrap:wrap;\n",
              "      gap: 12px;\n",
              "    }\n",
              "\n",
              "    .colab-df-convert {\n",
              "      background-color: #E8F0FE;\n",
              "      border: none;\n",
              "      border-radius: 50%;\n",
              "      cursor: pointer;\n",
              "      display: none;\n",
              "      fill: #1967D2;\n",
              "      height: 32px;\n",
              "      padding: 0 0 0 0;\n",
              "      width: 32px;\n",
              "    }\n",
              "\n",
              "    .colab-df-convert:hover {\n",
              "      background-color: #E2EBFA;\n",
              "      box-shadow: 0px 1px 2px rgba(60, 64, 67, 0.3), 0px 1px 3px 1px rgba(60, 64, 67, 0.15);\n",
              "      fill: #174EA6;\n",
              "    }\n",
              "\n",
              "    [theme=dark] .colab-df-convert {\n",
              "      background-color: #3B4455;\n",
              "      fill: #D2E3FC;\n",
              "    }\n",
              "\n",
              "    [theme=dark] .colab-df-convert:hover {\n",
              "      background-color: #434B5C;\n",
              "      box-shadow: 0px 1px 3px 1px rgba(0, 0, 0, 0.15);\n",
              "      filter: drop-shadow(0px 1px 2px rgba(0, 0, 0, 0.3));\n",
              "      fill: #FFFFFF;\n",
              "    }\n",
              "  </style>\n",
              "\n",
              "      <script>\n",
              "        const buttonEl =\n",
              "          document.querySelector('#df-5d6b6259-3381-49b2-8977-ac4c15dce812 button.colab-df-convert');\n",
              "        buttonEl.style.display =\n",
              "          google.colab.kernel.accessAllowed ? 'block' : 'none';\n",
              "\n",
              "        async function convertToInteractive(key) {\n",
              "          const element = document.querySelector('#df-5d6b6259-3381-49b2-8977-ac4c15dce812');\n",
              "          const dataTable =\n",
              "            await google.colab.kernel.invokeFunction('convertToInteractive',\n",
              "                                                     [key], {});\n",
              "          if (!dataTable) return;\n",
              "\n",
              "          const docLinkHtml = 'Like what you see? Visit the ' +\n",
              "            '<a target=\"_blank\" href=https://colab.research.google.com/notebooks/data_table.ipynb>data table notebook</a>'\n",
              "            + ' to learn more about interactive tables.';\n",
              "          element.innerHTML = '';\n",
              "          dataTable['output_type'] = 'display_data';\n",
              "          await google.colab.output.renderOutput(dataTable, element);\n",
              "          const docLink = document.createElement('div');\n",
              "          docLink.innerHTML = docLinkHtml;\n",
              "          element.appendChild(docLink);\n",
              "        }\n",
              "      </script>\n",
              "    </div>\n",
              "  </div>\n",
              "  "
            ]
          },
          "metadata": {},
          "execution_count": 24
        }
      ]
    },
    {
      "cell_type": "code",
      "source": [
        "op[0].value_counts()"
      ],
      "metadata": {
        "colab": {
          "base_uri": "https://localhost:8080/"
        },
        "id": "tX77AO02yYvD",
        "outputId": "784d6dbc-b6ea-4d2c-8dcb-2cb604600caf"
      },
      "execution_count": 25,
      "outputs": [
        {
          "output_type": "execute_result",
          "data": {
            "text/plain": [
              "1.000000    35\n",
              "0.807848     1\n",
              "0.941114     1\n",
              "0.932631     1\n",
              "0.927295     1\n",
              "0.918505     1\n",
              "0.913737     1\n",
              "0.906714     1\n",
              "0.898922     1\n",
              "0.882773     1\n",
              "0.803862     1\n",
              "0.999915     1\n",
              "0.769645     1\n",
              "0.754924     1\n",
              "0.743342     1\n",
              "0.733204     1\n",
              "0.679920     1\n",
              "0.669849     1\n",
              "0.628840     1\n",
              "0.409217     1\n",
              "0.954453     1\n",
              "0.955503     1\n",
              "0.969449     1\n",
              "0.970909     1\n",
              "0.999875     1\n",
              "0.999719     1\n",
              "0.999249     1\n",
              "0.999080     1\n",
              "0.996404     1\n",
              "0.995950     1\n",
              "0.994302     1\n",
              "0.987368     1\n",
              "0.986822     1\n",
              "0.986396     1\n",
              "0.984154     1\n",
              "0.982099     1\n",
              "0.981514     1\n",
              "0.979217     1\n",
              "0.978927     1\n",
              "0.975116     1\n",
              "0.973971     1\n",
              "0.053443     1\n",
              "Name: 0, dtype: int64"
            ]
          },
          "metadata": {},
          "execution_count": 25
        }
      ]
    },
    {
      "cell_type": "markdown",
      "source": [
        "It was found that **35 Distrcits** utilized 100% of their allocated funds for capital expenditure\n",
        "\n"
      ],
      "metadata": {
        "id": "lwDyw0Byxy7b"
      }
    },
    {
      "cell_type": "markdown",
      "source": [
        "Revenue Expenditure"
      ],
      "metadata": {
        "id": "OP_IedGl6cbL"
      }
    },
    {
      "cell_type": "code",
      "source": [
        "op = pd.DataFrame((rev_exp['Total Expenditure Upto Month (November)'].groupby(rev_exp['Treasury']).sum())/rev_exp['Progressive Allotment'].groupby(rev_exp['Treasury']).sum()).sort_values(by=0, ascending=False)\n",
        "op"
      ],
      "metadata": {
        "colab": {
          "base_uri": "https://localhost:8080/",
          "height": 455
        },
        "id": "6afZaMbK6Xhy",
        "outputId": "60aed41d-2f9b-467d-8744-9afac8c03016"
      },
      "execution_count": 26,
      "outputs": [
        {
          "output_type": "execute_result",
          "data": {
            "text/plain": [
              "                        0\n",
              "Treasury                 \n",
              "LUCKNOW COLL.    1.591580\n",
              "BADAUN           1.000077\n",
              "ALIGARH          0.998512\n",
              "AMBEDKARNAGAR    0.997084\n",
              "HARDOI           0.996682\n",
              "...                   ...\n",
              "SIDDHARTH NAGAR  0.892566\n",
              "HAPUR            0.891143\n",
              "MAINPURI         0.871739\n",
              "SAMBHAL          0.866326\n",
              "GHAZIABAD        0.854772\n",
              "\n",
              "[77 rows x 1 columns]"
            ],
            "text/html": [
              "\n",
              "  <div id=\"df-453226a8-fe81-49a6-ab40-a119f10772ea\">\n",
              "    <div class=\"colab-df-container\">\n",
              "      <div>\n",
              "<style scoped>\n",
              "    .dataframe tbody tr th:only-of-type {\n",
              "        vertical-align: middle;\n",
              "    }\n",
              "\n",
              "    .dataframe tbody tr th {\n",
              "        vertical-align: top;\n",
              "    }\n",
              "\n",
              "    .dataframe thead th {\n",
              "        text-align: right;\n",
              "    }\n",
              "</style>\n",
              "<table border=\"1\" class=\"dataframe\">\n",
              "  <thead>\n",
              "    <tr style=\"text-align: right;\">\n",
              "      <th></th>\n",
              "      <th>0</th>\n",
              "    </tr>\n",
              "    <tr>\n",
              "      <th>Treasury</th>\n",
              "      <th></th>\n",
              "    </tr>\n",
              "  </thead>\n",
              "  <tbody>\n",
              "    <tr>\n",
              "      <th>LUCKNOW COLL.</th>\n",
              "      <td>1.591580</td>\n",
              "    </tr>\n",
              "    <tr>\n",
              "      <th>BADAUN</th>\n",
              "      <td>1.000077</td>\n",
              "    </tr>\n",
              "    <tr>\n",
              "      <th>ALIGARH</th>\n",
              "      <td>0.998512</td>\n",
              "    </tr>\n",
              "    <tr>\n",
              "      <th>AMBEDKARNAGAR</th>\n",
              "      <td>0.997084</td>\n",
              "    </tr>\n",
              "    <tr>\n",
              "      <th>HARDOI</th>\n",
              "      <td>0.996682</td>\n",
              "    </tr>\n",
              "    <tr>\n",
              "      <th>...</th>\n",
              "      <td>...</td>\n",
              "    </tr>\n",
              "    <tr>\n",
              "      <th>SIDDHARTH NAGAR</th>\n",
              "      <td>0.892566</td>\n",
              "    </tr>\n",
              "    <tr>\n",
              "      <th>HAPUR</th>\n",
              "      <td>0.891143</td>\n",
              "    </tr>\n",
              "    <tr>\n",
              "      <th>MAINPURI</th>\n",
              "      <td>0.871739</td>\n",
              "    </tr>\n",
              "    <tr>\n",
              "      <th>SAMBHAL</th>\n",
              "      <td>0.866326</td>\n",
              "    </tr>\n",
              "    <tr>\n",
              "      <th>GHAZIABAD</th>\n",
              "      <td>0.854772</td>\n",
              "    </tr>\n",
              "  </tbody>\n",
              "</table>\n",
              "<p>77 rows × 1 columns</p>\n",
              "</div>\n",
              "      <button class=\"colab-df-convert\" onclick=\"convertToInteractive('df-453226a8-fe81-49a6-ab40-a119f10772ea')\"\n",
              "              title=\"Convert this dataframe to an interactive table.\"\n",
              "              style=\"display:none;\">\n",
              "        \n",
              "  <svg xmlns=\"http://www.w3.org/2000/svg\" height=\"24px\"viewBox=\"0 0 24 24\"\n",
              "       width=\"24px\">\n",
              "    <path d=\"M0 0h24v24H0V0z\" fill=\"none\"/>\n",
              "    <path d=\"M18.56 5.44l.94 2.06.94-2.06 2.06-.94-2.06-.94-.94-2.06-.94 2.06-2.06.94zm-11 1L8.5 8.5l.94-2.06 2.06-.94-2.06-.94L8.5 2.5l-.94 2.06-2.06.94zm10 10l.94 2.06.94-2.06 2.06-.94-2.06-.94-.94-2.06-.94 2.06-2.06.94z\"/><path d=\"M17.41 7.96l-1.37-1.37c-.4-.4-.92-.59-1.43-.59-.52 0-1.04.2-1.43.59L10.3 9.45l-7.72 7.72c-.78.78-.78 2.05 0 2.83L4 21.41c.39.39.9.59 1.41.59.51 0 1.02-.2 1.41-.59l7.78-7.78 2.81-2.81c.8-.78.8-2.07 0-2.86zM5.41 20L4 18.59l7.72-7.72 1.47 1.35L5.41 20z\"/>\n",
              "  </svg>\n",
              "      </button>\n",
              "      \n",
              "  <style>\n",
              "    .colab-df-container {\n",
              "      display:flex;\n",
              "      flex-wrap:wrap;\n",
              "      gap: 12px;\n",
              "    }\n",
              "\n",
              "    .colab-df-convert {\n",
              "      background-color: #E8F0FE;\n",
              "      border: none;\n",
              "      border-radius: 50%;\n",
              "      cursor: pointer;\n",
              "      display: none;\n",
              "      fill: #1967D2;\n",
              "      height: 32px;\n",
              "      padding: 0 0 0 0;\n",
              "      width: 32px;\n",
              "    }\n",
              "\n",
              "    .colab-df-convert:hover {\n",
              "      background-color: #E2EBFA;\n",
              "      box-shadow: 0px 1px 2px rgba(60, 64, 67, 0.3), 0px 1px 3px 1px rgba(60, 64, 67, 0.15);\n",
              "      fill: #174EA6;\n",
              "    }\n",
              "\n",
              "    [theme=dark] .colab-df-convert {\n",
              "      background-color: #3B4455;\n",
              "      fill: #D2E3FC;\n",
              "    }\n",
              "\n",
              "    [theme=dark] .colab-df-convert:hover {\n",
              "      background-color: #434B5C;\n",
              "      box-shadow: 0px 1px 3px 1px rgba(0, 0, 0, 0.15);\n",
              "      filter: drop-shadow(0px 1px 2px rgba(0, 0, 0, 0.3));\n",
              "      fill: #FFFFFF;\n",
              "    }\n",
              "  </style>\n",
              "\n",
              "      <script>\n",
              "        const buttonEl =\n",
              "          document.querySelector('#df-453226a8-fe81-49a6-ab40-a119f10772ea button.colab-df-convert');\n",
              "        buttonEl.style.display =\n",
              "          google.colab.kernel.accessAllowed ? 'block' : 'none';\n",
              "\n",
              "        async function convertToInteractive(key) {\n",
              "          const element = document.querySelector('#df-453226a8-fe81-49a6-ab40-a119f10772ea');\n",
              "          const dataTable =\n",
              "            await google.colab.kernel.invokeFunction('convertToInteractive',\n",
              "                                                     [key], {});\n",
              "          if (!dataTable) return;\n",
              "\n",
              "          const docLinkHtml = 'Like what you see? Visit the ' +\n",
              "            '<a target=\"_blank\" href=https://colab.research.google.com/notebooks/data_table.ipynb>data table notebook</a>'\n",
              "            + ' to learn more about interactive tables.';\n",
              "          element.innerHTML = '';\n",
              "          dataTable['output_type'] = 'display_data';\n",
              "          await google.colab.output.renderOutput(dataTable, element);\n",
              "          const docLink = document.createElement('div');\n",
              "          docLink.innerHTML = docLinkHtml;\n",
              "          element.appendChild(docLink);\n",
              "        }\n",
              "      </script>\n",
              "    </div>\n",
              "  </div>\n",
              "  "
            ]
          },
          "metadata": {},
          "execution_count": 26
        }
      ]
    },
    {
      "cell_type": "markdown",
      "source": [
        "We can infer that Lucknow Coll. district ranked first in the total revenue expenditure"
      ],
      "metadata": {
        "id": "lSPzXA41zzbp"
      }
    }
  ]
}