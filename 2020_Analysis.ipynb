{
  "nbformat": 4,
  "nbformat_minor": 0,
  "metadata": {
    "colab": {
      "name": "2020_Analysis.ipynb",
      "provenance": [],
      "toc_visible": true
    },
    "kernelspec": {
      "name": "python3",
      "display_name": "Python 3"
    },
    "language_info": {
      "name": "python"
    }
  },
  "cells": [
    {
      "cell_type": "markdown",
      "source": [
        "#2020 Dataset"
      ],
      "metadata": {
        "id": "YoHfh7Vz-nH1"
      }
    },
    {
      "cell_type": "markdown",
      "source": [
        "Mounting Google Drive, where the dataset is stored"
      ],
      "metadata": {
        "id": "LKJT9yrB-yHk"
      }
    },
    {
      "cell_type": "code",
      "source": [
        "from google.colab import drive\n",
        "drive.mount('/content/drive')"
      ],
      "metadata": {
        "colab": {
          "base_uri": "https://localhost:8080/"
        },
        "id": "FRLqHwQoO-SP",
        "outputId": "d4784e22-0546-4e1d-c57e-d0ba39c29032"
      },
      "execution_count": 2,
      "outputs": [
        {
          "output_type": "stream",
          "name": "stdout",
          "text": [
            "Drive already mounted at /content/drive; to attempt to forcibly remount, call drive.mount(\"/content/drive\", force_remount=True).\n"
          ]
        }
      ]
    },
    {
      "cell_type": "markdown",
      "source": [
        "Importing libraries and dataset"
      ],
      "metadata": {
        "id": "ExLHGKXf_-zb"
      }
    },
    {
      "cell_type": "code",
      "execution_count": 3,
      "metadata": {
        "id": "br1gI4lyM3aM"
      },
      "outputs": [],
      "source": [
        "import pandas as pd\n",
        "import numpy as np \n",
        "import matplotlib.pyplot as plt\n",
        "\n",
        "\n",
        "data = pd.read_csv (r'/content/drive/MyDrive/district_level_mapping_2020.csv')"
      ]
    },
    {
      "cell_type": "markdown",
      "source": [
        "#1. Overview of the dataset"
      ],
      "metadata": {
        "id": "Mzw7gpTXDIOe"
      }
    },
    {
      "cell_type": "code",
      "source": [
        "data.head()"
      ],
      "metadata": {
        "colab": {
          "base_uri": "https://localhost:8080/",
          "height": 426
        },
        "id": "6DpWQBNeDj9M",
        "outputId": "e3b5f8cd-817d-407a-d429-66d5433ee59a"
      },
      "execution_count": 4,
      "outputs": [
        {
          "output_type": "execute_result",
          "data": {
            "text/plain": [
              "   Division Code Division Description  Treasury Code Treasury  Grant Number  \\\n",
              "0          800.0                 AGRA            8.0     AGRA             1   \n",
              "1          800.0                 AGRA            8.0     AGRA             1   \n",
              "2          800.0                 AGRA            8.0     AGRA             1   \n",
              "3          800.0                 AGRA            8.0     AGRA             1   \n",
              "4          800.0                 AGRA            8.0     AGRA             1   \n",
              "\n",
              "  Grant Head Description  Major Head Code Major Head Description  \\\n",
              "0           आबकारी विभाग             2039     राज्य उत्पाद शुल्क   \n",
              "1           आबकारी विभाग             2039     राज्य उत्पाद शुल्क   \n",
              "2           आबकारी विभाग             2039     राज्य उत्पाद शुल्क   \n",
              "3           आबकारी विभाग             2039     राज्य उत्पाद शुल्क   \n",
              "4           आबकारी विभाग             2039     राज्य उत्पाद शुल्क   \n",
              "\n",
              "     Scheme Code Scheme Code Description  Standard Object Code  \\\n",
              "0  2039000010300                 अधीक्षण                     1   \n",
              "1  2039000010300                 अधीक्षण                     3   \n",
              "2  2039000010300                 अधीक्षण                     4   \n",
              "3  2039000010300                 अधीक्षण                     6   \n",
              "4  2039000010300                 अधीक्षण                     8   \n",
              "\n",
              "  Standard Object Description Plan / Non-Plan Voted / Charged fiscal_year  \\\n",
              "0                        वेतन               N               V   2020-2021   \n",
              "1                मंहगाई भत्ता               N               V   2020-2021   \n",
              "2                 यात्रा व्यय               N               V   2020-2021   \n",
              "3                  अन्य भत्ते               N               V   2020-2021   \n",
              "4               कार्यालय व्यय               N               V   2020-2021   \n",
              "\n",
              "   Progressive Allotment  \\\n",
              "0                6245000   \n",
              "1                1074000   \n",
              "2                  10000   \n",
              "3                  68000   \n",
              "4                 110000   \n",
              "\n",
              "   Actual Progressive Expenditure upto month (February)  \\\n",
              "0                                          5493988.0      \n",
              "1                                          1065293.0      \n",
              "2                                                0.0      \n",
              "3                                            12440.0      \n",
              "4                                            51594.0      \n",
              "\n",
              "   Provisional Current Month Expenditure(March)  \\\n",
              "0                                             0   \n",
              "1                                             0   \n",
              "2                                             0   \n",
              "3                                             0   \n",
              "4                                             0   \n",
              "\n",
              "   Total Expenditure Upto Month (March)  % A/E  \n",
              "0                             5493988.0  87.97  \n",
              "1                             1065293.0  99.19  \n",
              "2                                   0.0   0.00  \n",
              "3                               12440.0  18.29  \n",
              "4                               51594.0  46.90  "
            ],
            "text/html": [
              "\n",
              "  <div id=\"df-80a0858d-e326-4a9b-b0d9-df7c7ffa89c1\">\n",
              "    <div class=\"colab-df-container\">\n",
              "      <div>\n",
              "<style scoped>\n",
              "    .dataframe tbody tr th:only-of-type {\n",
              "        vertical-align: middle;\n",
              "    }\n",
              "\n",
              "    .dataframe tbody tr th {\n",
              "        vertical-align: top;\n",
              "    }\n",
              "\n",
              "    .dataframe thead th {\n",
              "        text-align: right;\n",
              "    }\n",
              "</style>\n",
              "<table border=\"1\" class=\"dataframe\">\n",
              "  <thead>\n",
              "    <tr style=\"text-align: right;\">\n",
              "      <th></th>\n",
              "      <th>Division Code</th>\n",
              "      <th>Division Description</th>\n",
              "      <th>Treasury Code</th>\n",
              "      <th>Treasury</th>\n",
              "      <th>Grant Number</th>\n",
              "      <th>Grant Head Description</th>\n",
              "      <th>Major Head Code</th>\n",
              "      <th>Major Head Description</th>\n",
              "      <th>Scheme Code</th>\n",
              "      <th>Scheme Code Description</th>\n",
              "      <th>Standard Object Code</th>\n",
              "      <th>Standard Object Description</th>\n",
              "      <th>Plan / Non-Plan</th>\n",
              "      <th>Voted / Charged</th>\n",
              "      <th>fiscal_year</th>\n",
              "      <th>Progressive Allotment</th>\n",
              "      <th>Actual Progressive Expenditure upto month (February)</th>\n",
              "      <th>Provisional Current Month Expenditure(March)</th>\n",
              "      <th>Total Expenditure Upto Month (March)</th>\n",
              "      <th>% A/E</th>\n",
              "    </tr>\n",
              "  </thead>\n",
              "  <tbody>\n",
              "    <tr>\n",
              "      <th>0</th>\n",
              "      <td>800.0</td>\n",
              "      <td>AGRA</td>\n",
              "      <td>8.0</td>\n",
              "      <td>AGRA</td>\n",
              "      <td>1</td>\n",
              "      <td>आबकारी विभाग</td>\n",
              "      <td>2039</td>\n",
              "      <td>राज्य उत्पाद शुल्क</td>\n",
              "      <td>2039000010300</td>\n",
              "      <td>अधीक्षण</td>\n",
              "      <td>1</td>\n",
              "      <td>वेतन</td>\n",
              "      <td>N</td>\n",
              "      <td>V</td>\n",
              "      <td>2020-2021</td>\n",
              "      <td>6245000</td>\n",
              "      <td>5493988.0</td>\n",
              "      <td>0</td>\n",
              "      <td>5493988.0</td>\n",
              "      <td>87.97</td>\n",
              "    </tr>\n",
              "    <tr>\n",
              "      <th>1</th>\n",
              "      <td>800.0</td>\n",
              "      <td>AGRA</td>\n",
              "      <td>8.0</td>\n",
              "      <td>AGRA</td>\n",
              "      <td>1</td>\n",
              "      <td>आबकारी विभाग</td>\n",
              "      <td>2039</td>\n",
              "      <td>राज्य उत्पाद शुल्क</td>\n",
              "      <td>2039000010300</td>\n",
              "      <td>अधीक्षण</td>\n",
              "      <td>3</td>\n",
              "      <td>मंहगाई भत्ता</td>\n",
              "      <td>N</td>\n",
              "      <td>V</td>\n",
              "      <td>2020-2021</td>\n",
              "      <td>1074000</td>\n",
              "      <td>1065293.0</td>\n",
              "      <td>0</td>\n",
              "      <td>1065293.0</td>\n",
              "      <td>99.19</td>\n",
              "    </tr>\n",
              "    <tr>\n",
              "      <th>2</th>\n",
              "      <td>800.0</td>\n",
              "      <td>AGRA</td>\n",
              "      <td>8.0</td>\n",
              "      <td>AGRA</td>\n",
              "      <td>1</td>\n",
              "      <td>आबकारी विभाग</td>\n",
              "      <td>2039</td>\n",
              "      <td>राज्य उत्पाद शुल्क</td>\n",
              "      <td>2039000010300</td>\n",
              "      <td>अधीक्षण</td>\n",
              "      <td>4</td>\n",
              "      <td>यात्रा व्यय</td>\n",
              "      <td>N</td>\n",
              "      <td>V</td>\n",
              "      <td>2020-2021</td>\n",
              "      <td>10000</td>\n",
              "      <td>0.0</td>\n",
              "      <td>0</td>\n",
              "      <td>0.0</td>\n",
              "      <td>0.00</td>\n",
              "    </tr>\n",
              "    <tr>\n",
              "      <th>3</th>\n",
              "      <td>800.0</td>\n",
              "      <td>AGRA</td>\n",
              "      <td>8.0</td>\n",
              "      <td>AGRA</td>\n",
              "      <td>1</td>\n",
              "      <td>आबकारी विभाग</td>\n",
              "      <td>2039</td>\n",
              "      <td>राज्य उत्पाद शुल्क</td>\n",
              "      <td>2039000010300</td>\n",
              "      <td>अधीक्षण</td>\n",
              "      <td>6</td>\n",
              "      <td>अन्य भत्ते</td>\n",
              "      <td>N</td>\n",
              "      <td>V</td>\n",
              "      <td>2020-2021</td>\n",
              "      <td>68000</td>\n",
              "      <td>12440.0</td>\n",
              "      <td>0</td>\n",
              "      <td>12440.0</td>\n",
              "      <td>18.29</td>\n",
              "    </tr>\n",
              "    <tr>\n",
              "      <th>4</th>\n",
              "      <td>800.0</td>\n",
              "      <td>AGRA</td>\n",
              "      <td>8.0</td>\n",
              "      <td>AGRA</td>\n",
              "      <td>1</td>\n",
              "      <td>आबकारी विभाग</td>\n",
              "      <td>2039</td>\n",
              "      <td>राज्य उत्पाद शुल्क</td>\n",
              "      <td>2039000010300</td>\n",
              "      <td>अधीक्षण</td>\n",
              "      <td>8</td>\n",
              "      <td>कार्यालय व्यय</td>\n",
              "      <td>N</td>\n",
              "      <td>V</td>\n",
              "      <td>2020-2021</td>\n",
              "      <td>110000</td>\n",
              "      <td>51594.0</td>\n",
              "      <td>0</td>\n",
              "      <td>51594.0</td>\n",
              "      <td>46.90</td>\n",
              "    </tr>\n",
              "  </tbody>\n",
              "</table>\n",
              "</div>\n",
              "      <button class=\"colab-df-convert\" onclick=\"convertToInteractive('df-80a0858d-e326-4a9b-b0d9-df7c7ffa89c1')\"\n",
              "              title=\"Convert this dataframe to an interactive table.\"\n",
              "              style=\"display:none;\">\n",
              "        \n",
              "  <svg xmlns=\"http://www.w3.org/2000/svg\" height=\"24px\"viewBox=\"0 0 24 24\"\n",
              "       width=\"24px\">\n",
              "    <path d=\"M0 0h24v24H0V0z\" fill=\"none\"/>\n",
              "    <path d=\"M18.56 5.44l.94 2.06.94-2.06 2.06-.94-2.06-.94-.94-2.06-.94 2.06-2.06.94zm-11 1L8.5 8.5l.94-2.06 2.06-.94-2.06-.94L8.5 2.5l-.94 2.06-2.06.94zm10 10l.94 2.06.94-2.06 2.06-.94-2.06-.94-.94-2.06-.94 2.06-2.06.94z\"/><path d=\"M17.41 7.96l-1.37-1.37c-.4-.4-.92-.59-1.43-.59-.52 0-1.04.2-1.43.59L10.3 9.45l-7.72 7.72c-.78.78-.78 2.05 0 2.83L4 21.41c.39.39.9.59 1.41.59.51 0 1.02-.2 1.41-.59l7.78-7.78 2.81-2.81c.8-.78.8-2.07 0-2.86zM5.41 20L4 18.59l7.72-7.72 1.47 1.35L5.41 20z\"/>\n",
              "  </svg>\n",
              "      </button>\n",
              "      \n",
              "  <style>\n",
              "    .colab-df-container {\n",
              "      display:flex;\n",
              "      flex-wrap:wrap;\n",
              "      gap: 12px;\n",
              "    }\n",
              "\n",
              "    .colab-df-convert {\n",
              "      background-color: #E8F0FE;\n",
              "      border: none;\n",
              "      border-radius: 50%;\n",
              "      cursor: pointer;\n",
              "      display: none;\n",
              "      fill: #1967D2;\n",
              "      height: 32px;\n",
              "      padding: 0 0 0 0;\n",
              "      width: 32px;\n",
              "    }\n",
              "\n",
              "    .colab-df-convert:hover {\n",
              "      background-color: #E2EBFA;\n",
              "      box-shadow: 0px 1px 2px rgba(60, 64, 67, 0.3), 0px 1px 3px 1px rgba(60, 64, 67, 0.15);\n",
              "      fill: #174EA6;\n",
              "    }\n",
              "\n",
              "    [theme=dark] .colab-df-convert {\n",
              "      background-color: #3B4455;\n",
              "      fill: #D2E3FC;\n",
              "    }\n",
              "\n",
              "    [theme=dark] .colab-df-convert:hover {\n",
              "      background-color: #434B5C;\n",
              "      box-shadow: 0px 1px 3px 1px rgba(0, 0, 0, 0.15);\n",
              "      filter: drop-shadow(0px 1px 2px rgba(0, 0, 0, 0.3));\n",
              "      fill: #FFFFFF;\n",
              "    }\n",
              "  </style>\n",
              "\n",
              "      <script>\n",
              "        const buttonEl =\n",
              "          document.querySelector('#df-80a0858d-e326-4a9b-b0d9-df7c7ffa89c1 button.colab-df-convert');\n",
              "        buttonEl.style.display =\n",
              "          google.colab.kernel.accessAllowed ? 'block' : 'none';\n",
              "\n",
              "        async function convertToInteractive(key) {\n",
              "          const element = document.querySelector('#df-80a0858d-e326-4a9b-b0d9-df7c7ffa89c1');\n",
              "          const dataTable =\n",
              "            await google.colab.kernel.invokeFunction('convertToInteractive',\n",
              "                                                     [key], {});\n",
              "          if (!dataTable) return;\n",
              "\n",
              "          const docLinkHtml = 'Like what you see? Visit the ' +\n",
              "            '<a target=\"_blank\" href=https://colab.research.google.com/notebooks/data_table.ipynb>data table notebook</a>'\n",
              "            + ' to learn more about interactive tables.';\n",
              "          element.innerHTML = '';\n",
              "          dataTable['output_type'] = 'display_data';\n",
              "          await google.colab.output.renderOutput(dataTable, element);\n",
              "          const docLink = document.createElement('div');\n",
              "          docLink.innerHTML = docLinkHtml;\n",
              "          element.appendChild(docLink);\n",
              "        }\n",
              "      </script>\n",
              "    </div>\n",
              "  </div>\n",
              "  "
            ]
          },
          "metadata": {},
          "execution_count": 4
        }
      ]
    },
    {
      "cell_type": "code",
      "source": [
        "data.info()"
      ],
      "metadata": {
        "colab": {
          "base_uri": "https://localhost:8080/"
        },
        "id": "gZS0Wi_SDqcG",
        "outputId": "d76337bd-20ad-4d75-cd23-06d44b98bc81"
      },
      "execution_count": 5,
      "outputs": [
        {
          "output_type": "stream",
          "name": "stdout",
          "text": [
            "<class 'pandas.core.frame.DataFrame'>\n",
            "RangeIndex: 307949 entries, 0 to 307948\n",
            "Data columns (total 20 columns):\n",
            " #   Column                                                Non-Null Count   Dtype  \n",
            "---  ------                                                --------------   -----  \n",
            " 0   Division Code                                         294135 non-null  float64\n",
            " 1   Division Description                                  294135 non-null  object \n",
            " 2   Treasury Code                                         294135 non-null  float64\n",
            " 3   Treasury                                              307949 non-null  object \n",
            " 4   Grant Number                                          307949 non-null  int64  \n",
            " 5   Grant Head Description                                307949 non-null  object \n",
            " 6   Major Head Code                                       307949 non-null  int64  \n",
            " 7   Major Head Description                                302338 non-null  object \n",
            " 8   Scheme Code                                           307949 non-null  int64  \n",
            " 9   Scheme Code Description                               307949 non-null  object \n",
            " 10  Standard Object Code                                  307949 non-null  int64  \n",
            " 11  Standard Object Description                           307949 non-null  object \n",
            " 12  Plan / Non-Plan                                       307949 non-null  object \n",
            " 13  Voted / Charged                                       307949 non-null  object \n",
            " 14  fiscal_year                                           307949 non-null  object \n",
            " 15  Progressive Allotment                                 307949 non-null  int64  \n",
            " 16  Actual Progressive Expenditure upto month (February)  307949 non-null  float64\n",
            " 17  Provisional Current Month Expenditure(March)          307949 non-null  int64  \n",
            " 18  Total Expenditure Upto Month (March)                  307949 non-null  float64\n",
            " 19  % A/E                                                 307949 non-null  float64\n",
            "dtypes: float64(5), int64(6), object(9)\n",
            "memory usage: 47.0+ MB\n"
          ]
        }
      ]
    },
    {
      "cell_type": "code",
      "source": [
        "data.isnull().sum()"
      ],
      "metadata": {
        "colab": {
          "base_uri": "https://localhost:8080/"
        },
        "id": "JmeZ9R7p7DUr",
        "outputId": "d92741a3-bc2c-48d7-8c1d-4f006c4d47e1"
      },
      "execution_count": 6,
      "outputs": [
        {
          "output_type": "execute_result",
          "data": {
            "text/plain": [
              "Division Code                                           13814\n",
              "Division Description                                    13814\n",
              "Treasury Code                                           13814\n",
              "Treasury                                                    0\n",
              "Grant Number                                                0\n",
              "Grant Head Description                                      0\n",
              "Major Head Code                                             0\n",
              "Major Head Description                                   5611\n",
              "Scheme Code                                                 0\n",
              "Scheme Code Description                                     0\n",
              "Standard Object Code                                        0\n",
              "Standard Object Description                                 0\n",
              "Plan / Non-Plan                                             0\n",
              "Voted / Charged                                             0\n",
              "fiscal_year                                                 0\n",
              "Progressive Allotment                                       0\n",
              "Actual Progressive Expenditure upto month (February)        0\n",
              "Provisional Current Month Expenditure(March)                0\n",
              "Total Expenditure Upto Month (March)                        0\n",
              "% A/E                                                       0\n",
              "dtype: int64"
            ]
          },
          "metadata": {},
          "execution_count": 6
        }
      ]
    },
    {
      "cell_type": "markdown",
      "source": [
        "Assuming the fact that school education does not include  University and Higher Education, Adult education and Language Development.\n",
        "\n",
        "\n"
      ],
      "metadata": {
        "id": "VcoNtUWU8GT9"
      }
    },
    {
      "cell_type": "markdown",
      "source": [
        "#2. Filtering Data with respect to School Eucation"
      ],
      "metadata": {
        "id": "MTxdTQMjDUiQ"
      }
    },
    {
      "cell_type": "markdown",
      "source": [
        "Identifying the different Grant Heads"
      ],
      "metadata": {
        "id": "6gDUA07nDaby"
      }
    },
    {
      "cell_type": "code",
      "source": [
        "data['Grant Head Description'].unique()"
      ],
      "metadata": {
        "colab": {
          "base_uri": "https://localhost:8080/"
        },
        "id": "NMwbnXl3Dg6s",
        "outputId": "d3899dfa-fd65-4086-ed27-cd7747c8a961"
      },
      "execution_count": 7,
      "outputs": [
        {
          "output_type": "execute_result",
          "data": {
            "text/plain": [
              "array(['आबकारी विभाग', 'आवास विभाग',\n",
              "       'उद्योग विभाग (लघु उद्योग एवं निर्यात प्रोत्साहन)',\n",
              "       'उद्योग विभाग (खानें और खनिज)',\n",
              "       'उद्योग विभाग (खादी एवं ग्रामोद्योग)',\n",
              "       'उद्योग विभाग (हथकरघा उद्योग)',\n",
              "       'उद्योग विभाग (भारी एवं मध्यम उद्योग)',\n",
              "       'उद्योग विभाग (मुद्रण तथा लेखन सामग्री )', 'ऊर्जा विभाग',\n",
              "       'कृषि तथा अन्य सम्बद्ध विभाग (औद्यानिक एवं रेशम विकास)',\n",
              "       'कृषि तथा अन्य सम्बद्ध विभाग (कृषि)',\n",
              "       'कृषि तथा अन्य सम्बद्ध विभाग (भूमि विकास एवं जल संसाधन)',\n",
              "       'कृषि तथा अन्य सम्बद्ध विभाग (पंचायती राज)',\n",
              "       'कृषि तथा अन्य सम्बद्ध विभाग (दुग्धशाला विकास)',\n",
              "       'कृषि तथा अन्य सम्बद्ध विभाग (मत्स्य)',\n",
              "       'कृषि तथा अन्य सम्बद्ध विभाग (सहकारिता)',\n",
              "       'कार्मिक विभाग (प्रशिक्षण तथा अन्य व्यय)',\n",
              "       'कार्मिक विभाग (लोक सेवा आयोग )', 'खाद्य तथा रसद विभाग',\n",
              "       'खेल विभाग', 'गन्ना विकास विभाग (गन्ना)',\n",
              "       'गन्ना विकास विभाग (चीनी उद्योग)', 'गृह विभाग (कारागार)',\n",
              "       'गृह विभाग (पुलिस)', 'गृह विभाग (नागरिक सुरक्षा)',\n",
              "       'गृह विभाग (राजनैतिक पेंशन तथा अन्य व्यय)',\n",
              "       'गोपन विभाग (राज्यपाल सचिवालय)',\n",
              "       'गोपन विभाग(राजस्व विशिष्ट अभिसूचना निदेशालय तथा अन्य व्यय)',\n",
              "       'चिकित्सा विभाग (चिकित्सा, शिक्षा एवं प्रशिक्षण)',\n",
              "       'चिकित्सा विभाग (एलोपैथी चिकित्सा)',\n",
              "       'चिकित्सा विभाग (आयुर्वेदिक एवं यूनानी चिकित्सा)',\n",
              "       'चिकित्सा विभाग (होम्योपैथी चिकित्सा)',\n",
              "       'चिकित्सा विभाग (परिवार कल्याण)',\n",
              "       'चिकित्सा विभाग (सार्वजनिक स्वास्थ्य)', 'नगर विकास विभाग',\n",
              "       'नागरिक उड्डयन विभाग', 'भाषा विभाग', 'नियोजन विभाग',\n",
              "       'निर्वाचन विभाग', 'न्याय विभाग', 'परिवहन विभाग', 'पर्यटन विभाग',\n",
              "       'पर्यावरण विभाग', 'प्रशासनिक सुधार विभाग',\n",
              "       'प्राविधिक शिक्षा विभाग', 'मुस्लिम वक्फ विभाग',\n",
              "       'महिला एवं बाल कल्याण विभाग', 'राजस्व विभाग (जिला प्रशासन)',\n",
              "       'राजस्व विभाग (दैवी विपत्तियों के सम्बन्ध में राहत)',\n",
              "       'राजस्व विभाग (राजस्व परिषद् तथा अन्य व्यय)',\n",
              "       'राष्ट्रीय एकीकरण विभाग', 'लोक निर्माण विभाग (अधिष्ठान)',\n",
              "       'लोक निर्माण विभाग (भवन)',\n",
              "       'लोक निर्माण विभाग (विशेष क्षेत्र कार्यक्रम)',\n",
              "       'लोक निर्माण विभाग (संचार साधन-सेतु)',\n",
              "       'लोक निर्माण विभाग (संचार साधन-सड़कें)',\n",
              "       'लोक निर्माण विभाग (राज्य सम्पत्ति निदेशालय)', 'वन विभाग',\n",
              "       'वित्त विभाग (ऋण सेवा तथा अन्य व्यय)',\n",
              "       'वित्त विभाग (अधिवर्ष भत्ते तथा पेंशनें)',\n",
              "       'वित्त विभाग (कोषागार तथा लेखा प्रशासन)',\n",
              "       'वित्त विभाग (लेखा परीक्षा, अल्प-बचत आदि)',\n",
              "       'वित्त विभाग (सामूहिक बीमा)', 'विधान परिषद् सचिवालय',\n",
              "       'विधान सभा सचिवालय', 'व्यावसायिक शिक्षा विभाग',\n",
              "       'विज्ञान एवं प्रौद्योगिकी विभाग', 'शिक्षा विभाग (प्राथमिक शिक्षा)',\n",
              "       'शिक्षा विभाग (माध्यमिक शिक्षा)', 'शिक्षा विभाग (उच्च शिक्षा)',\n",
              "       'ग्रह विभाग (होम गार्ड)',\n",
              "       'शिक्षा विभाग(राज्य शैक्षिक अनुसंधान एवं प्रशिक्षण परिषद्)',\n",
              "       'श्रम विभाग (श्रम कल्याण)', 'श्रम विभाग (सेवायोजन)',\n",
              "       'सचिवालय प्रशासन विभाग',\n",
              "       'समाज कल्याण विभाग (विकलांग एवं पिछड़ा वर्ग कल्याण)',\n",
              "       'समाज कल्याण विभाग(समाज कल्याण एवं अनुसूचित जातियों का कल्याण)',\n",
              "       'समाज कल्याण विभाग (जनजाति कल्याण)', 'सतर्कता विभाग',\n",
              "       'समाज कल्याण विभाग(अनुसूचित जातियों के लिये विशेष घटक योजना)',\n",
              "       'सामान्य प्रशासन विभाग', 'सार्वजनिक उद्यम विभाग', 'सूचना विभाग',\n",
              "       'सैनिक कल्याण विभाग', 'संस्थागत वित्त विभाग (व्यापारकर)',\n",
              "       'संस्थागत वित्त विभाग (स्टाम्प एवं पंजीकरण)', 'संस्कृति विभाग',\n",
              "       'सिंचाई विभाग (निर्माण कार्य)', 'सिंचाई विभाग (अधिष्ठान)'],\n",
              "      dtype=object)"
            ]
          },
          "metadata": {},
          "execution_count": 7
        }
      ]
    },
    {
      "cell_type": "markdown",
      "source": [
        "We will be dealing with only two Grant Heads with respect to school education that is Elementary Education and Secondary Education\n",
        "\n",
        "\n",
        "*   शिक्षा विभाग (प्राथमिक शिक्षा)\n",
        "*   शिक्षा विभाग (माध्यमिक शिक्षा)\n",
        "\n"
      ],
      "metadata": {
        "id": "V4_oNeuQDtPW"
      }
    },
    {
      "cell_type": "code",
      "source": [
        "FilteredData = data[(data['Grant Head Description'] == 'शिक्षा विभाग (माध्यमिक शिक्षा)')| (data['Grant Head Description'] == 'शिक्षा विभाग (प्राथमिक शिक्षा)')]"
      ],
      "metadata": {
        "id": "-FfUBnNGzosY"
      },
      "execution_count": 8,
      "outputs": []
    },
    {
      "cell_type": "code",
      "source": [
        "FilteredData.head()"
      ],
      "metadata": {
        "colab": {
          "base_uri": "https://localhost:8080/",
          "height": 600
        },
        "id": "G1XCAoUi1zhl",
        "outputId": "e9f41383-cfe2-4075-ffb7-83858879bd48"
      },
      "execution_count": 9,
      "outputs": [
        {
          "output_type": "execute_result",
          "data": {
            "text/plain": [
              "        Division Code Division Description  Treasury Code       Treasury  \\\n",
              "238650          800.0                 AGRA            8.0           AGRA   \n",
              "238651          800.0                 AGRA            6.0        ALIGARH   \n",
              "238652         4900.0             FAIZABAD           74.0  AMBEDKARNAGAR   \n",
              "238653         2000.0         KANPUR NAGAR           81.0        AURAIYA   \n",
              "238654            NaN                  NaN            NaN        AYODHYA   \n",
              "\n",
              "        Grant Number          Grant Head Description  Major Head Code  \\\n",
              "238650            71  शिक्षा विभाग (प्राथमिक शिक्षा)             2071   \n",
              "238651            71  शिक्षा विभाग (प्राथमिक शिक्षा)             2071   \n",
              "238652            71  शिक्षा विभाग (प्राथमिक शिक्षा)             2071   \n",
              "238653            71  शिक्षा विभाग (प्राथमिक शिक्षा)             2071   \n",
              "238654            71  शिक्षा विभाग (प्राथमिक शिक्षा)             2071   \n",
              "\n",
              "                      Major Head Description    Scheme Code  \\\n",
              "238650  पेंशन तथा अन्य सेवा निवृत्ति हित लाभ  2071011170300   \n",
              "238651  पेंशन तथा अन्य सेवा निवृत्ति हित लाभ  2071011170300   \n",
              "238652  पेंशन तथा अन्य सेवा निवृत्ति हित लाभ  2071011170300   \n",
              "238653  पेंशन तथा अन्य सेवा निवृत्ति हित लाभ  2071011170300   \n",
              "238654  पेंशन तथा अन्य सेवा निवृत्ति हित लाभ  2071011170300   \n",
              "\n",
              "                                  Scheme Code Description  \\\n",
              "238650  प्राथमिक विद्यालय / सहायता प्राप्त जूनियर हाई ...   \n",
              "238651  प्राथमिक विद्यालय / सहायता प्राप्त जूनियर हाई ...   \n",
              "238652  प्राथमिक विद्यालय / सहायता प्राप्त जूनियर हाई ...   \n",
              "238653  प्राथमिक विद्यालय / सहायता प्राप्त जूनियर हाई ...   \n",
              "238654  प्राथमिक विद्यालय / सहायता प्राप्त जूनियर हाई ...   \n",
              "\n",
              "        Standard Object Code             Standard Object Description  \\\n",
              "238650                    33  पेंशन/आनुतोषिक/अन्यसेवानिवृत्ति हितलाभ   \n",
              "238651                    33  पेंशन/आनुतोषिक/अन्यसेवानिवृत्ति हितलाभ   \n",
              "238652                    33  पेंशन/आनुतोषिक/अन्यसेवानिवृत्ति हितलाभ   \n",
              "238653                    33  पेंशन/आनुतोषिक/अन्यसेवानिवृत्ति हितलाभ   \n",
              "238654                    33  पेंशन/आनुतोषिक/अन्यसेवानिवृत्ति हितलाभ   \n",
              "\n",
              "       Plan / Non-Plan Voted / Charged fiscal_year  Progressive Allotment  \\\n",
              "238650               N               V   2020-2021               13000000   \n",
              "238651               N               V   2020-2021              100000000   \n",
              "238652               N               V   2020-2021               80000000   \n",
              "238653               N               V   2020-2021               75000000   \n",
              "238654               N               V   2020-2021               80000000   \n",
              "\n",
              "        Actual Progressive Expenditure upto month (February)  \\\n",
              "238650                                         12704148.0      \n",
              "238651                                         50000000.0      \n",
              "238652                                         75314625.0      \n",
              "238653                                         62659668.0      \n",
              "238654                                         33454896.0      \n",
              "\n",
              "        Provisional Current Month Expenditure(March)  \\\n",
              "238650                                             0   \n",
              "238651                                             0   \n",
              "238652                                             0   \n",
              "238653                                             0   \n",
              "238654                                             0   \n",
              "\n",
              "        Total Expenditure Upto Month (March)  % A/E  \n",
              "238650                            12704148.0  97.72  \n",
              "238651                            50000000.0  50.00  \n",
              "238652                            75314625.0  94.14  \n",
              "238653                            62659668.0  83.55  \n",
              "238654                            33454896.0  41.82  "
            ],
            "text/html": [
              "\n",
              "  <div id=\"df-16db0d7a-66c2-4885-bb76-3bf580ba3701\">\n",
              "    <div class=\"colab-df-container\">\n",
              "      <div>\n",
              "<style scoped>\n",
              "    .dataframe tbody tr th:only-of-type {\n",
              "        vertical-align: middle;\n",
              "    }\n",
              "\n",
              "    .dataframe tbody tr th {\n",
              "        vertical-align: top;\n",
              "    }\n",
              "\n",
              "    .dataframe thead th {\n",
              "        text-align: right;\n",
              "    }\n",
              "</style>\n",
              "<table border=\"1\" class=\"dataframe\">\n",
              "  <thead>\n",
              "    <tr style=\"text-align: right;\">\n",
              "      <th></th>\n",
              "      <th>Division Code</th>\n",
              "      <th>Division Description</th>\n",
              "      <th>Treasury Code</th>\n",
              "      <th>Treasury</th>\n",
              "      <th>Grant Number</th>\n",
              "      <th>Grant Head Description</th>\n",
              "      <th>Major Head Code</th>\n",
              "      <th>Major Head Description</th>\n",
              "      <th>Scheme Code</th>\n",
              "      <th>Scheme Code Description</th>\n",
              "      <th>Standard Object Code</th>\n",
              "      <th>Standard Object Description</th>\n",
              "      <th>Plan / Non-Plan</th>\n",
              "      <th>Voted / Charged</th>\n",
              "      <th>fiscal_year</th>\n",
              "      <th>Progressive Allotment</th>\n",
              "      <th>Actual Progressive Expenditure upto month (February)</th>\n",
              "      <th>Provisional Current Month Expenditure(March)</th>\n",
              "      <th>Total Expenditure Upto Month (March)</th>\n",
              "      <th>% A/E</th>\n",
              "    </tr>\n",
              "  </thead>\n",
              "  <tbody>\n",
              "    <tr>\n",
              "      <th>238650</th>\n",
              "      <td>800.0</td>\n",
              "      <td>AGRA</td>\n",
              "      <td>8.0</td>\n",
              "      <td>AGRA</td>\n",
              "      <td>71</td>\n",
              "      <td>शिक्षा विभाग (प्राथमिक शिक्षा)</td>\n",
              "      <td>2071</td>\n",
              "      <td>पेंशन तथा अन्य सेवा निवृत्ति हित लाभ</td>\n",
              "      <td>2071011170300</td>\n",
              "      <td>प्राथमिक विद्यालय / सहायता प्राप्त जूनियर हाई ...</td>\n",
              "      <td>33</td>\n",
              "      <td>पेंशन/आनुतोषिक/अन्यसेवानिवृत्ति हितलाभ</td>\n",
              "      <td>N</td>\n",
              "      <td>V</td>\n",
              "      <td>2020-2021</td>\n",
              "      <td>13000000</td>\n",
              "      <td>12704148.0</td>\n",
              "      <td>0</td>\n",
              "      <td>12704148.0</td>\n",
              "      <td>97.72</td>\n",
              "    </tr>\n",
              "    <tr>\n",
              "      <th>238651</th>\n",
              "      <td>800.0</td>\n",
              "      <td>AGRA</td>\n",
              "      <td>6.0</td>\n",
              "      <td>ALIGARH</td>\n",
              "      <td>71</td>\n",
              "      <td>शिक्षा विभाग (प्राथमिक शिक्षा)</td>\n",
              "      <td>2071</td>\n",
              "      <td>पेंशन तथा अन्य सेवा निवृत्ति हित लाभ</td>\n",
              "      <td>2071011170300</td>\n",
              "      <td>प्राथमिक विद्यालय / सहायता प्राप्त जूनियर हाई ...</td>\n",
              "      <td>33</td>\n",
              "      <td>पेंशन/आनुतोषिक/अन्यसेवानिवृत्ति हितलाभ</td>\n",
              "      <td>N</td>\n",
              "      <td>V</td>\n",
              "      <td>2020-2021</td>\n",
              "      <td>100000000</td>\n",
              "      <td>50000000.0</td>\n",
              "      <td>0</td>\n",
              "      <td>50000000.0</td>\n",
              "      <td>50.00</td>\n",
              "    </tr>\n",
              "    <tr>\n",
              "      <th>238652</th>\n",
              "      <td>4900.0</td>\n",
              "      <td>FAIZABAD</td>\n",
              "      <td>74.0</td>\n",
              "      <td>AMBEDKARNAGAR</td>\n",
              "      <td>71</td>\n",
              "      <td>शिक्षा विभाग (प्राथमिक शिक्षा)</td>\n",
              "      <td>2071</td>\n",
              "      <td>पेंशन तथा अन्य सेवा निवृत्ति हित लाभ</td>\n",
              "      <td>2071011170300</td>\n",
              "      <td>प्राथमिक विद्यालय / सहायता प्राप्त जूनियर हाई ...</td>\n",
              "      <td>33</td>\n",
              "      <td>पेंशन/आनुतोषिक/अन्यसेवानिवृत्ति हितलाभ</td>\n",
              "      <td>N</td>\n",
              "      <td>V</td>\n",
              "      <td>2020-2021</td>\n",
              "      <td>80000000</td>\n",
              "      <td>75314625.0</td>\n",
              "      <td>0</td>\n",
              "      <td>75314625.0</td>\n",
              "      <td>94.14</td>\n",
              "    </tr>\n",
              "    <tr>\n",
              "      <th>238653</th>\n",
              "      <td>2000.0</td>\n",
              "      <td>KANPUR NAGAR</td>\n",
              "      <td>81.0</td>\n",
              "      <td>AURAIYA</td>\n",
              "      <td>71</td>\n",
              "      <td>शिक्षा विभाग (प्राथमिक शिक्षा)</td>\n",
              "      <td>2071</td>\n",
              "      <td>पेंशन तथा अन्य सेवा निवृत्ति हित लाभ</td>\n",
              "      <td>2071011170300</td>\n",
              "      <td>प्राथमिक विद्यालय / सहायता प्राप्त जूनियर हाई ...</td>\n",
              "      <td>33</td>\n",
              "      <td>पेंशन/आनुतोषिक/अन्यसेवानिवृत्ति हितलाभ</td>\n",
              "      <td>N</td>\n",
              "      <td>V</td>\n",
              "      <td>2020-2021</td>\n",
              "      <td>75000000</td>\n",
              "      <td>62659668.0</td>\n",
              "      <td>0</td>\n",
              "      <td>62659668.0</td>\n",
              "      <td>83.55</td>\n",
              "    </tr>\n",
              "    <tr>\n",
              "      <th>238654</th>\n",
              "      <td>NaN</td>\n",
              "      <td>NaN</td>\n",
              "      <td>NaN</td>\n",
              "      <td>AYODHYA</td>\n",
              "      <td>71</td>\n",
              "      <td>शिक्षा विभाग (प्राथमिक शिक्षा)</td>\n",
              "      <td>2071</td>\n",
              "      <td>पेंशन तथा अन्य सेवा निवृत्ति हित लाभ</td>\n",
              "      <td>2071011170300</td>\n",
              "      <td>प्राथमिक विद्यालय / सहायता प्राप्त जूनियर हाई ...</td>\n",
              "      <td>33</td>\n",
              "      <td>पेंशन/आनुतोषिक/अन्यसेवानिवृत्ति हितलाभ</td>\n",
              "      <td>N</td>\n",
              "      <td>V</td>\n",
              "      <td>2020-2021</td>\n",
              "      <td>80000000</td>\n",
              "      <td>33454896.0</td>\n",
              "      <td>0</td>\n",
              "      <td>33454896.0</td>\n",
              "      <td>41.82</td>\n",
              "    </tr>\n",
              "  </tbody>\n",
              "</table>\n",
              "</div>\n",
              "      <button class=\"colab-df-convert\" onclick=\"convertToInteractive('df-16db0d7a-66c2-4885-bb76-3bf580ba3701')\"\n",
              "              title=\"Convert this dataframe to an interactive table.\"\n",
              "              style=\"display:none;\">\n",
              "        \n",
              "  <svg xmlns=\"http://www.w3.org/2000/svg\" height=\"24px\"viewBox=\"0 0 24 24\"\n",
              "       width=\"24px\">\n",
              "    <path d=\"M0 0h24v24H0V0z\" fill=\"none\"/>\n",
              "    <path d=\"M18.56 5.44l.94 2.06.94-2.06 2.06-.94-2.06-.94-.94-2.06-.94 2.06-2.06.94zm-11 1L8.5 8.5l.94-2.06 2.06-.94-2.06-.94L8.5 2.5l-.94 2.06-2.06.94zm10 10l.94 2.06.94-2.06 2.06-.94-2.06-.94-.94-2.06-.94 2.06-2.06.94z\"/><path d=\"M17.41 7.96l-1.37-1.37c-.4-.4-.92-.59-1.43-.59-.52 0-1.04.2-1.43.59L10.3 9.45l-7.72 7.72c-.78.78-.78 2.05 0 2.83L4 21.41c.39.39.9.59 1.41.59.51 0 1.02-.2 1.41-.59l7.78-7.78 2.81-2.81c.8-.78.8-2.07 0-2.86zM5.41 20L4 18.59l7.72-7.72 1.47 1.35L5.41 20z\"/>\n",
              "  </svg>\n",
              "      </button>\n",
              "      \n",
              "  <style>\n",
              "    .colab-df-container {\n",
              "      display:flex;\n",
              "      flex-wrap:wrap;\n",
              "      gap: 12px;\n",
              "    }\n",
              "\n",
              "    .colab-df-convert {\n",
              "      background-color: #E8F0FE;\n",
              "      border: none;\n",
              "      border-radius: 50%;\n",
              "      cursor: pointer;\n",
              "      display: none;\n",
              "      fill: #1967D2;\n",
              "      height: 32px;\n",
              "      padding: 0 0 0 0;\n",
              "      width: 32px;\n",
              "    }\n",
              "\n",
              "    .colab-df-convert:hover {\n",
              "      background-color: #E2EBFA;\n",
              "      box-shadow: 0px 1px 2px rgba(60, 64, 67, 0.3), 0px 1px 3px 1px rgba(60, 64, 67, 0.15);\n",
              "      fill: #174EA6;\n",
              "    }\n",
              "\n",
              "    [theme=dark] .colab-df-convert {\n",
              "      background-color: #3B4455;\n",
              "      fill: #D2E3FC;\n",
              "    }\n",
              "\n",
              "    [theme=dark] .colab-df-convert:hover {\n",
              "      background-color: #434B5C;\n",
              "      box-shadow: 0px 1px 3px 1px rgba(0, 0, 0, 0.15);\n",
              "      filter: drop-shadow(0px 1px 2px rgba(0, 0, 0, 0.3));\n",
              "      fill: #FFFFFF;\n",
              "    }\n",
              "  </style>\n",
              "\n",
              "      <script>\n",
              "        const buttonEl =\n",
              "          document.querySelector('#df-16db0d7a-66c2-4885-bb76-3bf580ba3701 button.colab-df-convert');\n",
              "        buttonEl.style.display =\n",
              "          google.colab.kernel.accessAllowed ? 'block' : 'none';\n",
              "\n",
              "        async function convertToInteractive(key) {\n",
              "          const element = document.querySelector('#df-16db0d7a-66c2-4885-bb76-3bf580ba3701');\n",
              "          const dataTable =\n",
              "            await google.colab.kernel.invokeFunction('convertToInteractive',\n",
              "                                                     [key], {});\n",
              "          if (!dataTable) return;\n",
              "\n",
              "          const docLinkHtml = 'Like what you see? Visit the ' +\n",
              "            '<a target=\"_blank\" href=https://colab.research.google.com/notebooks/data_table.ipynb>data table notebook</a>'\n",
              "            + ' to learn more about interactive tables.';\n",
              "          element.innerHTML = '';\n",
              "          dataTable['output_type'] = 'display_data';\n",
              "          await google.colab.output.renderOutput(dataTable, element);\n",
              "          const docLink = document.createElement('div');\n",
              "          docLink.innerHTML = docLinkHtml;\n",
              "          element.appendChild(docLink);\n",
              "        }\n",
              "      </script>\n",
              "    </div>\n",
              "  </div>\n",
              "  "
            ]
          },
          "metadata": {},
          "execution_count": 9
        }
      ]
    },
    {
      "cell_type": "markdown",
      "source": [
        "#3. Checking for Null Values in colmuns and duplicate rows"
      ],
      "metadata": {
        "id": "pONRTBdBHOL3"
      }
    },
    {
      "cell_type": "code",
      "source": [
        "FilteredData.isnull().sum()"
      ],
      "metadata": {
        "colab": {
          "base_uri": "https://localhost:8080/"
        },
        "id": "XBAvmPQRxcty",
        "outputId": "837e546a-329e-4003-9b1d-952b6de84f87"
      },
      "execution_count": 10,
      "outputs": [
        {
          "output_type": "execute_result",
          "data": {
            "text/plain": [
              "Division Code                                           663\n",
              "Division Description                                    663\n",
              "Treasury Code                                           663\n",
              "Treasury                                                  0\n",
              "Grant Number                                              0\n",
              "Grant Head Description                                    0\n",
              "Major Head Code                                           0\n",
              "Major Head Description                                  332\n",
              "Scheme Code                                               0\n",
              "Scheme Code Description                                   0\n",
              "Standard Object Code                                      0\n",
              "Standard Object Description                               0\n",
              "Plan / Non-Plan                                           0\n",
              "Voted / Charged                                           0\n",
              "fiscal_year                                               0\n",
              "Progressive Allotment                                     0\n",
              "Actual Progressive Expenditure upto month (February)      0\n",
              "Provisional Current Month Expenditure(March)              0\n",
              "Total Expenditure Upto Month (March)                      0\n",
              "% A/E                                                     0\n",
              "dtype: int64"
            ]
          },
          "metadata": {},
          "execution_count": 10
        }
      ]
    },
    {
      "cell_type": "markdown",
      "source": [
        "Since there are no Null Values in Columns like Grant Number and Major Head Code which is essential for analysis we go ahead"
      ],
      "metadata": {
        "id": "ZyyYY1lmHgYG"
      }
    },
    {
      "cell_type": "code",
      "source": [
        "FilteredData['Major Head Code'].value_counts()"
      ],
      "metadata": {
        "colab": {
          "base_uri": "https://localhost:8080/"
        },
        "id": "JyzQa1Ym_ybb",
        "outputId": "74ee5bcf-adf1-472b-f6ab-25e6cac50779"
      },
      "execution_count": 11,
      "outputs": [
        {
          "output_type": "execute_result",
          "data": {
            "text/plain": [
              "2202    9019\n",
              "2204    1102\n",
              "2205     978\n",
              "2071     310\n",
              "8009     276\n",
              "4202      56\n",
              "Name: Major Head Code, dtype: int64"
            ]
          },
          "metadata": {},
          "execution_count": 11
        }
      ]
    },
    {
      "cell_type": "code",
      "source": [
        "FilteredData.duplicated().sum()"
      ],
      "metadata": {
        "colab": {
          "base_uri": "https://localhost:8080/"
        },
        "id": "SLox_xKgG1tB",
        "outputId": "74d58756-de73-4cab-f2ba-c84054ad42da"
      },
      "execution_count": 12,
      "outputs": [
        {
          "output_type": "execute_result",
          "data": {
            "text/plain": [
              "593"
            ]
          },
          "metadata": {},
          "execution_count": 12
        }
      ]
    },
    {
      "cell_type": "markdown",
      "source": [
        "Since it is not possible to have duplicate rows with the same expenditure within the same financial year for the exact same purpose we remove such rows."
      ],
      "metadata": {
        "id": "K7zIDqrFH6EW"
      }
    },
    {
      "cell_type": "code",
      "source": [
        "FilteredData.drop_duplicates(inplace=True)"
      ],
      "metadata": {
        "colab": {
          "base_uri": "https://localhost:8080/"
        },
        "id": "JkT9cR_gAApU",
        "outputId": "fe62ccee-79fa-4aaa-8f21-3fe6212df12a"
      },
      "execution_count": 13,
      "outputs": [
        {
          "output_type": "stream",
          "name": "stderr",
          "text": [
            "/usr/local/lib/python3.7/dist-packages/pandas/util/_decorators.py:311: SettingWithCopyWarning: \n",
            "A value is trying to be set on a copy of a slice from a DataFrame\n",
            "\n",
            "See the caveats in the documentation: https://pandas.pydata.org/pandas-docs/stable/user_guide/indexing.html#returning-a-view-versus-a-copy\n",
            "  return func(*args, **kwargs)\n"
          ]
        }
      ]
    },
    {
      "cell_type": "markdown",
      "source": [
        "# 4. Visualising the Dataset"
      ],
      "metadata": {
        "id": "6DEErzFOIeKq"
      }
    },
    {
      "cell_type": "code",
      "source": [
        "FilteredData.columns"
      ],
      "metadata": {
        "id": "Te0b0_gvIpcz",
        "colab": {
          "base_uri": "https://localhost:8080/"
        },
        "outputId": "aecddc7a-b84a-4346-f231-ae34ea19a03b"
      },
      "execution_count": 14,
      "outputs": [
        {
          "output_type": "execute_result",
          "data": {
            "text/plain": [
              "Index(['Division Code', 'Division Description', 'Treasury Code', 'Treasury',\n",
              "       'Grant Number', 'Grant Head Description', 'Major Head Code',\n",
              "       'Major Head Description', 'Scheme Code', 'Scheme Code Description',\n",
              "       'Standard Object Code', 'Standard Object Description',\n",
              "       'Plan / Non-Plan', 'Voted / Charged', 'fiscal_year',\n",
              "       'Progressive Allotment',\n",
              "       'Actual Progressive Expenditure upto month (February)',\n",
              "       'Provisional Current Month Expenditure(March)',\n",
              "       'Total Expenditure Upto Month (March)', '% A/E'],\n",
              "      dtype='object')"
            ]
          },
          "metadata": {},
          "execution_count": 14
        }
      ]
    },
    {
      "cell_type": "code",
      "source": [
        "FilteredData[['Progressive Allotment',\n",
        "       'Actual Progressive Expenditure upto month (February)',\n",
        "       'Provisional Current Month Expenditure(March)',\n",
        "       'Total Expenditure Upto Month (March)', '% A/E']].describe()"
      ],
      "metadata": {
        "colab": {
          "base_uri": "https://localhost:8080/",
          "height": 379
        },
        "id": "rXJmaUv-Ph1r",
        "outputId": "583c6813-3d7a-49cb-cb13-7b05e524d29a"
      },
      "execution_count": 15,
      "outputs": [
        {
          "output_type": "execute_result",
          "data": {
            "text/plain": [
              "       Progressive Allotment  \\\n",
              "count           1.114800e+04   \n",
              "mean            4.410915e+07   \n",
              "std             5.156183e+08   \n",
              "min             0.000000e+00   \n",
              "25%             1.500000e+03   \n",
              "50%             2.051800e+04   \n",
              "75%             6.792500e+05   \n",
              "max             3.349453e+10   \n",
              "\n",
              "       Actual Progressive Expenditure upto month (February)  \\\n",
              "count                                       1.114800e+04      \n",
              "mean                                        4.103246e+07      \n",
              "std                                         5.427311e+08      \n",
              "min                                         0.000000e+00      \n",
              "25%                                         0.000000e+00      \n",
              "50%                                         3.700000e+03      \n",
              "75%                                         4.404630e+05      \n",
              "max                                         3.349453e+10      \n",
              "\n",
              "       Provisional Current Month Expenditure(March)  \\\n",
              "count                                  1.114800e+04   \n",
              "mean                                   8.938416e+05   \n",
              "std                                    1.671736e+07   \n",
              "min                                    0.000000e+00   \n",
              "25%                                    0.000000e+00   \n",
              "50%                                    0.000000e+00   \n",
              "75%                                    0.000000e+00   \n",
              "max                                    1.183874e+09   \n",
              "\n",
              "       Total Expenditure Upto Month (March)         % A/E  \n",
              "count                          1.114800e+04  11148.000000  \n",
              "mean                           4.192630e+07     46.400780  \n",
              "std                            5.477446e+08     93.372846  \n",
              "min                            0.000000e+00      0.000000  \n",
              "25%                            0.000000e+00      0.000000  \n",
              "50%                            5.000000e+03     19.325000  \n",
              "75%                            4.750718e+05     90.360000  \n",
              "max                            3.349453e+10   6818.180000  "
            ],
            "text/html": [
              "\n",
              "  <div id=\"df-7fdc27f5-43e9-4c24-9f4d-f777521ee5a7\">\n",
              "    <div class=\"colab-df-container\">\n",
              "      <div>\n",
              "<style scoped>\n",
              "    .dataframe tbody tr th:only-of-type {\n",
              "        vertical-align: middle;\n",
              "    }\n",
              "\n",
              "    .dataframe tbody tr th {\n",
              "        vertical-align: top;\n",
              "    }\n",
              "\n",
              "    .dataframe thead th {\n",
              "        text-align: right;\n",
              "    }\n",
              "</style>\n",
              "<table border=\"1\" class=\"dataframe\">\n",
              "  <thead>\n",
              "    <tr style=\"text-align: right;\">\n",
              "      <th></th>\n",
              "      <th>Progressive Allotment</th>\n",
              "      <th>Actual Progressive Expenditure upto month (February)</th>\n",
              "      <th>Provisional Current Month Expenditure(March)</th>\n",
              "      <th>Total Expenditure Upto Month (March)</th>\n",
              "      <th>% A/E</th>\n",
              "    </tr>\n",
              "  </thead>\n",
              "  <tbody>\n",
              "    <tr>\n",
              "      <th>count</th>\n",
              "      <td>1.114800e+04</td>\n",
              "      <td>1.114800e+04</td>\n",
              "      <td>1.114800e+04</td>\n",
              "      <td>1.114800e+04</td>\n",
              "      <td>11148.000000</td>\n",
              "    </tr>\n",
              "    <tr>\n",
              "      <th>mean</th>\n",
              "      <td>4.410915e+07</td>\n",
              "      <td>4.103246e+07</td>\n",
              "      <td>8.938416e+05</td>\n",
              "      <td>4.192630e+07</td>\n",
              "      <td>46.400780</td>\n",
              "    </tr>\n",
              "    <tr>\n",
              "      <th>std</th>\n",
              "      <td>5.156183e+08</td>\n",
              "      <td>5.427311e+08</td>\n",
              "      <td>1.671736e+07</td>\n",
              "      <td>5.477446e+08</td>\n",
              "      <td>93.372846</td>\n",
              "    </tr>\n",
              "    <tr>\n",
              "      <th>min</th>\n",
              "      <td>0.000000e+00</td>\n",
              "      <td>0.000000e+00</td>\n",
              "      <td>0.000000e+00</td>\n",
              "      <td>0.000000e+00</td>\n",
              "      <td>0.000000</td>\n",
              "    </tr>\n",
              "    <tr>\n",
              "      <th>25%</th>\n",
              "      <td>1.500000e+03</td>\n",
              "      <td>0.000000e+00</td>\n",
              "      <td>0.000000e+00</td>\n",
              "      <td>0.000000e+00</td>\n",
              "      <td>0.000000</td>\n",
              "    </tr>\n",
              "    <tr>\n",
              "      <th>50%</th>\n",
              "      <td>2.051800e+04</td>\n",
              "      <td>3.700000e+03</td>\n",
              "      <td>0.000000e+00</td>\n",
              "      <td>5.000000e+03</td>\n",
              "      <td>19.325000</td>\n",
              "    </tr>\n",
              "    <tr>\n",
              "      <th>75%</th>\n",
              "      <td>6.792500e+05</td>\n",
              "      <td>4.404630e+05</td>\n",
              "      <td>0.000000e+00</td>\n",
              "      <td>4.750718e+05</td>\n",
              "      <td>90.360000</td>\n",
              "    </tr>\n",
              "    <tr>\n",
              "      <th>max</th>\n",
              "      <td>3.349453e+10</td>\n",
              "      <td>3.349453e+10</td>\n",
              "      <td>1.183874e+09</td>\n",
              "      <td>3.349453e+10</td>\n",
              "      <td>6818.180000</td>\n",
              "    </tr>\n",
              "  </tbody>\n",
              "</table>\n",
              "</div>\n",
              "      <button class=\"colab-df-convert\" onclick=\"convertToInteractive('df-7fdc27f5-43e9-4c24-9f4d-f777521ee5a7')\"\n",
              "              title=\"Convert this dataframe to an interactive table.\"\n",
              "              style=\"display:none;\">\n",
              "        \n",
              "  <svg xmlns=\"http://www.w3.org/2000/svg\" height=\"24px\"viewBox=\"0 0 24 24\"\n",
              "       width=\"24px\">\n",
              "    <path d=\"M0 0h24v24H0V0z\" fill=\"none\"/>\n",
              "    <path d=\"M18.56 5.44l.94 2.06.94-2.06 2.06-.94-2.06-.94-.94-2.06-.94 2.06-2.06.94zm-11 1L8.5 8.5l.94-2.06 2.06-.94-2.06-.94L8.5 2.5l-.94 2.06-2.06.94zm10 10l.94 2.06.94-2.06 2.06-.94-2.06-.94-.94-2.06-.94 2.06-2.06.94z\"/><path d=\"M17.41 7.96l-1.37-1.37c-.4-.4-.92-.59-1.43-.59-.52 0-1.04.2-1.43.59L10.3 9.45l-7.72 7.72c-.78.78-.78 2.05 0 2.83L4 21.41c.39.39.9.59 1.41.59.51 0 1.02-.2 1.41-.59l7.78-7.78 2.81-2.81c.8-.78.8-2.07 0-2.86zM5.41 20L4 18.59l7.72-7.72 1.47 1.35L5.41 20z\"/>\n",
              "  </svg>\n",
              "      </button>\n",
              "      \n",
              "  <style>\n",
              "    .colab-df-container {\n",
              "      display:flex;\n",
              "      flex-wrap:wrap;\n",
              "      gap: 12px;\n",
              "    }\n",
              "\n",
              "    .colab-df-convert {\n",
              "      background-color: #E8F0FE;\n",
              "      border: none;\n",
              "      border-radius: 50%;\n",
              "      cursor: pointer;\n",
              "      display: none;\n",
              "      fill: #1967D2;\n",
              "      height: 32px;\n",
              "      padding: 0 0 0 0;\n",
              "      width: 32px;\n",
              "    }\n",
              "\n",
              "    .colab-df-convert:hover {\n",
              "      background-color: #E2EBFA;\n",
              "      box-shadow: 0px 1px 2px rgba(60, 64, 67, 0.3), 0px 1px 3px 1px rgba(60, 64, 67, 0.15);\n",
              "      fill: #174EA6;\n",
              "    }\n",
              "\n",
              "    [theme=dark] .colab-df-convert {\n",
              "      background-color: #3B4455;\n",
              "      fill: #D2E3FC;\n",
              "    }\n",
              "\n",
              "    [theme=dark] .colab-df-convert:hover {\n",
              "      background-color: #434B5C;\n",
              "      box-shadow: 0px 1px 3px 1px rgba(0, 0, 0, 0.15);\n",
              "      filter: drop-shadow(0px 1px 2px rgba(0, 0, 0, 0.3));\n",
              "      fill: #FFFFFF;\n",
              "    }\n",
              "  </style>\n",
              "\n",
              "      <script>\n",
              "        const buttonEl =\n",
              "          document.querySelector('#df-7fdc27f5-43e9-4c24-9f4d-f777521ee5a7 button.colab-df-convert');\n",
              "        buttonEl.style.display =\n",
              "          google.colab.kernel.accessAllowed ? 'block' : 'none';\n",
              "\n",
              "        async function convertToInteractive(key) {\n",
              "          const element = document.querySelector('#df-7fdc27f5-43e9-4c24-9f4d-f777521ee5a7');\n",
              "          const dataTable =\n",
              "            await google.colab.kernel.invokeFunction('convertToInteractive',\n",
              "                                                     [key], {});\n",
              "          if (!dataTable) return;\n",
              "\n",
              "          const docLinkHtml = 'Like what you see? Visit the ' +\n",
              "            '<a target=\"_blank\" href=https://colab.research.google.com/notebooks/data_table.ipynb>data table notebook</a>'\n",
              "            + ' to learn more about interactive tables.';\n",
              "          element.innerHTML = '';\n",
              "          dataTable['output_type'] = 'display_data';\n",
              "          await google.colab.output.renderOutput(dataTable, element);\n",
              "          const docLink = document.createElement('div');\n",
              "          docLink.innerHTML = docLinkHtml;\n",
              "          element.appendChild(docLink);\n",
              "        }\n",
              "      </script>\n",
              "    </div>\n",
              "  </div>\n",
              "  "
            ]
          },
          "metadata": {},
          "execution_count": 15
        }
      ]
    },
    {
      "cell_type": "code",
      "source": [
        "import seaborn as sb"
      ],
      "metadata": {
        "id": "FPePRTYPQ0YE"
      },
      "execution_count": 16,
      "outputs": []
    },
    {
      "cell_type": "code",
      "source": [
        "sb.distplot(FilteredData['Progressive Allotment'])\n",
        "plt.show()\n",
        "sb.distplot(FilteredData['Actual Progressive Expenditure upto month (February)'])\n",
        "plt.show()\n",
        "sb.distplot(FilteredData['Provisional Current Month Expenditure(March)'])\n",
        "plt.show()\n",
        "sb.distplot(FilteredData['Total Expenditure Upto Month (March)'])\n",
        "plt.show()\n",
        "sb.distplot(FilteredData['% A/E'])\n",
        "plt.show()"
      ],
      "metadata": {
        "colab": {
          "base_uri": "https://localhost:8080/",
          "height": 1000
        },
        "id": "R2mFS9HHQTmn",
        "outputId": "0bf1ddcc-5eab-430e-fd77-f6629945f820"
      },
      "execution_count": 17,
      "outputs": [
        {
          "output_type": "stream",
          "name": "stderr",
          "text": [
            "/usr/local/lib/python3.7/dist-packages/seaborn/distributions.py:2619: FutureWarning: `distplot` is a deprecated function and will be removed in a future version. Please adapt your code to use either `displot` (a figure-level function with similar flexibility) or `histplot` (an axes-level function for histograms).\n",
            "  warnings.warn(msg, FutureWarning)\n"
          ]
        },
        {
          "output_type": "display_data",
          "data": {
            "text/plain": [
              "<Figure size 432x288 with 1 Axes>"
            ],
            "image/png": "[encoded data removed]"
          },
          "metadata": {
            "needs_background": "light"
          }
        },
        {
          "output_type": "stream",
          "name": "stderr",
          "text": [
            "/usr/local/lib/python3.7/dist-packages/seaborn/distributions.py:2619: FutureWarning: `distplot` is a deprecated function and will be removed in a future version. Please adapt your code to use either `displot` (a figure-level function with similar flexibility) or `histplot` (an axes-level function for histograms).\n",
            "  warnings.warn(msg, FutureWarning)\n"
          ]
        },
        {
          "output_type": "display_data",
          "data": {
            "text/plain": [
              "<Figure size 432x288 with 1 Axes>"
            ],
            "image/png": "[encoded data removed]"
          },
          "metadata": {
            "needs_background": "light"
          }
        },
        {
          "output_type": "stream",
          "name": "stderr",
          "text": [
            "/usr/local/lib/python3.7/dist-packages/seaborn/distributions.py:2619: FutureWarning: `distplot` is a deprecated function and will be removed in a future version. Please adapt your code to use either `displot` (a figure-level function with similar flexibility) or `histplot` (an axes-level function for histograms).\n",
            "  warnings.warn(msg, FutureWarning)\n"
          ]
        },
        {
          "output_type": "display_data",
          "data": {
            "text/plain": [
              "<Figure size 432x288 with 1 Axes>"
            ],
            "image/png": "[encoded data removed]"
          },
          "metadata": {
            "needs_background": "light"
          }
        },
        {
          "output_type": "stream",
          "name": "stderr",
          "text": [
            "/usr/local/lib/python3.7/dist-packages/seaborn/distributions.py:2619: FutureWarning: `distplot` is a deprecated function and will be removed in a future version. Please adapt your code to use either `displot` (a figure-level function with similar flexibility) or `histplot` (an axes-level function for histograms).\n",
            "  warnings.warn(msg, FutureWarning)\n"
          ]
        },
        {
          "output_type": "display_data",
          "data": {
            "text/plain": [
              "<Figure size 432x288 with 1 Axes>"
            ],
            "image/png": "[encoded data removed]"
          },
          "metadata": {
            "needs_background": "light"
          }
        },
        {
          "output_type": "stream",
          "name": "stderr",
          "text": [
            "/usr/local/lib/python3.7/dist-packages/seaborn/distributions.py:2619: FutureWarning: `distplot` is a deprecated function and will be removed in a future version. Please adapt your code to use either `displot` (a figure-level function with similar flexibility) or `histplot` (an axes-level function for histograms).\n",
            "  warnings.warn(msg, FutureWarning)\n"
          ]
        },
        {
          "output_type": "display_data",
          "data": {
            "text/plain": [
              "<Figure size 432x288 with 1 Axes>"
            ],
            "image/png": "[encoded data removed]"
          },
          "metadata": {
            "needs_background": "light"
          }
        }
      ]
    },
    {
      "cell_type": "markdown",
      "source": [
        "We can see that the data is right skewed. "
      ],
      "metadata": {
        "id": "YbdDjOJ0e7iA"
      }
    },
    {
      "cell_type": "code",
      "source": [
        "plt.figure (figsize=(10,5))\n",
        "sb.heatmap(FilteredData[['Progressive Allotment',\n",
        "       'Actual Progressive Expenditure upto month (February)',\n",
        "       'Provisional Current Month Expenditure(March)',\n",
        "       'Total Expenditure Upto Month (March)', '% A/E']].corr(), annot=True)\n",
        "plt.show();"
      ],
      "metadata": {
        "colab": {
          "base_uri": "https://localhost:8080/",
          "height": 585
        },
        "id": "DfCort7xfgns",
        "outputId": "7b00eebb-07a2-4f86-d85c-68ac405f2894"
      },
      "execution_count": 18,
      "outputs": [
        {
          "output_type": "display_data",
          "data": {
            "text/plain": [
              "<Figure size 720x360 with 2 Axes>"
            ],
            "image/png": "[encoded data removed]"
          },
          "metadata": {
            "needs_background": "light"
          }
        }
      ]
    },
    {
      "cell_type": "markdown",
      "source": [
        "# Q1) Calculating the share of expenditure on school education"
      ],
      "metadata": {
        "id": "G1TX09gYh89y"
      }
    },
    {
      "cell_type": "code",
      "source": [
        "pd.DataFrame(FilteredData.groupby(['Grant Head Description','Grant Number'])['Total Expenditure Upto Month (March)'].sum())"
      ],
      "metadata": {
        "id": "tkb_HTYx70fy",
        "colab": {
          "base_uri": "https://localhost:8080/",
          "height": 143
        },
        "outputId": "da742b3e-b680-488c-f0ec-211e49f69170"
      },
      "execution_count": 19,
      "outputs": [
        {
          "output_type": "execute_result",
          "data": {
            "text/plain": [
              "                                             Total Expenditure Upto Month (March)\n",
              "Grant Head Description         Grant Number                                      \n",
              "शिक्षा विभाग (प्राथमिक शिक्षा) 71                                    3.798533e+11\n",
              "शिक्षा विभाग (माध्यमिक शिक्षा) 72                                    8.754104e+10"
            ],
            "text/html": [
              "\n",
              "  <div id=\"df-88e42c7f-5fb8-4453-8147-5f752f2ecc85\">\n",
              "    <div class=\"colab-df-container\">\n",
              "      <div>\n",
              "<style scoped>\n",
              "    .dataframe tbody tr th:only-of-type {\n",
              "        vertical-align: middle;\n",
              "    }\n",
              "\n",
              "    .dataframe tbody tr th {\n",
              "        vertical-align: top;\n",
              "    }\n",
              "\n",
              "    .dataframe thead th {\n",
              "        text-align: right;\n",
              "    }\n",
              "</style>\n",
              "<table border=\"1\" class=\"dataframe\">\n",
              "  <thead>\n",
              "    <tr style=\"text-align: right;\">\n",
              "      <th></th>\n",
              "      <th></th>\n",
              "      <th>Total Expenditure Upto Month (March)</th>\n",
              "    </tr>\n",
              "    <tr>\n",
              "      <th>Grant Head Description</th>\n",
              "      <th>Grant Number</th>\n",
              "      <th></th>\n",
              "    </tr>\n",
              "  </thead>\n",
              "  <tbody>\n",
              "    <tr>\n",
              "      <th>शिक्षा विभाग (प्राथमिक शिक्षा)</th>\n",
              "      <th>71</th>\n",
              "      <td>3.798533e+11</td>\n",
              "    </tr>\n",
              "    <tr>\n",
              "      <th>शिक्षा विभाग (माध्यमिक शिक्षा)</th>\n",
              "      <th>72</th>\n",
              "      <td>8.754104e+10</td>\n",
              "    </tr>\n",
              "  </tbody>\n",
              "</table>\n",
              "</div>\n",
              "      <button class=\"colab-df-convert\" onclick=\"convertToInteractive('df-88e42c7f-5fb8-4453-8147-5f752f2ecc85')\"\n",
              "              title=\"Convert this dataframe to an interactive table.\"\n",
              "              style=\"display:none;\">\n",
              "        \n",
              "  <svg xmlns=\"http://www.w3.org/2000/svg\" height=\"24px\"viewBox=\"0 0 24 24\"\n",
              "       width=\"24px\">\n",
              "    <path d=\"M0 0h24v24H0V0z\" fill=\"none\"/>\n",
              "    <path d=\"M18.56 5.44l.94 2.06.94-2.06 2.06-.94-2.06-.94-.94-2.06-.94 2.06-2.06.94zm-11 1L8.5 8.5l.94-2.06 2.06-.94-2.06-.94L8.5 2.5l-.94 2.06-2.06.94zm10 10l.94 2.06.94-2.06 2.06-.94-2.06-.94-.94-2.06-.94 2.06-2.06.94z\"/><path d=\"M17.41 7.96l-1.37-1.37c-.4-.4-.92-.59-1.43-.59-.52 0-1.04.2-1.43.59L10.3 9.45l-7.72 7.72c-.78.78-.78 2.05 0 2.83L4 21.41c.39.39.9.59 1.41.59.51 0 1.02-.2 1.41-.59l7.78-7.78 2.81-2.81c.8-.78.8-2.07 0-2.86zM5.41 20L4 18.59l7.72-7.72 1.47 1.35L5.41 20z\"/>\n",
              "  </svg>\n",
              "      </button>\n",
              "      \n",
              "  <style>\n",
              "    .colab-df-container {\n",
              "      display:flex;\n",
              "      flex-wrap:wrap;\n",
              "      gap: 12px;\n",
              "    }\n",
              "\n",
              "    .colab-df-convert {\n",
              "      background-color: #E8F0FE;\n",
              "      border: none;\n",
              "      border-radius: 50%;\n",
              "      cursor: pointer;\n",
              "      display: none;\n",
              "      fill: #1967D2;\n",
              "      height: 32px;\n",
              "      padding: 0 0 0 0;\n",
              "      width: 32px;\n",
              "    }\n",
              "\n",
              "    .colab-df-convert:hover {\n",
              "      background-color: #E2EBFA;\n",
              "      box-shadow: 0px 1px 2px rgba(60, 64, 67, 0.3), 0px 1px 3px 1px rgba(60, 64, 67, 0.15);\n",
              "      fill: #174EA6;\n",
              "    }\n",
              "\n",
              "    [theme=dark] .colab-df-convert {\n",
              "      background-color: #3B4455;\n",
              "      fill: #D2E3FC;\n",
              "    }\n",
              "\n",
              "    [theme=dark] .colab-df-convert:hover {\n",
              "      background-color: #434B5C;\n",
              "      box-shadow: 0px 1px 3px 1px rgba(0, 0, 0, 0.15);\n",
              "      filter: drop-shadow(0px 1px 2px rgba(0, 0, 0, 0.3));\n",
              "      fill: #FFFFFF;\n",
              "    }\n",
              "  </style>\n",
              "\n",
              "      <script>\n",
              "        const buttonEl =\n",
              "          document.querySelector('#df-88e42c7f-5fb8-4453-8147-5f752f2ecc85 button.colab-df-convert');\n",
              "        buttonEl.style.display =\n",
              "          google.colab.kernel.accessAllowed ? 'block' : 'none';\n",
              "\n",
              "        async function convertToInteractive(key) {\n",
              "          const element = document.querySelector('#df-88e42c7f-5fb8-4453-8147-5f752f2ecc85');\n",
              "          const dataTable =\n",
              "            await google.colab.kernel.invokeFunction('convertToInteractive',\n",
              "                                                     [key], {});\n",
              "          if (!dataTable) return;\n",
              "\n",
              "          const docLinkHtml = 'Like what you see? Visit the ' +\n",
              "            '<a target=\"_blank\" href=https://colab.research.google.com/notebooks/data_table.ipynb>data table notebook</a>'\n",
              "            + ' to learn more about interactive tables.';\n",
              "          element.innerHTML = '';\n",
              "          dataTable['output_type'] = 'display_data';\n",
              "          await google.colab.output.renderOutput(dataTable, element);\n",
              "          const docLink = document.createElement('div');\n",
              "          docLink.innerHTML = docLinkHtml;\n",
              "          element.appendChild(docLink);\n",
              "        }\n",
              "      </script>\n",
              "    </div>\n",
              "  </div>\n",
              "  "
            ]
          },
          "metadata": {},
          "execution_count": 19
        }
      ]
    },
    {
      "cell_type": "code",
      "source": [
        "FilteredData.groupby(['Grant Number']).sum().plot(kind='pie', y='Total Expenditure Upto Month (March)')"
      ],
      "metadata": {
        "colab": {
          "base_uri": "https://localhost:8080/",
          "height": 265
        },
        "id": "apSDYItUjoDB",
        "outputId": "ad54b9eb-5535-4a5a-db37-107435e731cd"
      },
      "execution_count": 20,
      "outputs": [
        {
          "output_type": "execute_result",
          "data": {
            "text/plain": [
              "<matplotlib.axes._subplots.AxesSubplot at 0x7fcf3760e7d0>"
            ]
          },
          "metadata": {},
          "execution_count": 20
        },
        {
          "output_type": "display_data",
          "data": {
            "text/plain": [
              "<Figure size 432x288 with 1 Axes>"
            ],
            "image/png": "[encoded data removed]"
          },
          "metadata": {}
        }
      ]
    },
    {
      "cell_type": "markdown",
      "source": [
        "# Q2) Estimating the share of capital expenditure"
      ],
      "metadata": {
        "id": "jIMkIXEniPOl"
      }
    },
    {
      "cell_type": "markdown",
      "source": [
        "We know that **Major Head 4202** maps to *Capital Outlay on Education, Sports, Art and Culture*"
      ],
      "metadata": {
        "id": "7onNYzKvkVQ0"
      }
    },
    {
      "cell_type": "code",
      "source": [
        "Capital= FilteredData[FilteredData['Major Head Code']==4202]\n",
        "pd.DataFrame(Capital['Total Expenditure Upto Month (March)'].groupby(Capital['Grant Head Description']).sum())"
      ],
      "metadata": {
        "colab": {
          "base_uri": "https://localhost:8080/",
          "height": 143
        },
        "id": "hhk39h70iOvS",
        "outputId": "ff3d2a56-d456-4207-f3d3-71838539ccf9"
      },
      "execution_count": 21,
      "outputs": [
        {
          "output_type": "execute_result",
          "data": {
            "text/plain": [
              "                                Total Expenditure Upto Month (March)\n",
              "Grant Head Description                                              \n",
              "शिक्षा विभाग (प्राथमिक शिक्षा)                          1.314752e+09\n",
              "शिक्षा विभाग (माध्यमिक शिक्षा)                          1.137881e+09"
            ],
            "text/html": [
              "\n",
              "  <div id=\"df-de908e79-8bee-4c4c-bc7d-5a2e413176e5\">\n",
              "    <div class=\"colab-df-container\">\n",
              "      <div>\n",
              "<style scoped>\n",
              "    .dataframe tbody tr th:only-of-type {\n",
              "        vertical-align: middle;\n",
              "    }\n",
              "\n",
              "    .dataframe tbody tr th {\n",
              "        vertical-align: top;\n",
              "    }\n",
              "\n",
              "    .dataframe thead th {\n",
              "        text-align: right;\n",
              "    }\n",
              "</style>\n",
              "<table border=\"1\" class=\"dataframe\">\n",
              "  <thead>\n",
              "    <tr style=\"text-align: right;\">\n",
              "      <th></th>\n",
              "      <th>Total Expenditure Upto Month (March)</th>\n",
              "    </tr>\n",
              "    <tr>\n",
              "      <th>Grant Head Description</th>\n",
              "      <th></th>\n",
              "    </tr>\n",
              "  </thead>\n",
              "  <tbody>\n",
              "    <tr>\n",
              "      <th>शिक्षा विभाग (प्राथमिक शिक्षा)</th>\n",
              "      <td>1.314752e+09</td>\n",
              "    </tr>\n",
              "    <tr>\n",
              "      <th>शिक्षा विभाग (माध्यमिक शिक्षा)</th>\n",
              "      <td>1.137881e+09</td>\n",
              "    </tr>\n",
              "  </tbody>\n",
              "</table>\n",
              "</div>\n",
              "      <button class=\"colab-df-convert\" onclick=\"convertToInteractive('df-de908e79-8bee-4c4c-bc7d-5a2e413176e5')\"\n",
              "              title=\"Convert this dataframe to an interactive table.\"\n",
              "              style=\"display:none;\">\n",
              "        \n",
              "  <svg xmlns=\"http://www.w3.org/2000/svg\" height=\"24px\"viewBox=\"0 0 24 24\"\n",
              "       width=\"24px\">\n",
              "    <path d=\"M0 0h24v24H0V0z\" fill=\"none\"/>\n",
              "    <path d=\"M18.56 5.44l.94 2.06.94-2.06 2.06-.94-2.06-.94-.94-2.06-.94 2.06-2.06.94zm-11 1L8.5 8.5l.94-2.06 2.06-.94-2.06-.94L8.5 2.5l-.94 2.06-2.06.94zm10 10l.94 2.06.94-2.06 2.06-.94-2.06-.94-.94-2.06-.94 2.06-2.06.94z\"/><path d=\"M17.41 7.96l-1.37-1.37c-.4-.4-.92-.59-1.43-.59-.52 0-1.04.2-1.43.59L10.3 9.45l-7.72 7.72c-.78.78-.78 2.05 0 2.83L4 21.41c.39.39.9.59 1.41.59.51 0 1.02-.2 1.41-.59l7.78-7.78 2.81-2.81c.8-.78.8-2.07 0-2.86zM5.41 20L4 18.59l7.72-7.72 1.47 1.35L5.41 20z\"/>\n",
              "  </svg>\n",
              "      </button>\n",
              "      \n",
              "  <style>\n",
              "    .colab-df-container {\n",
              "      display:flex;\n",
              "      flex-wrap:wrap;\n",
              "      gap: 12px;\n",
              "    }\n",
              "\n",
              "    .colab-df-convert {\n",
              "      background-color: #E8F0FE;\n",
              "      border: none;\n",
              "      border-radius: 50%;\n",
              "      cursor: pointer;\n",
              "      display: none;\n",
              "      fill: #1967D2;\n",
              "      height: 32px;\n",
              "      padding: 0 0 0 0;\n",
              "      width: 32px;\n",
              "    }\n",
              "\n",
              "    .colab-df-convert:hover {\n",
              "      background-color: #E2EBFA;\n",
              "      box-shadow: 0px 1px 2px rgba(60, 64, 67, 0.3), 0px 1px 3px 1px rgba(60, 64, 67, 0.15);\n",
              "      fill: #174EA6;\n",
              "    }\n",
              "\n",
              "    [theme=dark] .colab-df-convert {\n",
              "      background-color: #3B4455;\n",
              "      fill: #D2E3FC;\n",
              "    }\n",
              "\n",
              "    [theme=dark] .colab-df-convert:hover {\n",
              "      background-color: #434B5C;\n",
              "      box-shadow: 0px 1px 3px 1px rgba(0, 0, 0, 0.15);\n",
              "      filter: drop-shadow(0px 1px 2px rgba(0, 0, 0, 0.3));\n",
              "      fill: #FFFFFF;\n",
              "    }\n",
              "  </style>\n",
              "\n",
              "      <script>\n",
              "        const buttonEl =\n",
              "          document.querySelector('#df-de908e79-8bee-4c4c-bc7d-5a2e413176e5 button.colab-df-convert');\n",
              "        buttonEl.style.display =\n",
              "          google.colab.kernel.accessAllowed ? 'block' : 'none';\n",
              "\n",
              "        async function convertToInteractive(key) {\n",
              "          const element = document.querySelector('#df-de908e79-8bee-4c4c-bc7d-5a2e413176e5');\n",
              "          const dataTable =\n",
              "            await google.colab.kernel.invokeFunction('convertToInteractive',\n",
              "                                                     [key], {});\n",
              "          if (!dataTable) return;\n",
              "\n",
              "          const docLinkHtml = 'Like what you see? Visit the ' +\n",
              "            '<a target=\"_blank\" href=https://colab.research.google.com/notebooks/data_table.ipynb>data table notebook</a>'\n",
              "            + ' to learn more about interactive tables.';\n",
              "          element.innerHTML = '';\n",
              "          dataTable['output_type'] = 'display_data';\n",
              "          await google.colab.output.renderOutput(dataTable, element);\n",
              "          const docLink = document.createElement('div');\n",
              "          docLink.innerHTML = docLinkHtml;\n",
              "          element.appendChild(docLink);\n",
              "        }\n",
              "      </script>\n",
              "    </div>\n",
              "  </div>\n",
              "  "
            ]
          },
          "metadata": {},
          "execution_count": 21
        }
      ]
    },
    {
      "cell_type": "markdown",
      "source": [
        "# Q3) Estimate the per-capita expenditure on school education in the state, and each district. "
      ],
      "metadata": {
        "id": "Q3umxEhRlXRT"
      }
    },
    {
      "cell_type": "markdown",
      "source": [
        "With reference to the following [website](https://www.census2011.co.in/census/state/uttar+pradesh.html), we find the projected population for the 2021 in UP is *234,969,561*"
      ],
      "metadata": {
        "id": "sx_Uxm53mV2c"
      }
    },
    {
      "cell_type": "code",
      "source": [
        "percap_exp = FilteredData['Total Expenditure Upto Month (March)'].sum()/234969561\n",
        "print(' The Per-capita expenditure on school education for the year 2020-21 is %.2f' %(percap_exp))"
      ],
      "metadata": {
        "colab": {
          "base_uri": "https://localhost:8080/"
        },
        "id": "VRC5_5LblVdS",
        "outputId": "89db0a3c-934e-441d-c2e2-0c1118005ac5"
      },
      "execution_count": 22,
      "outputs": [
        {
          "output_type": "stream",
          "name": "stdout",
          "text": [
            " The Per-capita expenditure on school education for the year 2020-21 is 1989.17\n"
          ]
        }
      ]
    },
    {
      "cell_type": "markdown",
      "source": [
        "**Note** : Was unable to find district wise population data for the year 2020-21"
      ],
      "metadata": {
        "id": "FQqtCtR7p1U_"
      }
    },
    {
      "cell_type": "markdown",
      "source": [
        "#Q4) Rank the districts based on utilization of allotted funds of revenue expenditure and capital expenditure"
      ],
      "metadata": {
        "id": "YlkH2-gnpxMT"
      }
    },
    {
      "cell_type": "code",
      "source": [
        "cap_exp = FilteredData[FilteredData['Major Head Code'] == 4202]\n",
        "rev_exp = FilteredData[FilteredData['Major Head Code'] != 4202]"
      ],
      "metadata": {
        "id": "dQPASoaAqJw4"
      },
      "execution_count": 23,
      "outputs": []
    },
    {
      "cell_type": "markdown",
      "source": [
        "Captial Expenditure"
      ],
      "metadata": {
        "id": "JS_eknZy0jqL"
      }
    },
    {
      "cell_type": "code",
      "source": [
        "op = pd.DataFrame((cap_exp['Total Expenditure Upto Month (March)'].groupby(cap_exp['Treasury']).sum())/cap_exp['Progressive Allotment'].groupby(cap_exp['Treasury']).sum()).sort_values(by=0, ascending=False)\n",
        "op"
      ],
      "metadata": {
        "colab": {
          "base_uri": "https://localhost:8080/",
          "height": 1000
        },
        "id": "5uDAmTfE3_1P",
        "outputId": "db11b7ed-ddc6-4ed1-987f-a2bdc0561d4a"
      },
      "execution_count": 24,
      "outputs": [
        {
          "output_type": "execute_result",
          "data": {
            "text/plain": [
              "                         0\n",
              "Treasury                  \n",
              "AGRA              1.000000\n",
              "ALIGARH           1.000000\n",
              "LUCKNOW COLL.     1.000000\n",
              "LUCKNOW-JB        1.000000\n",
              "MAINPURI          1.000000\n",
              "MATHURA           1.000000\n",
              "MEERUT SADAR      1.000000\n",
              "MIRZAPUR          1.000000\n",
              "MUZAFFARNAGAR     1.000000\n",
              "ORAI              1.000000\n",
              "PRATAPGARH        1.000000\n",
              "PRAYAGRAJ-CIV     1.000000\n",
              "PRAYAGRAJ-COLL    1.000000\n",
              "RAEBARELI         1.000000\n",
              "SAHARANPUR        1.000000\n",
              "SAMBHAL           1.000000\n",
              "SANT KABIR NAGR   1.000000\n",
              "SHAHJAHANPUR      1.000000\n",
              "SHAMLI            1.000000\n",
              "SITAPUR           1.000000\n",
              "SULTANPUR         1.000000\n",
              "KUSHI NAGAR       1.000000\n",
              "KHERI             1.000000\n",
              "KANSHI RAM NAGAR  1.000000\n",
              "GONDA             1.000000\n",
              "AYODHYA           1.000000\n",
              "BALLIA            1.000000\n",
              "BAREILLY          1.000000\n",
              "BULANDSHAHR       1.000000\n",
              "CSMAHARAJ NAGAR   1.000000\n",
              "FIROZABAD         1.000000\n",
              "UNNAO TREASURY    1.000000\n",
              "HAPUR             1.000000\n",
              "HARDOI            1.000000\n",
              "JAUNPUR           1.000000\n",
              "KANNAUJ           1.000000\n",
              "KANPUR DEHAT      1.000000\n",
              "CHANDAULI         0.993789\n",
              "BADAUN            0.930598\n",
              "GORAKHPUR         0.869706\n",
              "DEORIA            0.488520\n",
              "MAHARAJGANJ       0.392985\n",
              "KANPUR NAGAR      0.000000\n",
              "BHADOHI           0.000000\n",
              "BASTI             0.000000"
            ],
            "text/html": [
              "\n",
              "  <div id=\"df-2cd5470d-df7f-42ea-9f53-cca91e73e51d\">\n",
              "    <div class=\"colab-df-container\">\n",
              "      <div>\n",
              "<style scoped>\n",
              "    .dataframe tbody tr th:only-of-type {\n",
              "        vertical-align: middle;\n",
              "    }\n",
              "\n",
              "    .dataframe tbody tr th {\n",
              "        vertical-align: top;\n",
              "    }\n",
              "\n",
              "    .dataframe thead th {\n",
              "        text-align: right;\n",
              "    }\n",
              "</style>\n",
              "<table border=\"1\" class=\"dataframe\">\n",
              "  <thead>\n",
              "    <tr style=\"text-align: right;\">\n",
              "      <th></th>\n",
              "      <th>0</th>\n",
              "    </tr>\n",
              "    <tr>\n",
              "      <th>Treasury</th>\n",
              "      <th></th>\n",
              "    </tr>\n",
              "  </thead>\n",
              "  <tbody>\n",
              "    <tr>\n",
              "      <th>AGRA</th>\n",
              "      <td>1.000000</td>\n",
              "    </tr>\n",
              "    <tr>\n",
              "      <th>ALIGARH</th>\n",
              "      <td>1.000000</td>\n",
              "    </tr>\n",
              "    <tr>\n",
              "      <th>LUCKNOW COLL.</th>\n",
              "      <td>1.000000</td>\n",
              "    </tr>\n",
              "    <tr>\n",
              "      <th>LUCKNOW-JB</th>\n",
              "      <td>1.000000</td>\n",
              "    </tr>\n",
              "    <tr>\n",
              "      <th>MAINPURI</th>\n",
              "      <td>1.000000</td>\n",
              "    </tr>\n",
              "    <tr>\n",
              "      <th>MATHURA</th>\n",
              "      <td>1.000000</td>\n",
              "    </tr>\n",
              "    <tr>\n",
              "      <th>MEERUT SADAR</th>\n",
              "      <td>1.000000</td>\n",
              "    </tr>\n",
              "    <tr>\n",
              "      <th>MIRZAPUR</th>\n",
              "      <td>1.000000</td>\n",
              "    </tr>\n",
              "    <tr>\n",
              "      <th>MUZAFFARNAGAR</th>\n",
              "      <td>1.000000</td>\n",
              "    </tr>\n",
              "    <tr>\n",
              "      <th>ORAI</th>\n",
              "      <td>1.000000</td>\n",
              "    </tr>\n",
              "    <tr>\n",
              "      <th>PRATAPGARH</th>\n",
              "      <td>1.000000</td>\n",
              "    </tr>\n",
              "    <tr>\n",
              "      <th>PRAYAGRAJ-CIV</th>\n",
              "      <td>1.000000</td>\n",
              "    </tr>\n",
              "    <tr>\n",
              "      <th>PRAYAGRAJ-COLL</th>\n",
              "      <td>1.000000</td>\n",
              "    </tr>\n",
              "    <tr>\n",
              "      <th>RAEBARELI</th>\n",
              "      <td>1.000000</td>\n",
              "    </tr>\n",
              "    <tr>\n",
              "      <th>SAHARANPUR</th>\n",
              "      <td>1.000000</td>\n",
              "    </tr>\n",
              "    <tr>\n",
              "      <th>SAMBHAL</th>\n",
              "      <td>1.000000</td>\n",
              "    </tr>\n",
              "    <tr>\n",
              "      <th>SANT KABIR NAGR</th>\n",
              "      <td>1.000000</td>\n",
              "    </tr>\n",
              "    <tr>\n",
              "      <th>SHAHJAHANPUR</th>\n",
              "      <td>1.000000</td>\n",
              "    </tr>\n",
              "    <tr>\n",
              "      <th>SHAMLI</th>\n",
              "      <td>1.000000</td>\n",
              "    </tr>\n",
              "    <tr>\n",
              "      <th>SITAPUR</th>\n",
              "      <td>1.000000</td>\n",
              "    </tr>\n",
              "    <tr>\n",
              "      <th>SULTANPUR</th>\n",
              "      <td>1.000000</td>\n",
              "    </tr>\n",
              "    <tr>\n",
              "      <th>KUSHI NAGAR</th>\n",
              "      <td>1.000000</td>\n",
              "    </tr>\n",
              "    <tr>\n",
              "      <th>KHERI</th>\n",
              "      <td>1.000000</td>\n",
              "    </tr>\n",
              "    <tr>\n",
              "      <th>KANSHI RAM NAGAR</th>\n",
              "      <td>1.000000</td>\n",
              "    </tr>\n",
              "    <tr>\n",
              "      <th>GONDA</th>\n",
              "      <td>1.000000</td>\n",
              "    </tr>\n",
              "    <tr>\n",
              "      <th>AYODHYA</th>\n",
              "      <td>1.000000</td>\n",
              "    </tr>\n",
              "    <tr>\n",
              "      <th>BALLIA</th>\n",
              "      <td>1.000000</td>\n",
              "    </tr>\n",
              "    <tr>\n",
              "      <th>BAREILLY</th>\n",
              "      <td>1.000000</td>\n",
              "    </tr>\n",
              "    <tr>\n",
              "      <th>BULANDSHAHR</th>\n",
              "      <td>1.000000</td>\n",
              "    </tr>\n",
              "    <tr>\n",
              "      <th>CSMAHARAJ NAGAR</th>\n",
              "      <td>1.000000</td>\n",
              "    </tr>\n",
              "    <tr>\n",
              "      <th>FIROZABAD</th>\n",
              "      <td>1.000000</td>\n",
              "    </tr>\n",
              "    <tr>\n",
              "      <th>UNNAO TREASURY</th>\n",
              "      <td>1.000000</td>\n",
              "    </tr>\n",
              "    <tr>\n",
              "      <th>HAPUR</th>\n",
              "      <td>1.000000</td>\n",
              "    </tr>\n",
              "    <tr>\n",
              "      <th>HARDOI</th>\n",
              "      <td>1.000000</td>\n",
              "    </tr>\n",
              "    <tr>\n",
              "      <th>JAUNPUR</th>\n",
              "      <td>1.000000</td>\n",
              "    </tr>\n",
              "    <tr>\n",
              "      <th>KANNAUJ</th>\n",
              "      <td>1.000000</td>\n",
              "    </tr>\n",
              "    <tr>\n",
              "      <th>KANPUR DEHAT</th>\n",
              "      <td>1.000000</td>\n",
              "    </tr>\n",
              "    <tr>\n",
              "      <th>CHANDAULI</th>\n",
              "      <td>0.993789</td>\n",
              "    </tr>\n",
              "    <tr>\n",
              "      <th>BADAUN</th>\n",
              "      <td>0.930598</td>\n",
              "    </tr>\n",
              "    <tr>\n",
              "      <th>GORAKHPUR</th>\n",
              "      <td>0.869706</td>\n",
              "    </tr>\n",
              "    <tr>\n",
              "      <th>DEORIA</th>\n",
              "      <td>0.488520</td>\n",
              "    </tr>\n",
              "    <tr>\n",
              "      <th>MAHARAJGANJ</th>\n",
              "      <td>0.392985</td>\n",
              "    </tr>\n",
              "    <tr>\n",
              "      <th>KANPUR NAGAR</th>\n",
              "      <td>0.000000</td>\n",
              "    </tr>\n",
              "    <tr>\n",
              "      <th>BHADOHI</th>\n",
              "      <td>0.000000</td>\n",
              "    </tr>\n",
              "    <tr>\n",
              "      <th>BASTI</th>\n",
              "      <td>0.000000</td>\n",
              "    </tr>\n",
              "  </tbody>\n",
              "</table>\n",
              "</div>\n",
              "      <button class=\"colab-df-convert\" onclick=\"convertToInteractive('df-2cd5470d-df7f-42ea-9f53-cca91e73e51d')\"\n",
              "              title=\"Convert this dataframe to an interactive table.\"\n",
              "              style=\"display:none;\">\n",
              "        \n",
              "  <svg xmlns=\"http://www.w3.org/2000/svg\" height=\"24px\"viewBox=\"0 0 24 24\"\n",
              "       width=\"24px\">\n",
              "    <path d=\"M0 0h24v24H0V0z\" fill=\"none\"/>\n",
              "    <path d=\"M18.56 5.44l.94 2.06.94-2.06 2.06-.94-2.06-.94-.94-2.06-.94 2.06-2.06.94zm-11 1L8.5 8.5l.94-2.06 2.06-.94-2.06-.94L8.5 2.5l-.94 2.06-2.06.94zm10 10l.94 2.06.94-2.06 2.06-.94-2.06-.94-.94-2.06-.94 2.06-2.06.94z\"/><path d=\"M17.41 7.96l-1.37-1.37c-.4-.4-.92-.59-1.43-.59-.52 0-1.04.2-1.43.59L10.3 9.45l-7.72 7.72c-.78.78-.78 2.05 0 2.83L4 21.41c.39.39.9.59 1.41.59.51 0 1.02-.2 1.41-.59l7.78-7.78 2.81-2.81c.8-.78.8-2.07 0-2.86zM5.41 20L4 18.59l7.72-7.72 1.47 1.35L5.41 20z\"/>\n",
              "  </svg>\n",
              "      </button>\n",
              "      \n",
              "  <style>\n",
              "    .colab-df-container {\n",
              "      display:flex;\n",
              "      flex-wrap:wrap;\n",
              "      gap: 12px;\n",
              "    }\n",
              "\n",
              "    .colab-df-convert {\n",
              "      background-color: #E8F0FE;\n",
              "      border: none;\n",
              "      border-radius: 50%;\n",
              "      cursor: pointer;\n",
              "      display: none;\n",
              "      fill: #1967D2;\n",
              "      height: 32px;\n",
              "      padding: 0 0 0 0;\n",
              "      width: 32px;\n",
              "    }\n",
              "\n",
              "    .colab-df-convert:hover {\n",
              "      background-color: #E2EBFA;\n",
              "      box-shadow: 0px 1px 2px rgba(60, 64, 67, 0.3), 0px 1px 3px 1px rgba(60, 64, 67, 0.15);\n",
              "      fill: #174EA6;\n",
              "    }\n",
              "\n",
              "    [theme=dark] .colab-df-convert {\n",
              "      background-color: #3B4455;\n",
              "      fill: #D2E3FC;\n",
              "    }\n",
              "\n",
              "    [theme=dark] .colab-df-convert:hover {\n",
              "      background-color: #434B5C;\n",
              "      box-shadow: 0px 1px 3px 1px rgba(0, 0, 0, 0.15);\n",
              "      filter: drop-shadow(0px 1px 2px rgba(0, 0, 0, 0.3));\n",
              "      fill: #FFFFFF;\n",
              "    }\n",
              "  </style>\n",
              "\n",
              "      <script>\n",
              "        const buttonEl =\n",
              "          document.querySelector('#df-2cd5470d-df7f-42ea-9f53-cca91e73e51d button.colab-df-convert');\n",
              "        buttonEl.style.display =\n",
              "          google.colab.kernel.accessAllowed ? 'block' : 'none';\n",
              "\n",
              "        async function convertToInteractive(key) {\n",
              "          const element = document.querySelector('#df-2cd5470d-df7f-42ea-9f53-cca91e73e51d');\n",
              "          const dataTable =\n",
              "            await google.colab.kernel.invokeFunction('convertToInteractive',\n",
              "                                                     [key], {});\n",
              "          if (!dataTable) return;\n",
              "\n",
              "          const docLinkHtml = 'Like what you see? Visit the ' +\n",
              "            '<a target=\"_blank\" href=https://colab.research.google.com/notebooks/data_table.ipynb>data table notebook</a>'\n",
              "            + ' to learn more about interactive tables.';\n",
              "          element.innerHTML = '';\n",
              "          dataTable['output_type'] = 'display_data';\n",
              "          await google.colab.output.renderOutput(dataTable, element);\n",
              "          const docLink = document.createElement('div');\n",
              "          docLink.innerHTML = docLinkHtml;\n",
              "          element.appendChild(docLink);\n",
              "        }\n",
              "      </script>\n",
              "    </div>\n",
              "  </div>\n",
              "  "
            ]
          },
          "metadata": {},
          "execution_count": 24
        }
      ]
    },
    {
      "cell_type": "code",
      "source": [
        "op[0].value_counts()"
      ],
      "metadata": {
        "colab": {
          "base_uri": "https://localhost:8080/"
        },
        "id": "tX77AO02yYvD",
        "outputId": "aab77702-b6c0-45da-fc3b-fd043665f31b"
      },
      "execution_count": 27,
      "outputs": [
        {
          "output_type": "execute_result",
          "data": {
            "text/plain": [
              "1.000000    37\n",
              "0.000000     3\n",
              "0.993789     1\n",
              "0.930598     1\n",
              "0.869706     1\n",
              "0.488520     1\n",
              "0.392985     1\n",
              "Name: 0, dtype: int64"
            ]
          },
          "metadata": {},
          "execution_count": 27
        }
      ]
    },
    {
      "cell_type": "markdown",
      "source": [
        "It was found that **37 Distrcits** utilized 100% of their allocated funds for capital expenditure\n",
        "\n"
      ],
      "metadata": {
        "id": "lwDyw0Byxy7b"
      }
    },
    {
      "cell_type": "markdown",
      "source": [
        "Revenue Expenditure"
      ],
      "metadata": {
        "id": "OP_IedGl6cbL"
      }
    },
    {
      "cell_type": "code",
      "source": [
        "op = pd.DataFrame((rev_exp['Total Expenditure Upto Month (March)'].groupby(rev_exp['Treasury']).sum())/rev_exp['Progressive Allotment'].groupby(rev_exp['Treasury']).sum()).sort_values(by=0, ascending=False)\n",
        "op"
      ],
      "metadata": {
        "colab": {
          "base_uri": "https://localhost:8080/",
          "height": 455
        },
        "id": "6afZaMbK6Xhy",
        "outputId": "fa4cbef7-022e-4bea-ab1b-69e196eadcb7"
      },
      "execution_count": 28,
      "outputs": [
        {
          "output_type": "execute_result",
          "data": {
            "text/plain": [
              "                        0\n",
              "Treasury                 \n",
              "LUCKNOW COLL.    1.303690\n",
              "LUCKNOW-JB       0.980773\n",
              "TRY.SONBHADRA    0.966386\n",
              "BULANDSHAHR      0.953890\n",
              "BALLIA           0.951839\n",
              "...                   ...\n",
              "HAPUR            0.850043\n",
              "SRAWASTI         0.850031\n",
              "AURAIYA          0.846283\n",
              "SIDDHARTH NAGAR  0.839131\n",
              "G.B.NAGAR        0.834083\n",
              "\n",
              "[77 rows x 1 columns]"
            ],
            "text/html": [
              "\n",
              "  <div id=\"df-8be3f9a8-0d71-4cca-8316-019fd08e84cd\">\n",
              "    <div class=\"colab-df-container\">\n",
              "      <div>\n",
              "<style scoped>\n",
              "    .dataframe tbody tr th:only-of-type {\n",
              "        vertical-align: middle;\n",
              "    }\n",
              "\n",
              "    .dataframe tbody tr th {\n",
              "        vertical-align: top;\n",
              "    }\n",
              "\n",
              "    .dataframe thead th {\n",
              "        text-align: right;\n",
              "    }\n",
              "</style>\n",
              "<table border=\"1\" class=\"dataframe\">\n",
              "  <thead>\n",
              "    <tr style=\"text-align: right;\">\n",
              "      <th></th>\n",
              "      <th>0</th>\n",
              "    </tr>\n",
              "    <tr>\n",
              "      <th>Treasury</th>\n",
              "      <th></th>\n",
              "    </tr>\n",
              "  </thead>\n",
              "  <tbody>\n",
              "    <tr>\n",
              "      <th>LUCKNOW COLL.</th>\n",
              "      <td>1.303690</td>\n",
              "    </tr>\n",
              "    <tr>\n",
              "      <th>LUCKNOW-JB</th>\n",
              "      <td>0.980773</td>\n",
              "    </tr>\n",
              "    <tr>\n",
              "      <th>TRY.SONBHADRA</th>\n",
              "      <td>0.966386</td>\n",
              "    </tr>\n",
              "    <tr>\n",
              "      <th>BULANDSHAHR</th>\n",
              "      <td>0.953890</td>\n",
              "    </tr>\n",
              "    <tr>\n",
              "      <th>BALLIA</th>\n",
              "      <td>0.951839</td>\n",
              "    </tr>\n",
              "    <tr>\n",
              "      <th>...</th>\n",
              "      <td>...</td>\n",
              "    </tr>\n",
              "    <tr>\n",
              "      <th>HAPUR</th>\n",
              "      <td>0.850043</td>\n",
              "    </tr>\n",
              "    <tr>\n",
              "      <th>SRAWASTI</th>\n",
              "      <td>0.850031</td>\n",
              "    </tr>\n",
              "    <tr>\n",
              "      <th>AURAIYA</th>\n",
              "      <td>0.846283</td>\n",
              "    </tr>\n",
              "    <tr>\n",
              "      <th>SIDDHARTH NAGAR</th>\n",
              "      <td>0.839131</td>\n",
              "    </tr>\n",
              "    <tr>\n",
              "      <th>G.B.NAGAR</th>\n",
              "      <td>0.834083</td>\n",
              "    </tr>\n",
              "  </tbody>\n",
              "</table>\n",
              "<p>77 rows × 1 columns</p>\n",
              "</div>\n",
              "      <button class=\"colab-df-convert\" onclick=\"convertToInteractive('df-8be3f9a8-0d71-4cca-8316-019fd08e84cd')\"\n",
              "              title=\"Convert this dataframe to an interactive table.\"\n",
              "              style=\"display:none;\">\n",
              "        \n",
              "  <svg xmlns=\"http://www.w3.org/2000/svg\" height=\"24px\"viewBox=\"0 0 24 24\"\n",
              "       width=\"24px\">\n",
              "    <path d=\"M0 0h24v24H0V0z\" fill=\"none\"/>\n",
              "    <path d=\"M18.56 5.44l.94 2.06.94-2.06 2.06-.94-2.06-.94-.94-2.06-.94 2.06-2.06.94zm-11 1L8.5 8.5l.94-2.06 2.06-.94-2.06-.94L8.5 2.5l-.94 2.06-2.06.94zm10 10l.94 2.06.94-2.06 2.06-.94-2.06-.94-.94-2.06-.94 2.06-2.06.94z\"/><path d=\"M17.41 7.96l-1.37-1.37c-.4-.4-.92-.59-1.43-.59-.52 0-1.04.2-1.43.59L10.3 9.45l-7.72 7.72c-.78.78-.78 2.05 0 2.83L4 21.41c.39.39.9.59 1.41.59.51 0 1.02-.2 1.41-.59l7.78-7.78 2.81-2.81c.8-.78.8-2.07 0-2.86zM5.41 20L4 18.59l7.72-7.72 1.47 1.35L5.41 20z\"/>\n",
              "  </svg>\n",
              "      </button>\n",
              "      \n",
              "  <style>\n",
              "    .colab-df-container {\n",
              "      display:flex;\n",
              "      flex-wrap:wrap;\n",
              "      gap: 12px;\n",
              "    }\n",
              "\n",
              "    .colab-df-convert {\n",
              "      background-color: #E8F0FE;\n",
              "      border: none;\n",
              "      border-radius: 50%;\n",
              "      cursor: pointer;\n",
              "      display: none;\n",
              "      fill: #1967D2;\n",
              "      height: 32px;\n",
              "      padding: 0 0 0 0;\n",
              "      width: 32px;\n",
              "    }\n",
              "\n",
              "    .colab-df-convert:hover {\n",
              "      background-color: #E2EBFA;\n",
              "      box-shadow: 0px 1px 2px rgba(60, 64, 67, 0.3), 0px 1px 3px 1px rgba(60, 64, 67, 0.15);\n",
              "      fill: #174EA6;\n",
              "    }\n",
              "\n",
              "    [theme=dark] .colab-df-convert {\n",
              "      background-color: #3B4455;\n",
              "      fill: #D2E3FC;\n",
              "    }\n",
              "\n",
              "    [theme=dark] .colab-df-convert:hover {\n",
              "      background-color: #434B5C;\n",
              "      box-shadow: 0px 1px 3px 1px rgba(0, 0, 0, 0.15);\n",
              "      filter: drop-shadow(0px 1px 2px rgba(0, 0, 0, 0.3));\n",
              "      fill: #FFFFFF;\n",
              "    }\n",
              "  </style>\n",
              "\n",
              "      <script>\n",
              "        const buttonEl =\n",
              "          document.querySelector('#df-8be3f9a8-0d71-4cca-8316-019fd08e84cd button.colab-df-convert');\n",
              "        buttonEl.style.display =\n",
              "          google.colab.kernel.accessAllowed ? 'block' : 'none';\n",
              "\n",
              "        async function convertToInteractive(key) {\n",
              "          const element = document.querySelector('#df-8be3f9a8-0d71-4cca-8316-019fd08e84cd');\n",
              "          const dataTable =\n",
              "            await google.colab.kernel.invokeFunction('convertToInteractive',\n",
              "                                                     [key], {});\n",
              "          if (!dataTable) return;\n",
              "\n",
              "          const docLinkHtml = 'Like what you see? Visit the ' +\n",
              "            '<a target=\"_blank\" href=https://colab.research.google.com/notebooks/data_table.ipynb>data table notebook</a>'\n",
              "            + ' to learn more about interactive tables.';\n",
              "          element.innerHTML = '';\n",
              "          dataTable['output_type'] = 'display_data';\n",
              "          await google.colab.output.renderOutput(dataTable, element);\n",
              "          const docLink = document.createElement('div');\n",
              "          docLink.innerHTML = docLinkHtml;\n",
              "          element.appendChild(docLink);\n",
              "        }\n",
              "      </script>\n",
              "    </div>\n",
              "  </div>\n",
              "  "
            ]
          },
          "metadata": {},
          "execution_count": 28
        }
      ]
    },
    {
      "cell_type": "markdown",
      "source": [
        "We can infer that Lucknow Coll. district ranked first in the total revenue expenditure"
      ],
      "metadata": {
        "id": "lSPzXA41zzbp"
      }
    }
  ]
}