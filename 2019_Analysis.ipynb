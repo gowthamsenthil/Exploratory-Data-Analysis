{
  "nbformat": 4,
  "nbformat_minor": 0,
  "metadata": {
    "colab": {
      "name": "2019_Analysis.ipynb",
      "provenance": [],
      "toc_visible": true
    },
    "kernelspec": {
      "name": "python3",
      "display_name": "Python 3"
    },
    "language_info": {
      "name": "python"
    }
  },
  "cells": [
    {
      "cell_type": "markdown",
      "source": [
        "#2019 Dataset"
      ],
      "metadata": {
        "id": "YoHfh7Vz-nH1"
      }
    },
    {
      "cell_type": "markdown",
      "source": [
        "Mounting Google Drive, where the dataset is stored"
      ],
      "metadata": {
        "id": "LKJT9yrB-yHk"
      }
    },
    {
      "cell_type": "code",
      "source": [
        "from google.colab import drive\n",
        "drive.mount('/content/drive')"
      ],
      "metadata": {
        "colab": {
          "base_uri": "https://localhost:8080/"
        },
        "id": "FRLqHwQoO-SP",
        "outputId": "eabf76f0-c4b7-453b-bd4f-3292bcb04b26"
      },
      "execution_count": 1,
      "outputs": [
        {
          "output_type": "stream",
          "name": "stdout",
          "text": [
            "Drive already mounted at /content/drive; to attempt to forcibly remount, call drive.mount(\"/content/drive\", force_remount=True).\n"
          ]
        }
      ]
    },
    {
      "cell_type": "markdown",
      "source": [
        "Importing libraries and dataset"
      ],
      "metadata": {
        "id": "ExLHGKXf_-zb"
      }
    },
    {
      "cell_type": "code",
      "execution_count": 2,
      "metadata": {
        "id": "br1gI4lyM3aM"
      },
      "outputs": [],
      "source": [
        "import pandas as pd\n",
        "import numpy as np \n",
        "import matplotlib.pyplot as plt\n",
        "\n",
        "\n",
        "data = pd.read_csv (r'/content/drive/MyDrive/district_level_mapping_2019.csv')"
      ]
    },
    {
      "cell_type": "markdown",
      "source": [
        "#1. Overview of the dataset"
      ],
      "metadata": {
        "id": "Mzw7gpTXDIOe"
      }
    },
    {
      "cell_type": "code",
      "source": [
        "data.head()"
      ],
      "metadata": {
        "colab": {
          "base_uri": "https://localhost:8080/",
          "height": 426
        },
        "id": "6DpWQBNeDj9M",
        "outputId": "c2dd76c3-dc28-4fd5-d6e6-86b401f5d018"
      },
      "execution_count": 3,
      "outputs": [
        {
          "output_type": "execute_result",
          "data": {
            "text/plain": [
              "   Division Code Division Description  Treasury Code Treasury  Grant Number  \\\n",
              "0          800.0                 AGRA            8.0     AGRA             1   \n",
              "1          800.0                 AGRA            8.0     AGRA             1   \n",
              "2          800.0                 AGRA            8.0     AGRA             1   \n",
              "3          800.0                 AGRA            8.0     AGRA             1   \n",
              "4          800.0                 AGRA            8.0     AGRA             1   \n",
              "\n",
              "  Grant Head Description  Major Head Code Major Head Description  \\\n",
              "0           आबकारी विभाग             2039     राज्य उत्पाद शुल्क   \n",
              "1           आबकारी विभाग             2039     राज्य उत्पाद शुल्क   \n",
              "2           आबकारी विभाग             2039     राज्य उत्पाद शुल्क   \n",
              "3           आबकारी विभाग             2039     राज्य उत्पाद शुल्क   \n",
              "4           आबकारी विभाग             2039     राज्य उत्पाद शुल्क   \n",
              "\n",
              "     Scheme Code Scheme Code Description  Standard Object Code  \\\n",
              "0  2039000010300                 अधीक्षण                     1   \n",
              "1  2039000010300                 अधीक्षण                     3   \n",
              "2  2039000010300                 अधीक्षण                     4   \n",
              "3  2039000010300                 अधीक्षण                     5   \n",
              "4  2039000010300                 अधीक्षण                     6   \n",
              "\n",
              "  Standard Object Description Plan / Non-Plan Voted / Charged fiscal_year  \\\n",
              "0                        वेतन               N               V   2019-2020   \n",
              "1                मंहगाई भत्ता               N               V   2019-2020   \n",
              "2                 यात्रा व्यय               N               V   2019-2020   \n",
              "3     स्थानान्तरण यात्रा व्यय               N               V   2019-2020   \n",
              "4                  अन्य भत्ते               N               V   2019-2020   \n",
              "\n",
              "   Progressive Allotment  Actual Progressive Expenditure upto month (October)  \\\n",
              "0                6466568                                          6089232.0     \n",
              "1                1100048                                           853241.0     \n",
              "2                  10000                                            10000.0     \n",
              "3                  57800                                            54450.0     \n",
              "4                  14340                                            14120.0     \n",
              "\n",
              "   Provisional Current Month Expenditure(November)  \\\n",
              "0                                                0   \n",
              "1                                                0   \n",
              "2                                                0   \n",
              "3                                                0   \n",
              "4                                                0   \n",
              "\n",
              "   Total Expenditure Upto Month (November)   % A/E  \n",
              "0                                6089232.0   94.16  \n",
              "1                                 853241.0   77.56  \n",
              "2                                  10000.0  100.00  \n",
              "3                                  54450.0   94.20  \n",
              "4                                  14120.0   98.47  "
            ],
            "text/html": [
              "\n",
              "  <div id=\"df-54e8c614-e589-4355-a5fc-2f75b6ef8a9c\">\n",
              "    <div class=\"colab-df-container\">\n",
              "      <div>\n",
              "<style scoped>\n",
              "    .dataframe tbody tr th:only-of-type {\n",
              "        vertical-align: middle;\n",
              "    }\n",
              "\n",
              "    .dataframe tbody tr th {\n",
              "        vertical-align: top;\n",
              "    }\n",
              "\n",
              "    .dataframe thead th {\n",
              "        text-align: right;\n",
              "    }\n",
              "</style>\n",
              "<table border=\"1\" class=\"dataframe\">\n",
              "  <thead>\n",
              "    <tr style=\"text-align: right;\">\n",
              "      <th></th>\n",
              "      <th>Division Code</th>\n",
              "      <th>Division Description</th>\n",
              "      <th>Treasury Code</th>\n",
              "      <th>Treasury</th>\n",
              "      <th>Grant Number</th>\n",
              "      <th>Grant Head Description</th>\n",
              "      <th>Major Head Code</th>\n",
              "      <th>Major Head Description</th>\n",
              "      <th>Scheme Code</th>\n",
              "      <th>Scheme Code Description</th>\n",
              "      <th>Standard Object Code</th>\n",
              "      <th>Standard Object Description</th>\n",
              "      <th>Plan / Non-Plan</th>\n",
              "      <th>Voted / Charged</th>\n",
              "      <th>fiscal_year</th>\n",
              "      <th>Progressive Allotment</th>\n",
              "      <th>Actual Progressive Expenditure upto month (October)</th>\n",
              "      <th>Provisional Current Month Expenditure(November)</th>\n",
              "      <th>Total Expenditure Upto Month (November)</th>\n",
              "      <th>% A/E</th>\n",
              "    </tr>\n",
              "  </thead>\n",
              "  <tbody>\n",
              "    <tr>\n",
              "      <th>0</th>\n",
              "      <td>800.0</td>\n",
              "      <td>AGRA</td>\n",
              "      <td>8.0</td>\n",
              "      <td>AGRA</td>\n",
              "      <td>1</td>\n",
              "      <td>आबकारी विभाग</td>\n",
              "      <td>2039</td>\n",
              "      <td>राज्य उत्पाद शुल्क</td>\n",
              "      <td>2039000010300</td>\n",
              "      <td>अधीक्षण</td>\n",
              "      <td>1</td>\n",
              "      <td>वेतन</td>\n",
              "      <td>N</td>\n",
              "      <td>V</td>\n",
              "      <td>2019-2020</td>\n",
              "      <td>6466568</td>\n",
              "      <td>6089232.0</td>\n",
              "      <td>0</td>\n",
              "      <td>6089232.0</td>\n",
              "      <td>94.16</td>\n",
              "    </tr>\n",
              "    <tr>\n",
              "      <th>1</th>\n",
              "      <td>800.0</td>\n",
              "      <td>AGRA</td>\n",
              "      <td>8.0</td>\n",
              "      <td>AGRA</td>\n",
              "      <td>1</td>\n",
              "      <td>आबकारी विभाग</td>\n",
              "      <td>2039</td>\n",
              "      <td>राज्य उत्पाद शुल्क</td>\n",
              "      <td>2039000010300</td>\n",
              "      <td>अधीक्षण</td>\n",
              "      <td>3</td>\n",
              "      <td>मंहगाई भत्ता</td>\n",
              "      <td>N</td>\n",
              "      <td>V</td>\n",
              "      <td>2019-2020</td>\n",
              "      <td>1100048</td>\n",
              "      <td>853241.0</td>\n",
              "      <td>0</td>\n",
              "      <td>853241.0</td>\n",
              "      <td>77.56</td>\n",
              "    </tr>\n",
              "    <tr>\n",
              "      <th>2</th>\n",
              "      <td>800.0</td>\n",
              "      <td>AGRA</td>\n",
              "      <td>8.0</td>\n",
              "      <td>AGRA</td>\n",
              "      <td>1</td>\n",
              "      <td>आबकारी विभाग</td>\n",
              "      <td>2039</td>\n",
              "      <td>राज्य उत्पाद शुल्क</td>\n",
              "      <td>2039000010300</td>\n",
              "      <td>अधीक्षण</td>\n",
              "      <td>4</td>\n",
              "      <td>यात्रा व्यय</td>\n",
              "      <td>N</td>\n",
              "      <td>V</td>\n",
              "      <td>2019-2020</td>\n",
              "      <td>10000</td>\n",
              "      <td>10000.0</td>\n",
              "      <td>0</td>\n",
              "      <td>10000.0</td>\n",
              "      <td>100.00</td>\n",
              "    </tr>\n",
              "    <tr>\n",
              "      <th>3</th>\n",
              "      <td>800.0</td>\n",
              "      <td>AGRA</td>\n",
              "      <td>8.0</td>\n",
              "      <td>AGRA</td>\n",
              "      <td>1</td>\n",
              "      <td>आबकारी विभाग</td>\n",
              "      <td>2039</td>\n",
              "      <td>राज्य उत्पाद शुल्क</td>\n",
              "      <td>2039000010300</td>\n",
              "      <td>अधीक्षण</td>\n",
              "      <td>5</td>\n",
              "      <td>स्थानान्तरण यात्रा व्यय</td>\n",
              "      <td>N</td>\n",
              "      <td>V</td>\n",
              "      <td>2019-2020</td>\n",
              "      <td>57800</td>\n",
              "      <td>54450.0</td>\n",
              "      <td>0</td>\n",
              "      <td>54450.0</td>\n",
              "      <td>94.20</td>\n",
              "    </tr>\n",
              "    <tr>\n",
              "      <th>4</th>\n",
              "      <td>800.0</td>\n",
              "      <td>AGRA</td>\n",
              "      <td>8.0</td>\n",
              "      <td>AGRA</td>\n",
              "      <td>1</td>\n",
              "      <td>आबकारी विभाग</td>\n",
              "      <td>2039</td>\n",
              "      <td>राज्य उत्पाद शुल्क</td>\n",
              "      <td>2039000010300</td>\n",
              "      <td>अधीक्षण</td>\n",
              "      <td>6</td>\n",
              "      <td>अन्य भत्ते</td>\n",
              "      <td>N</td>\n",
              "      <td>V</td>\n",
              "      <td>2019-2020</td>\n",
              "      <td>14340</td>\n",
              "      <td>14120.0</td>\n",
              "      <td>0</td>\n",
              "      <td>14120.0</td>\n",
              "      <td>98.47</td>\n",
              "    </tr>\n",
              "  </tbody>\n",
              "</table>\n",
              "</div>\n",
              "      <button class=\"colab-df-convert\" onclick=\"convertToInteractive('df-54e8c614-e589-4355-a5fc-2f75b6ef8a9c')\"\n",
              "              title=\"Convert this dataframe to an interactive table.\"\n",
              "              style=\"display:none;\">\n",
              "        \n",
              "  <svg xmlns=\"http://www.w3.org/2000/svg\" height=\"24px\"viewBox=\"0 0 24 24\"\n",
              "       width=\"24px\">\n",
              "    <path d=\"M0 0h24v24H0V0z\" fill=\"none\"/>\n",
              "    <path d=\"M18.56 5.44l.94 2.06.94-2.06 2.06-.94-2.06-.94-.94-2.06-.94 2.06-2.06.94zm-11 1L8.5 8.5l.94-2.06 2.06-.94-2.06-.94L8.5 2.5l-.94 2.06-2.06.94zm10 10l.94 2.06.94-2.06 2.06-.94-2.06-.94-.94-2.06-.94 2.06-2.06.94z\"/><path d=\"M17.41 7.96l-1.37-1.37c-.4-.4-.92-.59-1.43-.59-.52 0-1.04.2-1.43.59L10.3 9.45l-7.72 7.72c-.78.78-.78 2.05 0 2.83L4 21.41c.39.39.9.59 1.41.59.51 0 1.02-.2 1.41-.59l7.78-7.78 2.81-2.81c.8-.78.8-2.07 0-2.86zM5.41 20L4 18.59l7.72-7.72 1.47 1.35L5.41 20z\"/>\n",
              "  </svg>\n",
              "      </button>\n",
              "      \n",
              "  <style>\n",
              "    .colab-df-container {\n",
              "      display:flex;\n",
              "      flex-wrap:wrap;\n",
              "      gap: 12px;\n",
              "    }\n",
              "\n",
              "    .colab-df-convert {\n",
              "      background-color: #E8F0FE;\n",
              "      border: none;\n",
              "      border-radius: 50%;\n",
              "      cursor: pointer;\n",
              "      display: none;\n",
              "      fill: #1967D2;\n",
              "      height: 32px;\n",
              "      padding: 0 0 0 0;\n",
              "      width: 32px;\n",
              "    }\n",
              "\n",
              "    .colab-df-convert:hover {\n",
              "      background-color: #E2EBFA;\n",
              "      box-shadow: 0px 1px 2px rgba(60, 64, 67, 0.3), 0px 1px 3px 1px rgba(60, 64, 67, 0.15);\n",
              "      fill: #174EA6;\n",
              "    }\n",
              "\n",
              "    [theme=dark] .colab-df-convert {\n",
              "      background-color: #3B4455;\n",
              "      fill: #D2E3FC;\n",
              "    }\n",
              "\n",
              "    [theme=dark] .colab-df-convert:hover {\n",
              "      background-color: #434B5C;\n",
              "      box-shadow: 0px 1px 3px 1px rgba(0, 0, 0, 0.15);\n",
              "      filter: drop-shadow(0px 1px 2px rgba(0, 0, 0, 0.3));\n",
              "      fill: #FFFFFF;\n",
              "    }\n",
              "  </style>\n",
              "\n",
              "      <script>\n",
              "        const buttonEl =\n",
              "          document.querySelector('#df-54e8c614-e589-4355-a5fc-2f75b6ef8a9c button.colab-df-convert');\n",
              "        buttonEl.style.display =\n",
              "          google.colab.kernel.accessAllowed ? 'block' : 'none';\n",
              "\n",
              "        async function convertToInteractive(key) {\n",
              "          const element = document.querySelector('#df-54e8c614-e589-4355-a5fc-2f75b6ef8a9c');\n",
              "          const dataTable =\n",
              "            await google.colab.kernel.invokeFunction('convertToInteractive',\n",
              "                                                     [key], {});\n",
              "          if (!dataTable) return;\n",
              "\n",
              "          const docLinkHtml = 'Like what you see? Visit the ' +\n",
              "            '<a target=\"_blank\" href=https://colab.research.google.com/notebooks/data_table.ipynb>data table notebook</a>'\n",
              "            + ' to learn more about interactive tables.';\n",
              "          element.innerHTML = '';\n",
              "          dataTable['output_type'] = 'display_data';\n",
              "          await google.colab.output.renderOutput(dataTable, element);\n",
              "          const docLink = document.createElement('div');\n",
              "          docLink.innerHTML = docLinkHtml;\n",
              "          element.appendChild(docLink);\n",
              "        }\n",
              "      </script>\n",
              "    </div>\n",
              "  </div>\n",
              "  "
            ]
          },
          "metadata": {},
          "execution_count": 3
        }
      ]
    },
    {
      "cell_type": "code",
      "source": [
        "data.info()"
      ],
      "metadata": {
        "colab": {
          "base_uri": "https://localhost:8080/"
        },
        "id": "gZS0Wi_SDqcG",
        "outputId": "c358b7bb-8475-4825-cfa9-89a071cc4de6"
      },
      "execution_count": 4,
      "outputs": [
        {
          "output_type": "stream",
          "name": "stdout",
          "text": [
            "<class 'pandas.core.frame.DataFrame'>\n",
            "RangeIndex: 330266 entries, 0 to 330265\n",
            "Data columns (total 20 columns):\n",
            " #   Column                                               Non-Null Count   Dtype  \n",
            "---  ------                                               --------------   -----  \n",
            " 0   Division Code                                        328988 non-null  float64\n",
            " 1   Division Description                                 328988 non-null  object \n",
            " 2   Treasury Code                                        328988 non-null  float64\n",
            " 3   Treasury                                             330266 non-null  object \n",
            " 4   Grant Number                                         330266 non-null  int64  \n",
            " 5   Grant Head Description                               330266 non-null  object \n",
            " 6   Major Head Code                                      330266 non-null  int64  \n",
            " 7   Major Head Description                               329672 non-null  object \n",
            " 8   Scheme Code                                          330266 non-null  int64  \n",
            " 9   Scheme Code Description                              330266 non-null  object \n",
            " 10  Standard Object Code                                 330266 non-null  int64  \n",
            " 11  Standard Object Description                          330266 non-null  object \n",
            " 12  Plan / Non-Plan                                      330266 non-null  object \n",
            " 13  Voted / Charged                                      330266 non-null  object \n",
            " 14  fiscal_year                                          330266 non-null  object \n",
            " 15  Progressive Allotment                                330266 non-null  int64  \n",
            " 16  Actual Progressive Expenditure upto month (October)  330266 non-null  float64\n",
            " 17  Provisional Current Month Expenditure(November)      330266 non-null  int64  \n",
            " 18  Total Expenditure Upto Month (November)              330266 non-null  float64\n",
            " 19  % A/E                                                330266 non-null  float64\n",
            "dtypes: float64(5), int64(6), object(9)\n",
            "memory usage: 50.4+ MB\n"
          ]
        }
      ]
    },
    {
      "cell_type": "code",
      "source": [
        "data.isnull().sum()"
      ],
      "metadata": {
        "colab": {
          "base_uri": "https://localhost:8080/"
        },
        "id": "JmeZ9R7p7DUr",
        "outputId": "9cc1bfb2-f97a-4003-d074-3d69bff21371"
      },
      "execution_count": 5,
      "outputs": [
        {
          "output_type": "execute_result",
          "data": {
            "text/plain": [
              "Division Code                                          1278\n",
              "Division Description                                   1278\n",
              "Treasury Code                                          1278\n",
              "Treasury                                                  0\n",
              "Grant Number                                              0\n",
              "Grant Head Description                                    0\n",
              "Major Head Code                                           0\n",
              "Major Head Description                                  594\n",
              "Scheme Code                                               0\n",
              "Scheme Code Description                                   0\n",
              "Standard Object Code                                      0\n",
              "Standard Object Description                               0\n",
              "Plan / Non-Plan                                           0\n",
              "Voted / Charged                                           0\n",
              "fiscal_year                                               0\n",
              "Progressive Allotment                                     0\n",
              "Actual Progressive Expenditure upto month (October)       0\n",
              "Provisional Current Month Expenditure(November)           0\n",
              "Total Expenditure Upto Month (November)                   0\n",
              "% A/E                                                     0\n",
              "dtype: int64"
            ]
          },
          "metadata": {},
          "execution_count": 5
        }
      ]
    },
    {
      "cell_type": "markdown",
      "source": [
        "Assuming the fact that school education does not include  University and Higher Education, Adult education and Language Development.\n",
        "\n",
        "\n"
      ],
      "metadata": {
        "id": "VcoNtUWU8GT9"
      }
    },
    {
      "cell_type": "markdown",
      "source": [
        "#2. Filtering Data with respect to School Eucation"
      ],
      "metadata": {
        "id": "MTxdTQMjDUiQ"
      }
    },
    {
      "cell_type": "markdown",
      "source": [
        "Identifying the different Grant Heads"
      ],
      "metadata": {
        "id": "6gDUA07nDaby"
      }
    },
    {
      "cell_type": "code",
      "source": [
        "data['Grant Head Description'].unique()"
      ],
      "metadata": {
        "colab": {
          "base_uri": "https://localhost:8080/"
        },
        "id": "NMwbnXl3Dg6s",
        "outputId": "3151edec-3a05-4f78-f675-24aa662d009b"
      },
      "execution_count": 6,
      "outputs": [
        {
          "output_type": "execute_result",
          "data": {
            "text/plain": [
              "array(['आबकारी विभाग', 'आवास विभाग',\n",
              "       'उद्योग विभाग (लघु उद्योग एवं निर्यात प्रोत्साहन)',\n",
              "       'उद्योग विभाग (खानें और खनिज)',\n",
              "       'उद्योग विभाग (खादी एवं ग्रामोद्योग)',\n",
              "       'उद्योग विभाग (हथकरघा उद्योग)',\n",
              "       'उद्योग विभाग (भारी एवं मध्यम उद्योग)',\n",
              "       'उद्योग विभाग (मुद्रण तथा लेखन सामग्री )', 'ऊर्जा विभाग',\n",
              "       'कृषि तथा अन्य सम्बद्ध विभाग (औद्यानिक एवं रेशम विकास)',\n",
              "       'कृषि तथा अन्य सम्बद्ध विभाग (कृषि)',\n",
              "       'कृषि तथा अन्य सम्बद्ध विभाग (भूमि विकास एवं जल संसाधन)',\n",
              "       'कृषि तथा अन्य सम्बद्ध विभाग (ग्राम्य विकास)',\n",
              "       'कृषि तथा अन्य सम्बद्ध विभाग (पंचायती राज)',\n",
              "       'कृषि तथा अन्य सम्बद्ध विभाग ((पशुधन)',\n",
              "       'कृषि तथा अन्य सम्बद्ध विभाग (दुग्धशाला विकास)',\n",
              "       'कृषि तथा अन्य सम्बद्ध विभाग (मत्स्य)',\n",
              "       'कृषि तथा अन्य सम्बद्ध विभाग (सहकारिता)',\n",
              "       'कार्मिक विभाग (प्रशिक्षण तथा अन्य व्यय)',\n",
              "       'कार्मिक विभाग (लोक सेवा आयोग )', 'खाद्य तथा रसद विभाग',\n",
              "       'खेल विभाग', 'गन्ना विकास विभाग (गन्ना)',\n",
              "       'गन्ना विकास विभाग (चीनी उद्योग)', 'गृह विभाग (कारागार)',\n",
              "       'गृह विभाग (पुलिस)', 'गृह विभाग (नागरिक सुरक्षा)',\n",
              "       'गृह विभाग (राजनैतिक पेंशन तथा अन्य व्यय)',\n",
              "       'गोपन विभाग (राज्यपाल सचिवालय)',\n",
              "       'गोपन विभाग(राजस्व विशिष्ट अभिसूचना निदेशालय तथा अन्य व्यय)',\n",
              "       'चिकित्सा विभाग (चिकित्सा, शिक्षा एवं प्रशिक्षण)',\n",
              "       'चिकित्सा विभाग (एलोपैथी चिकित्सा)',\n",
              "       'चिकित्सा विभाग (आयुर्वेदिक एवं यूनानी चिकित्सा)',\n",
              "       'चिकित्सा विभाग (होम्योपैथी चिकित्सा)',\n",
              "       'चिकित्सा विभाग (परिवार कल्याण)',\n",
              "       'चिकित्सा विभाग (सार्वजनिक स्वास्थ्य)', 'नगर विकास विभाग',\n",
              "       'भाषा विभाग', 'नियोजन विभाग', 'निर्वाचन विभाग', 'न्याय विभाग',\n",
              "       'परिवहन विभाग', 'पर्यटन विभाग', 'पर्यावरण विभाग',\n",
              "       'प्रशासनिक सुधार विभाग', 'प्राविधिक शिक्षा विभाग',\n",
              "       'मुस्लिम वक्फ विभाग', 'महिला एवं बाल कल्याण विभाग',\n",
              "       'राजस्व विभाग (जिला प्रशासन)',\n",
              "       'राजस्व विभाग (दैवी विपत्तियों के सम्बन्ध में राहत)',\n",
              "       'राजस्व विभाग (राजस्व परिषद् तथा अन्य व्यय)',\n",
              "       'राष्ट्रीय एकीकरण विभाग', 'लोक निर्माण विभाग (अधिष्ठान)',\n",
              "       'लोक निर्माण विभाग (भवन)',\n",
              "       'लोक निर्माण विभाग (विशेष क्षेत्र कार्यक्रम)',\n",
              "       'लोक निर्माण विभाग (संचार साधन-सेतु)',\n",
              "       'लोक निर्माण विभाग (संचार साधन-सड़कें)',\n",
              "       'लोक निर्माण विभाग (राज्य सम्पत्ति निदेशालय)', 'वन विभाग',\n",
              "       'वित्त विभाग (ऋण सेवा तथा अन्य व्यय)',\n",
              "       'वित्त विभाग (अधिवर्ष भत्ते तथा पेंशनें)',\n",
              "       'वित्त विभाग (कोषागार तथा लेखा प्रशासन)',\n",
              "       'वित्त विभाग (लेखा परीक्षा, अल्प-बचत आदि)',\n",
              "       'वित्त विभाग (सामूहिक बीमा)', 'विधान परिषद् सचिवालय',\n",
              "       'विधान सभा सचिवालय', 'व्यावसायिक शिक्षा विभाग',\n",
              "       'विज्ञान एवं प्रौद्योगिकी विभाग', 'शिक्षा विभाग (प्राथमिक शिक्षा)',\n",
              "       'शिक्षा विभाग (माध्यमिक शिक्षा)', 'शिक्षा विभाग (उच्च शिक्षा)',\n",
              "       'ग्रह विभाग (होम गार्ड)', 'श्रम विभाग (श्रम कल्याण)',\n",
              "       'श्रम विभाग (सेवायोजन)', 'सचिवालय प्रशासन विभाग',\n",
              "       'समाज कल्याण विभाग (विकलांग एवं पिछड़ा वर्ग कल्याण)',\n",
              "       'समाज कल्याण विभाग(समाज कल्याण एवं अनुसूचित जातियों का कल्याण)',\n",
              "       'समाज कल्याण विभाग (जनजाति कल्याण)', 'सतर्कता विभाग',\n",
              "       'समाज कल्याण विभाग(अनुसूचित जातियों के लिये विशेष घटक योजना)',\n",
              "       'सामान्य प्रशासन विभाग', 'सार्वजनिक उद्यम विभाग', 'सूचना विभाग',\n",
              "       'सैनिक कल्याण विभाग', 'संस्थागत वित्त विभाग (निदेशालय)',\n",
              "       'संस्थागत वित्त विभाग (व्यापारकर)',\n",
              "       'संस्थागत वित्त विभाग (स्टाम्प एवं पंजीकरण)', 'संस्कृति विभाग',\n",
              "       'सिंचाई विभाग (निर्माण कार्य)', 'सिंचाई विभाग (अधिष्ठान)'],\n",
              "      dtype=object)"
            ]
          },
          "metadata": {},
          "execution_count": 6
        }
      ]
    },
    {
      "cell_type": "markdown",
      "source": [
        "We will be dealing with only two Grant Heads with respect to school education that is Elementary Education and Secondary Education\n",
        "\n",
        "\n",
        "*   शिक्षा विभाग (प्राथमिक शिक्षा)\n",
        "*   शिक्षा विभाग (माध्यमिक शिक्षा)\n",
        "\n"
      ],
      "metadata": {
        "id": "V4_oNeuQDtPW"
      }
    },
    {
      "cell_type": "code",
      "source": [
        "FilteredData = data[(data['Grant Head Description'] == 'शिक्षा विभाग (माध्यमिक शिक्षा)')| (data['Grant Head Description'] == 'शिक्षा विभाग (प्राथमिक शिक्षा)')]"
      ],
      "metadata": {
        "id": "-FfUBnNGzosY"
      },
      "execution_count": 7,
      "outputs": []
    },
    {
      "cell_type": "code",
      "source": [
        "FilteredData.head()"
      ],
      "metadata": {
        "colab": {
          "base_uri": "https://localhost:8080/",
          "height": 600
        },
        "id": "G1XCAoUi1zhl",
        "outputId": "64541b8a-b5a0-4b9a-8433-24589e1444e7"
      },
      "execution_count": 8,
      "outputs": [
        {
          "output_type": "execute_result",
          "data": {
            "text/plain": [
              "        Division Code Division Description  Treasury Code       Treasury  \\\n",
              "248833          800.0                 AGRA            8.0           AGRA   \n",
              "248834          800.0                 AGRA            6.0        ALIGARH   \n",
              "248835         2200.0            ALLAHABAD           64.0   ALLAHABAD II   \n",
              "248836         4900.0             FAIZABAD           74.0  AMBEDKARNAGAR   \n",
              "248837         2000.0         KANPUR NAGAR           81.0        AURAIYA   \n",
              "\n",
              "        Grant Number          Grant Head Description  Major Head Code  \\\n",
              "248833            71  शिक्षा विभाग (प्राथमिक शिक्षा)             2071   \n",
              "248834            71  शिक्षा विभाग (प्राथमिक शिक्षा)             2071   \n",
              "248835            71  शिक्षा विभाग (प्राथमिक शिक्षा)             2071   \n",
              "248836            71  शिक्षा विभाग (प्राथमिक शिक्षा)             2071   \n",
              "248837            71  शिक्षा विभाग (प्राथमिक शिक्षा)             2071   \n",
              "\n",
              "                      Major Head Description    Scheme Code  \\\n",
              "248833  पेंशन तथा अन्य सेवा निवृत्ति हित लाभ  2071011170300   \n",
              "248834  पेंशन तथा अन्य सेवा निवृत्ति हित लाभ  2071011170300   \n",
              "248835  पेंशन तथा अन्य सेवा निवृत्ति हित लाभ  2071011170300   \n",
              "248836  पेंशन तथा अन्य सेवा निवृत्ति हित लाभ  2071011170300   \n",
              "248837  पेंशन तथा अन्य सेवा निवृत्ति हित लाभ  2071011170300   \n",
              "\n",
              "                                  Scheme Code Description  \\\n",
              "248833  प्राथमिक विद्यालय / सहायता प्राप्त जूनियर हाई ...   \n",
              "248834  प्राथमिक विद्यालय / सहायता प्राप्त जूनियर हाई ...   \n",
              "248835  प्राथमिक विद्यालय / सहायता प्राप्त जूनियर हाई ...   \n",
              "248836  प्राथमिक विद्यालय / सहायता प्राप्त जूनियर हाई ...   \n",
              "248837  प्राथमिक विद्यालय / सहायता प्राप्त जूनियर हाई ...   \n",
              "\n",
              "        Standard Object Code             Standard Object Description  \\\n",
              "248833                    33  पेंशन/आनुतोषिक/अन्यसेवानिवृत्ति हितलाभ   \n",
              "248834                    33  पेंशन/आनुतोषिक/अन्यसेवानिवृत्ति हितलाभ   \n",
              "248835                    33  पेंशन/आनुतोषिक/अन्यसेवानिवृत्ति हितलाभ   \n",
              "248836                    33  पेंशन/आनुतोषिक/अन्यसेवानिवृत्ति हितलाभ   \n",
              "248837                    33  पेंशन/आनुतोषिक/अन्यसेवानिवृत्ति हितलाभ   \n",
              "\n",
              "       Plan / Non-Plan Voted / Charged fiscal_year  Progressive Allotment  \\\n",
              "248833               N               V   2019-2020               19500000   \n",
              "248834               N               V   2019-2020               72800000   \n",
              "248835               N               V   2019-2020               88560500   \n",
              "248836               N               V   2019-2020              107100000   \n",
              "248837               N               V   2019-2020               68250000   \n",
              "\n",
              "        Actual Progressive Expenditure upto month (October)  \\\n",
              "248833                                         18227734.0     \n",
              "248834                                         72800000.0     \n",
              "248835                                         88377112.0     \n",
              "248836                                        107099186.0     \n",
              "248837                                         62365493.0     \n",
              "\n",
              "        Provisional Current Month Expenditure(November)  \\\n",
              "248833                                                0   \n",
              "248834                                                0   \n",
              "248835                                                0   \n",
              "248836                                                0   \n",
              "248837                                                0   \n",
              "\n",
              "        Total Expenditure Upto Month (November)   % A/E  \n",
              "248833                               18227734.0   93.48  \n",
              "248834                               72800000.0  100.00  \n",
              "248835                               88377112.0   99.79  \n",
              "248836                              107099186.0  100.00  \n",
              "248837                               62365493.0   91.38  "
            ],
            "text/html": [
              "\n",
              "  <div id=\"df-27de236f-a3e4-4056-888c-5578cd68c2ca\">\n",
              "    <div class=\"colab-df-container\">\n",
              "      <div>\n",
              "<style scoped>\n",
              "    .dataframe tbody tr th:only-of-type {\n",
              "        vertical-align: middle;\n",
              "    }\n",
              "\n",
              "    .dataframe tbody tr th {\n",
              "        vertical-align: top;\n",
              "    }\n",
              "\n",
              "    .dataframe thead th {\n",
              "        text-align: right;\n",
              "    }\n",
              "</style>\n",
              "<table border=\"1\" class=\"dataframe\">\n",
              "  <thead>\n",
              "    <tr style=\"text-align: right;\">\n",
              "      <th></th>\n",
              "      <th>Division Code</th>\n",
              "      <th>Division Description</th>\n",
              "      <th>Treasury Code</th>\n",
              "      <th>Treasury</th>\n",
              "      <th>Grant Number</th>\n",
              "      <th>Grant Head Description</th>\n",
              "      <th>Major Head Code</th>\n",
              "      <th>Major Head Description</th>\n",
              "      <th>Scheme Code</th>\n",
              "      <th>Scheme Code Description</th>\n",
              "      <th>Standard Object Code</th>\n",
              "      <th>Standard Object Description</th>\n",
              "      <th>Plan / Non-Plan</th>\n",
              "      <th>Voted / Charged</th>\n",
              "      <th>fiscal_year</th>\n",
              "      <th>Progressive Allotment</th>\n",
              "      <th>Actual Progressive Expenditure upto month (October)</th>\n",
              "      <th>Provisional Current Month Expenditure(November)</th>\n",
              "      <th>Total Expenditure Upto Month (November)</th>\n",
              "      <th>% A/E</th>\n",
              "    </tr>\n",
              "  </thead>\n",
              "  <tbody>\n",
              "    <tr>\n",
              "      <th>248833</th>\n",
              "      <td>800.0</td>\n",
              "      <td>AGRA</td>\n",
              "      <td>8.0</td>\n",
              "      <td>AGRA</td>\n",
              "      <td>71</td>\n",
              "      <td>शिक्षा विभाग (प्राथमिक शिक्षा)</td>\n",
              "      <td>2071</td>\n",
              "      <td>पेंशन तथा अन्य सेवा निवृत्ति हित लाभ</td>\n",
              "      <td>2071011170300</td>\n",
              "      <td>प्राथमिक विद्यालय / सहायता प्राप्त जूनियर हाई ...</td>\n",
              "      <td>33</td>\n",
              "      <td>पेंशन/आनुतोषिक/अन्यसेवानिवृत्ति हितलाभ</td>\n",
              "      <td>N</td>\n",
              "      <td>V</td>\n",
              "      <td>2019-2020</td>\n",
              "      <td>19500000</td>\n",
              "      <td>18227734.0</td>\n",
              "      <td>0</td>\n",
              "      <td>18227734.0</td>\n",
              "      <td>93.48</td>\n",
              "    </tr>\n",
              "    <tr>\n",
              "      <th>248834</th>\n",
              "      <td>800.0</td>\n",
              "      <td>AGRA</td>\n",
              "      <td>6.0</td>\n",
              "      <td>ALIGARH</td>\n",
              "      <td>71</td>\n",
              "      <td>शिक्षा विभाग (प्राथमिक शिक्षा)</td>\n",
              "      <td>2071</td>\n",
              "      <td>पेंशन तथा अन्य सेवा निवृत्ति हित लाभ</td>\n",
              "      <td>2071011170300</td>\n",
              "      <td>प्राथमिक विद्यालय / सहायता प्राप्त जूनियर हाई ...</td>\n",
              "      <td>33</td>\n",
              "      <td>पेंशन/आनुतोषिक/अन्यसेवानिवृत्ति हितलाभ</td>\n",
              "      <td>N</td>\n",
              "      <td>V</td>\n",
              "      <td>2019-2020</td>\n",
              "      <td>72800000</td>\n",
              "      <td>72800000.0</td>\n",
              "      <td>0</td>\n",
              "      <td>72800000.0</td>\n",
              "      <td>100.00</td>\n",
              "    </tr>\n",
              "    <tr>\n",
              "      <th>248835</th>\n",
              "      <td>2200.0</td>\n",
              "      <td>ALLAHABAD</td>\n",
              "      <td>64.0</td>\n",
              "      <td>ALLAHABAD II</td>\n",
              "      <td>71</td>\n",
              "      <td>शिक्षा विभाग (प्राथमिक शिक्षा)</td>\n",
              "      <td>2071</td>\n",
              "      <td>पेंशन तथा अन्य सेवा निवृत्ति हित लाभ</td>\n",
              "      <td>2071011170300</td>\n",
              "      <td>प्राथमिक विद्यालय / सहायता प्राप्त जूनियर हाई ...</td>\n",
              "      <td>33</td>\n",
              "      <td>पेंशन/आनुतोषिक/अन्यसेवानिवृत्ति हितलाभ</td>\n",
              "      <td>N</td>\n",
              "      <td>V</td>\n",
              "      <td>2019-2020</td>\n",
              "      <td>88560500</td>\n",
              "      <td>88377112.0</td>\n",
              "      <td>0</td>\n",
              "      <td>88377112.0</td>\n",
              "      <td>99.79</td>\n",
              "    </tr>\n",
              "    <tr>\n",
              "      <th>248836</th>\n",
              "      <td>4900.0</td>\n",
              "      <td>FAIZABAD</td>\n",
              "      <td>74.0</td>\n",
              "      <td>AMBEDKARNAGAR</td>\n",
              "      <td>71</td>\n",
              "      <td>शिक्षा विभाग (प्राथमिक शिक्षा)</td>\n",
              "      <td>2071</td>\n",
              "      <td>पेंशन तथा अन्य सेवा निवृत्ति हित लाभ</td>\n",
              "      <td>2071011170300</td>\n",
              "      <td>प्राथमिक विद्यालय / सहायता प्राप्त जूनियर हाई ...</td>\n",
              "      <td>33</td>\n",
              "      <td>पेंशन/आनुतोषिक/अन्यसेवानिवृत्ति हितलाभ</td>\n",
              "      <td>N</td>\n",
              "      <td>V</td>\n",
              "      <td>2019-2020</td>\n",
              "      <td>107100000</td>\n",
              "      <td>107099186.0</td>\n",
              "      <td>0</td>\n",
              "      <td>107099186.0</td>\n",
              "      <td>100.00</td>\n",
              "    </tr>\n",
              "    <tr>\n",
              "      <th>248837</th>\n",
              "      <td>2000.0</td>\n",
              "      <td>KANPUR NAGAR</td>\n",
              "      <td>81.0</td>\n",
              "      <td>AURAIYA</td>\n",
              "      <td>71</td>\n",
              "      <td>शिक्षा विभाग (प्राथमिक शिक्षा)</td>\n",
              "      <td>2071</td>\n",
              "      <td>पेंशन तथा अन्य सेवा निवृत्ति हित लाभ</td>\n",
              "      <td>2071011170300</td>\n",
              "      <td>प्राथमिक विद्यालय / सहायता प्राप्त जूनियर हाई ...</td>\n",
              "      <td>33</td>\n",
              "      <td>पेंशन/आनुतोषिक/अन्यसेवानिवृत्ति हितलाभ</td>\n",
              "      <td>N</td>\n",
              "      <td>V</td>\n",
              "      <td>2019-2020</td>\n",
              "      <td>68250000</td>\n",
              "      <td>62365493.0</td>\n",
              "      <td>0</td>\n",
              "      <td>62365493.0</td>\n",
              "      <td>91.38</td>\n",
              "    </tr>\n",
              "  </tbody>\n",
              "</table>\n",
              "</div>\n",
              "      <button class=\"colab-df-convert\" onclick=\"convertToInteractive('df-27de236f-a3e4-4056-888c-5578cd68c2ca')\"\n",
              "              title=\"Convert this dataframe to an interactive table.\"\n",
              "              style=\"display:none;\">\n",
              "        \n",
              "  <svg xmlns=\"http://www.w3.org/2000/svg\" height=\"24px\"viewBox=\"0 0 24 24\"\n",
              "       width=\"24px\">\n",
              "    <path d=\"M0 0h24v24H0V0z\" fill=\"none\"/>\n",
              "    <path d=\"M18.56 5.44l.94 2.06.94-2.06 2.06-.94-2.06-.94-.94-2.06-.94 2.06-2.06.94zm-11 1L8.5 8.5l.94-2.06 2.06-.94-2.06-.94L8.5 2.5l-.94 2.06-2.06.94zm10 10l.94 2.06.94-2.06 2.06-.94-2.06-.94-.94-2.06-.94 2.06-2.06.94z\"/><path d=\"M17.41 7.96l-1.37-1.37c-.4-.4-.92-.59-1.43-.59-.52 0-1.04.2-1.43.59L10.3 9.45l-7.72 7.72c-.78.78-.78 2.05 0 2.83L4 21.41c.39.39.9.59 1.41.59.51 0 1.02-.2 1.41-.59l7.78-7.78 2.81-2.81c.8-.78.8-2.07 0-2.86zM5.41 20L4 18.59l7.72-7.72 1.47 1.35L5.41 20z\"/>\n",
              "  </svg>\n",
              "      </button>\n",
              "      \n",
              "  <style>\n",
              "    .colab-df-container {\n",
              "      display:flex;\n",
              "      flex-wrap:wrap;\n",
              "      gap: 12px;\n",
              "    }\n",
              "\n",
              "    .colab-df-convert {\n",
              "      background-color: #E8F0FE;\n",
              "      border: none;\n",
              "      border-radius: 50%;\n",
              "      cursor: pointer;\n",
              "      display: none;\n",
              "      fill: #1967D2;\n",
              "      height: 32px;\n",
              "      padding: 0 0 0 0;\n",
              "      width: 32px;\n",
              "    }\n",
              "\n",
              "    .colab-df-convert:hover {\n",
              "      background-color: #E2EBFA;\n",
              "      box-shadow: 0px 1px 2px rgba(60, 64, 67, 0.3), 0px 1px 3px 1px rgba(60, 64, 67, 0.15);\n",
              "      fill: #174EA6;\n",
              "    }\n",
              "\n",
              "    [theme=dark] .colab-df-convert {\n",
              "      background-color: #3B4455;\n",
              "      fill: #D2E3FC;\n",
              "    }\n",
              "\n",
              "    [theme=dark] .colab-df-convert:hover {\n",
              "      background-color: #434B5C;\n",
              "      box-shadow: 0px 1px 3px 1px rgba(0, 0, 0, 0.15);\n",
              "      filter: drop-shadow(0px 1px 2px rgba(0, 0, 0, 0.3));\n",
              "      fill: #FFFFFF;\n",
              "    }\n",
              "  </style>\n",
              "\n",
              "      <script>\n",
              "        const buttonEl =\n",
              "          document.querySelector('#df-27de236f-a3e4-4056-888c-5578cd68c2ca button.colab-df-convert');\n",
              "        buttonEl.style.display =\n",
              "          google.colab.kernel.accessAllowed ? 'block' : 'none';\n",
              "\n",
              "        async function convertToInteractive(key) {\n",
              "          const element = document.querySelector('#df-27de236f-a3e4-4056-888c-5578cd68c2ca');\n",
              "          const dataTable =\n",
              "            await google.colab.kernel.invokeFunction('convertToInteractive',\n",
              "                                                     [key], {});\n",
              "          if (!dataTable) return;\n",
              "\n",
              "          const docLinkHtml = 'Like what you see? Visit the ' +\n",
              "            '<a target=\"_blank\" href=https://colab.research.google.com/notebooks/data_table.ipynb>data table notebook</a>'\n",
              "            + ' to learn more about interactive tables.';\n",
              "          element.innerHTML = '';\n",
              "          dataTable['output_type'] = 'display_data';\n",
              "          await google.colab.output.renderOutput(dataTable, element);\n",
              "          const docLink = document.createElement('div');\n",
              "          docLink.innerHTML = docLinkHtml;\n",
              "          element.appendChild(docLink);\n",
              "        }\n",
              "      </script>\n",
              "    </div>\n",
              "  </div>\n",
              "  "
            ]
          },
          "metadata": {},
          "execution_count": 8
        }
      ]
    },
    {
      "cell_type": "markdown",
      "source": [
        "#3. Checking for Null Values in colmuns and duplicate rows"
      ],
      "metadata": {
        "id": "pONRTBdBHOL3"
      }
    },
    {
      "cell_type": "code",
      "source": [
        "FilteredData.isnull().sum()"
      ],
      "metadata": {
        "colab": {
          "base_uri": "https://localhost:8080/"
        },
        "id": "XBAvmPQRxcty",
        "outputId": "be492f6a-07ac-4e6d-deed-80c357d12214"
      },
      "execution_count": 9,
      "outputs": [
        {
          "output_type": "execute_result",
          "data": {
            "text/plain": [
              "Division Code                                           0\n",
              "Division Description                                    0\n",
              "Treasury Code                                           0\n",
              "Treasury                                                0\n",
              "Grant Number                                            0\n",
              "Grant Head Description                                  0\n",
              "Major Head Code                                         0\n",
              "Major Head Description                                 91\n",
              "Scheme Code                                             0\n",
              "Scheme Code Description                                 0\n",
              "Standard Object Code                                    0\n",
              "Standard Object Description                             0\n",
              "Plan / Non-Plan                                         0\n",
              "Voted / Charged                                         0\n",
              "fiscal_year                                             0\n",
              "Progressive Allotment                                   0\n",
              "Actual Progressive Expenditure upto month (October)     0\n",
              "Provisional Current Month Expenditure(November)         0\n",
              "Total Expenditure Upto Month (November)                 0\n",
              "% A/E                                                   0\n",
              "dtype: int64"
            ]
          },
          "metadata": {},
          "execution_count": 9
        }
      ]
    },
    {
      "cell_type": "markdown",
      "source": [
        "Since there are no Null Values in Columns like Grant Number and Major Head Code which is essential for analysis we go ahead"
      ],
      "metadata": {
        "id": "ZyyYY1lmHgYG"
      }
    },
    {
      "cell_type": "code",
      "source": [
        "FilteredData['Major Head Code'].value_counts()"
      ],
      "metadata": {
        "colab": {
          "base_uri": "https://localhost:8080/"
        },
        "id": "JyzQa1Ym_ybb",
        "outputId": "5ad4f5cd-1072-4733-d726-2c8176dce8ab"
      },
      "execution_count": 10,
      "outputs": [
        {
          "output_type": "execute_result",
          "data": {
            "text/plain": [
              "2202    11098\n",
              "2204     1316\n",
              "2205     1099\n",
              "2071      358\n",
              "4202       91\n",
              "Name: Major Head Code, dtype: int64"
            ]
          },
          "metadata": {},
          "execution_count": 10
        }
      ]
    },
    {
      "cell_type": "code",
      "source": [
        "FilteredData.duplicated().sum()"
      ],
      "metadata": {
        "colab": {
          "base_uri": "https://localhost:8080/"
        },
        "id": "SLox_xKgG1tB",
        "outputId": "a65cb648-ec2c-4401-d855-3ecfb39627cd"
      },
      "execution_count": 11,
      "outputs": [
        {
          "output_type": "execute_result",
          "data": {
            "text/plain": [
              "598"
            ]
          },
          "metadata": {},
          "execution_count": 11
        }
      ]
    },
    {
      "cell_type": "markdown",
      "source": [
        "Since it is not possible to have duplicate rows with the same expenditure within the same financial year for the exact same purpose we remove such rows."
      ],
      "metadata": {
        "id": "K7zIDqrFH6EW"
      }
    },
    {
      "cell_type": "code",
      "source": [
        "FilteredData.drop_duplicates(inplace=True)"
      ],
      "metadata": {
        "colab": {
          "base_uri": "https://localhost:8080/"
        },
        "id": "JkT9cR_gAApU",
        "outputId": "d55259e0-383c-4cb9-d7a8-ab59087bcfbb"
      },
      "execution_count": 12,
      "outputs": [
        {
          "output_type": "stream",
          "name": "stderr",
          "text": [
            "/usr/local/lib/python3.7/dist-packages/pandas/util/_decorators.py:311: SettingWithCopyWarning: \n",
            "A value is trying to be set on a copy of a slice from a DataFrame\n",
            "\n",
            "See the caveats in the documentation: https://pandas.pydata.org/pandas-docs/stable/user_guide/indexing.html#returning-a-view-versus-a-copy\n",
            "  return func(*args, **kwargs)\n"
          ]
        }
      ]
    },
    {
      "cell_type": "markdown",
      "source": [
        "# 4. Visualising the Dataset"
      ],
      "metadata": {
        "id": "6DEErzFOIeKq"
      }
    },
    {
      "cell_type": "code",
      "source": [
        "FilteredData.columns"
      ],
      "metadata": {
        "id": "Te0b0_gvIpcz",
        "colab": {
          "base_uri": "https://localhost:8080/"
        },
        "outputId": "29543062-1e38-4246-ad94-7f68930663de"
      },
      "execution_count": 13,
      "outputs": [
        {
          "output_type": "execute_result",
          "data": {
            "text/plain": [
              "Index(['Division Code', 'Division Description', 'Treasury Code', 'Treasury',\n",
              "       'Grant Number', 'Grant Head Description', 'Major Head Code',\n",
              "       'Major Head Description', 'Scheme Code', 'Scheme Code Description',\n",
              "       'Standard Object Code', 'Standard Object Description',\n",
              "       'Plan / Non-Plan', 'Voted / Charged', 'fiscal_year',\n",
              "       'Progressive Allotment',\n",
              "       'Actual Progressive Expenditure upto month (October)',\n",
              "       'Provisional Current Month Expenditure(November)',\n",
              "       'Total Expenditure Upto Month (November)', '% A/E'],\n",
              "      dtype='object')"
            ]
          },
          "metadata": {},
          "execution_count": 13
        }
      ]
    },
    {
      "cell_type": "code",
      "source": [
        "FilteredData[['Progressive Allotment',\n",
        "       'Actual Progressive Expenditure upto month (October)',\n",
        "       'Provisional Current Month Expenditure(November)',\n",
        "       'Total Expenditure Upto Month (November)', '% A/E']].describe()"
      ],
      "metadata": {
        "colab": {
          "base_uri": "https://localhost:8080/",
          "height": 379
        },
        "id": "rXJmaUv-Ph1r",
        "outputId": "fef64d3f-6472-4ed8-d2b3-b19a3bcfb2e8"
      },
      "execution_count": 14,
      "outputs": [
        {
          "output_type": "execute_result",
          "data": {
            "text/plain": [
              "       Progressive Allotment  \\\n",
              "count           1.336400e+04   \n",
              "mean            3.939513e+07   \n",
              "std             4.333756e+08   \n",
              "min            -3.000000e+05   \n",
              "25%             4.000000e+03   \n",
              "50%             5.235900e+04   \n",
              "75%             1.100000e+06   \n",
              "max             2.955904e+10   \n",
              "\n",
              "       Actual Progressive Expenditure upto month (October)  \\\n",
              "count                                       1.336400e+04     \n",
              "mean                                        3.971654e+07     \n",
              "std                                         4.761431e+08     \n",
              "min                                        -1.850700e+04     \n",
              "25%                                         1.500000e+03     \n",
              "50%                                         4.000000e+04     \n",
              "75%                                         9.605555e+05     \n",
              "max                                         2.955904e+10     \n",
              "\n",
              "       Provisional Current Month Expenditure(November)  \\\n",
              "count                                          13364.0   \n",
              "mean                                               0.0   \n",
              "std                                                0.0   \n",
              "min                                                0.0   \n",
              "25%                                                0.0   \n",
              "50%                                                0.0   \n",
              "75%                                                0.0   \n",
              "max                                                0.0   \n",
              "\n",
              "       Total Expenditure Upto Month (November)         % A/E  \n",
              "count                             1.336400e+04  1.336400e+04  \n",
              "mean                              3.971654e+07  1.128367e+03  \n",
              "std                               4.761431e+08  1.213201e+05  \n",
              "min                              -1.850700e+04 -3.084500e+02  \n",
              "25%                               1.500000e+03  1.117750e+01  \n",
              "50%                               4.000000e+04  9.700500e+01  \n",
              "75%                               9.605555e+05  1.000000e+02  \n",
              "max                               2.955904e+10  1.402500e+07  "
            ],
            "text/html": [
              "\n",
              "  <div id=\"df-1b8d5247-4566-4c71-bc6c-127fe51ea3d4\">\n",
              "    <div class=\"colab-df-container\">\n",
              "      <div>\n",
              "<style scoped>\n",
              "    .dataframe tbody tr th:only-of-type {\n",
              "        vertical-align: middle;\n",
              "    }\n",
              "\n",
              "    .dataframe tbody tr th {\n",
              "        vertical-align: top;\n",
              "    }\n",
              "\n",
              "    .dataframe thead th {\n",
              "        text-align: right;\n",
              "    }\n",
              "</style>\n",
              "<table border=\"1\" class=\"dataframe\">\n",
              "  <thead>\n",
              "    <tr style=\"text-align: right;\">\n",
              "      <th></th>\n",
              "      <th>Progressive Allotment</th>\n",
              "      <th>Actual Progressive Expenditure upto month (October)</th>\n",
              "      <th>Provisional Current Month Expenditure(November)</th>\n",
              "      <th>Total Expenditure Upto Month (November)</th>\n",
              "      <th>% A/E</th>\n",
              "    </tr>\n",
              "  </thead>\n",
              "  <tbody>\n",
              "    <tr>\n",
              "      <th>count</th>\n",
              "      <td>1.336400e+04</td>\n",
              "      <td>1.336400e+04</td>\n",
              "      <td>13364.0</td>\n",
              "      <td>1.336400e+04</td>\n",
              "      <td>1.336400e+04</td>\n",
              "    </tr>\n",
              "    <tr>\n",
              "      <th>mean</th>\n",
              "      <td>3.939513e+07</td>\n",
              "      <td>3.971654e+07</td>\n",
              "      <td>0.0</td>\n",
              "      <td>3.971654e+07</td>\n",
              "      <td>1.128367e+03</td>\n",
              "    </tr>\n",
              "    <tr>\n",
              "      <th>std</th>\n",
              "      <td>4.333756e+08</td>\n",
              "      <td>4.761431e+08</td>\n",
              "      <td>0.0</td>\n",
              "      <td>4.761431e+08</td>\n",
              "      <td>1.213201e+05</td>\n",
              "    </tr>\n",
              "    <tr>\n",
              "      <th>min</th>\n",
              "      <td>-3.000000e+05</td>\n",
              "      <td>-1.850700e+04</td>\n",
              "      <td>0.0</td>\n",
              "      <td>-1.850700e+04</td>\n",
              "      <td>-3.084500e+02</td>\n",
              "    </tr>\n",
              "    <tr>\n",
              "      <th>25%</th>\n",
              "      <td>4.000000e+03</td>\n",
              "      <td>1.500000e+03</td>\n",
              "      <td>0.0</td>\n",
              "      <td>1.500000e+03</td>\n",
              "      <td>1.117750e+01</td>\n",
              "    </tr>\n",
              "    <tr>\n",
              "      <th>50%</th>\n",
              "      <td>5.235900e+04</td>\n",
              "      <td>4.000000e+04</td>\n",
              "      <td>0.0</td>\n",
              "      <td>4.000000e+04</td>\n",
              "      <td>9.700500e+01</td>\n",
              "    </tr>\n",
              "    <tr>\n",
              "      <th>75%</th>\n",
              "      <td>1.100000e+06</td>\n",
              "      <td>9.605555e+05</td>\n",
              "      <td>0.0</td>\n",
              "      <td>9.605555e+05</td>\n",
              "      <td>1.000000e+02</td>\n",
              "    </tr>\n",
              "    <tr>\n",
              "      <th>max</th>\n",
              "      <td>2.955904e+10</td>\n",
              "      <td>2.955904e+10</td>\n",
              "      <td>0.0</td>\n",
              "      <td>2.955904e+10</td>\n",
              "      <td>1.402500e+07</td>\n",
              "    </tr>\n",
              "  </tbody>\n",
              "</table>\n",
              "</div>\n",
              "      <button class=\"colab-df-convert\" onclick=\"convertToInteractive('df-1b8d5247-4566-4c71-bc6c-127fe51ea3d4')\"\n",
              "              title=\"Convert this dataframe to an interactive table.\"\n",
              "              style=\"display:none;\">\n",
              "        \n",
              "  <svg xmlns=\"http://www.w3.org/2000/svg\" height=\"24px\"viewBox=\"0 0 24 24\"\n",
              "       width=\"24px\">\n",
              "    <path d=\"M0 0h24v24H0V0z\" fill=\"none\"/>\n",
              "    <path d=\"M18.56 5.44l.94 2.06.94-2.06 2.06-.94-2.06-.94-.94-2.06-.94 2.06-2.06.94zm-11 1L8.5 8.5l.94-2.06 2.06-.94-2.06-.94L8.5 2.5l-.94 2.06-2.06.94zm10 10l.94 2.06.94-2.06 2.06-.94-2.06-.94-.94-2.06-.94 2.06-2.06.94z\"/><path d=\"M17.41 7.96l-1.37-1.37c-.4-.4-.92-.59-1.43-.59-.52 0-1.04.2-1.43.59L10.3 9.45l-7.72 7.72c-.78.78-.78 2.05 0 2.83L4 21.41c.39.39.9.59 1.41.59.51 0 1.02-.2 1.41-.59l7.78-7.78 2.81-2.81c.8-.78.8-2.07 0-2.86zM5.41 20L4 18.59l7.72-7.72 1.47 1.35L5.41 20z\"/>\n",
              "  </svg>\n",
              "      </button>\n",
              "      \n",
              "  <style>\n",
              "    .colab-df-container {\n",
              "      display:flex;\n",
              "      flex-wrap:wrap;\n",
              "      gap: 12px;\n",
              "    }\n",
              "\n",
              "    .colab-df-convert {\n",
              "      background-color: #E8F0FE;\n",
              "      border: none;\n",
              "      border-radius: 50%;\n",
              "      cursor: pointer;\n",
              "      display: none;\n",
              "      fill: #1967D2;\n",
              "      height: 32px;\n",
              "      padding: 0 0 0 0;\n",
              "      width: 32px;\n",
              "    }\n",
              "\n",
              "    .colab-df-convert:hover {\n",
              "      background-color: #E2EBFA;\n",
              "      box-shadow: 0px 1px 2px rgba(60, 64, 67, 0.3), 0px 1px 3px 1px rgba(60, 64, 67, 0.15);\n",
              "      fill: #174EA6;\n",
              "    }\n",
              "\n",
              "    [theme=dark] .colab-df-convert {\n",
              "      background-color: #3B4455;\n",
              "      fill: #D2E3FC;\n",
              "    }\n",
              "\n",
              "    [theme=dark] .colab-df-convert:hover {\n",
              "      background-color: #434B5C;\n",
              "      box-shadow: 0px 1px 3px 1px rgba(0, 0, 0, 0.15);\n",
              "      filter: drop-shadow(0px 1px 2px rgba(0, 0, 0, 0.3));\n",
              "      fill: #FFFFFF;\n",
              "    }\n",
              "  </style>\n",
              "\n",
              "      <script>\n",
              "        const buttonEl =\n",
              "          document.querySelector('#df-1b8d5247-4566-4c71-bc6c-127fe51ea3d4 button.colab-df-convert');\n",
              "        buttonEl.style.display =\n",
              "          google.colab.kernel.accessAllowed ? 'block' : 'none';\n",
              "\n",
              "        async function convertToInteractive(key) {\n",
              "          const element = document.querySelector('#df-1b8d5247-4566-4c71-bc6c-127fe51ea3d4');\n",
              "          const dataTable =\n",
              "            await google.colab.kernel.invokeFunction('convertToInteractive',\n",
              "                                                     [key], {});\n",
              "          if (!dataTable) return;\n",
              "\n",
              "          const docLinkHtml = 'Like what you see? Visit the ' +\n",
              "            '<a target=\"_blank\" href=https://colab.research.google.com/notebooks/data_table.ipynb>data table notebook</a>'\n",
              "            + ' to learn more about interactive tables.';\n",
              "          element.innerHTML = '';\n",
              "          dataTable['output_type'] = 'display_data';\n",
              "          await google.colab.output.renderOutput(dataTable, element);\n",
              "          const docLink = document.createElement('div');\n",
              "          docLink.innerHTML = docLinkHtml;\n",
              "          element.appendChild(docLink);\n",
              "        }\n",
              "      </script>\n",
              "    </div>\n",
              "  </div>\n",
              "  "
            ]
          },
          "metadata": {},
          "execution_count": 14
        }
      ]
    },
    {
      "cell_type": "markdown",
      "source": [
        "Since the column *Provisional Current Month Expenditure(November)* does not have any values it can be removed from the dataset"
      ],
      "metadata": {
        "id": "B-mYQ-v_-xG4"
      }
    },
    {
      "cell_type": "code",
      "source": [
        "FilteredData.drop('Provisional Current Month Expenditure(November)', inplace=True, axis=1)"
      ],
      "metadata": {
        "colab": {
          "base_uri": "https://localhost:8080/"
        },
        "id": "6dXQ--Rt_OK6",
        "outputId": "d869faa1-2297-4d06-9a48-a957ed12be73"
      },
      "execution_count": 15,
      "outputs": [
        {
          "output_type": "stream",
          "name": "stderr",
          "text": [
            "/usr/local/lib/python3.7/dist-packages/pandas/core/frame.py:4913: SettingWithCopyWarning: \n",
            "A value is trying to be set on a copy of a slice from a DataFrame\n",
            "\n",
            "See the caveats in the documentation: https://pandas.pydata.org/pandas-docs/stable/user_guide/indexing.html#returning-a-view-versus-a-copy\n",
            "  errors=errors,\n"
          ]
        }
      ]
    },
    {
      "cell_type": "code",
      "source": [
        "import seaborn as sb"
      ],
      "metadata": {
        "id": "FPePRTYPQ0YE"
      },
      "execution_count": 16,
      "outputs": []
    },
    {
      "cell_type": "markdown",
      "source": [
        ""
      ],
      "metadata": {
        "id": "SwcnCmt---v-"
      }
    },
    {
      "cell_type": "code",
      "source": [
        "sb.distplot(FilteredData['Progressive Allotment'])\n",
        "plt.show()\n",
        "sb.distplot(FilteredData['Actual Progressive Expenditure upto month (October)'])\n",
        "plt.show()\n",
        "sb.distplot(FilteredData['Total Expenditure Upto Month (November)'])\n",
        "plt.show()\n",
        "sb.distplot(FilteredData['% A/E'])\n",
        "plt.show()"
      ],
      "metadata": {
        "colab": {
          "base_uri": "https://localhost:8080/",
          "height": 1000
        },
        "id": "R2mFS9HHQTmn",
        "outputId": "3803fa6a-ae28-478a-98f7-d565e97cdeb8"
      },
      "execution_count": 17,
      "outputs": [
        {
          "output_type": "stream",
          "name": "stderr",
          "text": [
            "/usr/local/lib/python3.7/dist-packages/seaborn/distributions.py:2619: FutureWarning: `distplot` is a deprecated function and will be removed in a future version. Please adapt your code to use either `displot` (a figure-level function with similar flexibility) or `histplot` (an axes-level function for histograms).\n",
            "  warnings.warn(msg, FutureWarning)\n"
          ]
        },
        {
          "output_type": "display_data",
          "data": {
            "text/plain": [
              "<Figure size 432x288 with 1 Axes>"
            ],
            "image/png": "[encoded data removed]"
          },
          "metadata": {
            "needs_background": "light"
          }
        },
        {
          "output_type": "stream",
          "name": "stderr",
          "text": [
            "/usr/local/lib/python3.7/dist-packages/seaborn/distributions.py:2619: FutureWarning: `distplot` is a deprecated function and will be removed in a future version. Please adapt your code to use either `displot` (a figure-level function with similar flexibility) or `histplot` (an axes-level function for histograms).\n",
            "  warnings.warn(msg, FutureWarning)\n"
          ]
        },
        {
          "output_type": "display_data",
          "data": {
            "text/plain": [
              "<Figure size 432x288 with 1 Axes>"
            ],
            "image/png": "[encoded data removed]"
          },
          "metadata": {
            "needs_background": "light"
          }
        },
        {
          "output_type": "stream",
          "name": "stderr",
          "text": [
            "/usr/local/lib/python3.7/dist-packages/seaborn/distributions.py:2619: FutureWarning: `distplot` is a deprecated function and will be removed in a future version. Please adapt your code to use either `displot` (a figure-level function with similar flexibility) or `histplot` (an axes-level function for histograms).\n",
            "  warnings.warn(msg, FutureWarning)\n"
          ]
        },
        {
          "output_type": "display_data",
          "data": {
            "text/plain": [
              "<Figure size 432x288 with 1 Axes>"
            ],
            "image/png": "[encoded data removed]"
          },
          "metadata": {
            "needs_background": "light"
          }
        },
        {
          "output_type": "stream",
          "name": "stderr",
          "text": [
            "/usr/local/lib/python3.7/dist-packages/seaborn/distributions.py:2619: FutureWarning: `distplot` is a deprecated function and will be removed in a future version. Please adapt your code to use either `displot` (a figure-level function with similar flexibility) or `histplot` (an axes-level function for histograms).\n",
            "  warnings.warn(msg, FutureWarning)\n"
          ]
        },
        {
          "output_type": "display_data",
          "data": {
            "text/plain": [
              "<Figure size 432x288 with 1 Axes>"
            ],
            "image/png": "[encoded data removed]"
          },
          "metadata": {
            "needs_background": "light"
          }
        }
      ]
    },
    {
      "cell_type": "markdown",
      "source": [
        "We can see that the data is right skewed. "
      ],
      "metadata": {
        "id": "YbdDjOJ0e7iA"
      }
    },
    {
      "cell_type": "code",
      "source": [
        "plt.figure (figsize=(10,5))\n",
        "sb.heatmap(FilteredData[['Progressive Allotment',\n",
        "       'Actual Progressive Expenditure upto month (October)',\n",
        "       'Total Expenditure Upto Month (November)', '% A/E']].corr(), annot=True)\n",
        "plt.show();"
      ],
      "metadata": {
        "colab": {
          "base_uri": "https://localhost:8080/",
          "height": 581
        },
        "id": "DfCort7xfgns",
        "outputId": "8b2d7972-6e73-4cc0-8f67-d7a4d349f7ca"
      },
      "execution_count": 20,
      "outputs": [
        {
          "output_type": "display_data",
          "data": {
            "text/plain": [
              "<Figure size 720x360 with 2 Axes>"
            ],
            "image/png": "[encoded data removed]"
          },
          "metadata": {
            "needs_background": "light"
          }
        }
      ]
    },
    {
      "cell_type": "markdown",
      "source": [
        "# Q1) Calculating the share of expenditure on school education"
      ],
      "metadata": {
        "id": "G1TX09gYh89y"
      }
    },
    {
      "cell_type": "code",
      "source": [
        "pd.DataFrame(FilteredData.groupby(['Grant Head Description','Grant Number'])['Total Expenditure Upto Month (November)'].sum())"
      ],
      "metadata": {
        "id": "tkb_HTYx70fy",
        "colab": {
          "base_uri": "https://localhost:8080/",
          "height": 143
        },
        "outputId": "48609cc3-a774-4d9e-f444-fde2b311a124"
      },
      "execution_count": 21,
      "outputs": [
        {
          "output_type": "execute_result",
          "data": {
            "text/plain": [
              "                                             Total Expenditure Upto Month (November)\n",
              "Grant Head Description         Grant Number                                         \n",
              "शिक्षा विभाग (प्राथमिक शिक्षा) 71                                       4.270724e+11\n",
              "शिक्षा विभाग (माध्यमिक शिक्षा) 72                                       1.036994e+11"
            ],
            "text/html": [
              "\n",
              "  <div id=\"df-4c60187f-28fb-45f7-aba0-8db0fea84e3a\">\n",
              "    <div class=\"colab-df-container\">\n",
              "      <div>\n",
              "<style scoped>\n",
              "    .dataframe tbody tr th:only-of-type {\n",
              "        vertical-align: middle;\n",
              "    }\n",
              "\n",
              "    .dataframe tbody tr th {\n",
              "        vertical-align: top;\n",
              "    }\n",
              "\n",
              "    .dataframe thead th {\n",
              "        text-align: right;\n",
              "    }\n",
              "</style>\n",
              "<table border=\"1\" class=\"dataframe\">\n",
              "  <thead>\n",
              "    <tr style=\"text-align: right;\">\n",
              "      <th></th>\n",
              "      <th></th>\n",
              "      <th>Total Expenditure Upto Month (November)</th>\n",
              "    </tr>\n",
              "    <tr>\n",
              "      <th>Grant Head Description</th>\n",
              "      <th>Grant Number</th>\n",
              "      <th></th>\n",
              "    </tr>\n",
              "  </thead>\n",
              "  <tbody>\n",
              "    <tr>\n",
              "      <th>शिक्षा विभाग (प्राथमिक शिक्षा)</th>\n",
              "      <th>71</th>\n",
              "      <td>4.270724e+11</td>\n",
              "    </tr>\n",
              "    <tr>\n",
              "      <th>शिक्षा विभाग (माध्यमिक शिक्षा)</th>\n",
              "      <th>72</th>\n",
              "      <td>1.036994e+11</td>\n",
              "    </tr>\n",
              "  </tbody>\n",
              "</table>\n",
              "</div>\n",
              "      <button class=\"colab-df-convert\" onclick=\"convertToInteractive('df-4c60187f-28fb-45f7-aba0-8db0fea84e3a')\"\n",
              "              title=\"Convert this dataframe to an interactive table.\"\n",
              "              style=\"display:none;\">\n",
              "        \n",
              "  <svg xmlns=\"http://www.w3.org/2000/svg\" height=\"24px\"viewBox=\"0 0 24 24\"\n",
              "       width=\"24px\">\n",
              "    <path d=\"M0 0h24v24H0V0z\" fill=\"none\"/>\n",
              "    <path d=\"M18.56 5.44l.94 2.06.94-2.06 2.06-.94-2.06-.94-.94-2.06-.94 2.06-2.06.94zm-11 1L8.5 8.5l.94-2.06 2.06-.94-2.06-.94L8.5 2.5l-.94 2.06-2.06.94zm10 10l.94 2.06.94-2.06 2.06-.94-2.06-.94-.94-2.06-.94 2.06-2.06.94z\"/><path d=\"M17.41 7.96l-1.37-1.37c-.4-.4-.92-.59-1.43-.59-.52 0-1.04.2-1.43.59L10.3 9.45l-7.72 7.72c-.78.78-.78 2.05 0 2.83L4 21.41c.39.39.9.59 1.41.59.51 0 1.02-.2 1.41-.59l7.78-7.78 2.81-2.81c.8-.78.8-2.07 0-2.86zM5.41 20L4 18.59l7.72-7.72 1.47 1.35L5.41 20z\"/>\n",
              "  </svg>\n",
              "      </button>\n",
              "      \n",
              "  <style>\n",
              "    .colab-df-container {\n",
              "      display:flex;\n",
              "      flex-wrap:wrap;\n",
              "      gap: 12px;\n",
              "    }\n",
              "\n",
              "    .colab-df-convert {\n",
              "      background-color: #E8F0FE;\n",
              "      border: none;\n",
              "      border-radius: 50%;\n",
              "      cursor: pointer;\n",
              "      display: none;\n",
              "      fill: #1967D2;\n",
              "      height: 32px;\n",
              "      padding: 0 0 0 0;\n",
              "      width: 32px;\n",
              "    }\n",
              "\n",
              "    .colab-df-convert:hover {\n",
              "      background-color: #E2EBFA;\n",
              "      box-shadow: 0px 1px 2px rgba(60, 64, 67, 0.3), 0px 1px 3px 1px rgba(60, 64, 67, 0.15);\n",
              "      fill: #174EA6;\n",
              "    }\n",
              "\n",
              "    [theme=dark] .colab-df-convert {\n",
              "      background-color: #3B4455;\n",
              "      fill: #D2E3FC;\n",
              "    }\n",
              "\n",
              "    [theme=dark] .colab-df-convert:hover {\n",
              "      background-color: #434B5C;\n",
              "      box-shadow: 0px 1px 3px 1px rgba(0, 0, 0, 0.15);\n",
              "      filter: drop-shadow(0px 1px 2px rgba(0, 0, 0, 0.3));\n",
              "      fill: #FFFFFF;\n",
              "    }\n",
              "  </style>\n",
              "\n",
              "      <script>\n",
              "        const buttonEl =\n",
              "          document.querySelector('#df-4c60187f-28fb-45f7-aba0-8db0fea84e3a button.colab-df-convert');\n",
              "        buttonEl.style.display =\n",
              "          google.colab.kernel.accessAllowed ? 'block' : 'none';\n",
              "\n",
              "        async function convertToInteractive(key) {\n",
              "          const element = document.querySelector('#df-4c60187f-28fb-45f7-aba0-8db0fea84e3a');\n",
              "          const dataTable =\n",
              "            await google.colab.kernel.invokeFunction('convertToInteractive',\n",
              "                                                     [key], {});\n",
              "          if (!dataTable) return;\n",
              "\n",
              "          const docLinkHtml = 'Like what you see? Visit the ' +\n",
              "            '<a target=\"_blank\" href=https://colab.research.google.com/notebooks/data_table.ipynb>data table notebook</a>'\n",
              "            + ' to learn more about interactive tables.';\n",
              "          element.innerHTML = '';\n",
              "          dataTable['output_type'] = 'display_data';\n",
              "          await google.colab.output.renderOutput(dataTable, element);\n",
              "          const docLink = document.createElement('div');\n",
              "          docLink.innerHTML = docLinkHtml;\n",
              "          element.appendChild(docLink);\n",
              "        }\n",
              "      </script>\n",
              "    </div>\n",
              "  </div>\n",
              "  "
            ]
          },
          "metadata": {},
          "execution_count": 21
        }
      ]
    },
    {
      "cell_type": "code",
      "source": [
        "FilteredData.groupby(['Grant Number']).sum().plot(kind='pie', y='Total Expenditure Upto Month (November)')"
      ],
      "metadata": {
        "colab": {
          "base_uri": "https://localhost:8080/",
          "height": 265
        },
        "id": "apSDYItUjoDB",
        "outputId": "2da728f5-2aa7-426c-83d9-d9b6d8adc8f3"
      },
      "execution_count": 22,
      "outputs": [
        {
          "output_type": "execute_result",
          "data": {
            "text/plain": [
              "<matplotlib.axes._subplots.AxesSubplot at 0x7fc2ac3dd410>"
            ]
          },
          "metadata": {},
          "execution_count": 22
        },
        {
          "output_type": "display_data",
          "data": {
            "text/plain": [
              "<Figure size 432x288 with 1 Axes>"
            ],
            "image/png": "[encoded data removed]"
          },
          "metadata": {}
        }
      ]
    },
    {
      "cell_type": "markdown",
      "source": [
        "# Q2) Estimating the share of capital expenditure"
      ],
      "metadata": {
        "id": "jIMkIXEniPOl"
      }
    },
    {
      "cell_type": "markdown",
      "source": [
        "We know that **Major Head 4202** maps to *Capital Outlay on Education, Sports, Art and Culture*"
      ],
      "metadata": {
        "id": "7onNYzKvkVQ0"
      }
    },
    {
      "cell_type": "code",
      "source": [
        "Capital= FilteredData[FilteredData['Major Head Code']==4202]\n",
        "pd.DataFrame(Capital['Total Expenditure Upto Month (November)'].groupby(Capital['Grant Head Description']).sum())"
      ],
      "metadata": {
        "colab": {
          "base_uri": "https://localhost:8080/",
          "height": 143
        },
        "id": "hhk39h70iOvS",
        "outputId": "4eb5d357-353d-42eb-8f7a-b594b0a7f415"
      },
      "execution_count": 23,
      "outputs": [
        {
          "output_type": "execute_result",
          "data": {
            "text/plain": [
              "                                Total Expenditure Upto Month (November)\n",
              "Grant Head Description                                                 \n",
              "शिक्षा विभाग (प्राथमिक शिक्षा)                             3.259907e+09\n",
              "शिक्षा विभाग (माध्यमिक शिक्षा)                             1.472834e+09"
            ],
            "text/html": [
              "\n",
              "  <div id=\"df-a0ab4f12-4545-4bef-80c8-0205b4e11117\">\n",
              "    <div class=\"colab-df-container\">\n",
              "      <div>\n",
              "<style scoped>\n",
              "    .dataframe tbody tr th:only-of-type {\n",
              "        vertical-align: middle;\n",
              "    }\n",
              "\n",
              "    .dataframe tbody tr th {\n",
              "        vertical-align: top;\n",
              "    }\n",
              "\n",
              "    .dataframe thead th {\n",
              "        text-align: right;\n",
              "    }\n",
              "</style>\n",
              "<table border=\"1\" class=\"dataframe\">\n",
              "  <thead>\n",
              "    <tr style=\"text-align: right;\">\n",
              "      <th></th>\n",
              "      <th>Total Expenditure Upto Month (November)</th>\n",
              "    </tr>\n",
              "    <tr>\n",
              "      <th>Grant Head Description</th>\n",
              "      <th></th>\n",
              "    </tr>\n",
              "  </thead>\n",
              "  <tbody>\n",
              "    <tr>\n",
              "      <th>शिक्षा विभाग (प्राथमिक शिक्षा)</th>\n",
              "      <td>3.259907e+09</td>\n",
              "    </tr>\n",
              "    <tr>\n",
              "      <th>शिक्षा विभाग (माध्यमिक शिक्षा)</th>\n",
              "      <td>1.472834e+09</td>\n",
              "    </tr>\n",
              "  </tbody>\n",
              "</table>\n",
              "</div>\n",
              "      <button class=\"colab-df-convert\" onclick=\"convertToInteractive('df-a0ab4f12-4545-4bef-80c8-0205b4e11117')\"\n",
              "              title=\"Convert this dataframe to an interactive table.\"\n",
              "              style=\"display:none;\">\n",
              "        \n",
              "  <svg xmlns=\"http://www.w3.org/2000/svg\" height=\"24px\"viewBox=\"0 0 24 24\"\n",
              "       width=\"24px\">\n",
              "    <path d=\"M0 0h24v24H0V0z\" fill=\"none\"/>\n",
              "    <path d=\"M18.56 5.44l.94 2.06.94-2.06 2.06-.94-2.06-.94-.94-2.06-.94 2.06-2.06.94zm-11 1L8.5 8.5l.94-2.06 2.06-.94-2.06-.94L8.5 2.5l-.94 2.06-2.06.94zm10 10l.94 2.06.94-2.06 2.06-.94-2.06-.94-.94-2.06-.94 2.06-2.06.94z\"/><path d=\"M17.41 7.96l-1.37-1.37c-.4-.4-.92-.59-1.43-.59-.52 0-1.04.2-1.43.59L10.3 9.45l-7.72 7.72c-.78.78-.78 2.05 0 2.83L4 21.41c.39.39.9.59 1.41.59.51 0 1.02-.2 1.41-.59l7.78-7.78 2.81-2.81c.8-.78.8-2.07 0-2.86zM5.41 20L4 18.59l7.72-7.72 1.47 1.35L5.41 20z\"/>\n",
              "  </svg>\n",
              "      </button>\n",
              "      \n",
              "  <style>\n",
              "    .colab-df-container {\n",
              "      display:flex;\n",
              "      flex-wrap:wrap;\n",
              "      gap: 12px;\n",
              "    }\n",
              "\n",
              "    .colab-df-convert {\n",
              "      background-color: #E8F0FE;\n",
              "      border: none;\n",
              "      border-radius: 50%;\n",
              "      cursor: pointer;\n",
              "      display: none;\n",
              "      fill: #1967D2;\n",
              "      height: 32px;\n",
              "      padding: 0 0 0 0;\n",
              "      width: 32px;\n",
              "    }\n",
              "\n",
              "    .colab-df-convert:hover {\n",
              "      background-color: #E2EBFA;\n",
              "      box-shadow: 0px 1px 2px rgba(60, 64, 67, 0.3), 0px 1px 3px 1px rgba(60, 64, 67, 0.15);\n",
              "      fill: #174EA6;\n",
              "    }\n",
              "\n",
              "    [theme=dark] .colab-df-convert {\n",
              "      background-color: #3B4455;\n",
              "      fill: #D2E3FC;\n",
              "    }\n",
              "\n",
              "    [theme=dark] .colab-df-convert:hover {\n",
              "      background-color: #434B5C;\n",
              "      box-shadow: 0px 1px 3px 1px rgba(0, 0, 0, 0.15);\n",
              "      filter: drop-shadow(0px 1px 2px rgba(0, 0, 0, 0.3));\n",
              "      fill: #FFFFFF;\n",
              "    }\n",
              "  </style>\n",
              "\n",
              "      <script>\n",
              "        const buttonEl =\n",
              "          document.querySelector('#df-a0ab4f12-4545-4bef-80c8-0205b4e11117 button.colab-df-convert');\n",
              "        buttonEl.style.display =\n",
              "          google.colab.kernel.accessAllowed ? 'block' : 'none';\n",
              "\n",
              "        async function convertToInteractive(key) {\n",
              "          const element = document.querySelector('#df-a0ab4f12-4545-4bef-80c8-0205b4e11117');\n",
              "          const dataTable =\n",
              "            await google.colab.kernel.invokeFunction('convertToInteractive',\n",
              "                                                     [key], {});\n",
              "          if (!dataTable) return;\n",
              "\n",
              "          const docLinkHtml = 'Like what you see? Visit the ' +\n",
              "            '<a target=\"_blank\" href=https://colab.research.google.com/notebooks/data_table.ipynb>data table notebook</a>'\n",
              "            + ' to learn more about interactive tables.';\n",
              "          element.innerHTML = '';\n",
              "          dataTable['output_type'] = 'display_data';\n",
              "          await google.colab.output.renderOutput(dataTable, element);\n",
              "          const docLink = document.createElement('div');\n",
              "          docLink.innerHTML = docLinkHtml;\n",
              "          element.appendChild(docLink);\n",
              "        }\n",
              "      </script>\n",
              "    </div>\n",
              "  </div>\n",
              "  "
            ]
          },
          "metadata": {},
          "execution_count": 23
        }
      ]
    },
    {
      "cell_type": "markdown",
      "source": [
        "# Q3) Estimate the per-capita expenditure on school education in the state, and each district. "
      ],
      "metadata": {
        "id": "Q3umxEhRlXRT"
      }
    },
    {
      "cell_type": "markdown",
      "source": [
        "With reference to the following [website](https://www.census2011.co.in/census/state/uttar+pradesh.html), we find the projected population for the 2021 in UP is *231,521,022*"
      ],
      "metadata": {
        "id": "sx_Uxm53mV2c"
      }
    },
    {
      "cell_type": "code",
      "source": [
        "percap_exp = FilteredData['Total Expenditure Upto Month (November)'].sum()/231521022\n",
        "print(' The Per-capita expenditure on school education for the year 2020-21 is %.2f' %(percap_exp))"
      ],
      "metadata": {
        "colab": {
          "base_uri": "https://localhost:8080/"
        },
        "id": "VRC5_5LblVdS",
        "outputId": "8ef8a408-09df-4b11-e471-a32b190c3709"
      },
      "execution_count": 24,
      "outputs": [
        {
          "output_type": "stream",
          "name": "stdout",
          "text": [
            " The Per-capita expenditure on school education for the year 2020-21 is 2292.54\n"
          ]
        }
      ]
    },
    {
      "cell_type": "markdown",
      "source": [
        "**Note** : Was unable to find district wise population data for the year 2019-20"
      ],
      "metadata": {
        "id": "FQqtCtR7p1U_"
      }
    },
    {
      "cell_type": "markdown",
      "source": [
        "#Q4) Rank the districts based on utilization of allotted funds of revenue expenditure and capital expenditure"
      ],
      "metadata": {
        "id": "YlkH2-gnpxMT"
      }
    },
    {
      "cell_type": "code",
      "source": [
        "cap_exp = FilteredData[FilteredData['Major Head Code'] == 4202]\n",
        "rev_exp = FilteredData[FilteredData['Major Head Code'] != 4202]"
      ],
      "metadata": {
        "id": "dQPASoaAqJw4"
      },
      "execution_count": 25,
      "outputs": []
    },
    {
      "cell_type": "markdown",
      "source": [
        "Captial Expenditure"
      ],
      "metadata": {
        "id": "JS_eknZy0jqL"
      }
    },
    {
      "cell_type": "code",
      "source": [
        "op = pd.DataFrame((cap_exp['Total Expenditure Upto Month (November)'].groupby(cap_exp['Treasury']).sum())/cap_exp['Progressive Allotment'].groupby(cap_exp['Treasury']).sum()).sort_values(by=0, ascending=False)\n",
        "op"
      ],
      "metadata": {
        "colab": {
          "base_uri": "https://localhost:8080/",
          "height": 1000
        },
        "id": "5uDAmTfE3_1P",
        "outputId": "2a42a53c-85bc-4374-b89c-86f475a9d6d3"
      },
      "execution_count": 26,
      "outputs": [
        {
          "output_type": "execute_result",
          "data": {
            "text/plain": [
              "                        0\n",
              "Treasury                 \n",
              "MORADABAD        2.504253\n",
              "KANPUR DEHAT     1.030928\n",
              "AGRA             1.000000\n",
              "KHERI            1.000000\n",
              "KUSHI NAGAR      1.000000\n",
              "LALITPUR         1.000000\n",
              "LUCKNOW COLL.    1.000000\n",
              "MAHARAJGANJ      1.000000\n",
              "MAINPURI         1.000000\n",
              "MEERUT SADAR     1.000000\n",
              "PRATAPGARH       1.000000\n",
              "JHANSI-MAIN      1.000000\n",
              "RAEBARELI        1.000000\n",
              "SADAR TRY-HMRPR  1.000000\n",
              "SAMBHAL          1.000000\n",
              "SANT KABIR NAGR  1.000000\n",
              "SHAHJAHANPUR     1.000000\n",
              "SHAMLI           1.000000\n",
              "SULTANPUR        1.000000\n",
              "TRY.SONBHADRA    1.000000\n",
              "ALIGARH          1.000000\n",
              "KANNAUJ          1.000000\n",
              "JAUNPUR          1.000000\n",
              "BHADOHI          1.000000\n",
              "ALLAHABAD        1.000000\n",
              "BADAUN           1.000000\n",
              "BALLIA           1.000000\n",
              "BANDA            1.000000\n",
              "BARABANKI        1.000000\n",
              "BAREILLY         1.000000\n",
              "BASTI            1.000000\n",
              "J.P.NAGAR        1.000000\n",
              "VARANASI         1.000000\n",
              "BULANDSHAHR      1.000000\n",
              "CSMAHARAJ NAGAR  1.000000\n",
              "DEORIA           1.000000\n",
              "FIROZABAD        1.000000\n",
              "GONDA            1.000000\n",
              "GORAKHPUR        1.000000\n",
              "HARDOI           1.000000\n",
              "UNNAO TREASURY   1.000000\n",
              "LUCKNOW-JB       0.999933\n",
              "FAIZABAD         0.999860\n",
              "BAGHPAT SADAR    0.999480\n",
              "ALLAHABAD II     0.998576\n",
              "MUZAFFARNAGAR    0.967742\n",
              "ORAI             0.000000\n",
              "KANPUR NAGAR          NaN"
            ],
            "text/html": [
              "\n",
              "  <div id=\"df-a33d7d86-3607-4fa3-823b-dfe27c19182b\">\n",
              "    <div class=\"colab-df-container\">\n",
              "      <div>\n",
              "<style scoped>\n",
              "    .dataframe tbody tr th:only-of-type {\n",
              "        vertical-align: middle;\n",
              "    }\n",
              "\n",
              "    .dataframe tbody tr th {\n",
              "        vertical-align: top;\n",
              "    }\n",
              "\n",
              "    .dataframe thead th {\n",
              "        text-align: right;\n",
              "    }\n",
              "</style>\n",
              "<table border=\"1\" class=\"dataframe\">\n",
              "  <thead>\n",
              "    <tr style=\"text-align: right;\">\n",
              "      <th></th>\n",
              "      <th>0</th>\n",
              "    </tr>\n",
              "    <tr>\n",
              "      <th>Treasury</th>\n",
              "      <th></th>\n",
              "    </tr>\n",
              "  </thead>\n",
              "  <tbody>\n",
              "    <tr>\n",
              "      <th>MORADABAD</th>\n",
              "      <td>2.504253</td>\n",
              "    </tr>\n",
              "    <tr>\n",
              "      <th>KANPUR DEHAT</th>\n",
              "      <td>1.030928</td>\n",
              "    </tr>\n",
              "    <tr>\n",
              "      <th>AGRA</th>\n",
              "      <td>1.000000</td>\n",
              "    </tr>\n",
              "    <tr>\n",
              "      <th>KHERI</th>\n",
              "      <td>1.000000</td>\n",
              "    </tr>\n",
              "    <tr>\n",
              "      <th>KUSHI NAGAR</th>\n",
              "      <td>1.000000</td>\n",
              "    </tr>\n",
              "    <tr>\n",
              "      <th>LALITPUR</th>\n",
              "      <td>1.000000</td>\n",
              "    </tr>\n",
              "    <tr>\n",
              "      <th>LUCKNOW COLL.</th>\n",
              "      <td>1.000000</td>\n",
              "    </tr>\n",
              "    <tr>\n",
              "      <th>MAHARAJGANJ</th>\n",
              "      <td>1.000000</td>\n",
              "    </tr>\n",
              "    <tr>\n",
              "      <th>MAINPURI</th>\n",
              "      <td>1.000000</td>\n",
              "    </tr>\n",
              "    <tr>\n",
              "      <th>MEERUT SADAR</th>\n",
              "      <td>1.000000</td>\n",
              "    </tr>\n",
              "    <tr>\n",
              "      <th>PRATAPGARH</th>\n",
              "      <td>1.000000</td>\n",
              "    </tr>\n",
              "    <tr>\n",
              "      <th>JHANSI-MAIN</th>\n",
              "      <td>1.000000</td>\n",
              "    </tr>\n",
              "    <tr>\n",
              "      <th>RAEBARELI</th>\n",
              "      <td>1.000000</td>\n",
              "    </tr>\n",
              "    <tr>\n",
              "      <th>SADAR TRY-HMRPR</th>\n",
              "      <td>1.000000</td>\n",
              "    </tr>\n",
              "    <tr>\n",
              "      <th>SAMBHAL</th>\n",
              "      <td>1.000000</td>\n",
              "    </tr>\n",
              "    <tr>\n",
              "      <th>SANT KABIR NAGR</th>\n",
              "      <td>1.000000</td>\n",
              "    </tr>\n",
              "    <tr>\n",
              "      <th>SHAHJAHANPUR</th>\n",
              "      <td>1.000000</td>\n",
              "    </tr>\n",
              "    <tr>\n",
              "      <th>SHAMLI</th>\n",
              "      <td>1.000000</td>\n",
              "    </tr>\n",
              "    <tr>\n",
              "      <th>SULTANPUR</th>\n",
              "      <td>1.000000</td>\n",
              "    </tr>\n",
              "    <tr>\n",
              "      <th>TRY.SONBHADRA</th>\n",
              "      <td>1.000000</td>\n",
              "    </tr>\n",
              "    <tr>\n",
              "      <th>ALIGARH</th>\n",
              "      <td>1.000000</td>\n",
              "    </tr>\n",
              "    <tr>\n",
              "      <th>KANNAUJ</th>\n",
              "      <td>1.000000</td>\n",
              "    </tr>\n",
              "    <tr>\n",
              "      <th>JAUNPUR</th>\n",
              "      <td>1.000000</td>\n",
              "    </tr>\n",
              "    <tr>\n",
              "      <th>BHADOHI</th>\n",
              "      <td>1.000000</td>\n",
              "    </tr>\n",
              "    <tr>\n",
              "      <th>ALLAHABAD</th>\n",
              "      <td>1.000000</td>\n",
              "    </tr>\n",
              "    <tr>\n",
              "      <th>BADAUN</th>\n",
              "      <td>1.000000</td>\n",
              "    </tr>\n",
              "    <tr>\n",
              "      <th>BALLIA</th>\n",
              "      <td>1.000000</td>\n",
              "    </tr>\n",
              "    <tr>\n",
              "      <th>BANDA</th>\n",
              "      <td>1.000000</td>\n",
              "    </tr>\n",
              "    <tr>\n",
              "      <th>BARABANKI</th>\n",
              "      <td>1.000000</td>\n",
              "    </tr>\n",
              "    <tr>\n",
              "      <th>BAREILLY</th>\n",
              "      <td>1.000000</td>\n",
              "    </tr>\n",
              "    <tr>\n",
              "      <th>BASTI</th>\n",
              "      <td>1.000000</td>\n",
              "    </tr>\n",
              "    <tr>\n",
              "      <th>J.P.NAGAR</th>\n",
              "      <td>1.000000</td>\n",
              "    </tr>\n",
              "    <tr>\n",
              "      <th>VARANASI</th>\n",
              "      <td>1.000000</td>\n",
              "    </tr>\n",
              "    <tr>\n",
              "      <th>BULANDSHAHR</th>\n",
              "      <td>1.000000</td>\n",
              "    </tr>\n",
              "    <tr>\n",
              "      <th>CSMAHARAJ NAGAR</th>\n",
              "      <td>1.000000</td>\n",
              "    </tr>\n",
              "    <tr>\n",
              "      <th>DEORIA</th>\n",
              "      <td>1.000000</td>\n",
              "    </tr>\n",
              "    <tr>\n",
              "      <th>FIROZABAD</th>\n",
              "      <td>1.000000</td>\n",
              "    </tr>\n",
              "    <tr>\n",
              "      <th>GONDA</th>\n",
              "      <td>1.000000</td>\n",
              "    </tr>\n",
              "    <tr>\n",
              "      <th>GORAKHPUR</th>\n",
              "      <td>1.000000</td>\n",
              "    </tr>\n",
              "    <tr>\n",
              "      <th>HARDOI</th>\n",
              "      <td>1.000000</td>\n",
              "    </tr>\n",
              "    <tr>\n",
              "      <th>UNNAO TREASURY</th>\n",
              "      <td>1.000000</td>\n",
              "    </tr>\n",
              "    <tr>\n",
              "      <th>LUCKNOW-JB</th>\n",
              "      <td>0.999933</td>\n",
              "    </tr>\n",
              "    <tr>\n",
              "      <th>FAIZABAD</th>\n",
              "      <td>0.999860</td>\n",
              "    </tr>\n",
              "    <tr>\n",
              "      <th>BAGHPAT SADAR</th>\n",
              "      <td>0.999480</td>\n",
              "    </tr>\n",
              "    <tr>\n",
              "      <th>ALLAHABAD II</th>\n",
              "      <td>0.998576</td>\n",
              "    </tr>\n",
              "    <tr>\n",
              "      <th>MUZAFFARNAGAR</th>\n",
              "      <td>0.967742</td>\n",
              "    </tr>\n",
              "    <tr>\n",
              "      <th>ORAI</th>\n",
              "      <td>0.000000</td>\n",
              "    </tr>\n",
              "    <tr>\n",
              "      <th>KANPUR NAGAR</th>\n",
              "      <td>NaN</td>\n",
              "    </tr>\n",
              "  </tbody>\n",
              "</table>\n",
              "</div>\n",
              "      <button class=\"colab-df-convert\" onclick=\"convertToInteractive('df-a33d7d86-3607-4fa3-823b-dfe27c19182b')\"\n",
              "              title=\"Convert this dataframe to an interactive table.\"\n",
              "              style=\"display:none;\">\n",
              "        \n",
              "  <svg xmlns=\"http://www.w3.org/2000/svg\" height=\"24px\"viewBox=\"0 0 24 24\"\n",
              "       width=\"24px\">\n",
              "    <path d=\"M0 0h24v24H0V0z\" fill=\"none\"/>\n",
              "    <path d=\"M18.56 5.44l.94 2.06.94-2.06 2.06-.94-2.06-.94-.94-2.06-.94 2.06-2.06.94zm-11 1L8.5 8.5l.94-2.06 2.06-.94-2.06-.94L8.5 2.5l-.94 2.06-2.06.94zm10 10l.94 2.06.94-2.06 2.06-.94-2.06-.94-.94-2.06-.94 2.06-2.06.94z\"/><path d=\"M17.41 7.96l-1.37-1.37c-.4-.4-.92-.59-1.43-.59-.52 0-1.04.2-1.43.59L10.3 9.45l-7.72 7.72c-.78.78-.78 2.05 0 2.83L4 21.41c.39.39.9.59 1.41.59.51 0 1.02-.2 1.41-.59l7.78-7.78 2.81-2.81c.8-.78.8-2.07 0-2.86zM5.41 20L4 18.59l7.72-7.72 1.47 1.35L5.41 20z\"/>\n",
              "  </svg>\n",
              "      </button>\n",
              "      \n",
              "  <style>\n",
              "    .colab-df-container {\n",
              "      display:flex;\n",
              "      flex-wrap:wrap;\n",
              "      gap: 12px;\n",
              "    }\n",
              "\n",
              "    .colab-df-convert {\n",
              "      background-color: #E8F0FE;\n",
              "      border: none;\n",
              "      border-radius: 50%;\n",
              "      cursor: pointer;\n",
              "      display: none;\n",
              "      fill: #1967D2;\n",
              "      height: 32px;\n",
              "      padding: 0 0 0 0;\n",
              "      width: 32px;\n",
              "    }\n",
              "\n",
              "    .colab-df-convert:hover {\n",
              "      background-color: #E2EBFA;\n",
              "      box-shadow: 0px 1px 2px rgba(60, 64, 67, 0.3), 0px 1px 3px 1px rgba(60, 64, 67, 0.15);\n",
              "      fill: #174EA6;\n",
              "    }\n",
              "\n",
              "    [theme=dark] .colab-df-convert {\n",
              "      background-color: #3B4455;\n",
              "      fill: #D2E3FC;\n",
              "    }\n",
              "\n",
              "    [theme=dark] .colab-df-convert:hover {\n",
              "      background-color: #434B5C;\n",
              "      box-shadow: 0px 1px 3px 1px rgba(0, 0, 0, 0.15);\n",
              "      filter: drop-shadow(0px 1px 2px rgba(0, 0, 0, 0.3));\n",
              "      fill: #FFFFFF;\n",
              "    }\n",
              "  </style>\n",
              "\n",
              "      <script>\n",
              "        const buttonEl =\n",
              "          document.querySelector('#df-a33d7d86-3607-4fa3-823b-dfe27c19182b button.colab-df-convert');\n",
              "        buttonEl.style.display =\n",
              "          google.colab.kernel.accessAllowed ? 'block' : 'none';\n",
              "\n",
              "        async function convertToInteractive(key) {\n",
              "          const element = document.querySelector('#df-a33d7d86-3607-4fa3-823b-dfe27c19182b');\n",
              "          const dataTable =\n",
              "            await google.colab.kernel.invokeFunction('convertToInteractive',\n",
              "                                                     [key], {});\n",
              "          if (!dataTable) return;\n",
              "\n",
              "          const docLinkHtml = 'Like what you see? Visit the ' +\n",
              "            '<a target=\"_blank\" href=https://colab.research.google.com/notebooks/data_table.ipynb>data table notebook</a>'\n",
              "            + ' to learn more about interactive tables.';\n",
              "          element.innerHTML = '';\n",
              "          dataTable['output_type'] = 'display_data';\n",
              "          await google.colab.output.renderOutput(dataTable, element);\n",
              "          const docLink = document.createElement('div');\n",
              "          docLink.innerHTML = docLinkHtml;\n",
              "          element.appendChild(docLink);\n",
              "        }\n",
              "      </script>\n",
              "    </div>\n",
              "  </div>\n",
              "  "
            ]
          },
          "metadata": {},
          "execution_count": 26
        }
      ]
    },
    {
      "cell_type": "code",
      "source": [
        "op[0].value_counts()"
      ],
      "metadata": {
        "colab": {
          "base_uri": "https://localhost:8080/"
        },
        "id": "tX77AO02yYvD",
        "outputId": "5eeebd33-0bf8-4ca7-f820-962dd26bae69"
      },
      "execution_count": 27,
      "outputs": [
        {
          "output_type": "execute_result",
          "data": {
            "text/plain": [
              "1.000000    38\n",
              "2.504253     1\n",
              "1.030928     1\n",
              "1.000000     1\n",
              "0.999933     1\n",
              "0.999860     1\n",
              "0.999480     1\n",
              "0.998576     1\n",
              "0.967742     1\n",
              "0.000000     1\n",
              "Name: 0, dtype: int64"
            ]
          },
          "metadata": {},
          "execution_count": 27
        }
      ]
    },
    {
      "cell_type": "markdown",
      "source": [
        "It was found that **38 Distrcits** utilized 100% of their allocated funds for capital expenditure\n",
        "\n"
      ],
      "metadata": {
        "id": "lwDyw0Byxy7b"
      }
    },
    {
      "cell_type": "markdown",
      "source": [
        "Revenue Expenditure"
      ],
      "metadata": {
        "id": "OP_IedGl6cbL"
      }
    },
    {
      "cell_type": "code",
      "source": [
        "op = pd.DataFrame((rev_exp['Total Expenditure Upto Month (November)'].groupby(rev_exp['Treasury']).sum())/rev_exp['Progressive Allotment'].groupby(rev_exp['Treasury']).sum()).sort_values(by=0, ascending=False)\n",
        "op"
      ],
      "metadata": {
        "colab": {
          "base_uri": "https://localhost:8080/",
          "height": 455
        },
        "id": "6afZaMbK6Xhy",
        "outputId": "513c062f-7c38-4bc3-ed42-a32168e0be8a"
      },
      "execution_count": 28,
      "outputs": [
        {
          "output_type": "execute_result",
          "data": {
            "text/plain": [
              "                      0\n",
              "Treasury               \n",
              "LUCKNOW COLL.  1.363904\n",
              "KHERI          0.995516\n",
              "BULANDSHAHR    0.995333\n",
              "AZAMGARH       0.991971\n",
              "KANNAUJ        0.991474\n",
              "...                 ...\n",
              "FIROZABAD      0.911207\n",
              "SULTANPUR      0.909945\n",
              "GHAZIABAD      0.896680\n",
              "KAUSHAMBI      0.894531\n",
              "PILIBHIT       0.783428\n",
              "\n",
              "[77 rows x 1 columns]"
            ],
            "text/html": [
              "\n",
              "  <div id=\"df-65dd894f-7319-43a5-a6d2-eb2ce2b1cc92\">\n",
              "    <div class=\"colab-df-container\">\n",
              "      <div>\n",
              "<style scoped>\n",
              "    .dataframe tbody tr th:only-of-type {\n",
              "        vertical-align: middle;\n",
              "    }\n",
              "\n",
              "    .dataframe tbody tr th {\n",
              "        vertical-align: top;\n",
              "    }\n",
              "\n",
              "    .dataframe thead th {\n",
              "        text-align: right;\n",
              "    }\n",
              "</style>\n",
              "<table border=\"1\" class=\"dataframe\">\n",
              "  <thead>\n",
              "    <tr style=\"text-align: right;\">\n",
              "      <th></th>\n",
              "      <th>0</th>\n",
              "    </tr>\n",
              "    <tr>\n",
              "      <th>Treasury</th>\n",
              "      <th></th>\n",
              "    </tr>\n",
              "  </thead>\n",
              "  <tbody>\n",
              "    <tr>\n",
              "      <th>LUCKNOW COLL.</th>\n",
              "      <td>1.363904</td>\n",
              "    </tr>\n",
              "    <tr>\n",
              "      <th>KHERI</th>\n",
              "      <td>0.995516</td>\n",
              "    </tr>\n",
              "    <tr>\n",
              "      <th>BULANDSHAHR</th>\n",
              "      <td>0.995333</td>\n",
              "    </tr>\n",
              "    <tr>\n",
              "      <th>AZAMGARH</th>\n",
              "      <td>0.991971</td>\n",
              "    </tr>\n",
              "    <tr>\n",
              "      <th>KANNAUJ</th>\n",
              "      <td>0.991474</td>\n",
              "    </tr>\n",
              "    <tr>\n",
              "      <th>...</th>\n",
              "      <td>...</td>\n",
              "    </tr>\n",
              "    <tr>\n",
              "      <th>FIROZABAD</th>\n",
              "      <td>0.911207</td>\n",
              "    </tr>\n",
              "    <tr>\n",
              "      <th>SULTANPUR</th>\n",
              "      <td>0.909945</td>\n",
              "    </tr>\n",
              "    <tr>\n",
              "      <th>GHAZIABAD</th>\n",
              "      <td>0.896680</td>\n",
              "    </tr>\n",
              "    <tr>\n",
              "      <th>KAUSHAMBI</th>\n",
              "      <td>0.894531</td>\n",
              "    </tr>\n",
              "    <tr>\n",
              "      <th>PILIBHIT</th>\n",
              "      <td>0.783428</td>\n",
              "    </tr>\n",
              "  </tbody>\n",
              "</table>\n",
              "<p>77 rows × 1 columns</p>\n",
              "</div>\n",
              "      <button class=\"colab-df-convert\" onclick=\"convertToInteractive('df-65dd894f-7319-43a5-a6d2-eb2ce2b1cc92')\"\n",
              "              title=\"Convert this dataframe to an interactive table.\"\n",
              "              style=\"display:none;\">\n",
              "        \n",
              "  <svg xmlns=\"http://www.w3.org/2000/svg\" height=\"24px\"viewBox=\"0 0 24 24\"\n",
              "       width=\"24px\">\n",
              "    <path d=\"M0 0h24v24H0V0z\" fill=\"none\"/>\n",
              "    <path d=\"M18.56 5.44l.94 2.06.94-2.06 2.06-.94-2.06-.94-.94-2.06-.94 2.06-2.06.94zm-11 1L8.5 8.5l.94-2.06 2.06-.94-2.06-.94L8.5 2.5l-.94 2.06-2.06.94zm10 10l.94 2.06.94-2.06 2.06-.94-2.06-.94-.94-2.06-.94 2.06-2.06.94z\"/><path d=\"M17.41 7.96l-1.37-1.37c-.4-.4-.92-.59-1.43-.59-.52 0-1.04.2-1.43.59L10.3 9.45l-7.72 7.72c-.78.78-.78 2.05 0 2.83L4 21.41c.39.39.9.59 1.41.59.51 0 1.02-.2 1.41-.59l7.78-7.78 2.81-2.81c.8-.78.8-2.07 0-2.86zM5.41 20L4 18.59l7.72-7.72 1.47 1.35L5.41 20z\"/>\n",
              "  </svg>\n",
              "      </button>\n",
              "      \n",
              "  <style>\n",
              "    .colab-df-container {\n",
              "      display:flex;\n",
              "      flex-wrap:wrap;\n",
              "      gap: 12px;\n",
              "    }\n",
              "\n",
              "    .colab-df-convert {\n",
              "      background-color: #E8F0FE;\n",
              "      border: none;\n",
              "      border-radius: 50%;\n",
              "      cursor: pointer;\n",
              "      display: none;\n",
              "      fill: #1967D2;\n",
              "      height: 32px;\n",
              "      padding: 0 0 0 0;\n",
              "      width: 32px;\n",
              "    }\n",
              "\n",
              "    .colab-df-convert:hover {\n",
              "      background-color: #E2EBFA;\n",
              "      box-shadow: 0px 1px 2px rgba(60, 64, 67, 0.3), 0px 1px 3px 1px rgba(60, 64, 67, 0.15);\n",
              "      fill: #174EA6;\n",
              "    }\n",
              "\n",
              "    [theme=dark] .colab-df-convert {\n",
              "      background-color: #3B4455;\n",
              "      fill: #D2E3FC;\n",
              "    }\n",
              "\n",
              "    [theme=dark] .colab-df-convert:hover {\n",
              "      background-color: #434B5C;\n",
              "      box-shadow: 0px 1px 3px 1px rgba(0, 0, 0, 0.15);\n",
              "      filter: drop-shadow(0px 1px 2px rgba(0, 0, 0, 0.3));\n",
              "      fill: #FFFFFF;\n",
              "    }\n",
              "  </style>\n",
              "\n",
              "      <script>\n",
              "        const buttonEl =\n",
              "          document.querySelector('#df-65dd894f-7319-43a5-a6d2-eb2ce2b1cc92 button.colab-df-convert');\n",
              "        buttonEl.style.display =\n",
              "          google.colab.kernel.accessAllowed ? 'block' : 'none';\n",
              "\n",
              "        async function convertToInteractive(key) {\n",
              "          const element = document.querySelector('#df-65dd894f-7319-43a5-a6d2-eb2ce2b1cc92');\n",
              "          const dataTable =\n",
              "            await google.colab.kernel.invokeFunction('convertToInteractive',\n",
              "                                                     [key], {});\n",
              "          if (!dataTable) return;\n",
              "\n",
              "          const docLinkHtml = 'Like what you see? Visit the ' +\n",
              "            '<a target=\"_blank\" href=https://colab.research.google.com/notebooks/data_table.ipynb>data table notebook</a>'\n",
              "            + ' to learn more about interactive tables.';\n",
              "          element.innerHTML = '';\n",
              "          dataTable['output_type'] = 'display_data';\n",
              "          await google.colab.output.renderOutput(dataTable, element);\n",
              "          const docLink = document.createElement('div');\n",
              "          docLink.innerHTML = docLinkHtml;\n",
              "          element.appendChild(docLink);\n",
              "        }\n",
              "      </script>\n",
              "    </div>\n",
              "  </div>\n",
              "  "
            ]
          },
          "metadata": {},
          "execution_count": 28
        }
      ]
    },
    {
      "cell_type": "markdown",
      "source": [
        "We can infer that Lucknow Coll. district ranked first in the total revenue expenditure"
      ],
      "metadata": {
        "id": "lSPzXA41zzbp"
      }
    }
  ]
}