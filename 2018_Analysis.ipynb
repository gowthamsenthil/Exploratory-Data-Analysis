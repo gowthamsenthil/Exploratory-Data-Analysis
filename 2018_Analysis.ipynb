{
  "nbformat": 4,
  "nbformat_minor": 0,
  "metadata": {
    "colab": {
      "name": "2018_Analysis.ipynb",
      "provenance": [],
      "toc_visible": true
    },
    "kernelspec": {
      "name": "python3",
      "display_name": "Python 3"
    },
    "language_info": {
      "name": "python"
    }
  },
  "cells": [
    {
      "cell_type": "markdown",
      "source": [
        "#2018 Dataset"
      ],
      "metadata": {
        "id": "YoHfh7Vz-nH1"
      }
    },
    {
      "cell_type": "markdown",
      "source": [
        "Mounting Google Drive, where the dataset is stored"
      ],
      "metadata": {
        "id": "LKJT9yrB-yHk"
      }
    },
    {
      "cell_type": "code",
      "source": [
        "from google.colab import drive\n",
        "drive.mount('/content/drive')"
      ],
      "metadata": {
        "colab": {
          "base_uri": "https://localhost:8080/"
        },
        "id": "FRLqHwQoO-SP",
        "outputId": "eb0cdc37-3089-4414-9847-a6cded17f498"
      },
      "execution_count": 1,
      "outputs": [
        {
          "output_type": "stream",
          "name": "stdout",
          "text": [
            "Mounted at /content/drive\n"
          ]
        }
      ]
    },
    {
      "cell_type": "markdown",
      "source": [
        "Importing libraries and dataset"
      ],
      "metadata": {
        "id": "ExLHGKXf_-zb"
      }
    },
    {
      "cell_type": "code",
      "execution_count": 2,
      "metadata": {
        "id": "br1gI4lyM3aM"
      },
      "outputs": [],
      "source": [
        "import pandas as pd\n",
        "import numpy as np \n",
        "import matplotlib.pyplot as plt\n",
        "\n",
        "\n",
        "data = pd.read_csv (r'/content/drive/MyDrive/district_level_mapping_2018.csv')"
      ]
    },
    {
      "cell_type": "markdown",
      "source": [
        "#1. Overview of the dataset"
      ],
      "metadata": {
        "id": "Mzw7gpTXDIOe"
      }
    },
    {
      "cell_type": "code",
      "source": [
        "data.head()"
      ],
      "metadata": {
        "colab": {
          "base_uri": "https://localhost:8080/",
          "height": 426
        },
        "id": "6DpWQBNeDj9M",
        "outputId": "d85f1ffa-c194-4d9f-f50a-4e1f8ffdc913"
      },
      "execution_count": 3,
      "outputs": [
        {
          "output_type": "execute_result",
          "data": {
            "text/plain": [
              "   Division Code Division Description  Treasury Code Treasury  Grant Number  \\\n",
              "0          800.0                 AGRA            8.0     AGRA             1   \n",
              "1          800.0                 AGRA            8.0     AGRA             1   \n",
              "2          800.0                 AGRA            8.0     AGRA             1   \n",
              "3          800.0                 AGRA            8.0     AGRA             1   \n",
              "4          800.0                 AGRA            8.0     AGRA             1   \n",
              "\n",
              "  Grant Head Description  Major Head Code Major Head Description  \\\n",
              "0           आबकारी विभाग             2039     राज्य उत्पाद शुल्क   \n",
              "1           आबकारी विभाग             2039     राज्य उत्पाद शुल्क   \n",
              "2           आबकारी विभाग             2039     राज्य उत्पाद शुल्क   \n",
              "3           आबकारी विभाग             2039     राज्य उत्पाद शुल्क   \n",
              "4           आबकारी विभाग             2039     राज्य उत्पाद शुल्क   \n",
              "\n",
              "     Scheme Code Scheme Code Description  Standard Object Code  \\\n",
              "0  2039000010300                 अधीक्षण                     1   \n",
              "1  2039000010300                 अधीक्षण                     2   \n",
              "2  2039000010300                 अधीक्षण                     3   \n",
              "3  2039000010300                 अधीक्षण                     4   \n",
              "4  2039000010300                 अधीक्षण                     5   \n",
              "\n",
              "  Standard Object Description Plan / Non-Plan Voted / Charged fiscal_year  \\\n",
              "0                        वेतन               N               V   2018-2019   \n",
              "1                      मजदूरी               N               V   2018-2019   \n",
              "2                मंहगाई भत्ता               N               V   2018-2019   \n",
              "3                 यात्रा व्यय               N               V   2018-2019   \n",
              "4     स्थानान्तरण यात्रा व्यय               N               V   2018-2019   \n",
              "\n",
              "   Progressive Allotment  Actual Progressive Expenditure upto month (October)  \\\n",
              "0                6504116                                          6194850.0     \n",
              "1                 166800                                            13867.0     \n",
              "2                 784755                                           486702.0     \n",
              "3                  30000                                                0.0     \n",
              "4                  50000                                            40561.0     \n",
              "\n",
              "   Provisional Current Month Expenditure(November)  \\\n",
              "0                                                0   \n",
              "1                                                0   \n",
              "2                                                0   \n",
              "3                                                0   \n",
              "4                                                0   \n",
              "\n",
              "   Total Expenditure Upto Month (November)  % A/E  \n",
              "0                                6194850.0  95.25  \n",
              "1                                  13867.0   8.31  \n",
              "2                                 486702.0  62.02  \n",
              "3                                      0.0   0.00  \n",
              "4                                  40561.0  81.12  "
            ],
            "text/html": [
              "\n",
              "  <div id=\"df-1310326a-690d-4722-84e6-0ef67ee33628\">\n",
              "    <div class=\"colab-df-container\">\n",
              "      <div>\n",
              "<style scoped>\n",
              "    .dataframe tbody tr th:only-of-type {\n",
              "        vertical-align: middle;\n",
              "    }\n",
              "\n",
              "    .dataframe tbody tr th {\n",
              "        vertical-align: top;\n",
              "    }\n",
              "\n",
              "    .dataframe thead th {\n",
              "        text-align: right;\n",
              "    }\n",
              "</style>\n",
              "<table border=\"1\" class=\"dataframe\">\n",
              "  <thead>\n",
              "    <tr style=\"text-align: right;\">\n",
              "      <th></th>\n",
              "      <th>Division Code</th>\n",
              "      <th>Division Description</th>\n",
              "      <th>Treasury Code</th>\n",
              "      <th>Treasury</th>\n",
              "      <th>Grant Number</th>\n",
              "      <th>Grant Head Description</th>\n",
              "      <th>Major Head Code</th>\n",
              "      <th>Major Head Description</th>\n",
              "      <th>Scheme Code</th>\n",
              "      <th>Scheme Code Description</th>\n",
              "      <th>Standard Object Code</th>\n",
              "      <th>Standard Object Description</th>\n",
              "      <th>Plan / Non-Plan</th>\n",
              "      <th>Voted / Charged</th>\n",
              "      <th>fiscal_year</th>\n",
              "      <th>Progressive Allotment</th>\n",
              "      <th>Actual Progressive Expenditure upto month (October)</th>\n",
              "      <th>Provisional Current Month Expenditure(November)</th>\n",
              "      <th>Total Expenditure Upto Month (November)</th>\n",
              "      <th>% A/E</th>\n",
              "    </tr>\n",
              "  </thead>\n",
              "  <tbody>\n",
              "    <tr>\n",
              "      <th>0</th>\n",
              "      <td>800.0</td>\n",
              "      <td>AGRA</td>\n",
              "      <td>8.0</td>\n",
              "      <td>AGRA</td>\n",
              "      <td>1</td>\n",
              "      <td>आबकारी विभाग</td>\n",
              "      <td>2039</td>\n",
              "      <td>राज्य उत्पाद शुल्क</td>\n",
              "      <td>2039000010300</td>\n",
              "      <td>अधीक्षण</td>\n",
              "      <td>1</td>\n",
              "      <td>वेतन</td>\n",
              "      <td>N</td>\n",
              "      <td>V</td>\n",
              "      <td>2018-2019</td>\n",
              "      <td>6504116</td>\n",
              "      <td>6194850.0</td>\n",
              "      <td>0</td>\n",
              "      <td>6194850.0</td>\n",
              "      <td>95.25</td>\n",
              "    </tr>\n",
              "    <tr>\n",
              "      <th>1</th>\n",
              "      <td>800.0</td>\n",
              "      <td>AGRA</td>\n",
              "      <td>8.0</td>\n",
              "      <td>AGRA</td>\n",
              "      <td>1</td>\n",
              "      <td>आबकारी विभाग</td>\n",
              "      <td>2039</td>\n",
              "      <td>राज्य उत्पाद शुल्क</td>\n",
              "      <td>2039000010300</td>\n",
              "      <td>अधीक्षण</td>\n",
              "      <td>2</td>\n",
              "      <td>मजदूरी</td>\n",
              "      <td>N</td>\n",
              "      <td>V</td>\n",
              "      <td>2018-2019</td>\n",
              "      <td>166800</td>\n",
              "      <td>13867.0</td>\n",
              "      <td>0</td>\n",
              "      <td>13867.0</td>\n",
              "      <td>8.31</td>\n",
              "    </tr>\n",
              "    <tr>\n",
              "      <th>2</th>\n",
              "      <td>800.0</td>\n",
              "      <td>AGRA</td>\n",
              "      <td>8.0</td>\n",
              "      <td>AGRA</td>\n",
              "      <td>1</td>\n",
              "      <td>आबकारी विभाग</td>\n",
              "      <td>2039</td>\n",
              "      <td>राज्य उत्पाद शुल्क</td>\n",
              "      <td>2039000010300</td>\n",
              "      <td>अधीक्षण</td>\n",
              "      <td>3</td>\n",
              "      <td>मंहगाई भत्ता</td>\n",
              "      <td>N</td>\n",
              "      <td>V</td>\n",
              "      <td>2018-2019</td>\n",
              "      <td>784755</td>\n",
              "      <td>486702.0</td>\n",
              "      <td>0</td>\n",
              "      <td>486702.0</td>\n",
              "      <td>62.02</td>\n",
              "    </tr>\n",
              "    <tr>\n",
              "      <th>3</th>\n",
              "      <td>800.0</td>\n",
              "      <td>AGRA</td>\n",
              "      <td>8.0</td>\n",
              "      <td>AGRA</td>\n",
              "      <td>1</td>\n",
              "      <td>आबकारी विभाग</td>\n",
              "      <td>2039</td>\n",
              "      <td>राज्य उत्पाद शुल्क</td>\n",
              "      <td>2039000010300</td>\n",
              "      <td>अधीक्षण</td>\n",
              "      <td>4</td>\n",
              "      <td>यात्रा व्यय</td>\n",
              "      <td>N</td>\n",
              "      <td>V</td>\n",
              "      <td>2018-2019</td>\n",
              "      <td>30000</td>\n",
              "      <td>0.0</td>\n",
              "      <td>0</td>\n",
              "      <td>0.0</td>\n",
              "      <td>0.00</td>\n",
              "    </tr>\n",
              "    <tr>\n",
              "      <th>4</th>\n",
              "      <td>800.0</td>\n",
              "      <td>AGRA</td>\n",
              "      <td>8.0</td>\n",
              "      <td>AGRA</td>\n",
              "      <td>1</td>\n",
              "      <td>आबकारी विभाग</td>\n",
              "      <td>2039</td>\n",
              "      <td>राज्य उत्पाद शुल्क</td>\n",
              "      <td>2039000010300</td>\n",
              "      <td>अधीक्षण</td>\n",
              "      <td>5</td>\n",
              "      <td>स्थानान्तरण यात्रा व्यय</td>\n",
              "      <td>N</td>\n",
              "      <td>V</td>\n",
              "      <td>2018-2019</td>\n",
              "      <td>50000</td>\n",
              "      <td>40561.0</td>\n",
              "      <td>0</td>\n",
              "      <td>40561.0</td>\n",
              "      <td>81.12</td>\n",
              "    </tr>\n",
              "  </tbody>\n",
              "</table>\n",
              "</div>\n",
              "      <button class=\"colab-df-convert\" onclick=\"convertToInteractive('df-1310326a-690d-4722-84e6-0ef67ee33628')\"\n",
              "              title=\"Convert this dataframe to an interactive table.\"\n",
              "              style=\"display:none;\">\n",
              "        \n",
              "  <svg xmlns=\"http://www.w3.org/2000/svg\" height=\"24px\"viewBox=\"0 0 24 24\"\n",
              "       width=\"24px\">\n",
              "    <path d=\"M0 0h24v24H0V0z\" fill=\"none\"/>\n",
              "    <path d=\"M18.56 5.44l.94 2.06.94-2.06 2.06-.94-2.06-.94-.94-2.06-.94 2.06-2.06.94zm-11 1L8.5 8.5l.94-2.06 2.06-.94-2.06-.94L8.5 2.5l-.94 2.06-2.06.94zm10 10l.94 2.06.94-2.06 2.06-.94-2.06-.94-.94-2.06-.94 2.06-2.06.94z\"/><path d=\"M17.41 7.96l-1.37-1.37c-.4-.4-.92-.59-1.43-.59-.52 0-1.04.2-1.43.59L10.3 9.45l-7.72 7.72c-.78.78-.78 2.05 0 2.83L4 21.41c.39.39.9.59 1.41.59.51 0 1.02-.2 1.41-.59l7.78-7.78 2.81-2.81c.8-.78.8-2.07 0-2.86zM5.41 20L4 18.59l7.72-7.72 1.47 1.35L5.41 20z\"/>\n",
              "  </svg>\n",
              "      </button>\n",
              "      \n",
              "  <style>\n",
              "    .colab-df-container {\n",
              "      display:flex;\n",
              "      flex-wrap:wrap;\n",
              "      gap: 12px;\n",
              "    }\n",
              "\n",
              "    .colab-df-convert {\n",
              "      background-color: #E8F0FE;\n",
              "      border: none;\n",
              "      border-radius: 50%;\n",
              "      cursor: pointer;\n",
              "      display: none;\n",
              "      fill: #1967D2;\n",
              "      height: 32px;\n",
              "      padding: 0 0 0 0;\n",
              "      width: 32px;\n",
              "    }\n",
              "\n",
              "    .colab-df-convert:hover {\n",
              "      background-color: #E2EBFA;\n",
              "      box-shadow: 0px 1px 2px rgba(60, 64, 67, 0.3), 0px 1px 3px 1px rgba(60, 64, 67, 0.15);\n",
              "      fill: #174EA6;\n",
              "    }\n",
              "\n",
              "    [theme=dark] .colab-df-convert {\n",
              "      background-color: #3B4455;\n",
              "      fill: #D2E3FC;\n",
              "    }\n",
              "\n",
              "    [theme=dark] .colab-df-convert:hover {\n",
              "      background-color: #434B5C;\n",
              "      box-shadow: 0px 1px 3px 1px rgba(0, 0, 0, 0.15);\n",
              "      filter: drop-shadow(0px 1px 2px rgba(0, 0, 0, 0.3));\n",
              "      fill: #FFFFFF;\n",
              "    }\n",
              "  </style>\n",
              "\n",
              "      <script>\n",
              "        const buttonEl =\n",
              "          document.querySelector('#df-1310326a-690d-4722-84e6-0ef67ee33628 button.colab-df-convert');\n",
              "        buttonEl.style.display =\n",
              "          google.colab.kernel.accessAllowed ? 'block' : 'none';\n",
              "\n",
              "        async function convertToInteractive(key) {\n",
              "          const element = document.querySelector('#df-1310326a-690d-4722-84e6-0ef67ee33628');\n",
              "          const dataTable =\n",
              "            await google.colab.kernel.invokeFunction('convertToInteractive',\n",
              "                                                     [key], {});\n",
              "          if (!dataTable) return;\n",
              "\n",
              "          const docLinkHtml = 'Like what you see? Visit the ' +\n",
              "            '<a target=\"_blank\" href=https://colab.research.google.com/notebooks/data_table.ipynb>data table notebook</a>'\n",
              "            + ' to learn more about interactive tables.';\n",
              "          element.innerHTML = '';\n",
              "          dataTable['output_type'] = 'display_data';\n",
              "          await google.colab.output.renderOutput(dataTable, element);\n",
              "          const docLink = document.createElement('div');\n",
              "          docLink.innerHTML = docLinkHtml;\n",
              "          element.appendChild(docLink);\n",
              "        }\n",
              "      </script>\n",
              "    </div>\n",
              "  </div>\n",
              "  "
            ]
          },
          "metadata": {},
          "execution_count": 3
        }
      ]
    },
    {
      "cell_type": "code",
      "source": [
        "data.info()"
      ],
      "metadata": {
        "colab": {
          "base_uri": "https://localhost:8080/"
        },
        "id": "gZS0Wi_SDqcG",
        "outputId": "a50f3132-b821-4065-8f97-ad41da3e597c"
      },
      "execution_count": 4,
      "outputs": [
        {
          "output_type": "stream",
          "name": "stdout",
          "text": [
            "<class 'pandas.core.frame.DataFrame'>\n",
            "RangeIndex: 325210 entries, 0 to 325209\n",
            "Data columns (total 20 columns):\n",
            " #   Column                                               Non-Null Count   Dtype  \n",
            "---  ------                                               --------------   -----  \n",
            " 0   Division Code                                        324900 non-null  float64\n",
            " 1   Division Description                                 324900 non-null  object \n",
            " 2   Treasury Code                                        324900 non-null  float64\n",
            " 3   Treasury                                             325210 non-null  object \n",
            " 4   Grant Number                                         325210 non-null  int64  \n",
            " 5   Grant Head Description                               325210 non-null  object \n",
            " 6   Major Head Code                                      325210 non-null  int64  \n",
            " 7   Major Head Description                               324558 non-null  object \n",
            " 8   Scheme Code                                          325210 non-null  int64  \n",
            " 9   Scheme Code Description                              325210 non-null  object \n",
            " 10  Standard Object Code                                 325210 non-null  int64  \n",
            " 11  Standard Object Description                          325210 non-null  object \n",
            " 12  Plan / Non-Plan                                      325210 non-null  object \n",
            " 13  Voted / Charged                                      325210 non-null  object \n",
            " 14  fiscal_year                                          325210 non-null  object \n",
            " 15  Progressive Allotment                                325210 non-null  int64  \n",
            " 16  Actual Progressive Expenditure upto month (October)  325210 non-null  float64\n",
            " 17  Provisional Current Month Expenditure(November)      325210 non-null  int64  \n",
            " 18  Total Expenditure Upto Month (November)              325210 non-null  float64\n",
            " 19  % A/E                                                325210 non-null  float64\n",
            "dtypes: float64(5), int64(6), object(9)\n",
            "memory usage: 49.6+ MB\n"
          ]
        }
      ]
    },
    {
      "cell_type": "code",
      "source": [
        "data.isnull().sum()"
      ],
      "metadata": {
        "colab": {
          "base_uri": "https://localhost:8080/"
        },
        "id": "JmeZ9R7p7DUr",
        "outputId": "71870f0a-7d37-4d58-9767-091deeccbbd6"
      },
      "execution_count": 5,
      "outputs": [
        {
          "output_type": "execute_result",
          "data": {
            "text/plain": [
              "Division Code                                          310\n",
              "Division Description                                   310\n",
              "Treasury Code                                          310\n",
              "Treasury                                                 0\n",
              "Grant Number                                             0\n",
              "Grant Head Description                                   0\n",
              "Major Head Code                                          0\n",
              "Major Head Description                                 652\n",
              "Scheme Code                                              0\n",
              "Scheme Code Description                                  0\n",
              "Standard Object Code                                     0\n",
              "Standard Object Description                              0\n",
              "Plan / Non-Plan                                          0\n",
              "Voted / Charged                                          0\n",
              "fiscal_year                                              0\n",
              "Progressive Allotment                                    0\n",
              "Actual Progressive Expenditure upto month (October)      0\n",
              "Provisional Current Month Expenditure(November)          0\n",
              "Total Expenditure Upto Month (November)                  0\n",
              "% A/E                                                    0\n",
              "dtype: int64"
            ]
          },
          "metadata": {},
          "execution_count": 5
        }
      ]
    },
    {
      "cell_type": "markdown",
      "source": [
        "Assuming the fact that school education does not include  University and Higher Education, Adult education and Language Development.\n",
        "\n",
        "\n"
      ],
      "metadata": {
        "id": "VcoNtUWU8GT9"
      }
    },
    {
      "cell_type": "markdown",
      "source": [
        "#2. Filtering Data with respect to School Eucation"
      ],
      "metadata": {
        "id": "MTxdTQMjDUiQ"
      }
    },
    {
      "cell_type": "markdown",
      "source": [
        "Identifying the different Grant Heads"
      ],
      "metadata": {
        "id": "6gDUA07nDaby"
      }
    },
    {
      "cell_type": "code",
      "source": [
        "data['Grant Head Description'].unique()"
      ],
      "metadata": {
        "colab": {
          "base_uri": "https://localhost:8080/"
        },
        "id": "NMwbnXl3Dg6s",
        "outputId": "153a63bd-3518-4f97-fdda-b76b3aef9952"
      },
      "execution_count": 6,
      "outputs": [
        {
          "output_type": "execute_result",
          "data": {
            "text/plain": [
              "array(['आबकारी विभाग', 'आवास विभाग',\n",
              "       'उद्योग विभाग (लघु उद्योग एवं निर्यात प्रोत्साहन)',\n",
              "       'उद्योग विभाग (खानें और खनिज)',\n",
              "       'उद्योग विभाग (खादी एवं ग्रामोद्योग)',\n",
              "       'उद्योग विभाग (हथकरघा उद्योग)',\n",
              "       'उद्योग विभाग (भारी एवं मध्यम उद्योग)',\n",
              "       'उद्योग विभाग (मुद्रण तथा लेखन सामग्री )', 'ऊर्जा विभाग',\n",
              "       'कृषि तथा अन्य सम्बद्ध विभाग (औद्यानिक एवं रेशम विकास)',\n",
              "       'कृषि तथा अन्य सम्बद्ध विभाग (कृषि)',\n",
              "       'कृषि तथा अन्य सम्बद्ध विभाग (भूमि विकास एवं जल संसाधन)',\n",
              "       'कृषि तथा अन्य सम्बद्ध विभाग (ग्राम्य विकास)',\n",
              "       'कृषि तथा अन्य सम्बद्ध विभाग (पंचायती राज)',\n",
              "       'कृषि तथा अन्य सम्बद्ध विभाग ((पशुधन)',\n",
              "       'कृषि तथा अन्य सम्बद्ध विभाग (दुग्धशाला विकास)',\n",
              "       'कृषि तथा अन्य सम्बद्ध विभाग (मत्स्य)',\n",
              "       'कृषि तथा अन्य सम्बद्ध विभाग (सहकारिता)',\n",
              "       'कार्मिक विभाग (प्रशिक्षण तथा अन्य व्यय)',\n",
              "       'कार्मिक विभाग (लोक सेवा आयोग )', 'खाद्य तथा रसद विभाग',\n",
              "       'खेल विभाग', 'गन्ना विकास विभाग (गन्ना)',\n",
              "       'गन्ना विकास विभाग (चीनी उद्योग)', 'गृह विभाग (कारागार)',\n",
              "       'गृह विभाग (पुलिस)', 'गृह विभाग (नागरिक सुरक्षा)',\n",
              "       'गृह विभाग (राजनैतिक पेंशन तथा अन्य व्यय)',\n",
              "       'गोपन विभाग (राज्यपाल सचिवालय)',\n",
              "       'गोपन विभाग(राजस्व विशिष्ट अभिसूचना निदेशालय तथा अन्य व्यय)',\n",
              "       'चिकित्सा विभाग (चिकित्सा, शिक्षा एवं प्रशिक्षण)',\n",
              "       'चिकित्सा विभाग (एलोपैथी चिकित्सा)',\n",
              "       'चिकित्सा विभाग (आयुर्वेदिक एवं यूनानी चिकित्सा)',\n",
              "       'चिकित्सा विभाग (होम्योपैथी चिकित्सा)',\n",
              "       'चिकित्सा विभाग (परिवार कल्याण)',\n",
              "       'चिकित्सा विभाग (सार्वजनिक स्वास्थ्य)', 'नगर विकास विभाग',\n",
              "       'नागरिक उड्डयन विभाग', 'भाषा विभाग', 'नियोजन विभाग',\n",
              "       'निर्वाचन विभाग', 'न्याय विभाग', 'परिवहन विभाग', 'पर्यटन विभाग',\n",
              "       'पर्यावरण विभाग', 'प्रशासनिक सुधार विभाग',\n",
              "       'प्राविधिक शिक्षा विभाग', 'मुस्लिम वक्फ विभाग',\n",
              "       'महिला एवं बाल कल्याण विभाग', 'राजस्व विभाग (जिला प्रशासन)',\n",
              "       'राजस्व विभाग (दैवी विपत्तियों के सम्बन्ध में राहत)',\n",
              "       'राजस्व विभाग (राजस्व परिषद् तथा अन्य व्यय)',\n",
              "       'राष्ट्रीय एकीकरण विभाग', 'लोक निर्माण विभाग (अधिष्ठान)',\n",
              "       'लोक निर्माण विभाग (विशेष क्षेत्र कार्यक्रम)',\n",
              "       'लोक निर्माण विभाग (संचार साधन-सड़कें)',\n",
              "       'लोक निर्माण विभाग (राज्य सम्पत्ति निदेशालय)', 'वन विभाग',\n",
              "       'वित्त विभाग (ऋण सेवा तथा अन्य व्यय)',\n",
              "       'वित्त विभाग (अधिवर्ष भत्ते तथा पेंशनें)',\n",
              "       'वित्त विभाग (कोषागार तथा लेखा प्रशासन)',\n",
              "       'वित्त विभाग (लेखा परीक्षा, अल्प-बचत आदि)',\n",
              "       'वित्त विभाग (सामूहिक बीमा)', 'विधान परिषद् सचिवालय',\n",
              "       'विधान सभा सचिवालय', 'व्यावसायिक शिक्षा विभाग',\n",
              "       'विज्ञान एवं प्रौद्योगिकी विभाग', 'शिक्षा विभाग (प्राथमिक शिक्षा)',\n",
              "       'शिक्षा विभाग (माध्यमिक शिक्षा)', 'शिक्षा विभाग (उच्च शिक्षा)',\n",
              "       'ग्रह विभाग (होम गार्ड)',\n",
              "       'शिक्षा विभाग(राज्य शैक्षिक अनुसंधान एवं प्रशिक्षण परिषद्)',\n",
              "       'श्रम विभाग (श्रम कल्याण)', 'श्रम विभाग (सेवायोजन)',\n",
              "       'सचिवालय प्रशासन विभाग',\n",
              "       'समाज कल्याण विभाग (विकलांग एवं पिछड़ा वर्ग कल्याण)',\n",
              "       'समाज कल्याण विभाग(समाज कल्याण एवं अनुसूचित जातियों का कल्याण)',\n",
              "       'समाज कल्याण विभाग (जनजाति कल्याण)', 'सतर्कता विभाग',\n",
              "       'समाज कल्याण विभाग(अनुसूचित जातियों के लिये विशेष घटक योजना)',\n",
              "       'सामान्य प्रशासन विभाग', 'सार्वजनिक उद्यम विभाग', 'सूचना विभाग',\n",
              "       'सैनिक कल्याण विभाग', 'संस्थागत वित्त विभाग (निदेशालय)',\n",
              "       'संस्थागत वित्त विभाग (व्यापारकर)',\n",
              "       'संस्थागत वित्त विभाग (मनोरंजन तथा बाजीकर)',\n",
              "       'संस्थागत वित्त विभाग (स्टाम्प एवं पंजीकरण)', 'संस्कृति विभाग',\n",
              "       'सिंचाई विभाग (निर्माण कार्य)', 'सिंचाई विभाग (अधिष्ठान)'],\n",
              "      dtype=object)"
            ]
          },
          "metadata": {},
          "execution_count": 6
        }
      ]
    },
    {
      "cell_type": "markdown",
      "source": [
        "We will be dealing with only two Grant Heads with respect to school education that is Elementary Education and Secondary Education\n",
        "\n",
        "\n",
        "*   शिक्षा विभाग (प्राथमिक शिक्षा)\n",
        "*   शिक्षा विभाग (माध्यमिक शिक्षा)\n",
        "\n"
      ],
      "metadata": {
        "id": "V4_oNeuQDtPW"
      }
    },
    {
      "cell_type": "code",
      "source": [
        "FilteredData = data[(data['Grant Head Description'] == 'शिक्षा विभाग (माध्यमिक शिक्षा)')| (data['Grant Head Description'] == 'शिक्षा विभाग (प्राथमिक शिक्षा)')]"
      ],
      "metadata": {
        "id": "-FfUBnNGzosY"
      },
      "execution_count": 7,
      "outputs": []
    },
    {
      "cell_type": "code",
      "source": [
        "FilteredData.head()"
      ],
      "metadata": {
        "colab": {
          "base_uri": "https://localhost:8080/",
          "height": 600
        },
        "id": "G1XCAoUi1zhl",
        "outputId": "9f2252e2-8b1c-4ea8-80c2-ba8f44fa60bc"
      },
      "execution_count": 8,
      "outputs": [
        {
          "output_type": "execute_result",
          "data": {
            "text/plain": [
              "        Division Code Division Description  Treasury Code       Treasury  \\\n",
              "254808          800.0                 AGRA            8.0           AGRA   \n",
              "254809          800.0                 AGRA            6.0        ALIGARH   \n",
              "254810         2200.0            ALLAHABAD           64.0   ALLAHABAD II   \n",
              "254811         4900.0             FAIZABAD           74.0  AMBEDKARNAGAR   \n",
              "254812         2000.0         KANPUR NAGAR           81.0        AURAIYA   \n",
              "\n",
              "        Grant Number          Grant Head Description  Major Head Code  \\\n",
              "254808            71  शिक्षा विभाग (प्राथमिक शिक्षा)             2071   \n",
              "254809            71  शिक्षा विभाग (प्राथमिक शिक्षा)             2071   \n",
              "254810            71  शिक्षा विभाग (प्राथमिक शिक्षा)             2071   \n",
              "254811            71  शिक्षा विभाग (प्राथमिक शिक्षा)             2071   \n",
              "254812            71  शिक्षा विभाग (प्राथमिक शिक्षा)             2071   \n",
              "\n",
              "                      Major Head Description    Scheme Code  \\\n",
              "254808  पेंशन तथा अन्य सेवा निवृत्ति हित लाभ  2071011170300   \n",
              "254809  पेंशन तथा अन्य सेवा निवृत्ति हित लाभ  2071011170300   \n",
              "254810  पेंशन तथा अन्य सेवा निवृत्ति हित लाभ  2071011170300   \n",
              "254811  पेंशन तथा अन्य सेवा निवृत्ति हित लाभ  2071011170300   \n",
              "254812  पेंशन तथा अन्य सेवा निवृत्ति हित लाभ  2071011170300   \n",
              "\n",
              "                                  Scheme Code Description  \\\n",
              "254808  प्राथमिक विद्यालय / सहायता प्राप्त जूनियर हाई ...   \n",
              "254809  प्राथमिक विद्यालय / सहायता प्राप्त जूनियर हाई ...   \n",
              "254810  प्राथमिक विद्यालय / सहायता प्राप्त जूनियर हाई ...   \n",
              "254811  प्राथमिक विद्यालय / सहायता प्राप्त जूनियर हाई ...   \n",
              "254812  प्राथमिक विद्यालय / सहायता प्राप्त जूनियर हाई ...   \n",
              "\n",
              "        Standard Object Code               Standard Object Description  \\\n",
              "254808                    33  पेंशन/आनुतोषिक /अन्य सेवानिवृत्ति हितलाभ   \n",
              "254809                    33  पेंशन/आनुतोषिक /अन्य सेवानिवृत्ति हितलाभ   \n",
              "254810                    33  पेंशन/आनुतोषिक /अन्य सेवानिवृत्ति हितलाभ   \n",
              "254811                    33  पेंशन/आनुतोषिक /अन्य सेवानिवृत्ति हितलाभ   \n",
              "254812                    33  पेंशन/आनुतोषिक /अन्य सेवानिवृत्ति हितलाभ   \n",
              "\n",
              "       Plan / Non-Plan Voted / Charged fiscal_year  Progressive Allotment  \\\n",
              "254808               N               V   2018-2019                 200000   \n",
              "254809               N               V   2018-2019               46000000   \n",
              "254810               N               V   2018-2019               90112000   \n",
              "254811               N               V   2018-2019              115000000   \n",
              "254812               N               V   2018-2019               40000000   \n",
              "\n",
              "        Actual Progressive Expenditure upto month (October)  \\\n",
              "254808                                                0.0     \n",
              "254809                                         45557472.0     \n",
              "254810                                         69980584.0     \n",
              "254811                                        114121909.0     \n",
              "254812                                         26463588.0     \n",
              "\n",
              "        Provisional Current Month Expenditure(November)  \\\n",
              "254808                                                0   \n",
              "254809                                                0   \n",
              "254810                                                0   \n",
              "254811                                                0   \n",
              "254812                                                0   \n",
              "\n",
              "        Total Expenditure Upto Month (November)  % A/E  \n",
              "254808                                      0.0   0.00  \n",
              "254809                               45557472.0  99.04  \n",
              "254810                               69980584.0  77.66  \n",
              "254811                              114121909.0  99.24  \n",
              "254812                               26463588.0  66.16  "
            ],
            "text/html": [
              "\n",
              "  <div id=\"df-3a8754a8-1e3e-4773-82cd-7125ec796024\">\n",
              "    <div class=\"colab-df-container\">\n",
              "      <div>\n",
              "<style scoped>\n",
              "    .dataframe tbody tr th:only-of-type {\n",
              "        vertical-align: middle;\n",
              "    }\n",
              "\n",
              "    .dataframe tbody tr th {\n",
              "        vertical-align: top;\n",
              "    }\n",
              "\n",
              "    .dataframe thead th {\n",
              "        text-align: right;\n",
              "    }\n",
              "</style>\n",
              "<table border=\"1\" class=\"dataframe\">\n",
              "  <thead>\n",
              "    <tr style=\"text-align: right;\">\n",
              "      <th></th>\n",
              "      <th>Division Code</th>\n",
              "      <th>Division Description</th>\n",
              "      <th>Treasury Code</th>\n",
              "      <th>Treasury</th>\n",
              "      <th>Grant Number</th>\n",
              "      <th>Grant Head Description</th>\n",
              "      <th>Major Head Code</th>\n",
              "      <th>Major Head Description</th>\n",
              "      <th>Scheme Code</th>\n",
              "      <th>Scheme Code Description</th>\n",
              "      <th>Standard Object Code</th>\n",
              "      <th>Standard Object Description</th>\n",
              "      <th>Plan / Non-Plan</th>\n",
              "      <th>Voted / Charged</th>\n",
              "      <th>fiscal_year</th>\n",
              "      <th>Progressive Allotment</th>\n",
              "      <th>Actual Progressive Expenditure upto month (October)</th>\n",
              "      <th>Provisional Current Month Expenditure(November)</th>\n",
              "      <th>Total Expenditure Upto Month (November)</th>\n",
              "      <th>% A/E</th>\n",
              "    </tr>\n",
              "  </thead>\n",
              "  <tbody>\n",
              "    <tr>\n",
              "      <th>254808</th>\n",
              "      <td>800.0</td>\n",
              "      <td>AGRA</td>\n",
              "      <td>8.0</td>\n",
              "      <td>AGRA</td>\n",
              "      <td>71</td>\n",
              "      <td>शिक्षा विभाग (प्राथमिक शिक्षा)</td>\n",
              "      <td>2071</td>\n",
              "      <td>पेंशन तथा अन्य सेवा निवृत्ति हित लाभ</td>\n",
              "      <td>2071011170300</td>\n",
              "      <td>प्राथमिक विद्यालय / सहायता प्राप्त जूनियर हाई ...</td>\n",
              "      <td>33</td>\n",
              "      <td>पेंशन/आनुतोषिक /अन्य सेवानिवृत्ति हितलाभ</td>\n",
              "      <td>N</td>\n",
              "      <td>V</td>\n",
              "      <td>2018-2019</td>\n",
              "      <td>200000</td>\n",
              "      <td>0.0</td>\n",
              "      <td>0</td>\n",
              "      <td>0.0</td>\n",
              "      <td>0.00</td>\n",
              "    </tr>\n",
              "    <tr>\n",
              "      <th>254809</th>\n",
              "      <td>800.0</td>\n",
              "      <td>AGRA</td>\n",
              "      <td>6.0</td>\n",
              "      <td>ALIGARH</td>\n",
              "      <td>71</td>\n",
              "      <td>शिक्षा विभाग (प्राथमिक शिक्षा)</td>\n",
              "      <td>2071</td>\n",
              "      <td>पेंशन तथा अन्य सेवा निवृत्ति हित लाभ</td>\n",
              "      <td>2071011170300</td>\n",
              "      <td>प्राथमिक विद्यालय / सहायता प्राप्त जूनियर हाई ...</td>\n",
              "      <td>33</td>\n",
              "      <td>पेंशन/आनुतोषिक /अन्य सेवानिवृत्ति हितलाभ</td>\n",
              "      <td>N</td>\n",
              "      <td>V</td>\n",
              "      <td>2018-2019</td>\n",
              "      <td>46000000</td>\n",
              "      <td>45557472.0</td>\n",
              "      <td>0</td>\n",
              "      <td>45557472.0</td>\n",
              "      <td>99.04</td>\n",
              "    </tr>\n",
              "    <tr>\n",
              "      <th>254810</th>\n",
              "      <td>2200.0</td>\n",
              "      <td>ALLAHABAD</td>\n",
              "      <td>64.0</td>\n",
              "      <td>ALLAHABAD II</td>\n",
              "      <td>71</td>\n",
              "      <td>शिक्षा विभाग (प्राथमिक शिक्षा)</td>\n",
              "      <td>2071</td>\n",
              "      <td>पेंशन तथा अन्य सेवा निवृत्ति हित लाभ</td>\n",
              "      <td>2071011170300</td>\n",
              "      <td>प्राथमिक विद्यालय / सहायता प्राप्त जूनियर हाई ...</td>\n",
              "      <td>33</td>\n",
              "      <td>पेंशन/आनुतोषिक /अन्य सेवानिवृत्ति हितलाभ</td>\n",
              "      <td>N</td>\n",
              "      <td>V</td>\n",
              "      <td>2018-2019</td>\n",
              "      <td>90112000</td>\n",
              "      <td>69980584.0</td>\n",
              "      <td>0</td>\n",
              "      <td>69980584.0</td>\n",
              "      <td>77.66</td>\n",
              "    </tr>\n",
              "    <tr>\n",
              "      <th>254811</th>\n",
              "      <td>4900.0</td>\n",
              "      <td>FAIZABAD</td>\n",
              "      <td>74.0</td>\n",
              "      <td>AMBEDKARNAGAR</td>\n",
              "      <td>71</td>\n",
              "      <td>शिक्षा विभाग (प्राथमिक शिक्षा)</td>\n",
              "      <td>2071</td>\n",
              "      <td>पेंशन तथा अन्य सेवा निवृत्ति हित लाभ</td>\n",
              "      <td>2071011170300</td>\n",
              "      <td>प्राथमिक विद्यालय / सहायता प्राप्त जूनियर हाई ...</td>\n",
              "      <td>33</td>\n",
              "      <td>पेंशन/आनुतोषिक /अन्य सेवानिवृत्ति हितलाभ</td>\n",
              "      <td>N</td>\n",
              "      <td>V</td>\n",
              "      <td>2018-2019</td>\n",
              "      <td>115000000</td>\n",
              "      <td>114121909.0</td>\n",
              "      <td>0</td>\n",
              "      <td>114121909.0</td>\n",
              "      <td>99.24</td>\n",
              "    </tr>\n",
              "    <tr>\n",
              "      <th>254812</th>\n",
              "      <td>2000.0</td>\n",
              "      <td>KANPUR NAGAR</td>\n",
              "      <td>81.0</td>\n",
              "      <td>AURAIYA</td>\n",
              "      <td>71</td>\n",
              "      <td>शिक्षा विभाग (प्राथमिक शिक्षा)</td>\n",
              "      <td>2071</td>\n",
              "      <td>पेंशन तथा अन्य सेवा निवृत्ति हित लाभ</td>\n",
              "      <td>2071011170300</td>\n",
              "      <td>प्राथमिक विद्यालय / सहायता प्राप्त जूनियर हाई ...</td>\n",
              "      <td>33</td>\n",
              "      <td>पेंशन/आनुतोषिक /अन्य सेवानिवृत्ति हितलाभ</td>\n",
              "      <td>N</td>\n",
              "      <td>V</td>\n",
              "      <td>2018-2019</td>\n",
              "      <td>40000000</td>\n",
              "      <td>26463588.0</td>\n",
              "      <td>0</td>\n",
              "      <td>26463588.0</td>\n",
              "      <td>66.16</td>\n",
              "    </tr>\n",
              "  </tbody>\n",
              "</table>\n",
              "</div>\n",
              "      <button class=\"colab-df-convert\" onclick=\"convertToInteractive('df-3a8754a8-1e3e-4773-82cd-7125ec796024')\"\n",
              "              title=\"Convert this dataframe to an interactive table.\"\n",
              "              style=\"display:none;\">\n",
              "        \n",
              "  <svg xmlns=\"http://www.w3.org/2000/svg\" height=\"24px\"viewBox=\"0 0 24 24\"\n",
              "       width=\"24px\">\n",
              "    <path d=\"M0 0h24v24H0V0z\" fill=\"none\"/>\n",
              "    <path d=\"M18.56 5.44l.94 2.06.94-2.06 2.06-.94-2.06-.94-.94-2.06-.94 2.06-2.06.94zm-11 1L8.5 8.5l.94-2.06 2.06-.94-2.06-.94L8.5 2.5l-.94 2.06-2.06.94zm10 10l.94 2.06.94-2.06 2.06-.94-2.06-.94-.94-2.06-.94 2.06-2.06.94z\"/><path d=\"M17.41 7.96l-1.37-1.37c-.4-.4-.92-.59-1.43-.59-.52 0-1.04.2-1.43.59L10.3 9.45l-7.72 7.72c-.78.78-.78 2.05 0 2.83L4 21.41c.39.39.9.59 1.41.59.51 0 1.02-.2 1.41-.59l7.78-7.78 2.81-2.81c.8-.78.8-2.07 0-2.86zM5.41 20L4 18.59l7.72-7.72 1.47 1.35L5.41 20z\"/>\n",
              "  </svg>\n",
              "      </button>\n",
              "      \n",
              "  <style>\n",
              "    .colab-df-container {\n",
              "      display:flex;\n",
              "      flex-wrap:wrap;\n",
              "      gap: 12px;\n",
              "    }\n",
              "\n",
              "    .colab-df-convert {\n",
              "      background-color: #E8F0FE;\n",
              "      border: none;\n",
              "      border-radius: 50%;\n",
              "      cursor: pointer;\n",
              "      display: none;\n",
              "      fill: #1967D2;\n",
              "      height: 32px;\n",
              "      padding: 0 0 0 0;\n",
              "      width: 32px;\n",
              "    }\n",
              "\n",
              "    .colab-df-convert:hover {\n",
              "      background-color: #E2EBFA;\n",
              "      box-shadow: 0px 1px 2px rgba(60, 64, 67, 0.3), 0px 1px 3px 1px rgba(60, 64, 67, 0.15);\n",
              "      fill: #174EA6;\n",
              "    }\n",
              "\n",
              "    [theme=dark] .colab-df-convert {\n",
              "      background-color: #3B4455;\n",
              "      fill: #D2E3FC;\n",
              "    }\n",
              "\n",
              "    [theme=dark] .colab-df-convert:hover {\n",
              "      background-color: #434B5C;\n",
              "      box-shadow: 0px 1px 3px 1px rgba(0, 0, 0, 0.15);\n",
              "      filter: drop-shadow(0px 1px 2px rgba(0, 0, 0, 0.3));\n",
              "      fill: #FFFFFF;\n",
              "    }\n",
              "  </style>\n",
              "\n",
              "      <script>\n",
              "        const buttonEl =\n",
              "          document.querySelector('#df-3a8754a8-1e3e-4773-82cd-7125ec796024 button.colab-df-convert');\n",
              "        buttonEl.style.display =\n",
              "          google.colab.kernel.accessAllowed ? 'block' : 'none';\n",
              "\n",
              "        async function convertToInteractive(key) {\n",
              "          const element = document.querySelector('#df-3a8754a8-1e3e-4773-82cd-7125ec796024');\n",
              "          const dataTable =\n",
              "            await google.colab.kernel.invokeFunction('convertToInteractive',\n",
              "                                                     [key], {});\n",
              "          if (!dataTable) return;\n",
              "\n",
              "          const docLinkHtml = 'Like what you see? Visit the ' +\n",
              "            '<a target=\"_blank\" href=https://colab.research.google.com/notebooks/data_table.ipynb>data table notebook</a>'\n",
              "            + ' to learn more about interactive tables.';\n",
              "          element.innerHTML = '';\n",
              "          dataTable['output_type'] = 'display_data';\n",
              "          await google.colab.output.renderOutput(dataTable, element);\n",
              "          const docLink = document.createElement('div');\n",
              "          docLink.innerHTML = docLinkHtml;\n",
              "          element.appendChild(docLink);\n",
              "        }\n",
              "      </script>\n",
              "    </div>\n",
              "  </div>\n",
              "  "
            ]
          },
          "metadata": {},
          "execution_count": 8
        }
      ]
    },
    {
      "cell_type": "markdown",
      "source": [
        "#3. Checking for Null Values in colmuns and duplicate rows"
      ],
      "metadata": {
        "id": "pONRTBdBHOL3"
      }
    },
    {
      "cell_type": "code",
      "source": [
        "FilteredData.isnull().sum()"
      ],
      "metadata": {
        "colab": {
          "base_uri": "https://localhost:8080/"
        },
        "id": "XBAvmPQRxcty",
        "outputId": "58d74cd2-2993-4462-f0a5-b81d456c8689"
      },
      "execution_count": 9,
      "outputs": [
        {
          "output_type": "execute_result",
          "data": {
            "text/plain": [
              "Division Code                                            0\n",
              "Division Description                                     0\n",
              "Treasury Code                                            0\n",
              "Treasury                                                 0\n",
              "Grant Number                                             0\n",
              "Grant Head Description                                   0\n",
              "Major Head Code                                          0\n",
              "Major Head Description                                 158\n",
              "Scheme Code                                              0\n",
              "Scheme Code Description                                  0\n",
              "Standard Object Code                                     0\n",
              "Standard Object Description                              0\n",
              "Plan / Non-Plan                                          0\n",
              "Voted / Charged                                          0\n",
              "fiscal_year                                              0\n",
              "Progressive Allotment                                    0\n",
              "Actual Progressive Expenditure upto month (October)      0\n",
              "Provisional Current Month Expenditure(November)          0\n",
              "Total Expenditure Upto Month (November)                  0\n",
              "% A/E                                                    0\n",
              "dtype: int64"
            ]
          },
          "metadata": {},
          "execution_count": 9
        }
      ]
    },
    {
      "cell_type": "markdown",
      "source": [
        "Since there are no Null Values in Columns like Grant Number and Major Head Code which is essential for analysis we go ahead"
      ],
      "metadata": {
        "id": "ZyyYY1lmHgYG"
      }
    },
    {
      "cell_type": "code",
      "source": [
        "FilteredData['Major Head Code'].value_counts()"
      ],
      "metadata": {
        "colab": {
          "base_uri": "https://localhost:8080/"
        },
        "id": "JyzQa1Ym_ybb",
        "outputId": "dc539276-97f7-42cc-ab38-3233a4a050e7"
      },
      "execution_count": 10,
      "outputs": [
        {
          "output_type": "execute_result",
          "data": {
            "text/plain": [
              "2202    9673\n",
              "2204    1045\n",
              "2205     970\n",
              "4202     158\n",
              "2071     149\n",
              "Name: Major Head Code, dtype: int64"
            ]
          },
          "metadata": {},
          "execution_count": 10
        }
      ]
    },
    {
      "cell_type": "code",
      "source": [
        "FilteredData.duplicated().sum()"
      ],
      "metadata": {
        "colab": {
          "base_uri": "https://localhost:8080/"
        },
        "id": "SLox_xKgG1tB",
        "outputId": "28ed7507-5b76-4a05-bb60-8f0944530033"
      },
      "execution_count": 11,
      "outputs": [
        {
          "output_type": "execute_result",
          "data": {
            "text/plain": [
              "592"
            ]
          },
          "metadata": {},
          "execution_count": 11
        }
      ]
    },
    {
      "cell_type": "markdown",
      "source": [
        "Since it is not possible to have duplicate rows with the same expenditure within the same financial year for the exact same purpose we remove such rows."
      ],
      "metadata": {
        "id": "K7zIDqrFH6EW"
      }
    },
    {
      "cell_type": "code",
      "source": [
        "FilteredData.drop_duplicates(inplace=True)"
      ],
      "metadata": {
        "colab": {
          "base_uri": "https://localhost:8080/"
        },
        "id": "JkT9cR_gAApU",
        "outputId": "92aefc4a-989f-4666-cda7-c11bd3faa563"
      },
      "execution_count": 12,
      "outputs": [
        {
          "output_type": "stream",
          "name": "stderr",
          "text": [
            "/usr/local/lib/python3.7/dist-packages/pandas/util/_decorators.py:311: SettingWithCopyWarning: \n",
            "A value is trying to be set on a copy of a slice from a DataFrame\n",
            "\n",
            "See the caveats in the documentation: https://pandas.pydata.org/pandas-docs/stable/user_guide/indexing.html#returning-a-view-versus-a-copy\n",
            "  return func(*args, **kwargs)\n"
          ]
        }
      ]
    },
    {
      "cell_type": "markdown",
      "source": [
        "# 4. Visualising the Dataset"
      ],
      "metadata": {
        "id": "6DEErzFOIeKq"
      }
    },
    {
      "cell_type": "code",
      "source": [
        "FilteredData.columns"
      ],
      "metadata": {
        "id": "Te0b0_gvIpcz",
        "colab": {
          "base_uri": "https://localhost:8080/"
        },
        "outputId": "153d0368-5553-4164-afa0-00210fe3d697"
      },
      "execution_count": 13,
      "outputs": [
        {
          "output_type": "execute_result",
          "data": {
            "text/plain": [
              "Index(['Division Code', 'Division Description', 'Treasury Code', 'Treasury',\n",
              "       'Grant Number', 'Grant Head Description', 'Major Head Code',\n",
              "       'Major Head Description', 'Scheme Code', 'Scheme Code Description',\n",
              "       'Standard Object Code', 'Standard Object Description',\n",
              "       'Plan / Non-Plan', 'Voted / Charged', 'fiscal_year',\n",
              "       'Progressive Allotment',\n",
              "       'Actual Progressive Expenditure upto month (October)',\n",
              "       'Provisional Current Month Expenditure(November)',\n",
              "       'Total Expenditure Upto Month (November)', '% A/E'],\n",
              "      dtype='object')"
            ]
          },
          "metadata": {},
          "execution_count": 13
        }
      ]
    },
    {
      "cell_type": "code",
      "source": [
        "FilteredData[['Progressive Allotment',\n",
        "       'Actual Progressive Expenditure upto month (October)',\n",
        "       'Provisional Current Month Expenditure(November)',\n",
        "       'Total Expenditure Upto Month (November)', '% A/E']].describe()"
      ],
      "metadata": {
        "colab": {
          "base_uri": "https://localhost:8080/",
          "height": 379
        },
        "id": "rXJmaUv-Ph1r",
        "outputId": "9df67acf-4d9d-4620-e26b-74cdf7ac1773"
      },
      "execution_count": 14,
      "outputs": [
        {
          "output_type": "execute_result",
          "data": {
            "text/plain": [
              "       Progressive Allotment  \\\n",
              "count           1.140300e+04   \n",
              "mean            3.981993e+07   \n",
              "std             4.394886e+08   \n",
              "min            -4.500000e+05   \n",
              "25%             5.000000e+03   \n",
              "50%             8.450000e+04   \n",
              "75%             1.848125e+06   \n",
              "max             3.275071e+10   \n",
              "\n",
              "       Actual Progressive Expenditure upto month (October)  \\\n",
              "count                                       1.140300e+04     \n",
              "mean                                        4.134209e+07     \n",
              "std                                         5.256296e+08     \n",
              "min                                         0.000000e+00     \n",
              "25%                                         3.000000e+03     \n",
              "50%                                         7.350000e+04     \n",
              "75%                                         1.657258e+06     \n",
              "max                                         3.275071e+10     \n",
              "\n",
              "       Provisional Current Month Expenditure(November)  \\\n",
              "count                                          11403.0   \n",
              "mean                                               0.0   \n",
              "std                                                0.0   \n",
              "min                                                0.0   \n",
              "25%                                                0.0   \n",
              "50%                                                0.0   \n",
              "75%                                                0.0   \n",
              "max                                                0.0   \n",
              "\n",
              "       Total Expenditure Upto Month (November)         % A/E  \n",
              "count                             1.140300e+04  11403.000000  \n",
              "mean                              4.134209e+07     89.025581  \n",
              "std                               5.256296e+08    749.037690  \n",
              "min                               0.000000e+00      0.000000  \n",
              "25%                               3.000000e+03     57.140000  \n",
              "50%                               7.350000e+04     99.010000  \n",
              "75%                               1.657258e+06    100.000000  \n",
              "max                               3.275071e+10  67297.000000  "
            ],
            "text/html": [
              "\n",
              "  <div id=\"df-32b40294-8067-47bb-b6fe-95b049f5a343\">\n",
              "    <div class=\"colab-df-container\">\n",
              "      <div>\n",
              "<style scoped>\n",
              "    .dataframe tbody tr th:only-of-type {\n",
              "        vertical-align: middle;\n",
              "    }\n",
              "\n",
              "    .dataframe tbody tr th {\n",
              "        vertical-align: top;\n",
              "    }\n",
              "\n",
              "    .dataframe thead th {\n",
              "        text-align: right;\n",
              "    }\n",
              "</style>\n",
              "<table border=\"1\" class=\"dataframe\">\n",
              "  <thead>\n",
              "    <tr style=\"text-align: right;\">\n",
              "      <th></th>\n",
              "      <th>Progressive Allotment</th>\n",
              "      <th>Actual Progressive Expenditure upto month (October)</th>\n",
              "      <th>Provisional Current Month Expenditure(November)</th>\n",
              "      <th>Total Expenditure Upto Month (November)</th>\n",
              "      <th>% A/E</th>\n",
              "    </tr>\n",
              "  </thead>\n",
              "  <tbody>\n",
              "    <tr>\n",
              "      <th>count</th>\n",
              "      <td>1.140300e+04</td>\n",
              "      <td>1.140300e+04</td>\n",
              "      <td>11403.0</td>\n",
              "      <td>1.140300e+04</td>\n",
              "      <td>11403.000000</td>\n",
              "    </tr>\n",
              "    <tr>\n",
              "      <th>mean</th>\n",
              "      <td>3.981993e+07</td>\n",
              "      <td>4.134209e+07</td>\n",
              "      <td>0.0</td>\n",
              "      <td>4.134209e+07</td>\n",
              "      <td>89.025581</td>\n",
              "    </tr>\n",
              "    <tr>\n",
              "      <th>std</th>\n",
              "      <td>4.394886e+08</td>\n",
              "      <td>5.256296e+08</td>\n",
              "      <td>0.0</td>\n",
              "      <td>5.256296e+08</td>\n",
              "      <td>749.037690</td>\n",
              "    </tr>\n",
              "    <tr>\n",
              "      <th>min</th>\n",
              "      <td>-4.500000e+05</td>\n",
              "      <td>0.000000e+00</td>\n",
              "      <td>0.0</td>\n",
              "      <td>0.000000e+00</td>\n",
              "      <td>0.000000</td>\n",
              "    </tr>\n",
              "    <tr>\n",
              "      <th>25%</th>\n",
              "      <td>5.000000e+03</td>\n",
              "      <td>3.000000e+03</td>\n",
              "      <td>0.0</td>\n",
              "      <td>3.000000e+03</td>\n",
              "      <td>57.140000</td>\n",
              "    </tr>\n",
              "    <tr>\n",
              "      <th>50%</th>\n",
              "      <td>8.450000e+04</td>\n",
              "      <td>7.350000e+04</td>\n",
              "      <td>0.0</td>\n",
              "      <td>7.350000e+04</td>\n",
              "      <td>99.010000</td>\n",
              "    </tr>\n",
              "    <tr>\n",
              "      <th>75%</th>\n",
              "      <td>1.848125e+06</td>\n",
              "      <td>1.657258e+06</td>\n",
              "      <td>0.0</td>\n",
              "      <td>1.657258e+06</td>\n",
              "      <td>100.000000</td>\n",
              "    </tr>\n",
              "    <tr>\n",
              "      <th>max</th>\n",
              "      <td>3.275071e+10</td>\n",
              "      <td>3.275071e+10</td>\n",
              "      <td>0.0</td>\n",
              "      <td>3.275071e+10</td>\n",
              "      <td>67297.000000</td>\n",
              "    </tr>\n",
              "  </tbody>\n",
              "</table>\n",
              "</div>\n",
              "      <button class=\"colab-df-convert\" onclick=\"convertToInteractive('df-32b40294-8067-47bb-b6fe-95b049f5a343')\"\n",
              "              title=\"Convert this dataframe to an interactive table.\"\n",
              "              style=\"display:none;\">\n",
              "        \n",
              "  <svg xmlns=\"http://www.w3.org/2000/svg\" height=\"24px\"viewBox=\"0 0 24 24\"\n",
              "       width=\"24px\">\n",
              "    <path d=\"M0 0h24v24H0V0z\" fill=\"none\"/>\n",
              "    <path d=\"M18.56 5.44l.94 2.06.94-2.06 2.06-.94-2.06-.94-.94-2.06-.94 2.06-2.06.94zm-11 1L8.5 8.5l.94-2.06 2.06-.94-2.06-.94L8.5 2.5l-.94 2.06-2.06.94zm10 10l.94 2.06.94-2.06 2.06-.94-2.06-.94-.94-2.06-.94 2.06-2.06.94z\"/><path d=\"M17.41 7.96l-1.37-1.37c-.4-.4-.92-.59-1.43-.59-.52 0-1.04.2-1.43.59L10.3 9.45l-7.72 7.72c-.78.78-.78 2.05 0 2.83L4 21.41c.39.39.9.59 1.41.59.51 0 1.02-.2 1.41-.59l7.78-7.78 2.81-2.81c.8-.78.8-2.07 0-2.86zM5.41 20L4 18.59l7.72-7.72 1.47 1.35L5.41 20z\"/>\n",
              "  </svg>\n",
              "      </button>\n",
              "      \n",
              "  <style>\n",
              "    .colab-df-container {\n",
              "      display:flex;\n",
              "      flex-wrap:wrap;\n",
              "      gap: 12px;\n",
              "    }\n",
              "\n",
              "    .colab-df-convert {\n",
              "      background-color: #E8F0FE;\n",
              "      border: none;\n",
              "      border-radius: 50%;\n",
              "      cursor: pointer;\n",
              "      display: none;\n",
              "      fill: #1967D2;\n",
              "      height: 32px;\n",
              "      padding: 0 0 0 0;\n",
              "      width: 32px;\n",
              "    }\n",
              "\n",
              "    .colab-df-convert:hover {\n",
              "      background-color: #E2EBFA;\n",
              "      box-shadow: 0px 1px 2px rgba(60, 64, 67, 0.3), 0px 1px 3px 1px rgba(60, 64, 67, 0.15);\n",
              "      fill: #174EA6;\n",
              "    }\n",
              "\n",
              "    [theme=dark] .colab-df-convert {\n",
              "      background-color: #3B4455;\n",
              "      fill: #D2E3FC;\n",
              "    }\n",
              "\n",
              "    [theme=dark] .colab-df-convert:hover {\n",
              "      background-color: #434B5C;\n",
              "      box-shadow: 0px 1px 3px 1px rgba(0, 0, 0, 0.15);\n",
              "      filter: drop-shadow(0px 1px 2px rgba(0, 0, 0, 0.3));\n",
              "      fill: #FFFFFF;\n",
              "    }\n",
              "  </style>\n",
              "\n",
              "      <script>\n",
              "        const buttonEl =\n",
              "          document.querySelector('#df-32b40294-8067-47bb-b6fe-95b049f5a343 button.colab-df-convert');\n",
              "        buttonEl.style.display =\n",
              "          google.colab.kernel.accessAllowed ? 'block' : 'none';\n",
              "\n",
              "        async function convertToInteractive(key) {\n",
              "          const element = document.querySelector('#df-32b40294-8067-47bb-b6fe-95b049f5a343');\n",
              "          const dataTable =\n",
              "            await google.colab.kernel.invokeFunction('convertToInteractive',\n",
              "                                                     [key], {});\n",
              "          if (!dataTable) return;\n",
              "\n",
              "          const docLinkHtml = 'Like what you see? Visit the ' +\n",
              "            '<a target=\"_blank\" href=https://colab.research.google.com/notebooks/data_table.ipynb>data table notebook</a>'\n",
              "            + ' to learn more about interactive tables.';\n",
              "          element.innerHTML = '';\n",
              "          dataTable['output_type'] = 'display_data';\n",
              "          await google.colab.output.renderOutput(dataTable, element);\n",
              "          const docLink = document.createElement('div');\n",
              "          docLink.innerHTML = docLinkHtml;\n",
              "          element.appendChild(docLink);\n",
              "        }\n",
              "      </script>\n",
              "    </div>\n",
              "  </div>\n",
              "  "
            ]
          },
          "metadata": {},
          "execution_count": 14
        }
      ]
    },
    {
      "cell_type": "markdown",
      "source": [
        "Since the column *Provisional Current Month Expenditure(November)* does not have any values it can be removed from the dataset"
      ],
      "metadata": {
        "id": "B-mYQ-v_-xG4"
      }
    },
    {
      "cell_type": "code",
      "source": [
        "FilteredData.drop('Provisional Current Month Expenditure(November)', inplace=True, axis=1)"
      ],
      "metadata": {
        "colab": {
          "base_uri": "https://localhost:8080/"
        },
        "id": "6dXQ--Rt_OK6",
        "outputId": "b74dde61-5215-4427-ed97-51f8d6ade1aa"
      },
      "execution_count": 15,
      "outputs": [
        {
          "output_type": "stream",
          "name": "stderr",
          "text": [
            "/usr/local/lib/python3.7/dist-packages/pandas/core/frame.py:4913: SettingWithCopyWarning: \n",
            "A value is trying to be set on a copy of a slice from a DataFrame\n",
            "\n",
            "See the caveats in the documentation: https://pandas.pydata.org/pandas-docs/stable/user_guide/indexing.html#returning-a-view-versus-a-copy\n",
            "  errors=errors,\n"
          ]
        }
      ]
    },
    {
      "cell_type": "code",
      "source": [
        "import seaborn as sb"
      ],
      "metadata": {
        "id": "FPePRTYPQ0YE"
      },
      "execution_count": 16,
      "outputs": []
    },
    {
      "cell_type": "markdown",
      "source": [
        ""
      ],
      "metadata": {
        "id": "SwcnCmt---v-"
      }
    },
    {
      "cell_type": "code",
      "source": [
        "sb.distplot(FilteredData['Progressive Allotment'])\n",
        "plt.show()\n",
        "sb.distplot(FilteredData['Actual Progressive Expenditure upto month (October)'])\n",
        "plt.show()\n",
        "sb.distplot(FilteredData['Total Expenditure Upto Month (November)'])\n",
        "plt.show()\n",
        "sb.distplot(FilteredData['% A/E'])\n",
        "plt.show()"
      ],
      "metadata": {
        "colab": {
          "base_uri": "https://localhost:8080/",
          "height": 1000
        },
        "id": "R2mFS9HHQTmn",
        "outputId": "13ab45b3-68a3-442e-ccc8-a44307b434b9"
      },
      "execution_count": 17,
      "outputs": [
        {
          "output_type": "stream",
          "name": "stderr",
          "text": [
            "/usr/local/lib/python3.7/dist-packages/seaborn/distributions.py:2619: FutureWarning: `distplot` is a deprecated function and will be removed in a future version. Please adapt your code to use either `displot` (a figure-level function with similar flexibility) or `histplot` (an axes-level function for histograms).\n",
            "  warnings.warn(msg, FutureWarning)\n"
          ]
        },
        {
          "output_type": "display_data",
          "data": {
            "text/plain": [
              "<Figure size 432x288 with 1 Axes>"
            ],
            "image/png": "[encoded data removed]"
          },
          "metadata": {
            "needs_background": "light"
          }
        },
        {
          "output_type": "stream",
          "name": "stderr",
          "text": [
            "/usr/local/lib/python3.7/dist-packages/seaborn/distributions.py:2619: FutureWarning: `distplot` is a deprecated function and will be removed in a future version. Please adapt your code to use either `displot` (a figure-level function with similar flexibility) or `histplot` (an axes-level function for histograms).\n",
            "  warnings.warn(msg, FutureWarning)\n"
          ]
        },
        {
          "output_type": "display_data",
          "data": {
            "text/plain": [
              "<Figure size 432x288 with 1 Axes>"
            ],
            "image/png": "[encoded data removed]"
          },
          "metadata": {
            "needs_background": "light"
          }
        },
        {
          "output_type": "stream",
          "name": "stderr",
          "text": [
            "/usr/local/lib/python3.7/dist-packages/seaborn/distributions.py:2619: FutureWarning: `distplot` is a deprecated function and will be removed in a future version. Please adapt your code to use either `displot` (a figure-level function with similar flexibility) or `histplot` (an axes-level function for histograms).\n",
            "  warnings.warn(msg, FutureWarning)\n"
          ]
        },
        {
          "output_type": "display_data",
          "data": {
            "text/plain": [
              "<Figure size 432x288 with 1 Axes>"
            ],
            "image/png": "[encoded data removed]"
          },
          "metadata": {
            "needs_background": "light"
          }
        },
        {
          "output_type": "stream",
          "name": "stderr",
          "text": [
            "/usr/local/lib/python3.7/dist-packages/seaborn/distributions.py:2619: FutureWarning: `distplot` is a deprecated function and will be removed in a future version. Please adapt your code to use either `displot` (a figure-level function with similar flexibility) or `histplot` (an axes-level function for histograms).\n",
            "  warnings.warn(msg, FutureWarning)\n"
          ]
        },
        {
          "output_type": "display_data",
          "data": {
            "text/plain": [
              "<Figure size 432x288 with 1 Axes>"
            ],
            "image/png": "[encoded data removed]"
          },
          "metadata": {
            "needs_background": "light"
          }
        }
      ]
    },
    {
      "cell_type": "markdown",
      "source": [
        "We can see that the data is right skewed. "
      ],
      "metadata": {
        "id": "YbdDjOJ0e7iA"
      }
    },
    {
      "cell_type": "code",
      "source": [
        "plt.figure (figsize=(10,5))\n",
        "sb.heatmap(FilteredData[['Progressive Allotment',\n",
        "       'Actual Progressive Expenditure upto month (October)',\n",
        "       'Total Expenditure Upto Month (November)', '% A/E']].corr(), annot=True)\n",
        "plt.show();"
      ],
      "metadata": {
        "colab": {
          "base_uri": "https://localhost:8080/",
          "height": 581
        },
        "id": "DfCort7xfgns",
        "outputId": "6551102c-3c41-4eab-9e1a-d8eebef1f6c1"
      },
      "execution_count": 18,
      "outputs": [
        {
          "output_type": "display_data",
          "data": {
            "text/plain": [
              "<Figure size 720x360 with 2 Axes>"
            ],
            "image/png": "[encoded data removed]"
          },
          "metadata": {
            "needs_background": "light"
          }
        }
      ]
    },
    {
      "cell_type": "markdown",
      "source": [
        "# Q1) Calculating the share of expenditure on school education"
      ],
      "metadata": {
        "id": "G1TX09gYh89y"
      }
    },
    {
      "cell_type": "code",
      "source": [
        "pd.DataFrame(FilteredData.groupby(['Grant Head Description','Grant Number'])['Total Expenditure Upto Month (November)'].sum())"
      ],
      "metadata": {
        "id": "tkb_HTYx70fy",
        "colab": {
          "base_uri": "https://localhost:8080/",
          "height": 143
        },
        "outputId": "20d251ad-5e18-4645-cc47-78c1e7102430"
      },
      "execution_count": 19,
      "outputs": [
        {
          "output_type": "execute_result",
          "data": {
            "text/plain": [
              "                                             Total Expenditure Upto Month (November)\n",
              "Grant Head Description         Grant Number                                         \n",
              "शिक्षा विभाग (प्राथमिक शिक्षा) 71                                       3.806329e+11\n",
              "शिक्षा विभाग (माध्यमिक शिक्षा) 72                                       9.079090e+10"
            ],
            "text/html": [
              "\n",
              "  <div id=\"df-4b02230c-3c70-4f1a-afa0-81e263a152b4\">\n",
              "    <div class=\"colab-df-container\">\n",
              "      <div>\n",
              "<style scoped>\n",
              "    .dataframe tbody tr th:only-of-type {\n",
              "        vertical-align: middle;\n",
              "    }\n",
              "\n",
              "    .dataframe tbody tr th {\n",
              "        vertical-align: top;\n",
              "    }\n",
              "\n",
              "    .dataframe thead th {\n",
              "        text-align: right;\n",
              "    }\n",
              "</style>\n",
              "<table border=\"1\" class=\"dataframe\">\n",
              "  <thead>\n",
              "    <tr style=\"text-align: right;\">\n",
              "      <th></th>\n",
              "      <th></th>\n",
              "      <th>Total Expenditure Upto Month (November)</th>\n",
              "    </tr>\n",
              "    <tr>\n",
              "      <th>Grant Head Description</th>\n",
              "      <th>Grant Number</th>\n",
              "      <th></th>\n",
              "    </tr>\n",
              "  </thead>\n",
              "  <tbody>\n",
              "    <tr>\n",
              "      <th>शिक्षा विभाग (प्राथमिक शिक्षा)</th>\n",
              "      <th>71</th>\n",
              "      <td>3.806329e+11</td>\n",
              "    </tr>\n",
              "    <tr>\n",
              "      <th>शिक्षा विभाग (माध्यमिक शिक्षा)</th>\n",
              "      <th>72</th>\n",
              "      <td>9.079090e+10</td>\n",
              "    </tr>\n",
              "  </tbody>\n",
              "</table>\n",
              "</div>\n",
              "      <button class=\"colab-df-convert\" onclick=\"convertToInteractive('df-4b02230c-3c70-4f1a-afa0-81e263a152b4')\"\n",
              "              title=\"Convert this dataframe to an interactive table.\"\n",
              "              style=\"display:none;\">\n",
              "        \n",
              "  <svg xmlns=\"http://www.w3.org/2000/svg\" height=\"24px\"viewBox=\"0 0 24 24\"\n",
              "       width=\"24px\">\n",
              "    <path d=\"M0 0h24v24H0V0z\" fill=\"none\"/>\n",
              "    <path d=\"M18.56 5.44l.94 2.06.94-2.06 2.06-.94-2.06-.94-.94-2.06-.94 2.06-2.06.94zm-11 1L8.5 8.5l.94-2.06 2.06-.94-2.06-.94L8.5 2.5l-.94 2.06-2.06.94zm10 10l.94 2.06.94-2.06 2.06-.94-2.06-.94-.94-2.06-.94 2.06-2.06.94z\"/><path d=\"M17.41 7.96l-1.37-1.37c-.4-.4-.92-.59-1.43-.59-.52 0-1.04.2-1.43.59L10.3 9.45l-7.72 7.72c-.78.78-.78 2.05 0 2.83L4 21.41c.39.39.9.59 1.41.59.51 0 1.02-.2 1.41-.59l7.78-7.78 2.81-2.81c.8-.78.8-2.07 0-2.86zM5.41 20L4 18.59l7.72-7.72 1.47 1.35L5.41 20z\"/>\n",
              "  </svg>\n",
              "      </button>\n",
              "      \n",
              "  <style>\n",
              "    .colab-df-container {\n",
              "      display:flex;\n",
              "      flex-wrap:wrap;\n",
              "      gap: 12px;\n",
              "    }\n",
              "\n",
              "    .colab-df-convert {\n",
              "      background-color: #E8F0FE;\n",
              "      border: none;\n",
              "      border-radius: 50%;\n",
              "      cursor: pointer;\n",
              "      display: none;\n",
              "      fill: #1967D2;\n",
              "      height: 32px;\n",
              "      padding: 0 0 0 0;\n",
              "      width: 32px;\n",
              "    }\n",
              "\n",
              "    .colab-df-convert:hover {\n",
              "      background-color: #E2EBFA;\n",
              "      box-shadow: 0px 1px 2px rgba(60, 64, 67, 0.3), 0px 1px 3px 1px rgba(60, 64, 67, 0.15);\n",
              "      fill: #174EA6;\n",
              "    }\n",
              "\n",
              "    [theme=dark] .colab-df-convert {\n",
              "      background-color: #3B4455;\n",
              "      fill: #D2E3FC;\n",
              "    }\n",
              "\n",
              "    [theme=dark] .colab-df-convert:hover {\n",
              "      background-color: #434B5C;\n",
              "      box-shadow: 0px 1px 3px 1px rgba(0, 0, 0, 0.15);\n",
              "      filter: drop-shadow(0px 1px 2px rgba(0, 0, 0, 0.3));\n",
              "      fill: #FFFFFF;\n",
              "    }\n",
              "  </style>\n",
              "\n",
              "      <script>\n",
              "        const buttonEl =\n",
              "          document.querySelector('#df-4b02230c-3c70-4f1a-afa0-81e263a152b4 button.colab-df-convert');\n",
              "        buttonEl.style.display =\n",
              "          google.colab.kernel.accessAllowed ? 'block' : 'none';\n",
              "\n",
              "        async function convertToInteractive(key) {\n",
              "          const element = document.querySelector('#df-4b02230c-3c70-4f1a-afa0-81e263a152b4');\n",
              "          const dataTable =\n",
              "            await google.colab.kernel.invokeFunction('convertToInteractive',\n",
              "                                                     [key], {});\n",
              "          if (!dataTable) return;\n",
              "\n",
              "          const docLinkHtml = 'Like what you see? Visit the ' +\n",
              "            '<a target=\"_blank\" href=https://colab.research.google.com/notebooks/data_table.ipynb>data table notebook</a>'\n",
              "            + ' to learn more about interactive tables.';\n",
              "          element.innerHTML = '';\n",
              "          dataTable['output_type'] = 'display_data';\n",
              "          await google.colab.output.renderOutput(dataTable, element);\n",
              "          const docLink = document.createElement('div');\n",
              "          docLink.innerHTML = docLinkHtml;\n",
              "          element.appendChild(docLink);\n",
              "        }\n",
              "      </script>\n",
              "    </div>\n",
              "  </div>\n",
              "  "
            ]
          },
          "metadata": {},
          "execution_count": 19
        }
      ]
    },
    {
      "cell_type": "code",
      "source": [
        "FilteredData.groupby(['Grant Number']).sum().plot(kind='pie', y='Total Expenditure Upto Month (November)')"
      ],
      "metadata": {
        "colab": {
          "base_uri": "https://localhost:8080/",
          "height": 265
        },
        "id": "apSDYItUjoDB",
        "outputId": "08aacbec-51dc-4b6f-c333-a2be08b98dbc"
      },
      "execution_count": 20,
      "outputs": [
        {
          "output_type": "execute_result",
          "data": {
            "text/plain": [
              "<matplotlib.axes._subplots.AxesSubplot at 0x7f213595efd0>"
            ]
          },
          "metadata": {},
          "execution_count": 20
        },
        {
          "output_type": "display_data",
          "data": {
            "text/plain": [
              "<Figure size 432x288 with 1 Axes>"
            ],
            "image/png": "[encoded data removed]"
          },
          "metadata": {}
        }
      ]
    },
    {
      "cell_type": "markdown",
      "source": [
        "# Q2) Estimating the share of capital expenditure"
      ],
      "metadata": {
        "id": "jIMkIXEniPOl"
      }
    },
    {
      "cell_type": "markdown",
      "source": [
        "We know that **Major Head 4202** maps to *Capital Outlay on Education, Sports, Art and Culture*"
      ],
      "metadata": {
        "id": "7onNYzKvkVQ0"
      }
    },
    {
      "cell_type": "code",
      "source": [
        "Capital= FilteredData[FilteredData['Major Head Code']==4202]\n",
        "pd.DataFrame(Capital['Total Expenditure Upto Month (November)'].groupby(Capital['Grant Head Description']).sum())"
      ],
      "metadata": {
        "colab": {
          "base_uri": "https://localhost:8080/",
          "height": 143
        },
        "id": "hhk39h70iOvS",
        "outputId": "555afd16-2b88-434c-858f-8d566300a78b"
      },
      "execution_count": 21,
      "outputs": [
        {
          "output_type": "execute_result",
          "data": {
            "text/plain": [
              "                                Total Expenditure Upto Month (November)\n",
              "Grant Head Description                                                 \n",
              "शिक्षा विभाग (प्राथमिक शिक्षा)                             2.397555e+09\n",
              "शिक्षा विभाग (माध्यमिक शिक्षा)                             1.228895e+09"
            ],
            "text/html": [
              "\n",
              "  <div id=\"df-e7430989-f756-4596-9d22-85dce5958c46\">\n",
              "    <div class=\"colab-df-container\">\n",
              "      <div>\n",
              "<style scoped>\n",
              "    .dataframe tbody tr th:only-of-type {\n",
              "        vertical-align: middle;\n",
              "    }\n",
              "\n",
              "    .dataframe tbody tr th {\n",
              "        vertical-align: top;\n",
              "    }\n",
              "\n",
              "    .dataframe thead th {\n",
              "        text-align: right;\n",
              "    }\n",
              "</style>\n",
              "<table border=\"1\" class=\"dataframe\">\n",
              "  <thead>\n",
              "    <tr style=\"text-align: right;\">\n",
              "      <th></th>\n",
              "      <th>Total Expenditure Upto Month (November)</th>\n",
              "    </tr>\n",
              "    <tr>\n",
              "      <th>Grant Head Description</th>\n",
              "      <th></th>\n",
              "    </tr>\n",
              "  </thead>\n",
              "  <tbody>\n",
              "    <tr>\n",
              "      <th>शिक्षा विभाग (प्राथमिक शिक्षा)</th>\n",
              "      <td>2.397555e+09</td>\n",
              "    </tr>\n",
              "    <tr>\n",
              "      <th>शिक्षा विभाग (माध्यमिक शिक्षा)</th>\n",
              "      <td>1.228895e+09</td>\n",
              "    </tr>\n",
              "  </tbody>\n",
              "</table>\n",
              "</div>\n",
              "      <button class=\"colab-df-convert\" onclick=\"convertToInteractive('df-e7430989-f756-4596-9d22-85dce5958c46')\"\n",
              "              title=\"Convert this dataframe to an interactive table.\"\n",
              "              style=\"display:none;\">\n",
              "        \n",
              "  <svg xmlns=\"http://www.w3.org/2000/svg\" height=\"24px\"viewBox=\"0 0 24 24\"\n",
              "       width=\"24px\">\n",
              "    <path d=\"M0 0h24v24H0V0z\" fill=\"none\"/>\n",
              "    <path d=\"M18.56 5.44l.94 2.06.94-2.06 2.06-.94-2.06-.94-.94-2.06-.94 2.06-2.06.94zm-11 1L8.5 8.5l.94-2.06 2.06-.94-2.06-.94L8.5 2.5l-.94 2.06-2.06.94zm10 10l.94 2.06.94-2.06 2.06-.94-2.06-.94-.94-2.06-.94 2.06-2.06.94z\"/><path d=\"M17.41 7.96l-1.37-1.37c-.4-.4-.92-.59-1.43-.59-.52 0-1.04.2-1.43.59L10.3 9.45l-7.72 7.72c-.78.78-.78 2.05 0 2.83L4 21.41c.39.39.9.59 1.41.59.51 0 1.02-.2 1.41-.59l7.78-7.78 2.81-2.81c.8-.78.8-2.07 0-2.86zM5.41 20L4 18.59l7.72-7.72 1.47 1.35L5.41 20z\"/>\n",
              "  </svg>\n",
              "      </button>\n",
              "      \n",
              "  <style>\n",
              "    .colab-df-container {\n",
              "      display:flex;\n",
              "      flex-wrap:wrap;\n",
              "      gap: 12px;\n",
              "    }\n",
              "\n",
              "    .colab-df-convert {\n",
              "      background-color: #E8F0FE;\n",
              "      border: none;\n",
              "      border-radius: 50%;\n",
              "      cursor: pointer;\n",
              "      display: none;\n",
              "      fill: #1967D2;\n",
              "      height: 32px;\n",
              "      padding: 0 0 0 0;\n",
              "      width: 32px;\n",
              "    }\n",
              "\n",
              "    .colab-df-convert:hover {\n",
              "      background-color: #E2EBFA;\n",
              "      box-shadow: 0px 1px 2px rgba(60, 64, 67, 0.3), 0px 1px 3px 1px rgba(60, 64, 67, 0.15);\n",
              "      fill: #174EA6;\n",
              "    }\n",
              "\n",
              "    [theme=dark] .colab-df-convert {\n",
              "      background-color: #3B4455;\n",
              "      fill: #D2E3FC;\n",
              "    }\n",
              "\n",
              "    [theme=dark] .colab-df-convert:hover {\n",
              "      background-color: #434B5C;\n",
              "      box-shadow: 0px 1px 3px 1px rgba(0, 0, 0, 0.15);\n",
              "      filter: drop-shadow(0px 1px 2px rgba(0, 0, 0, 0.3));\n",
              "      fill: #FFFFFF;\n",
              "    }\n",
              "  </style>\n",
              "\n",
              "      <script>\n",
              "        const buttonEl =\n",
              "          document.querySelector('#df-e7430989-f756-4596-9d22-85dce5958c46 button.colab-df-convert');\n",
              "        buttonEl.style.display =\n",
              "          google.colab.kernel.accessAllowed ? 'block' : 'none';\n",
              "\n",
              "        async function convertToInteractive(key) {\n",
              "          const element = document.querySelector('#df-e7430989-f756-4596-9d22-85dce5958c46');\n",
              "          const dataTable =\n",
              "            await google.colab.kernel.invokeFunction('convertToInteractive',\n",
              "                                                     [key], {});\n",
              "          if (!dataTable) return;\n",
              "\n",
              "          const docLinkHtml = 'Like what you see? Visit the ' +\n",
              "            '<a target=\"_blank\" href=https://colab.research.google.com/notebooks/data_table.ipynb>data table notebook</a>'\n",
              "            + ' to learn more about interactive tables.';\n",
              "          element.innerHTML = '';\n",
              "          dataTable['output_type'] = 'display_data';\n",
              "          await google.colab.output.renderOutput(dataTable, element);\n",
              "          const docLink = document.createElement('div');\n",
              "          docLink.innerHTML = docLinkHtml;\n",
              "          element.appendChild(docLink);\n",
              "        }\n",
              "      </script>\n",
              "    </div>\n",
              "  </div>\n",
              "  "
            ]
          },
          "metadata": {},
          "execution_count": 21
        }
      ]
    },
    {
      "cell_type": "markdown",
      "source": [
        "# Q3) Estimate the per-capita expenditure on school education in the state, and each district. "
      ],
      "metadata": {
        "id": "Q3umxEhRlXRT"
      }
    },
    {
      "cell_type": "markdown",
      "source": [
        "With reference to the following [website](https://www.census2011.co.in/census/state/uttar+pradesh.html), we find the projected population for the 2021 in UP is *228,054,788*"
      ],
      "metadata": {
        "id": "sx_Uxm53mV2c"
      }
    },
    {
      "cell_type": "code",
      "source": [
        "percap_exp = FilteredData['Total Expenditure Upto Month (November)'].sum()/228054788\n",
        "print(' The Per-capita expenditure on school education for the year 2020-21 is %.2f' %(percap_exp))"
      ],
      "metadata": {
        "colab": {
          "base_uri": "https://localhost:8080/"
        },
        "id": "VRC5_5LblVdS",
        "outputId": "aadcf46c-2c16-4057-fd89-f752d7a98994"
      },
      "execution_count": 27,
      "outputs": [
        {
          "output_type": "stream",
          "name": "stdout",
          "text": [
            " The Per-capita expenditure on school education for the year 2020-21 is 2067.15\n"
          ]
        }
      ]
    },
    {
      "cell_type": "markdown",
      "source": [
        "**Note** : Was unable to find district wise population data for the year 2019-20"
      ],
      "metadata": {
        "id": "FQqtCtR7p1U_"
      }
    },
    {
      "cell_type": "markdown",
      "source": [
        "#Q4) Rank the districts based on utilization of allotted funds of revenue expenditure and capital expenditure"
      ],
      "metadata": {
        "id": "YlkH2-gnpxMT"
      }
    },
    {
      "cell_type": "code",
      "source": [
        "cap_exp = FilteredData[FilteredData['Major Head Code'] == 4202]\n",
        "rev_exp = FilteredData[FilteredData['Major Head Code'] != 4202]"
      ],
      "metadata": {
        "id": "dQPASoaAqJw4"
      },
      "execution_count": 23,
      "outputs": []
    },
    {
      "cell_type": "markdown",
      "source": [
        "Captial Expenditure"
      ],
      "metadata": {
        "id": "JS_eknZy0jqL"
      }
    },
    {
      "cell_type": "code",
      "source": [
        "op = pd.DataFrame((cap_exp['Total Expenditure Upto Month (November)'].groupby(cap_exp['Treasury']).sum())/cap_exp['Progressive Allotment'].groupby(cap_exp['Treasury']).sum()).sort_values(by=0, ascending=False)\n",
        "op"
      ],
      "metadata": {
        "colab": {
          "base_uri": "https://localhost:8080/",
          "height": 455
        },
        "id": "5uDAmTfE3_1P",
        "outputId": "3523f84d-71e4-4292-be55-bdaeab4aa815"
      },
      "execution_count": 24,
      "outputs": [
        {
          "output_type": "execute_result",
          "data": {
            "text/plain": [
              "                        0\n",
              "Treasury                 \n",
              "ORAI             1.000000\n",
              "BHADOHI          1.000000\n",
              "GONDA            1.000000\n",
              "GHAZIPUR         1.000000\n",
              "GHAZIABAD        1.000000\n",
              "...                   ...\n",
              "JHANSI-MAIN      0.244828\n",
              "SADAR TRY-HMRPR  0.144398\n",
              "J.P.NAGAR        0.114615\n",
              "BAGHPAT SADAR    0.087500\n",
              "CHITRAKOOT       0.000000\n",
              "\n",
              "[77 rows x 1 columns]"
            ],
            "text/html": [
              "\n",
              "  <div id=\"df-f956e136-a51e-4305-af48-9174a849a60a\">\n",
              "    <div class=\"colab-df-container\">\n",
              "      <div>\n",
              "<style scoped>\n",
              "    .dataframe tbody tr th:only-of-type {\n",
              "        vertical-align: middle;\n",
              "    }\n",
              "\n",
              "    .dataframe tbody tr th {\n",
              "        vertical-align: top;\n",
              "    }\n",
              "\n",
              "    .dataframe thead th {\n",
              "        text-align: right;\n",
              "    }\n",
              "</style>\n",
              "<table border=\"1\" class=\"dataframe\">\n",
              "  <thead>\n",
              "    <tr style=\"text-align: right;\">\n",
              "      <th></th>\n",
              "      <th>0</th>\n",
              "    </tr>\n",
              "    <tr>\n",
              "      <th>Treasury</th>\n",
              "      <th></th>\n",
              "    </tr>\n",
              "  </thead>\n",
              "  <tbody>\n",
              "    <tr>\n",
              "      <th>ORAI</th>\n",
              "      <td>1.000000</td>\n",
              "    </tr>\n",
              "    <tr>\n",
              "      <th>BHADOHI</th>\n",
              "      <td>1.000000</td>\n",
              "    </tr>\n",
              "    <tr>\n",
              "      <th>GONDA</th>\n",
              "      <td>1.000000</td>\n",
              "    </tr>\n",
              "    <tr>\n",
              "      <th>GHAZIPUR</th>\n",
              "      <td>1.000000</td>\n",
              "    </tr>\n",
              "    <tr>\n",
              "      <th>GHAZIABAD</th>\n",
              "      <td>1.000000</td>\n",
              "    </tr>\n",
              "    <tr>\n",
              "      <th>...</th>\n",
              "      <td>...</td>\n",
              "    </tr>\n",
              "    <tr>\n",
              "      <th>JHANSI-MAIN</th>\n",
              "      <td>0.244828</td>\n",
              "    </tr>\n",
              "    <tr>\n",
              "      <th>SADAR TRY-HMRPR</th>\n",
              "      <td>0.144398</td>\n",
              "    </tr>\n",
              "    <tr>\n",
              "      <th>J.P.NAGAR</th>\n",
              "      <td>0.114615</td>\n",
              "    </tr>\n",
              "    <tr>\n",
              "      <th>BAGHPAT SADAR</th>\n",
              "      <td>0.087500</td>\n",
              "    </tr>\n",
              "    <tr>\n",
              "      <th>CHITRAKOOT</th>\n",
              "      <td>0.000000</td>\n",
              "    </tr>\n",
              "  </tbody>\n",
              "</table>\n",
              "<p>77 rows × 1 columns</p>\n",
              "</div>\n",
              "      <button class=\"colab-df-convert\" onclick=\"convertToInteractive('df-f956e136-a51e-4305-af48-9174a849a60a')\"\n",
              "              title=\"Convert this dataframe to an interactive table.\"\n",
              "              style=\"display:none;\">\n",
              "        \n",
              "  <svg xmlns=\"http://www.w3.org/2000/svg\" height=\"24px\"viewBox=\"0 0 24 24\"\n",
              "       width=\"24px\">\n",
              "    <path d=\"M0 0h24v24H0V0z\" fill=\"none\"/>\n",
              "    <path d=\"M18.56 5.44l.94 2.06.94-2.06 2.06-.94-2.06-.94-.94-2.06-.94 2.06-2.06.94zm-11 1L8.5 8.5l.94-2.06 2.06-.94-2.06-.94L8.5 2.5l-.94 2.06-2.06.94zm10 10l.94 2.06.94-2.06 2.06-.94-2.06-.94-.94-2.06-.94 2.06-2.06.94z\"/><path d=\"M17.41 7.96l-1.37-1.37c-.4-.4-.92-.59-1.43-.59-.52 0-1.04.2-1.43.59L10.3 9.45l-7.72 7.72c-.78.78-.78 2.05 0 2.83L4 21.41c.39.39.9.59 1.41.59.51 0 1.02-.2 1.41-.59l7.78-7.78 2.81-2.81c.8-.78.8-2.07 0-2.86zM5.41 20L4 18.59l7.72-7.72 1.47 1.35L5.41 20z\"/>\n",
              "  </svg>\n",
              "      </button>\n",
              "      \n",
              "  <style>\n",
              "    .colab-df-container {\n",
              "      display:flex;\n",
              "      flex-wrap:wrap;\n",
              "      gap: 12px;\n",
              "    }\n",
              "\n",
              "    .colab-df-convert {\n",
              "      background-color: #E8F0FE;\n",
              "      border: none;\n",
              "      border-radius: 50%;\n",
              "      cursor: pointer;\n",
              "      display: none;\n",
              "      fill: #1967D2;\n",
              "      height: 32px;\n",
              "      padding: 0 0 0 0;\n",
              "      width: 32px;\n",
              "    }\n",
              "\n",
              "    .colab-df-convert:hover {\n",
              "      background-color: #E2EBFA;\n",
              "      box-shadow: 0px 1px 2px rgba(60, 64, 67, 0.3), 0px 1px 3px 1px rgba(60, 64, 67, 0.15);\n",
              "      fill: #174EA6;\n",
              "    }\n",
              "\n",
              "    [theme=dark] .colab-df-convert {\n",
              "      background-color: #3B4455;\n",
              "      fill: #D2E3FC;\n",
              "    }\n",
              "\n",
              "    [theme=dark] .colab-df-convert:hover {\n",
              "      background-color: #434B5C;\n",
              "      box-shadow: 0px 1px 3px 1px rgba(0, 0, 0, 0.15);\n",
              "      filter: drop-shadow(0px 1px 2px rgba(0, 0, 0, 0.3));\n",
              "      fill: #FFFFFF;\n",
              "    }\n",
              "  </style>\n",
              "\n",
              "      <script>\n",
              "        const buttonEl =\n",
              "          document.querySelector('#df-f956e136-a51e-4305-af48-9174a849a60a button.colab-df-convert');\n",
              "        buttonEl.style.display =\n",
              "          google.colab.kernel.accessAllowed ? 'block' : 'none';\n",
              "\n",
              "        async function convertToInteractive(key) {\n",
              "          const element = document.querySelector('#df-f956e136-a51e-4305-af48-9174a849a60a');\n",
              "          const dataTable =\n",
              "            await google.colab.kernel.invokeFunction('convertToInteractive',\n",
              "                                                     [key], {});\n",
              "          if (!dataTable) return;\n",
              "\n",
              "          const docLinkHtml = 'Like what you see? Visit the ' +\n",
              "            '<a target=\"_blank\" href=https://colab.research.google.com/notebooks/data_table.ipynb>data table notebook</a>'\n",
              "            + ' to learn more about interactive tables.';\n",
              "          element.innerHTML = '';\n",
              "          dataTable['output_type'] = 'display_data';\n",
              "          await google.colab.output.renderOutput(dataTable, element);\n",
              "          const docLink = document.createElement('div');\n",
              "          docLink.innerHTML = docLinkHtml;\n",
              "          element.appendChild(docLink);\n",
              "        }\n",
              "      </script>\n",
              "    </div>\n",
              "  </div>\n",
              "  "
            ]
          },
          "metadata": {},
          "execution_count": 24
        }
      ]
    },
    {
      "cell_type": "code",
      "source": [
        "op[0].value_counts()"
      ],
      "metadata": {
        "colab": {
          "base_uri": "https://localhost:8080/"
        },
        "id": "tX77AO02yYvD",
        "outputId": "88159f7a-2739-492b-f212-cddc9d267c3c"
      },
      "execution_count": 25,
      "outputs": [
        {
          "output_type": "execute_result",
          "data": {
            "text/plain": [
              "1.000000    23\n",
              "0.546809     1\n",
              "0.675253     1\n",
              "0.665813     1\n",
              "0.656173     1\n",
              "0.627081     1\n",
              "0.610999     1\n",
              "0.609081     1\n",
              "0.607044     1\n",
              "0.586558     1\n",
              "0.585875     1\n",
              "0.548556     1\n",
              "0.546964     1\n",
              "0.546192     1\n",
              "0.745855     1\n",
              "0.527402     1\n",
              "0.487351     1\n",
              "0.405275     1\n",
              "0.403972     1\n",
              "0.343853     1\n",
              "0.339959     1\n",
              "0.302992     1\n",
              "0.244828     1\n",
              "0.144398     1\n",
              "0.114615     1\n",
              "0.087500     1\n",
              "0.689051     1\n",
              "0.761147     1\n",
              "0.999998     1\n",
              "0.906004     1\n",
              "0.999971     1\n",
              "0.993515     1\n",
              "0.990978     1\n",
              "0.990354     1\n",
              "0.977814     1\n",
              "0.964038     1\n",
              "0.962792     1\n",
              "0.939925     1\n",
              "0.915857     1\n",
              "0.915275     1\n",
              "0.908966     1\n",
              "0.883240     1\n",
              "0.803013     1\n",
              "0.881104     1\n",
              "0.878581     1\n",
              "0.877704     1\n",
              "0.868378     1\n",
              "0.865963     1\n",
              "0.865121     1\n",
              "0.861241     1\n",
              "0.850570     1\n",
              "0.843679     1\n",
              "0.835110     1\n",
              "0.805158     1\n",
              "0.000000     1\n",
              "Name: 0, dtype: int64"
            ]
          },
          "metadata": {},
          "execution_count": 25
        }
      ]
    },
    {
      "cell_type": "markdown",
      "source": [
        "It was found that **23 Distrcits** utilized 100% of their allocated funds for capital expenditure\n",
        "\n"
      ],
      "metadata": {
        "id": "lwDyw0Byxy7b"
      }
    },
    {
      "cell_type": "markdown",
      "source": [
        "Revenue Expenditure"
      ],
      "metadata": {
        "id": "OP_IedGl6cbL"
      }
    },
    {
      "cell_type": "code",
      "source": [
        "op = pd.DataFrame((rev_exp['Total Expenditure Upto Month (November)'].groupby(rev_exp['Treasury']).sum())/rev_exp['Progressive Allotment'].groupby(rev_exp['Treasury']).sum()).sort_values(by=0, ascending=False)\n",
        "op"
      ],
      "metadata": {
        "colab": {
          "base_uri": "https://localhost:8080/",
          "height": 455
        },
        "id": "6afZaMbK6Xhy",
        "outputId": "05806b0d-0a13-41a8-9a35-00ecfb4f1255"
      },
      "execution_count": 26,
      "outputs": [
        {
          "output_type": "execute_result",
          "data": {
            "text/plain": [
              "                      0\n",
              "Treasury               \n",
              "LUCKNOW COLL.  1.502827\n",
              "BULANDSHAHR    0.997111\n",
              "BARABANKI      0.995539\n",
              "BAREILLY       0.994556\n",
              "J.P.NAGAR      0.994236\n",
              "...                 ...\n",
              "SHAMLI         0.913270\n",
              "HAPUR          0.904463\n",
              "HATHRAS        0.903397\n",
              "PILIBHIT       0.890438\n",
              "GHAZIABAD      0.870317\n",
              "\n",
              "[77 rows x 1 columns]"
            ],
            "text/html": [
              "\n",
              "  <div id=\"df-219ef9cc-83de-414b-aa25-8f31adb5c1df\">\n",
              "    <div class=\"colab-df-container\">\n",
              "      <div>\n",
              "<style scoped>\n",
              "    .dataframe tbody tr th:only-of-type {\n",
              "        vertical-align: middle;\n",
              "    }\n",
              "\n",
              "    .dataframe tbody tr th {\n",
              "        vertical-align: top;\n",
              "    }\n",
              "\n",
              "    .dataframe thead th {\n",
              "        text-align: right;\n",
              "    }\n",
              "</style>\n",
              "<table border=\"1\" class=\"dataframe\">\n",
              "  <thead>\n",
              "    <tr style=\"text-align: right;\">\n",
              "      <th></th>\n",
              "      <th>0</th>\n",
              "    </tr>\n",
              "    <tr>\n",
              "      <th>Treasury</th>\n",
              "      <th></th>\n",
              "    </tr>\n",
              "  </thead>\n",
              "  <tbody>\n",
              "    <tr>\n",
              "      <th>LUCKNOW COLL.</th>\n",
              "      <td>1.502827</td>\n",
              "    </tr>\n",
              "    <tr>\n",
              "      <th>BULANDSHAHR</th>\n",
              "      <td>0.997111</td>\n",
              "    </tr>\n",
              "    <tr>\n",
              "      <th>BARABANKI</th>\n",
              "      <td>0.995539</td>\n",
              "    </tr>\n",
              "    <tr>\n",
              "      <th>BAREILLY</th>\n",
              "      <td>0.994556</td>\n",
              "    </tr>\n",
              "    <tr>\n",
              "      <th>J.P.NAGAR</th>\n",
              "      <td>0.994236</td>\n",
              "    </tr>\n",
              "    <tr>\n",
              "      <th>...</th>\n",
              "      <td>...</td>\n",
              "    </tr>\n",
              "    <tr>\n",
              "      <th>SHAMLI</th>\n",
              "      <td>0.913270</td>\n",
              "    </tr>\n",
              "    <tr>\n",
              "      <th>HAPUR</th>\n",
              "      <td>0.904463</td>\n",
              "    </tr>\n",
              "    <tr>\n",
              "      <th>HATHRAS</th>\n",
              "      <td>0.903397</td>\n",
              "    </tr>\n",
              "    <tr>\n",
              "      <th>PILIBHIT</th>\n",
              "      <td>0.890438</td>\n",
              "    </tr>\n",
              "    <tr>\n",
              "      <th>GHAZIABAD</th>\n",
              "      <td>0.870317</td>\n",
              "    </tr>\n",
              "  </tbody>\n",
              "</table>\n",
              "<p>77 rows × 1 columns</p>\n",
              "</div>\n",
              "      <button class=\"colab-df-convert\" onclick=\"convertToInteractive('df-219ef9cc-83de-414b-aa25-8f31adb5c1df')\"\n",
              "              title=\"Convert this dataframe to an interactive table.\"\n",
              "              style=\"display:none;\">\n",
              "        \n",
              "  <svg xmlns=\"http://www.w3.org/2000/svg\" height=\"24px\"viewBox=\"0 0 24 24\"\n",
              "       width=\"24px\">\n",
              "    <path d=\"M0 0h24v24H0V0z\" fill=\"none\"/>\n",
              "    <path d=\"M18.56 5.44l.94 2.06.94-2.06 2.06-.94-2.06-.94-.94-2.06-.94 2.06-2.06.94zm-11 1L8.5 8.5l.94-2.06 2.06-.94-2.06-.94L8.5 2.5l-.94 2.06-2.06.94zm10 10l.94 2.06.94-2.06 2.06-.94-2.06-.94-.94-2.06-.94 2.06-2.06.94z\"/><path d=\"M17.41 7.96l-1.37-1.37c-.4-.4-.92-.59-1.43-.59-.52 0-1.04.2-1.43.59L10.3 9.45l-7.72 7.72c-.78.78-.78 2.05 0 2.83L4 21.41c.39.39.9.59 1.41.59.51 0 1.02-.2 1.41-.59l7.78-7.78 2.81-2.81c.8-.78.8-2.07 0-2.86zM5.41 20L4 18.59l7.72-7.72 1.47 1.35L5.41 20z\"/>\n",
              "  </svg>\n",
              "      </button>\n",
              "      \n",
              "  <style>\n",
              "    .colab-df-container {\n",
              "      display:flex;\n",
              "      flex-wrap:wrap;\n",
              "      gap: 12px;\n",
              "    }\n",
              "\n",
              "    .colab-df-convert {\n",
              "      background-color: #E8F0FE;\n",
              "      border: none;\n",
              "      border-radius: 50%;\n",
              "      cursor: pointer;\n",
              "      display: none;\n",
              "      fill: #1967D2;\n",
              "      height: 32px;\n",
              "      padding: 0 0 0 0;\n",
              "      width: 32px;\n",
              "    }\n",
              "\n",
              "    .colab-df-convert:hover {\n",
              "      background-color: #E2EBFA;\n",
              "      box-shadow: 0px 1px 2px rgba(60, 64, 67, 0.3), 0px 1px 3px 1px rgba(60, 64, 67, 0.15);\n",
              "      fill: #174EA6;\n",
              "    }\n",
              "\n",
              "    [theme=dark] .colab-df-convert {\n",
              "      background-color: #3B4455;\n",
              "      fill: #D2E3FC;\n",
              "    }\n",
              "\n",
              "    [theme=dark] .colab-df-convert:hover {\n",
              "      background-color: #434B5C;\n",
              "      box-shadow: 0px 1px 3px 1px rgba(0, 0, 0, 0.15);\n",
              "      filter: drop-shadow(0px 1px 2px rgba(0, 0, 0, 0.3));\n",
              "      fill: #FFFFFF;\n",
              "    }\n",
              "  </style>\n",
              "\n",
              "      <script>\n",
              "        const buttonEl =\n",
              "          document.querySelector('#df-219ef9cc-83de-414b-aa25-8f31adb5c1df button.colab-df-convert');\n",
              "        buttonEl.style.display =\n",
              "          google.colab.kernel.accessAllowed ? 'block' : 'none';\n",
              "\n",
              "        async function convertToInteractive(key) {\n",
              "          const element = document.querySelector('#df-219ef9cc-83de-414b-aa25-8f31adb5c1df');\n",
              "          const dataTable =\n",
              "            await google.colab.kernel.invokeFunction('convertToInteractive',\n",
              "                                                     [key], {});\n",
              "          if (!dataTable) return;\n",
              "\n",
              "          const docLinkHtml = 'Like what you see? Visit the ' +\n",
              "            '<a target=\"_blank\" href=https://colab.research.google.com/notebooks/data_table.ipynb>data table notebook</a>'\n",
              "            + ' to learn more about interactive tables.';\n",
              "          element.innerHTML = '';\n",
              "          dataTable['output_type'] = 'display_data';\n",
              "          await google.colab.output.renderOutput(dataTable, element);\n",
              "          const docLink = document.createElement('div');\n",
              "          docLink.innerHTML = docLinkHtml;\n",
              "          element.appendChild(docLink);\n",
              "        }\n",
              "      </script>\n",
              "    </div>\n",
              "  </div>\n",
              "  "
            ]
          },
          "metadata": {},
          "execution_count": 26
        }
      ]
    },
    {
      "cell_type": "markdown",
      "source": [
        "We can infer that Lucknow Coll. district ranked first in the total revenue expenditure"
      ],
      "metadata": {
        "id": "lSPzXA41zzbp"
      }
    }
  ]
}